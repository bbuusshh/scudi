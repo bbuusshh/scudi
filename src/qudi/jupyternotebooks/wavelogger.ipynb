{
 "cells": [
  {
   "cell_type": "code",
   "execution_count": 19,
   "metadata": {},
   "outputs": [
    {
     "data": {
      "text/plain": [
       "<qudi.hardware.wavemeter.high_finesse_wavemeter.HighFinesseWavemeter(0x178604eb0f0) at 0x000001785FF04500>"
      ]
     },
     "execution_count": 19,
     "metadata": {},
     "output_type": "execute_result"
    }
   ],
   "source": [
    "high_finesse_wavemeter"
   ]
  },
  {
   "cell_type": "code",
   "execution_count": 7,
   "metadata": {},
   "outputs": [],
   "source": [
    "buf = high_finesse_wavemeter.get_wavelength_buffer()"
   ]
  },
  {
   "cell_type": "code",
   "execution_count": 12,
   "metadata": {},
   "outputs": [
    {
     "ename": "TypeError",
     "evalue": "__array__() takes 1 positional argument but 2 were given",
     "output_type": "error",
     "traceback": [
      "\u001b[1;31m---------------------------------------------------------------------------\u001b[0m",
      "\u001b[1;31mTypeError\u001b[0m                                 Traceback (most recent call last)",
      "Cell \u001b[1;32mIn[12], line 3\u001b[0m\n\u001b[0;32m      1\u001b[0m \u001b[39mimport\u001b[39;00m \u001b[39mnumpy\u001b[39;00m \u001b[39mas\u001b[39;00m \u001b[39mnp\u001b[39;00m\n\u001b[0;32m      2\u001b[0m WAVELENGTH_DTYPE \u001b[39m=\u001b[39m np\u001b[39m.\u001b[39mdtype([(\u001b[39m'\u001b[39m\u001b[39mtime\u001b[39m\u001b[39m'\u001b[39m, np\u001b[39m.\u001b[39mfloat64), (\u001b[39m'\u001b[39m\u001b[39mwavelength\u001b[39m\u001b[39m'\u001b[39m, np\u001b[39m.\u001b[39mfloat64)])\n\u001b[1;32m----> 3\u001b[0m np\u001b[39m.\u001b[39;49marray(buf, dtype\u001b[39m=\u001b[39;49mWAVELENGTH_DTYPE)\n",
      "\u001b[1;31mTypeError\u001b[0m: __array__() takes 1 positional argument but 2 were given"
     ]
    }
   ],
   "source": [
    "\n",
    "import numpy as np\n",
    "WAVELENGTH_DTYPE = np.dtype([('time', np.float64), ('wavelength', np.float64)])\n",
    "np.array(buf, dtype=WAVELENGTH_DTYPE)"
   ]
  },
  {
   "cell_type": "code",
   "execution_count": null,
   "metadata": {},
   "outputs": [],
   "source": []
  }
 ],
 "metadata": {
  "kernelspec": {
   "display_name": "qudi",
   "language": "python",
   "name": "qudi"
  },
  "language_info": {
   "codemirror_mode": {
    "name": "ipython",
    "version": 3
   },
   "file_extension": ".py",
   "mimetype": "text/x-python",
   "name": "python",
   "nbconvert_exporter": "python",
   "pygments_lexer": "ipython3",
   "version": "3.9.16"
  },
  "orig_nbformat": 4
 },
 "nbformat": 4,
 "nbformat_minor": 2
}
