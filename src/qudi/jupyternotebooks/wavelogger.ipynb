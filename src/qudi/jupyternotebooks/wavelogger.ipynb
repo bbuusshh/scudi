{
 "cells": [
  {
   "cell_type": "code",
   "execution_count": 1,
   "metadata": {},
   "outputs": [
    {
     "data": {
      "text/plain": [
       "<qudi.hardware.wavemeter.high_finesse_wavemeter.HighFinesseWavemeter(0x225b51b7e90) at 0x00000225B9989D00>"
      ]
     },
     "execution_count": 1,
     "metadata": {},
     "output_type": "execute_result"
    }
   ],
   "source": [
    "high_finesse_wavemeter"
   ]
  },
  {
   "cell_type": "code",
   "execution_count": 2,
   "metadata": {},
   "outputs": [],
   "source": [
    "buf = high_finesse_wavemeter.get_wavelength_buffer()"
   ]
  },
  {
   "cell_type": "code",
   "execution_count": 8,
   "metadata": {},
   "outputs": [
    {
     "data": {
      "text/plain": [
       "(array([0]), array([0]))"
      ]
     },
     "execution_count": 8,
     "metadata": {},
     "output_type": "execute_result"
    }
   ],
   "source": [
    "high_finesse_wavemeter.get_wavelength_buffer()"
   ]
  },
  {
   "cell_type": "code",
   "execution_count": 4,
   "metadata": {},
   "outputs": [
    {
     "ename": "AttributeError",
     "evalue": "'WavemeterLoggerLogic' object has no attribute 'start_toggled'\n\n========= Remote Traceback (1) =========\nTraceback (most recent call last):\n  File \"C:\\Users\\yy3\\Anaconda3\\envs\\squdi\\lib\\site-packages\\rpyc\\core\\protocol.py\", line 359, in _dispatch_request\n    res = self._HANDLERS[handler](self, *args)\n  File \"C:\\Users\\yy3\\Anaconda3\\envs\\squdi\\lib\\site-packages\\rpyc\\core\\protocol.py\", line 837, in _handle_call\n    return obj(*args, **dict(kwargs))\n  File \"C:\\new_qudi\\scudi\\src\\qudi\\logic\\wavemeter_logger_logic.py\", line 158, in update_data\n    if self.start_toggled:\nAttributeError: 'WavemeterLoggerLogic' object has no attribute 'start_toggled'\n",
     "output_type": "error",
     "traceback": [
      "\u001b[1;31m---------------------------------------------------------------------------\u001b[0m",
      "\u001b[1;31mAttributeError\u001b[0m                            Traceback (most recent call last)",
      "Cell \u001b[1;32mIn[4], line 1\u001b[0m\n\u001b[1;32m----> 1\u001b[0m wavelogger_logic\u001b[39m.\u001b[39;49mupdate_data()\n",
      "File \u001b[1;32m~\\Anaconda3\\envs\\squdi\\lib\\site-packages\\rpyc\\core\\netref.py:240\u001b[0m, in \u001b[0;36m_make_method.<locals>.__call__\u001b[1;34m(_self, *args, **kwargs)\u001b[0m\n\u001b[0;32m    238\u001b[0m \u001b[39mdef\u001b[39;00m \u001b[39m__call__\u001b[39m(_self, \u001b[39m*\u001b[39margs, \u001b[39m*\u001b[39m\u001b[39m*\u001b[39mkwargs):\n\u001b[0;32m    239\u001b[0m     kwargs \u001b[39m=\u001b[39m \u001b[39mtuple\u001b[39m(kwargs\u001b[39m.\u001b[39mitems())\n\u001b[1;32m--> 240\u001b[0m     \u001b[39mreturn\u001b[39;00m syncreq(_self, consts\u001b[39m.\u001b[39;49mHANDLE_CALL, args, kwargs)\n",
      "File \u001b[1;32m~\\Anaconda3\\envs\\squdi\\lib\\site-packages\\rpyc\\core\\netref.py:63\u001b[0m, in \u001b[0;36msyncreq\u001b[1;34m(proxy, handler, *args)\u001b[0m\n\u001b[0;32m     51\u001b[0m \u001b[39m\u001b[39m\u001b[39m\"\"\"Performs a synchronous request on the given proxy object.\u001b[39;00m\n\u001b[0;32m     52\u001b[0m \u001b[39mNot intended to be invoked directly.\u001b[39;00m\n\u001b[0;32m     53\u001b[0m \n\u001b[1;32m   (...)\u001b[0m\n\u001b[0;32m     60\u001b[0m \u001b[39m:returns: the result of the operation\u001b[39;00m\n\u001b[0;32m     61\u001b[0m \u001b[39m\"\"\"\u001b[39;00m\n\u001b[0;32m     62\u001b[0m conn \u001b[39m=\u001b[39m \u001b[39mobject\u001b[39m\u001b[39m.\u001b[39m\u001b[39m__getattribute__\u001b[39m(proxy, \u001b[39m\"\u001b[39m\u001b[39m____conn__\u001b[39m\u001b[39m\"\u001b[39m)\n\u001b[1;32m---> 63\u001b[0m \u001b[39mreturn\u001b[39;00m conn\u001b[39m.\u001b[39;49msync_request(handler, proxy, \u001b[39m*\u001b[39;49margs)\n",
      "File \u001b[1;32m~\\Anaconda3\\envs\\squdi\\lib\\site-packages\\rpyc\\core\\protocol.py:718\u001b[0m, in \u001b[0;36mConnection.sync_request\u001b[1;34m(self, handler, *args)\u001b[0m\n\u001b[0;32m    715\u001b[0m _async_res \u001b[39m=\u001b[39m \u001b[39mself\u001b[39m\u001b[39m.\u001b[39masync_request(handler, \u001b[39m*\u001b[39margs, timeout\u001b[39m=\u001b[39mtimeout)\n\u001b[0;32m    716\u001b[0m \u001b[39m# _async_res is an instance of AsyncResult, the value property invokes Connection.serve via AsyncResult.wait\u001b[39;00m\n\u001b[0;32m    717\u001b[0m \u001b[39m# So, the _recvlock can be acquired multiple times by the owning thread and warrants the use of RLock\u001b[39;00m\n\u001b[1;32m--> 718\u001b[0m \u001b[39mreturn\u001b[39;00m _async_res\u001b[39m.\u001b[39;49mvalue\n",
      "File \u001b[1;32m~\\Anaconda3\\envs\\squdi\\lib\\site-packages\\rpyc\\core\\async_.py:108\u001b[0m, in \u001b[0;36mAsyncResult.value\u001b[1;34m(self)\u001b[0m\n\u001b[0;32m    106\u001b[0m \u001b[39mself\u001b[39m\u001b[39m.\u001b[39mwait()\n\u001b[0;32m    107\u001b[0m \u001b[39mif\u001b[39;00m \u001b[39mself\u001b[39m\u001b[39m.\u001b[39m_is_exc:\n\u001b[1;32m--> 108\u001b[0m     \u001b[39mraise\u001b[39;00m \u001b[39mself\u001b[39m\u001b[39m.\u001b[39m_obj\n\u001b[0;32m    109\u001b[0m \u001b[39melse\u001b[39;00m:\n\u001b[0;32m    110\u001b[0m     \u001b[39mreturn\u001b[39;00m \u001b[39mself\u001b[39m\u001b[39m.\u001b[39m_obj\n",
      "\u001b[1;31mAttributeError\u001b[0m: 'WavemeterLoggerLogic' object has no attribute 'start_toggled'\n\n========= Remote Traceback (1) =========\nTraceback (most recent call last):\n  File \"C:\\Users\\yy3\\Anaconda3\\envs\\squdi\\lib\\site-packages\\rpyc\\core\\protocol.py\", line 359, in _dispatch_request\n    res = self._HANDLERS[handler](self, *args)\n  File \"C:\\Users\\yy3\\Anaconda3\\envs\\squdi\\lib\\site-packages\\rpyc\\core\\protocol.py\", line 837, in _handle_call\n    return obj(*args, **dict(kwargs))\n  File \"C:\\new_qudi\\scudi\\src\\qudi\\logic\\wavemeter_logger_logic.py\", line 158, in update_data\n    if self.start_toggled:\nAttributeError: 'WavemeterLoggerLogic' object has no attribute 'start_toggled'\n"
     ]
    }
   ],
   "source": [
    "wavelogger_logic.update_data()"
   ]
  },
  {
   "cell_type": "code",
   "execution_count": 5,
   "metadata": {},
   "outputs": [
    {
     "data": {
      "text/plain": [
       "array([[484.06657646],\n",
       "       [484.06657646],\n",
       "       [484.06657646],\n",
       "       ...,\n",
       "       [484.0665804 ],\n",
       "       [484.06661413],\n",
       "       [484.0665605 ]])"
      ]
     },
     "execution_count": 5,
     "metadata": {},
     "output_type": "execute_result"
    }
   ],
   "source": [
    "wavelogger_logic.wavelengths.wavelength"
   ]
  },
  {
   "cell_type": "code",
   "execution_count": 8,
   "metadata": {},
   "outputs": [
    {
     "data": {
      "text/plain": [
       "array([[463.45136309],\n",
       "       [463.56798625],\n",
       "       [463.68462372],\n",
       "       ...,\n",
       "       [ 59.94601154],\n",
       "       [ 60.12914824],\n",
       "       [ 60.18838954]])"
      ]
     },
     "execution_count": 8,
     "metadata": {},
     "output_type": "execute_result"
    }
   ],
   "source": [
    "wavelogger_logic.wavelengths.time"
   ]
  },
  {
   "cell_type": "code",
   "execution_count": 26,
   "metadata": {},
   "outputs": [],
   "source": [
    "buf_rec = np.rec.array(np.array(buf), dtype=WAVELENGTH_DTYPE)"
   ]
  },
  {
   "cell_type": "code",
   "execution_count": null,
   "metadata": {},
   "outputs": [],
   "source": []
  }
 ],
 "metadata": {
  "kernelspec": {
   "display_name": "qudi",
   "language": "python",
   "name": "qudi"
  },
  "orig_nbformat": 4
 },
 "nbformat": 4,
 "nbformat_minor": 2
}
