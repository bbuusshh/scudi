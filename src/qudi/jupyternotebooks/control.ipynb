{
 "cells": [
  {
   "cell_type": "code",
   "execution_count": null,
   "metadata": {},
   "outputs": [],
   "source": [
    "\n",
    "import automatization\n",
    "from automatization.ple_statistics import PleAuto\n",
    "import pandas as pd\n",
    "import os\n",
    "import time\n",
    "import json\n",
    "from importlib import reload\n",
    "import numpy as np\n",
    "from automatization.ple_statistics import PleAuto\n",
    "from matplotlib import pyplot as plt\n",
    "reload(automatization.ple_statistics)\n",
    "from automatization.ple_statistics import PleAuto\n",
    "from scipy.constants import speed_of_light\n",
    "import pickle\n",
    "from pathlib import Path\n",
    "\n",
    "pa = PleAuto(\n",
    "    ple_gui, \n",
    "    ple_optimize_logic, \n",
    "    laser_scanner_logic,\n",
    "    poi_manager_logic, \n",
    "    scanning_optimize_logic, \n",
    "    spectrometer, \n",
    "    spectrometerlogic,\n",
    "    cobolt,\n",
    "    ibeam_smart\n",
    ")\n"
   ]
  },
  {
   "cell_type": "code",
   "execution_count": null,
   "metadata": {},
   "outputs": [],
   "source": [
    "ibeam_smart.enable()"
   ]
  },
  {
   "cell_type": "code",
   "execution_count": null,
   "metadata": {},
   "outputs": [],
   "source": [
    "ibeam_smart.setPower(100000)"
   ]
  },
  {
   "cell_type": "code",
   "execution_count": null,
   "metadata": {},
   "outputs": [],
   "source": [
    "#attocube_scanner.port.write((f\"setdci 1 off{attocube_scanner.EOL}\").encode()) #set dc off"
   ]
  },
  {
   "cell_type": "code",
   "execution_count": null,
   "metadata": {},
   "outputs": [],
   "source": [
    "ple_repump_interfuse_logic.repump_scan_length = 2000"
   ]
  },
  {
   "cell_type": "code",
   "execution_count": null,
   "metadata": {},
   "outputs": [],
   "source": [
    "ibeam_smart.disable()"
   ]
  },
  {
   "cell_type": "code",
   "execution_count": null,
   "metadata": {},
   "outputs": [],
   "source": [
    "cobolt.enable_modulated()"
   ]
  },
  {
   "cell_type": "code",
   "execution_count": 5,
   "metadata": {},
   "outputs": [],
   "source": [
    "laser_controller_remote.etalon_voltage = -7"
   ]
  },
  {
   "cell_type": "code",
   "execution_count": 9,
   "metadata": {},
   "outputs": [],
   "source": [
    "laser_controller_remote.etalon_voltage = -6.8"
   ]
  },
  {
   "cell_type": "code",
   "execution_count": 17,
   "metadata": {},
   "outputs": [
    {
     "data": {
      "text/plain": [
       "((14047.0, 22047.0),)"
      ]
     },
     "execution_count": 17,
     "metadata": {},
     "output_type": "execute_result"
    }
   ],
   "source": [
    "ple_data_logic.get_all_current_scan_data()[0].scan_range"
   ]
  },
  {
   "cell_type": "code",
   "execution_count": null,
   "metadata": {},
   "outputs": [],
   "source": []
  },
  {
   "cell_type": "code",
   "execution_count": null,
   "metadata": {},
   "outputs": [],
   "source": [
    "cobolt.disable_modulated()"
   ]
  },
  {
   "cell_type": "code",
   "execution_count": 18,
   "metadata": {},
   "outputs": [],
   "source": [
    "cobolt.set_laser_modulated_power(5)"
   ]
  },
  {
   "cell_type": "code",
   "execution_count": null,
   "metadata": {},
   "outputs": [],
   "source": [
    "pa.one_pulse_repump(\"violet\")"
   ]
  },
  {
   "cell_type": "markdown",
   "metadata": {},
   "source": []
  },
  {
   "cell_type": "code",
   "execution_count": null,
   "metadata": {},
   "outputs": [],
   "source": [
    "cur_range = laser_scanner_logic.scan_ranges[\"a\"]"
   ]
  },
  {
   "cell_type": "code",
   "execution_count": null,
   "metadata": {},
   "outputs": [],
   "source": [
    "\n",
    "high_finesse_wavemeter_remote.start_acquisition()\n",
    "switchlogic.set_state(\"ScanningMode\", 'NI')\n",
    "time.sleep(1)\n",
    "# factor_sigma = 0.509\n",
    "pa.go_to_ple_target(laser_scanner_logic.scan_ranges[\"a\"][0])\n",
    "time.sleep(5)\n",
    "w1 = high_finesse_wavemeter_remote.get_current_wavelength()\n",
    "pa.go_to_ple_target(laser_scanner_logic.scan_ranges[\"a\"][1])\n",
    "time.sleep(5)\n",
    "w2 = high_finesse_wavemeter_remote.get_current_wavelength()\n",
    "factor_sigma = (w2 - w1) * 1000000 / (cur_range[1] - cur_range[0]) #GHz \n",
    "print(factor_sigma)"
   ]
  },
  {
   "cell_type": "code",
   "execution_count": 9,
   "metadata": {},
   "outputs": [],
   "source": [
    "ibeam_smart.enable()"
   ]
  },
  {
   "cell_type": "code",
   "execution_count": 1,
   "metadata": {},
   "outputs": [],
   "source": [
    "#attocube_scanner.port.write((f\"setdci 1 off{attocube_scanner.EOL}\").encode()) #set dc off"
   ]
  },
  {
   "cell_type": "code",
   "execution_count": 10,
   "metadata": {},
   "outputs": [],
   "source": [
    "ibeam_smart.disable()"
   ]
  },
  {
   "cell_type": "code",
   "execution_count": 31,
   "metadata": {},
   "outputs": [],
   "source": [
    "laser_controller_remote.etalon_voltage = -7"
   ]
  },
  {
   "cell_type": "code",
   "execution_count": null,
   "metadata": {},
   "outputs": [],
   "source": []
  },
  {
   "cell_type": "code",
   "execution_count": 32,
   "metadata": {},
   "outputs": [],
   "source": [
    "cobolt.set_laser_modulated_power(5)"
   ]
  },
  {
   "cell_type": "markdown",
   "metadata": {},
   "source": []
  },
  {
   "cell_type": "code",
   "execution_count": 15,
   "metadata": {},
   "outputs": [
    {
     "name": "stdout",
     "output_type": "stream",
     "text": [
      "1.0556401870246552\n"
     ]
    }
   ],
   "source": [
    "\n",
    "high_finesse_wavemeter_remote.start_acquisition()\n",
    "switchlogic.set_state(\"ScanningMode\", 'NI')\n",
    "time.sleep(1)\n",
    "# factor_sigma = 0.509\n",
    "pa.go_to_ple_target(laser_scanner_logic.scan_ranges[\"a\"][0])\n",
    "time.sleep(5)\n",
    "w1 = high_finesse_wavemeter_remote.get_current_wavelength()\n",
    "pa.go_to_ple_target(laser_scanner_logic.scan_ranges[\"a\"][1])\n",
    "time.sleep(5)\n",
    "w2 = high_finesse_wavemeter_remote.get_current_wavelength()\n",
    "factor_sigma = (w2 - w1) * 1000000 / (cur_range[1] - cur_range[0]) #GHz \n",
    "print(factor_sigma)"
   ]
  },
  {
   "cell_type": "code",
   "execution_count": 8,
   "metadata": {},
   "outputs": [],
   "source": [
    "pulsestreamer._seq = pulsestreamer.pulse_streamer.createSequence()\n",
    "pulse_pattern_1 = [(100, 0), (200, 1), (80, 0), (300, 1), (60, 0)]\n",
    "pulsestreamer._seq.setDigital(6, pulse_pattern_1)\n"
   ]
  },
  {
   "cell_type": "code",
   "execution_count": null,
   "metadata": {},
   "outputs": [],
   "source": [
    "#charge state lifetime "
   ]
  },
  {
   "cell_type": "code",
   "execution_count": 18,
   "metadata": {},
   "outputs": [
    {
     "data": {
      "text/plain": [
       "0"
      ]
     },
     "execution_count": 18,
     "metadata": {},
     "output_type": "execute_result"
    }
   ],
   "source": [
    "pulsestreamer.pulser_off()"
   ]
  },
  {
   "cell_type": "code",
   "execution_count": 21,
   "metadata": {},
   "outputs": [],
   "source": [
    "hist_data = timetaggerlogic.hist_data"
   ]
  },
  {
   "cell_type": "code",
   "execution_count": 30,
   "metadata": {},
   "outputs": [],
   "source": [
    "exp_decay = exp_decay.ExponentialDecay()\n",
    "estimator = "
   ]
  },
  {
   "cell_type": "code",
   "execution_count": 11,
   "metadata": {},
   "outputs": [
    {
     "data": {
      "text/plain": [
       "{'xy, z': 0, 'xy': 1, 'x, y, z': 2, 'x, y': 3}"
      ]
     },
     "execution_count": 11,
     "metadata": {},
     "output_type": "execute_result"
    }
   ],
   "source": [
    "seqs"
   ]
  },
  {
   "cell_type": "code",
   "execution_count": 3,
   "metadata": {},
   "outputs": [],
   "source": [
    "scanning_probe_logic._scan_backward_resolution = 50"
   ]
  },
  {
   "cell_type": "code",
   "execution_count": 3,
   "metadata": {},
   "outputs": [
    {
     "data": {
      "text/plain": [
       "50"
      ]
     },
     "execution_count": 3,
     "metadata": {},
     "output_type": "execute_result"
    }
   ],
   "source": [
    "ni_scanner._backwards_line_resolution"
   ]
  },
  {
   "cell_type": "code",
   "execution_count": null,
   "metadata": {},
   "outputs": [],
   "source": [
    "pulsestreamer._seq = pulsestreamer.pulse_streamer.createSequence()\n",
    "pulse_pattern_cw_450 = [(_hist_record_length, 0), (10, 1)]\n",
    "pulsestreamer._seq.setDigital(5, pulse_pattern_5)\n",
    "timetagger.sigToggleHist.emit({'hist': (_hist_bin_width, _hist_record_length, int(hist_channel), False)})"
   ]
  },
  {
   "cell_type": "code",
   "execution_count": null,
   "metadata": {},
   "outputs": [],
   "source": []
  },
  {
   "cell_type": "code",
   "execution_count": 79,
   "metadata": {},
   "outputs": [],
   "source": [
    "from lmfit import Model"
   ]
  },
  {
   "cell_type": "code",
   "execution_count": 80,
   "metadata": {},
   "outputs": [],
   "source": [
    "def multiple_exponential_decay(x, amplitudes, decays, stretches):\n",
    "    \"\"\" Mathematical definition of the sum of multiple stretched exponential decays without any\n",
    "    bias.\n",
    "\n",
    "    WARNING: iterable parameters \"amplitudes\", \"decays\" and \"stretches\" must have same length.\n",
    "\n",
    "    @param float x: The independent variable to calculate f(x)\n",
    "    @param iterable amplitudes: Iterable containing amplitudes for all exponentials\n",
    "    @param iterable decays: Iterable containing decay constants for all exponentials\n",
    "    @param iterable stretches: Iterable containing stretch constants for all exponentials\n",
    "\n",
    "    @return float|numpy.ndarray: The result given x for f(x)\n",
    "    \"\"\"\n",
    "    assert len(decays) == len(amplitudes) == len(stretches)\n",
    "    return sum(amp * np.exp(-(x / decay) ** stretch) for amp, decay, stretch in\n",
    "               zip(amplitudes, decays, stretches))\n",
    "def exp_decay(x, offset, amplitude, decay, stretch):\n",
    "    return offset + multiple_exponential_decay(x, (amplitude,), (decay,), (stretch,))\n"
   ]
  },
  {
   "cell_type": "code",
   "execution_count": 81,
   "metadata": {},
   "outputs": [],
   "source": [
    "exp_model = Model(exp_decay)"
   ]
  },
  {
   "cell_type": "code",
   "execution_count": 96,
   "metadata": {},
   "outputs": [],
   "source": [
    "params = exp_model.make_params(offset=0, amplitude=200, decay=1, stretch=1)"
   ]
  },
  {
   "cell_type": "code",
   "execution_count": 97,
   "metadata": {},
   "outputs": [],
   "source": [
    "x = np.linspace(0, _hist_record_length, len(y)).astype(float)\n",
    "result = exp_model.fit(y, params, x=x)"
   ]
  },
  {
   "cell_type": "code",
   "execution_count": null,
   "metadata": {},
   "outputs": [],
   "source": [
    "from numpy import exp, linspace, random\n",
    "from scipy.optimize import curve_fit\n",
    "\n",
    "def exp(x, amp, cen, wid):\n",
    "    return amp * exp(-(x-cen) / wid)"
   ]
  }
 ],
 "metadata": {
  "kernelspec": {
   "display_name": "qudi",
   "language": "python",
   "name": "qudi"
  },
  "language_info": {
   "codemirror_mode": {
    "name": "ipython",
    "version": 3
   },
   "file_extension": ".py",
   "mimetype": "text/x-python",
   "name": "python",
   "nbconvert_exporter": "python",
   "pygments_lexer": "ipython3",
   "version": "3.9.15"
  },
  "orig_nbformat": 4
 },
 "nbformat": 4,
 "nbformat_minor": 2
}
