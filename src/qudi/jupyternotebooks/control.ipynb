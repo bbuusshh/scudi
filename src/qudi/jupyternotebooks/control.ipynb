{
 "cells": [
  {
   "cell_type": "code",
   "execution_count": 16,
   "metadata": {},
   "outputs": [],
   "source": [
    "ibeam_smart.enable()"
   ]
  },
  {
   "cell_type": "code",
   "execution_count": 7,
   "metadata": {},
   "outputs": [],
   "source": [
    "ibeam_smart.setPower(100000)"
   ]
  },
  {
   "cell_type": "code",
   "execution_count": null,
   "metadata": {},
   "outputs": [],
   "source": []
  },
  {
   "cell_type": "code",
   "execution_count": 9,
   "metadata": {},
   "outputs": [],
   "source": [
    "ibeam_smart.disable()"
   ]
  },
  {
   "cell_type": "code",
   "execution_count": 12,
   "metadata": {},
   "outputs": [],
   "source": [
    "cobolt.enable_modulated()"
   ]
  },
  {
   "cell_type": "code",
   "execution_count": 16,
   "metadata": {},
   "outputs": [],
   "source": [
    "cobolt.disable_modulated()"
   ]
  },
  {
   "cell_type": "code",
   "execution_count": 10,
   "metadata": {},
   "outputs": [],
   "source": [
    "cobolt.set_laser_modulated_power(10)"
   ]
  },
  {
   "cell_type": "code",
   "execution_count": null,
   "metadata": {},
   "outputs": [],
   "source": [
    "pa.one_pulse_repump(\"blue\")"
   ]
  },
  {
   "cell_type": "code",
   "execution_count": null,
   "metadata": {},
   "outputs": [],
   "source": [
    "switchlogic.set_state(\"ScanningMode\", 'Wavemeter')\n",
    "switchlogic.set_state(\"ScanningMode\", 'NI')"
   ]
  },
  {
   "cell_type": "code",
   "execution_count": 8,
   "metadata": {},
   "outputs": [],
   "source": [
    "pulsestreamer._seq = pulsestreamer.pulse_streamer.createSequence()\n",
    "pulse_pattern_1 = [(100, 0), (200, 1), (80, 0), (300, 1), (60, 0)]\n",
    "pulsestreamer._seq.setDigital(6, pulse_pattern_1)\n"
   ]
  },
  {
   "cell_type": "code",
   "execution_count": null,
   "metadata": {},
   "outputs": [],
   "source": [
    "ple._fit_config_model"
   ]
  },
  {
   "cell_type": "code",
   "execution_count": null,
   "metadata": {},
   "outputs": [],
   "source": [
    "#charge state lifetime "
   ]
  },
  {
   "cell_type": "code",
   "execution_count": 17,
   "metadata": {},
   "outputs": [
    {
     "data": {
      "text/plain": [
       "0"
      ]
     },
     "execution_count": 17,
     "metadata": {},
     "output_type": "execute_result"
    }
   ],
   "source": [
    "pulsestreamer.pulser_on()"
   ]
  },
  {
   "cell_type": "code",
   "execution_count": 18,
   "metadata": {},
   "outputs": [
    {
     "data": {
      "text/plain": [
       "0"
      ]
     },
     "execution_count": 18,
     "metadata": {},
     "output_type": "execute_result"
    }
   ],
   "source": [
    "pulsestreamer.pulser_off()"
   ]
  },
  {
   "cell_type": "code",
   "execution_count": 16,
   "metadata": {},
   "outputs": [
    {
     "data": {
      "text/plain": [
       "True"
      ]
     },
     "execution_count": 16,
     "metadata": {},
     "output_type": "execute_result"
    }
   ],
   "source": [
    "_hist_bin_width = 10 * 1000 # ns * ps\n",
    "_hist_record_length = 10\n",
    "hist_channel = 1\n",
    "pulsestreamer._seq = pulsestreamer.pulse_streamer.createSequence()\n",
    "pulse_pattern_5 = [(_hist_record_length, 0), (10, 1)]\n",
    "pulsestreamer._seq.setDigital(5, pulse_pattern_5)\n",
    "timetagger.sigToggleHist.emit({'hist': (_hist_bin_width, _hist_record_length, int(hist_channel), False)})"
   ]
  },
  {
   "cell_type": "code",
   "execution_count": 21,
   "metadata": {},
   "outputs": [],
   "source": [
    "hist_data = timetaggerlogic.hist_data"
   ]
  },
  {
   "cell_type": "code",
   "execution_count": 75,
   "metadata": {},
   "outputs": [],
   "source": [
    "from qudi.util.fit_models import exp_decay\n",
    "import numpy as np\n",
    "from matplotlib import pyplot as plt"
   ]
  },
  {
   "cell_type": "code",
   "execution_count": 30,
   "metadata": {},
   "outputs": [],
   "source": [
    "exp_decay = exp_decay.ExponentialDecay()\n",
    "estimator = "
   ]
  },
  {
   "cell_type": "code",
   "execution_count": 10,
   "metadata": {},
   "outputs": [],
   "source": [
    "seqs = {str(seq): idx for idx, seq in enumerate(scanner_gui._osd.settings_widget.available_opt_sequences)}"
   ]
  },
  {
   "cell_type": "code",
   "execution_count": 11,
   "metadata": {},
   "outputs": [
    {
     "data": {
      "text/plain": [
       "{'xy, z': 0, 'xy': 1, 'x, y, z': 2, 'x, y': 3}"
      ]
     },
     "execution_count": 11,
     "metadata": {},
     "output_type": "execute_result"
    }
   ],
   "source": [
    "seqs"
   ]
  },
  {
   "cell_type": "code",
   "execution_count": 17,
   "metadata": {},
   "outputs": [],
   "source": [
    "scanner_gui._osd.settings_widget.optimize_sequence_combobox.setCurrentIndex(seqs[\"x, y\"])\n",
    "scanner_gui._osd.accept()"
   ]
  },
  {
   "cell_type": "code",
   "execution_count": 3,
   "metadata": {},
   "outputs": [],
   "source": [
    "scanning_probe_logic._scan_backward_resolution = 50"
   ]
  },
  {
   "cell_type": "code",
   "execution_count": 4,
   "metadata": {},
   "outputs": [],
   "source": [
    "ni_scanner._backwards_line_resolution = 50"
   ]
  },
  {
   "cell_type": "code",
   "execution_count": 3,
   "metadata": {},
   "outputs": [
    {
     "data": {
      "text/plain": [
       "50"
      ]
     },
     "execution_count": 3,
     "metadata": {},
     "output_type": "execute_result"
    }
   ],
   "source": [
    "ni_scanner._backwards_line_resolution"
   ]
  },
  {
   "cell_type": "code",
   "execution_count": null,
   "metadata": {},
   "outputs": [],
   "source": [
    "pulsestreamer._seq = pulsestreamer.pulse_streamer.createSequence()\n",
    "pulse_pattern_cw_450 = [(_hist_record_length, 0), (10, 1)]\n",
    "pulsestreamer._seq.setDigital(5, pulse_pattern_5)\n",
    "timetagger.sigToggleHist.emit({'hist': (_hist_bin_width, _hist_record_length, int(hist_channel), False)})"
   ]
  },
  {
   "cell_type": "code",
   "execution_count": null,
   "metadata": {},
   "outputs": [],
   "source": []
  },
  {
   "cell_type": "code",
   "execution_count": 79,
   "metadata": {},
   "outputs": [],
   "source": [
    "from lmfit import Model"
   ]
  },
  {
   "cell_type": "code",
   "execution_count": 80,
   "metadata": {},
   "outputs": [],
   "source": [
    "def multiple_exponential_decay(x, amplitudes, decays, stretches):\n",
    "    \"\"\" Mathematical definition of the sum of multiple stretched exponential decays without any\n",
    "    bias.\n",
    "\n",
    "    WARNING: iterable parameters \"amplitudes\", \"decays\" and \"stretches\" must have same length.\n",
    "\n",
    "    @param float x: The independent variable to calculate f(x)\n",
    "    @param iterable amplitudes: Iterable containing amplitudes for all exponentials\n",
    "    @param iterable decays: Iterable containing decay constants for all exponentials\n",
    "    @param iterable stretches: Iterable containing stretch constants for all exponentials\n",
    "\n",
    "    @return float|numpy.ndarray: The result given x for f(x)\n",
    "    \"\"\"\n",
    "    assert len(decays) == len(amplitudes) == len(stretches)\n",
    "    return sum(amp * np.exp(-(x / decay) ** stretch) for amp, decay, stretch in\n",
    "               zip(amplitudes, decays, stretches))\n",
    "def exp_decay(x, offset, amplitude, decay, stretch):\n",
    "    return offset + multiple_exponential_decay(x, (amplitude,), (decay,), (stretch,))\n"
   ]
  },
  {
   "cell_type": "code",
   "execution_count": 81,
   "metadata": {},
   "outputs": [],
   "source": [
    "exp_model = Model(exp_decay)"
   ]
  },
  {
   "cell_type": "code",
   "execution_count": 96,
   "metadata": {},
   "outputs": [],
   "source": [
    "params = exp_model.make_params(offset=0, amplitude=200, decay=1, stretch=1)"
   ]
  },
  {
   "cell_type": "code",
   "execution_count": 97,
   "metadata": {},
   "outputs": [],
   "source": [
    "x = np.linspace(0, _hist_record_length, len(y)).astype(float)\n",
    "result = exp_model.fit(y, params, x=x)"
   ]
  },
  {
   "cell_type": "code",
   "execution_count": null,
   "metadata": {},
   "outputs": [],
   "source": [
    "from numpy import exp, linspace, random\n",
    "from scipy.optimize import curve_fit\n",
    "\n",
    "def exp(x, amp, cen, wid):\n",
    "    return amp * exp(-(x-cen) / wid)"
   ]
  }
 ],
 "metadata": {
  "kernelspec": {
   "display_name": "qudi",
   "language": "python",
   "name": "qudi"
  },
  "language_info": {
   "codemirror_mode": {
    "name": "ipython",
    "version": 3
   },
   "file_extension": ".py",
   "mimetype": "text/x-python",
   "name": "python",
   "nbconvert_exporter": "python",
   "pygments_lexer": "ipython3",
   "version": "3.9.15"
  },
  "orig_nbformat": 4
 },
 "nbformat": 4,
 "nbformat_minor": 2
}
