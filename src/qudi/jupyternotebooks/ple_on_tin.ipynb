{
 "cells": [
  {
   "attachments": {},
   "cell_type": "markdown",
   "metadata": {},
   "source": [
    "### Initialize"
   ]
  },
  {
   "cell_type": "code",
   "execution_count": 168,
   "metadata": {},
   "outputs": [],
   "source": [
    "repump_power_405 = 0.3"
   ]
  },
  {
   "cell_type": "code",
   "execution_count": 169,
   "metadata": {},
   "outputs": [
    {
     "ename": "ModuleNotFoundError",
     "evalue": "No module named 'pandas'",
     "output_type": "error",
     "traceback": [
      "\u001b[1;31m---------------------------------------------------------------------------\u001b[0m",
      "\u001b[1;31mModuleNotFoundError\u001b[0m                       Traceback (most recent call last)",
      "\u001b[1;32md:\\scudi\\scudi\\src\\qudi\\jupyternotebooks\\ple_on_tin.ipynb Cell 1\u001b[0m in \u001b[0;36m<cell line: 6>\u001b[1;34m()\u001b[0m\n\u001b[0;32m      <a href='vscode-notebook-cell:/d%3A/scudi/scudi/src/qudi/jupyternotebooks/ple_on_tin.ipynb#W0sZmlsZQ%3D%3D?line=3'>4</a>\u001b[0m \u001b[39mimport\u001b[39;00m \u001b[39mautomatization\u001b[39;00m\n\u001b[0;32m      <a href='vscode-notebook-cell:/d%3A/scudi/scudi/src/qudi/jupyternotebooks/ple_on_tin.ipynb#W0sZmlsZQ%3D%3D?line=4'>5</a>\u001b[0m \u001b[39mfrom\u001b[39;00m \u001b[39mautomatization\u001b[39;00m\u001b[39m.\u001b[39;00m\u001b[39mple_statistics\u001b[39;00m \u001b[39mimport\u001b[39;00m PleAuto\n\u001b[1;32m----> <a href='vscode-notebook-cell:/d%3A/scudi/scudi/src/qudi/jupyternotebooks/ple_on_tin.ipynb#W0sZmlsZQ%3D%3D?line=5'>6</a>\u001b[0m \u001b[39mimport\u001b[39;00m \u001b[39mpandas\u001b[39;00m \u001b[39mas\u001b[39;00m \u001b[39mpd\u001b[39;00m\n\u001b[0;32m      <a href='vscode-notebook-cell:/d%3A/scudi/scudi/src/qudi/jupyternotebooks/ple_on_tin.ipynb#W0sZmlsZQ%3D%3D?line=6'>7</a>\u001b[0m \u001b[39mimport\u001b[39;00m \u001b[39mos\u001b[39;00m\n\u001b[0;32m      <a href='vscode-notebook-cell:/d%3A/scudi/scudi/src/qudi/jupyternotebooks/ple_on_tin.ipynb#W0sZmlsZQ%3D%3D?line=7'>8</a>\u001b[0m \u001b[39mimport\u001b[39;00m \u001b[39mtime\u001b[39;00m\n",
      "File \u001b[1;32m~\\anaconda3\\envs\\scudi\\Lib\\site-packages\\shiboken2\\files.dir\\shibokensupport\\__feature__.py:142\u001b[0m, in \u001b[0;36m_import\u001b[1;34m(name, *args, **kwargs)\u001b[0m\n\u001b[0;32m    140\u001b[0m     flag \u001b[39m=\u001b[39m \u001b[39m-\u001b[39m\u001b[39m1\u001b[39m\n\u001b[0;32m    141\u001b[0m pyside_feature_dict[importing_module] \u001b[39m=\u001b[39m flag\n\u001b[1;32m--> 142\u001b[0m \u001b[39mreturn\u001b[39;00m original_import(name, \u001b[39m*\u001b[39margs, \u001b[39m*\u001b[39m\u001b[39m*\u001b[39mkwargs)\n",
      "\u001b[1;31mModuleNotFoundError\u001b[0m: No module named 'pandas'"
     ]
    }
   ],
   "source": [
    "#INITIALIZA THE FUNCTIONS \n",
    "#%%\n",
    "#import the necessary packages\n",
    "import automatization\n",
    "from automatization.ple_statistics import PleAuto\n",
    "import pandas as pd\n",
    "import os\n",
    "import time\n",
    "import json\n",
    "from importlib import reload\n",
    "import numpy as np\n",
    "from automatization.ple_statistics import PleAuto\n",
    "from matplotlib import pyplot as plt\n",
    "reload(automatization.ple_statistics)\n",
    "from automatization.ple_statistics import PleAuto\n",
    "from scipy.constants import speed_of_light\n",
    "import pickle\n",
    "from pathlib import Path\n",
    "\n",
    "import sys\n",
    "\n",
    "sys.setrecursionlimit(10000)\n",
    "\n",
    "pa = PleAuto(\n",
    "    ple_gui, \n",
    "    ple_optimize_logic, \n",
    "    laser_scanner_logic,\n",
    "    poi_manager_logic, \n",
    "    scanning_optimize_logic,\n",
    "    spectrometer,  \n",
    "    \n",
    "    spectrometerlogic,\n",
    "    cobolt,\n",
    "    ibeam_smart\n",
    ")\n",
    "\n",
    "# def ple_is_here(res, center_sigma = 3e3, amplitude = 1000, sigma_stderr_ratio = 4, amplitude_stderr_ratio=3):\n",
    "#     \"\"\"Check if the ple is still there.\"\"\"\n",
    "#     it_is = True\n",
    "#     if res[\"center\"].stderr is None or res[\"sigma\"].stderr is None or res[\"sigma\"].value is None:\n",
    "#         return False\n",
    "#     if ( res[\"center\"].stderr > center_sigma or \n",
    "#     res[\"sigma\"].stderr * sigma_stderr_ratio > res[\"sigma\"].value or \n",
    "#     res[\"amplitude\"].stderr * amplitude_stderr_ratio > res[\"amplitude\"].value or\n",
    "#     res[\"amplitude\"].value < amplitude): \n",
    "#         #ple is gone.\n",
    "#         return False\n",
    "\n",
    "#     return it_is\n",
    "def ple_is_here(rsquared_bound = 0.5):\n",
    "    \"\"\"Check if the ple is still there.\"\"\"\n",
    "    \n",
    "    if ple_gui.fit_result[1].rsquared < rsquared_bound:\n",
    "        print(\"NO, PLE\", ple_gui.fit_result[1].rsquared )\n",
    "        return False\n",
    "    \n",
    "    else:\n",
    "        return True\n",
    "\n",
    "\n",
    "def adjust_eta(pa, poi_name, folder_defect, results_poi, center_v):\n",
    "    \"\"\"Adjust the etalon voltage to get the best fit.\"\"\"\n",
    "    # ple_gui._osd.settings_widget.optimize_sequence_combobox.setCurrentIndex(seqs[\"a\"])\n",
    "    ple_gui._mw.frequencyDoubleSpinBox.setValue(1000)\n",
    "    \n",
    "    eta_volts = [center_v, center_v + 0.2, center_v + 0.4, center_v + 0.6, center_v - 0.2, center_v - 0.4,  center_v - 0.6]\n",
    "    r_squared = []\n",
    "    for eta_v in eta_volts:\n",
    "        laser_controller_remote.etalon_voltage = eta_v\n",
    "        time.sleep(0.5)\n",
    "        res = pa.do_ple_scan(lines = 1)\n",
    "        time.sleep(0.5)\n",
    "        r_squared.append(ple_gui.fit_result[1].rsquared)\n",
    "    results_poi[\"eta_voltage\"] = eta_volts[r_squared.index(max(r_squared))]\n",
    "    laser_controller_remote.etalon_voltage = eta_volts[r_squared.index(max(r_squared))]\n",
    "    res = pa.do_ple_scan(lines = 1)\n",
    "    pa.save_ple(tag = \"full_range_eta_adjusted\",\n",
    "                poi_name=poi_name, folder_name=folder_defect)\n",
    "\n",
    "    ple_gui._mw.frequencyDoubleSpinBox.setValue(250)\n",
    "    return res, results_poi\n",
    "def ple_refocus(pa, opt_times = 1, \n",
    "                scan_frequency=200, \n",
    "                scan_resolution=500,\n",
    "                scan_range = 5000):\n",
    "    \n",
    "    seqs = {str(seq): idx for idx, seq in enumerate(ple_gui._osd.settings_widget.available_opt_sequences)}\n",
    "    ple_gui._osd.settings_widget.optimize_sequence_combobox.setCurrentIndex(seqs[\"a\"])\n",
    "    ple_gui._osd.change_settings({'scan_frequency': {\"a\": scan_frequency},\n",
    "                                    \"scan_resolution\": {\"a\":scan_resolution},\n",
    "                                    \"scan_range\": {\"a\": scan_range}}) #GHz\n",
    "\n",
    "    ple_gui._osd.accept()\n",
    "    time.sleep(0.8)\n",
    "    pa.optimize_ple()\n",
    "    return res\n",
    "def settings_confocal_refocus(sequence = \"xy, z\", scan_range_xy= 1e-6, scan_resolution = 25, scan_frequency = 25):\n",
    "    seqs = {str(seq): idx for idx, seq in enumerate(scanner_gui._osd.settings_widget.available_opt_sequences)}\n",
    "    scanner_gui._osd.settings_widget.optimize_sequence_combobox.setCurrentIndex(seqs[sequence])\n",
    "    scanner_gui._osd.change_settings({'scan_frequency': {\"x\": scan_frequency, \"y\": scan_frequency, \"z\": scan_frequency},\n",
    "                                    \"scan_resolution\": {\"x\": scan_resolution, \"y\": scan_resolution, \"z\":80},\n",
    "                                    \"scan_range\": {\"x\": scan_range_xy, \"y\": scan_range_xy, \"z\": 4e-6}})\n",
    "\n",
    "    scanner_gui._osd.accept()\n",
    "    time.sleep(0.5)\n",
    "\n",
    "\n",
    "def settings_confocal_refocus_coarse():\n",
    "    seqs = {str(seq): idx for idx, seq in enumerate(scanner_gui._osd.settings_widget.available_opt_sequences)}\n",
    "    scanner_gui._osd.settings_widget.optimize_sequence_combobox.setCurrentIndex(seqs[\"x, y, z\"])\n",
    "\n",
    "    scanner_gui._osd.change_settings({'scan_frequency': {\"x\": 5, \"y\": 5, \"z\": 5},\n",
    "                                    \"scan_resolution\": {\"x\": 80, \"y\": 80, \"z\":80},\n",
    "                                    \"scan_range\": {\"x\": 2.5e-6, \"y\": 2.5e-6, \"z\": 4.5e-6}})\n",
    "    scanner_gui._osd.accept()\n",
    "    time.sleep(0.5)\n",
    "\n",
    "def confocal_refocus(opt_times=2):\n",
    "    for i in range(opt_times):\n",
    "        scanning_optimize_logic.start_optimize()\n",
    "        while scanning_optimize_logic.module_state()=='locked':\n",
    "            time.sleep(0.5)\n",
    "    time.sleep(0.5)\n",
    "#find the defect:\n",
    "def find_the_defect(pa, poi_name, folder_defect):\n",
    "    ple_gui._mw.frequencyDoubleSpinBox.setValue(1000)\n",
    "    switchlogic.set_state(\"ScanningMode\", 'Wavemeter')\n",
    "    pa.set_resonant_power(power = 300)\n",
    "    cobolt.enable_modulated()\n",
    "    cobolt.set_laser_modulated_power(2)\n",
    "    time.sleep(1)\n",
    "    settings_confocal_refocus_coarse()\n",
    "    confocal_refocus(opt_times=2)\n",
    "\n",
    "    \n",
    "    switchlogic.set_state(\"ScanningMode\", 'NI')\n",
    "    time.sleep(0.5)\n",
    "    #Check how the PLE look like\n",
    "    res = pa.do_ple_scan(lines = 1)\n",
    "\n",
    "    #configure slow scanning for the wavemeter scanning optimizations\n",
    "    for kk in range(3):\n",
    "        if not ple_is_here():\n",
    "            switchlogic.set_state(\"ScanningMode\", 'Wavemeter')\n",
    "            time.sleep(0.5)\n",
    "            settings_confocal_refocus_coarse()\n",
    "            confocal_refocus(opt_times=1)\n",
    "            #Check how the PLE look like\n",
    "            time.sleep(0.5)\n",
    "            switchlogic.set_state(\"ScanningMode\", 'NI')\n",
    "            res = pa.do_ple_scan(lines = 1)\n",
    "            time.sleep(0.5)\n",
    "            pa.save_ple(tag = \"full_range_iter_{kk}\",\n",
    "                    poi_name=poi_name, folder_name=folder_defect)\n",
    "            time.sleep(0.5)\n",
    "        else:\n",
    "            break\n",
    "\n",
    "    pa.save_ple(tag = \"full_range\",\n",
    "            poi_name=poi_name, \n",
    "            folder_name=folder_defect)\n",
    "    time.sleep(0.2)\n",
    "    ple_gui._mw.frequencyDoubleSpinBox.setValue(250)\n",
    "    return res\n",
    "\n",
    "def take_spectrum(pa, poi_name, folder_defect):\n",
    "    # take spectrum to estimate SOC\n",
    "    pa.set_resonant_power(power = 0)\n",
    "    time.sleep(2)\n",
    "    ibeam_smart.setPower(60000)\n",
    "    ibeam_smart.enable()\n",
    "    cobolt.enable_modulated()\n",
    "    cobolt.set_laser_modulated_power(power = 100)\n",
    "    pa.set_resonant_power(power = 0)\n",
    "    time.sleep(1)\n",
    "    pa.take_spectrum()\n",
    "\n",
    "    \n",
    "    \n",
    "    time.sleep(1)\n",
    "    spectrometer._mw.data_widget.fit_widget.sigDoFit.emit(\"DoubleLorentzian\")\n",
    "    time.sleep(1)\n",
    "    pa.save_spectrum(name_tag=f\"{poi_name}_blueNgreen\", folder_path=folder_defect)\n",
    "    # spectrometer.fit_results.params[\"center_1\"].value\n",
    "    \n",
    "    if spectrometer.fit_results is not None:\n",
    "        params = spectrometer.fit_results.params\n",
    "        soc_ghz = float(speed_of_light / params[\"center_2\"].value - speed_of_light / params[\"center_1\"].value)\n",
    "        center_1_ghz = float(params[\"center_1\"].value)\n",
    "        center_2_ghz = float(params[\"center_2\"].value)\n",
    "    ibeam_smart.disable()\n",
    "    ibeam_smart.setPower(3000)\n",
    "    #cobolt.disable_modulated()\n",
    "    time.sleep(0.1)\n",
    "    # results_poi[\"spectrum_fit_data\"] = spectrometer.fit_results.best_fit\n",
    "    cobolt.enable_modulated()\n",
    "    cobolt.set_laser_modulated_power(power = repump_power_405)\n",
    "    pa.set_resonant_power(power = 300)    \n",
    "    time.sleep(1)\n",
    "    return soc_ghz, center_1_ghz, center_2_ghz\n",
    "# Perform the saturation measurement\n",
    "\n",
    "def fine_optimize(pa, poi_name, folder_defect, results_poi):\n",
    "    res = pa.do_ple_scan(lines = 1)\n",
    "    pa.go_to_ple_target(res[\"center\"].value)\n",
    "    ple_refocus(pa, scan_range=4000, scan_frequency=500)\n",
    "    settings_confocal_refocus_fine()\n",
    "    confocal_refocus(opt_times=1)\n",
    "    ple_refocus(pa, scan_range=4000, scan_frequency=500)\n",
    "    confocal_refocus(opt_times=1)\n",
    "    res = pa.do_ple_scan(lines = 1)\n",
    "    pa.go_to_ple_target(res[\"center\"].value)\n",
    "    results_poi[\"center\"] = res[\"center\"].value\n",
    "    \n",
    "    results_poi[\"center_λ\"] = high_finesse_wavemeter_remote.get_current_wavelength()\n",
    "    pa.save_ple(tag = \"full_range_optimized\",\n",
    "            poi_name=poi_name, \n",
    "            folder_name=folder_defect)\n",
    "    return res, results_poi\n",
    "\n",
    "def run_saturation_measurement(pa, res, poi_name, folder_defect, results_poi, large_sigma = 4000, small_sigma = 300, power_steps = None, low_power_steps = None, repumped_power = 100, no_repump_power = 150):\n",
    "    ple_gui._mw.frequencyDoubleSpinBox.setValue(500)\n",
    "\n",
    "    os.makedirs(saturation_folder := os.path.join(folder_defect, \"saturation\"), exist_ok=True)\n",
    "    results_poi[\"saturation\"] = {}\n",
    "    idx_no_ple = None\n",
    "    res_old = res\n",
    "    if power_steps is None:\n",
    "        power_steps = 3 * np.logspace(1.5, 2, 10, endpoint=True).astype(int)[::-1]\n",
    "    if low_power_steps is None:\n",
    "        low_power_steps = np.array([85, 78, 70, 65, 60])\n",
    "    power_steps = np.append(power_steps,low_power_steps)\n",
    "    zero_range = (\n",
    "                res[\"center\"].value - large_sigma,\n",
    "                res[\"center\"].value + large_sigma\n",
    "            )\n",
    "    res = pa.do_ple_scan(lines = 1, in_range=zero_range)\n",
    "    for idx, power in enumerate(power_steps):\n",
    "        os.makedirs(power_folder := os.path.join(saturation_folder, f\"{power}\"), exist_ok=True)\n",
    "        \n",
    "        if power > repumped_power: \n",
    "            cobolt.enable_modulated()\n",
    "            pa.set_resonant_power(power = power)\n",
    "            time.sleep(1)\n",
    "            #align twice\n",
    "            # for i in range(2)\n",
    "            \n",
    "            fine_range = (\n",
    "                res[\"center\"].value - small_sigma,\n",
    "                res[\"center\"].value + small_sigma\n",
    "            )\n",
    "            if res[\"center\"].value is None or res[\"sigma\"].value is None or not ple_is_here(rsquared_bound=0.2):\n",
    "                res = pa.do_ple_scan(lines = 1, in_range=zero_range)\n",
    "                \n",
    "                if not ple_is_here(rsquared_bound=0.2):\n",
    "                    continue\n",
    "            res = pa.do_ple_scan(lines = 1, in_range=fine_range)\n",
    "            # if abs(res_old[\"center\"].value - res[\"center\"].value) > res_old[\"sigma\"].value*2:\n",
    "            #     res = res_old\n",
    "            # else:s\n",
    "            #     res_old = res\n",
    "            pa.save_ple(tag = f\"{power}\",\n",
    "                poi_name=poi_name, folder_name=power_folder)\n",
    "\n",
    "            results_poi.update({\"saturation\": \n",
    "                            {f\"{power}_repump\":\n",
    "                                {\"scan_data\": ple_data_logic.last_saved_files_paths,\n",
    "                                \"sigma\": res[\"sigma\"].value,\n",
    "                                \"sigma_stderr\": res[\"sigma\"].stderr,\n",
    "                                \"center\": res[\"center\"].value\n",
    "                                }\n",
    "                                }})\n",
    "        if (power < no_repump_power):\n",
    "            os.makedirs(power_folder_norepump := os.path.join(power_folder, f\"no_repump\"), exist_ok=True)\n",
    "            # check with initioalization\n",
    "            cobolt.disable_modulated()\n",
    "            pa.one_pulse_repump(\"violet\")\n",
    "            for i in range(3):\n",
    "                pa.one_pulse_repump(\"violet\")\n",
    "                res_ = pa.do_ple_scan(lines = 1, in_range=fine_range)\n",
    "                if not ple_is_here(rsquared_bound=0.4):\n",
    "                    continue\n",
    "            if not ple_is_here(rsquared_bound=0.4):\n",
    "                    continue\n",
    "            res_ = pa.do_ple_scan(lines = 5, in_range=fine_range)\n",
    "            print(\"Saving no repump\")\n",
    "            pa.save_ple(tag = f\"{power}_norepump\",\n",
    "                poi_name=poi_name, folder_name=power_folder_norepump)\n",
    "            results_poi.update({\"saturation\": \n",
    "                            {f\"{power}_norepump\":\n",
    "                                {\"scan_data\": ple_data_logic.last_saved_files_paths,\n",
    "                                \"sigma\": res_[\"sigma\"].value,\n",
    "                                \"sigma_stderr\": res_[\"sigma\"].stderr,\n",
    "                                \"center\": res_[\"center\"].value\n",
    "                                }\n",
    "                                }})\n",
    "        if power <= 40:\n",
    "            break\n",
    "\n",
    "            #save_plots\n",
    "    return results_poi\n",
    "\n",
    "def check_factor_sigma():\n",
    "    # constraints\n",
    "    scan_range_constr = laser_scanner_logic.scan_ranges[\"a\"] \n",
    "    pa.go_to_ple_target(scan_range_constr[0])\n",
    "    time.sleep(5)\n",
    "    w1 = high_finesse_wavemeter_remote.get_current_wavelength()\n",
    "    \n",
    "    pa.go_to_ple_target(scan_range_constr[1])\n",
    "    time.sleep(5)\n",
    "    w2 = high_finesse_wavemeter_remote.get_current_wavelength()\n",
    "\n",
    "    factor_sigma = (w2 - w1) * 1000000 / (scan_range_constr[1] - scan_range_constr[0]) #GHz \n",
    "    return factor_sigma\n",
    "\n",
    "def get_optical_power(wavelength = 619):\n",
    "    powermeter._set_wavelength(value=619)\n",
    "    powermeter.set_activity_state(channel=\"Power\", active=True)\n",
    "    power = powermeter.get_process_value(channel=\"Power\")\n",
    "    return power * 1e9 # in nW\n",
    "\n",
    "# constraints\n",
    "scan_range_constr = laser_scanner_logic.scanner_constraints.axes[\"a\"].value_range\n",
    "scanning_optimize_logic._backwards_line_resolution = 20\n"
   ]
  },
  {
   "attachments": {},
   "cell_type": "markdown",
   "metadata": {},
   "source": [
    "# New area"
   ]
  },
  {
   "cell_type": "code",
   "execution_count": 49,
   "metadata": {},
   "outputs": [],
   "source": [
    "folder = r\"Z:\\Vlad\\SnV\\182\\2R-1\\07-05\\auto\""
   ]
  },
  {
   "attachments": {},
   "cell_type": "markdown",
   "metadata": {},
   "source": [
    "## New defect initialization"
   ]
  },
  {
   "cell_type": "code",
   "execution_count": 50,
   "metadata": {},
   "outputs": [],
   "source": [
    "poi_name = \"def1\"\n",
    "\n",
    "\n",
    "os.makedirs(folder_defect := os.path.join(folder, poi_name),  exist_ok=True)\n",
    "\n",
    "ple_gui._save_folderpath = folder_defect\n",
    "\n",
    "\n",
    "ple_gui.save_path_widget.currPathLabel.setText(ple_gui._save_folderpath)\n",
    "ple_gui.save_path_widget.newPathCheckBox.setChecked(False)\n",
    "\n",
    "spectrometer._save_folderpath = folder_defect\n",
    "\n",
    "spectrometer._mw.control_widget.save_path_widget.currPathLabel.setText(ple_gui._save_folderpath)\n",
    "spectrometer._mw.control_widget.save_path_widget.newPathCheckBox.setChecked(False)"
   ]
  },
  {
   "attachments": {},
   "cell_type": "markdown",
   "metadata": {},
   "source": [
    "### Wavemeter scanning mode"
   ]
  },
  {
   "cell_type": "code",
   "execution_count": 284,
   "metadata": {},
   "outputs": [],
   "source": [
    "high_finesse_wavemeter_remote._wavemeter.set_regulation_mode(mode=True)\n",
    "switchlogic.set_state(\"ScanningMode\", 'Wavemeter')\n",
    "cobolt.set_laser_modulated_power(repump_power_405)\n",
    "cobolt.enable_modulated()\n",
    "ibeam_smart.disable()\n",
    "pa.set_resonant_power(300)\n"
   ]
  },
  {
   "attachments": {},
   "cell_type": "markdown",
   "metadata": {},
   "source": [
    "### Refocus confocal"
   ]
  },
  {
   "cell_type": "code",
   "execution_count": 282,
   "metadata": {},
   "outputs": [],
   "source": [
    "settings_confocal_refocus(sequence=\"xy\", scan_resolution=15, scan_frequency=75, scan_range_xy=1e-6)\n",
    "confocal_refocus(opt_times=1)\n",
    "\n",
    "settings_confocal_refocus(sequence=\"xy, z\", scan_resolution=15, scan_frequency=75, scan_range_xy=1e-6)\n",
    "confocal_refocus(opt_times=1)"
   ]
  },
  {
   "cell_type": "code",
   "execution_count": 195,
   "metadata": {},
   "outputs": [],
   "source": [
    "settings_confocal_refocus(sequence=\"x, y, z\", scan_resolution=80, scan_frequency=5)\n",
    "confocal_refocus(opt_times=1)"
   ]
  },
  {
   "attachments": {},
   "cell_type": "markdown",
   "metadata": {},
   "source": [
    "### Switch to NI scanning"
   ]
  },
  {
   "cell_type": "code",
   "execution_count": 278,
   "metadata": {},
   "outputs": [],
   "source": [
    "#Optimize the defect\n",
    "high_finesse_wavemeter_remote._wavemeter.set_regulation_mode(mode=False)\n",
    "switchlogic.set_state(\"ScanningMode\", 'NI')\n",
    "res = pa.do_ple_scan(lines = 1)\n",
    "\n"
   ]
  },
  {
   "attachments": {},
   "cell_type": "markdown",
   "metadata": {},
   "source": [
    "### Adjust eta"
   ]
  },
  {
   "cell_type": "code",
   "execution_count": 244,
   "metadata": {},
   "outputs": [
    {
     "data": {
      "text/plain": [
       "-7.4"
      ]
     },
     "execution_count": 244,
     "metadata": {},
     "output_type": "execute_result"
    }
   ],
   "source": [
    "laser_controller_remote.etalon_voltage"
   ]
  },
  {
   "cell_type": "code",
   "execution_count": 280,
   "metadata": {},
   "outputs": [],
   "source": [
    "laser_controller_remote.etalon_voltage = -7.3"
   ]
  },
  {
   "attachments": {},
   "cell_type": "markdown",
   "metadata": {},
   "source": [
    "### Take spectra"
   ]
  },
  {
   "cell_type": "code",
   "execution_count": 42,
   "metadata": {},
   "outputs": [],
   "source": [
    "\n",
    "\n",
    "soc_ghz, center_1_ghz, center_2_ghz = take_spectrum(pa, poi_name, folder_defect)\n",
    "\n",
    "line = f\"\\nsoc_ghz = {soc_ghz} GHz, \\ncenter_1_ghz = {center_1_ghz} GHz, \\ncenter_2_ghz = {center_2_ghz} GHz\\n\"\n",
    "with open(os.path.join(folder_defect, \"info.txt\"), \"a\") as f:\n",
    "    f.write(line)\n"
   ]
  },
  {
   "attachments": {},
   "cell_type": "markdown",
   "metadata": {},
   "source": [
    "### Estimate sigma factor"
   ]
  },
  {
   "cell_type": "code",
   "execution_count": 40,
   "metadata": {},
   "outputs": [
    {
     "name": "stdout",
     "output_type": "stream",
     "text": [
      "Factor sigma 1.0670191441665309\n"
     ]
    }
   ],
   "source": [
    "factor_sigma = check_factor_sigma()\n",
    "line = f\"\\nfactor_sigma = {factor_sigma}\\n\"\n",
    "with open(os.path.join(folder_defect, \"info.txt\"), \"a\") as f:\n",
    "    f.write(line)\n",
    "print(\"Factor sigma\", factor_sigma)"
   ]
  },
  {
   "attachments": {},
   "cell_type": "markdown",
   "metadata": {},
   "source": [
    "### Laser controls"
   ]
  },
  {
   "cell_type": "code",
   "execution_count": 234,
   "metadata": {},
   "outputs": [],
   "source": [
    "pa.one_pulse_repump(\"violet\")"
   ]
  },
  {
   "cell_type": "code",
   "execution_count": 204,
   "metadata": {},
   "outputs": [],
   "source": [
    "cobolt.disable_modulated()"
   ]
  },
  {
   "cell_type": "code",
   "execution_count": 272,
   "metadata": {},
   "outputs": [],
   "source": [
    "cobolt.enable_modulated()\n",
    "cobolt.set_laser_modulated_power(3)"
   ]
  },
  {
   "cell_type": "code",
   "execution_count": 270,
   "metadata": {},
   "outputs": [],
   "source": [
    "ibeam_smart.enable()"
   ]
  },
  {
   "cell_type": "code",
   "execution_count": 271,
   "metadata": {},
   "outputs": [],
   "source": [
    "ibeam_smart.disable()"
   ]
  },
  {
   "attachments": {},
   "cell_type": "markdown",
   "metadata": {},
   "source": [
    "### Write wavelength"
   ]
  },
  {
   "cell_type": "code",
   "execution_count": 34,
   "metadata": {},
   "outputs": [
    {
     "data": {
      "text/plain": [
       "0"
      ]
     },
     "execution_count": 34,
     "metadata": {},
     "output_type": "execute_result"
    }
   ],
   "source": [
    "high_finesse_wavemeter_remote.start_acquisition()"
   ]
  },
  {
   "cell_type": "code",
   "execution_count": 36,
   "metadata": {},
   "outputs": [
    {
     "name": "stdout",
     "output_type": "stream",
     "text": [
      "619.243386201822 nm\n"
     ]
    }
   ],
   "source": [
    "dd = 1\n",
    "w1 = high_finesse_wavemeter_remote.get_current_wavelength()\n",
    "# buf = high_finesse_wavemeter_remote._wavelength_buffer\n",
    "c = 299792458\n",
    "print(1e-3 * c / w1, \"nm\")\n",
    "\n",
    "line = f\"postition {dd} lambda = {1e-3 * c / w1} nm\\n\"\n",
    "\n",
    "with open(os.path.join(folder_defect, \"info.txt\"), \"a\") as f:\n",
    "    f.write(line)\n",
    "# np.savetxt(os.path.join(folder_defect, \"wavelength_buffer.txt\"), high_finesse_wavemeter_remote._wavelength_buffer)\n"
   ]
  },
  {
   "attachments": {},
   "cell_type": "markdown",
   "metadata": {},
   "source": [
    "### Write wavelength buffer"
   ]
  },
  {
   "cell_type": "code",
   "execution_count": 38,
   "metadata": {},
   "outputs": [],
   "source": [
    "np.savetxt(os.path.join(folder, \"WM_scan_wavelength_buffer.txt\"), \n",
    "           high_finesse_wavemeter_remote._wavelength_buffer)\n"
   ]
  },
  {
   "attachments": {},
   "cell_type": "markdown",
   "metadata": {},
   "source": [
    "### Automated ple"
   ]
  },
  {
   "cell_type": "code",
   "execution_count": 45,
   "metadata": {},
   "outputs": [
    {
     "ename": "NameError",
     "evalue": "name 'res' is not defined",
     "output_type": "error",
     "traceback": [
      "\u001b[1;31m---------------------------------------------------------------------------\u001b[0m",
      "\u001b[1;31mNameError\u001b[0m                                 Traceback (most recent call last)",
      "Cell \u001b[1;32mIn[45], line 5\u001b[0m\n\u001b[0;32m      2\u001b[0m \u001b[39mfor\u001b[39;00m power \u001b[39min\u001b[39;00m [\u001b[39m300\u001b[39m, \u001b[39m250\u001b[39m, \u001b[39m200\u001b[39m, \u001b[39m150\u001b[39m, \u001b[39m120\u001b[39m]:\n\u001b[0;32m      3\u001b[0m     pa\u001b[39m.\u001b[39mset_resonant_power(power)\n\u001b[0;32m      4\u001b[0m     res \u001b[39m=\u001b[39m pa\u001b[39m.\u001b[39mdo_ple_scan(lines \u001b[39m=\u001b[39m \u001b[39m1\u001b[39m, in_range\u001b[39m=\u001b[39m(\n\u001b[1;32m----> 5\u001b[0m         res[\u001b[39m\"\u001b[39m\u001b[39mcenter\u001b[39m\u001b[39m\"\u001b[39m]\u001b[39m.\u001b[39mvalue \u001b[39m-\u001b[39m SCAN_RANGE, res[\u001b[39m\"\u001b[39m\u001b[39mcenter\u001b[39m\u001b[39m\"\u001b[39m]\u001b[39m.\u001b[39mvalue \u001b[39m+\u001b[39m SCAN_RANGE))\n\u001b[0;32m      7\u001b[0m     line \u001b[39m=\u001b[39m \u001b[39mf\u001b[39m\u001b[39m\"\u001b[39m\u001b[39m\\n\u001b[39;00m\u001b[39mpower = \u001b[39m\u001b[39m{\u001b[39;00mpower\u001b[39m}\u001b[39;00m\u001b[39m\\n\u001b[39;00m\u001b[39m center = \u001b[39m\u001b[39m{\u001b[39;00mres[\u001b[39m'\u001b[39m\u001b[39mcenter\u001b[39m\u001b[39m'\u001b[39m]\u001b[39m.\u001b[39mvalue\u001b[39m}\u001b[39;00m\u001b[39m\\n\u001b[39;00m\u001b[39m sigma = \u001b[39m\u001b[39m{\u001b[39;00mres[\u001b[39m'\u001b[39m\u001b[39msigma\u001b[39m\u001b[39m'\u001b[39m]\u001b[39m.\u001b[39mvalue\u001b[39m}\u001b[39;00m\u001b[39m\\n\u001b[39;00m\u001b[39m scan_range = SCAN_RANGE\u001b[39m\u001b[39m\\n\u001b[39;00m\u001b[39m violet repump\u001b[39m\u001b[39m\\n\u001b[39;00m\u001b[39m\\n\u001b[39;00m\u001b[39m\"\u001b[39m\n\u001b[0;32m      8\u001b[0m     \u001b[39mwith\u001b[39;00m \u001b[39mopen\u001b[39m(os\u001b[39m.\u001b[39mpath\u001b[39m.\u001b[39mjoin(folder_defect, \u001b[39m\"\u001b[39m\u001b[39mple_scans.txt\u001b[39m\u001b[39m\"\u001b[39m), \u001b[39m\"\u001b[39m\u001b[39ma\u001b[39m\u001b[39m\"\u001b[39m) \u001b[39mas\u001b[39;00m f:\n",
      "\u001b[1;31mNameError\u001b[0m: name 'res' is not defined"
     ]
    }
   ],
   "source": [
    "SCAN_RANGE = 1000\n",
    "for power in [300, 250, 200, 150, 120]:\n",
    "    pa.set_resonant_power(power)\n",
    "    res = pa.do_ple_scan(lines = 1, in_range=(\n",
    "        res[\"center\"].value - SCAN_RANGE, res[\"center\"].value + SCAN_RANGE))\n",
    "    \n",
    "    line = f\"\\npower = {power}\\n center = {res['center'].value}\\n sigma = {res['sigma'].value}\\n scan_range = SCAN_RANGE\\n violet repump\\n\\n\"\n",
    "    with open(os.path.join(folder_defect, \"ple_scans.txt\"), \"a\") as f:\n",
    "        f.write(line)\n",
    "    pa.save_ple(tag = f\"power_{power}\", \n",
    "                poi_name=poi_name, folder_name=folder_defect)\n",
    "    if not ple_is_here():\n",
    "        print(\"Last power\", power)\n",
    "        last_power = power\n",
    "        break\n",
    "\n",
    "\n",
    "cobolt.disable_modulated()\n",
    "for power in np.linspace(last_power, 100, 3, endpoint=True):\n",
    "    pa.go_to_ple_target(res[\"center\"].value)\n",
    "    pa.set_resonant_power(power)\n",
    "    pa.one_pulse_repump(\"violet\", power=0.2)\n",
    "    res = pa.do_ple_scan(lines = 1, in_range=(\n",
    "        res[\"center\"].value - SCAN_RANGE, res[\"center\"].value + SCAN_RANGE))\n",
    "    pa.save_ple(tag = f\"power_{power}_norepump\", \n",
    "                poi_name=poi_name, folder_name=folder_defect)\n",
    "    \n",
    "    line = f\"\\npower = {power}\\n center = {res['center'].value}\\n sigma = {res['sigma'].value}\\n scan_range = SCAN_RANGE\\n no violet repump\\n\\n\"\n",
    "    with open(os.path.join(folder_defect, \"ple_scan_power_{power}.txt\"), \"a\") as f:\n",
    "        f.write(line)\n",
    "    if not ple_is_here(rsquared_bound=0.2):\n",
    "        print(\"Last power\", power)\n",
    "        break\n"
   ]
  },
  {
   "cell_type": "code",
   "execution_count": 129,
   "metadata": {},
   "outputs": [],
   "source": [
    "cobolt.enable_modulated()\n",
    "cobolt.set_laser_modulated_power(1)"
   ]
  },
  {
   "cell_type": "code",
   "execution_count": 128,
   "metadata": {},
   "outputs": [],
   "source": [
    "laser_controller_remote.etalon_voltage =  -7.4"
   ]
  },
  {
   "cell_type": "code",
   "execution_count": 120,
   "metadata": {},
   "outputs": [
    {
     "data": {
      "text/plain": [
       "-7.4"
      ]
     },
     "execution_count": 120,
     "metadata": {},
     "output_type": "execute_result"
    }
   ],
   "source": [
    "laser_controller_remote.etalon_voltage"
   ]
  },
  {
   "cell_type": "code",
   "execution_count": 207,
   "metadata": {},
   "outputs": [],
   "source": [
    "cobolt.disable_modulated()"
   ]
  },
  {
   "cell_type": "code",
   "execution_count": 220,
   "metadata": {},
   "outputs": [],
   "source": [
    "cobolt.on_deactivate()"
   ]
  },
  {
   "cell_type": "code",
   "execution_count": 225,
   "metadata": {},
   "outputs": [],
   "source": [
    "cobolt.enable_modulated()"
   ]
  },
  {
   "cell_type": "code",
   "execution_count": 224,
   "metadata": {},
   "outputs": [],
   "source": [
    "cobolt.portOpen()"
   ]
  },
  {
   "cell_type": "code",
   "execution_count": 4,
   "metadata": {},
   "outputs": [
    {
     "data": {
      "text/plain": [
       "b'619.2360266 + 0.001 * sin(t)'"
      ]
     },
     "execution_count": 4,
     "metadata": {},
     "output_type": "execute_result"
    }
   ],
   "source": [
    "high_finesse_wavemeter_remote._wavemeter.get_reference_course(channel=2)"
   ]
  },
  {
   "cell_type": "code",
   "execution_count": null,
   "metadata": {},
   "outputs": [],
   "source": [
    "high_finesse_wavemeter_remote._wavemeter.set_regulation_mode(mode=False)\n"
   ]
  },
  {
   "cell_type": "code",
   "execution_count": 61,
   "metadata": {},
   "outputs": [],
   "source": []
  },
  {
   "attachments": {},
   "cell_type": "markdown",
   "metadata": {},
   "source": [
    "# Automated"
   ]
  },
  {
   "attachments": {},
   "cell_type": "markdown",
   "metadata": {},
   "source": [
    "- [ ] Add power measurements\n",
    "- [ ] Add info about repump to the save file\n",
    "- [ ] Skip the defect if nothing found\n",
    "- [ ] Adjust the polarization\n",
    "- [ ] Measuring the g2\n",
    "- [ ] Measuring the pulse to estimate T1"
   ]
  },
  {
   "cell_type": "code",
   "execution_count": 155,
   "metadata": {},
   "outputs": [],
   "source": [
    "tagger.tagger.setConditionalFilter(trigger=[1, 2], filtered=[5])"
   ]
  },
  {
   "cell_type": "code",
   "execution_count": 161,
   "metadata": {},
   "outputs": [],
   "source": [
    "motordriver_pi3.moveRelative(motor=0, pos=50)"
   ]
  },
  {
   "cell_type": "code",
   "execution_count": 136,
   "metadata": {},
   "outputs": [],
   "source": [
    "polarization_counts = []\n",
    "polarization_angles = np.linspace(0, 360, 19, endpoint=True)\n",
    "pa.optimize_ple()\n",
    "for angle in polarization_angles:\n",
    "    motordriver_pi3.moveRelative(motor=0, pos=angle)\n",
    "    time.sleep(1)\n",
    "    pa.optimize_ple()\n",
    "    time.sleep(0.2)\n",
    "    counts = timetaggerlogic.counter.getData().mean(axis=0)[:-30].mean() * 100\n",
    "    for i in range(3):\n",
    "        pa.optimize_ple()\n",
    "        time.sleep(0.2)\n",
    "        counts += timetaggerlogic.counter.getData().mean(axis=0)[:-30].mean() * 100\n",
    "    polarization_counts.append(counts / 4)"
   ]
  },
  {
   "cell_type": "code",
   "execution_count": 82,
   "metadata": {},
   "outputs": [
    {
     "data": {
      "text/plain": [
       "47037.9673"
      ]
     },
     "execution_count": 82,
     "metadata": {},
     "output_type": "execute_result"
    }
   ],
   "source": [
    "switchlogic.set_state(\"Excitation\", 'On')\n",
    "get_optical_power()"
   ]
  },
  {
   "cell_type": "code",
   "execution_count": null,
   "metadata": {},
   "outputs": [],
   "source": [
    "repump_power_405 = 0.3"
   ]
  },
  {
   "attachments": {},
   "cell_type": "markdown",
   "metadata": {},
   "source": [
    "## Automation refactored"
   ]
  },
  {
   "cell_type": "code",
   "execution_count": 158,
   "metadata": {},
   "outputs": [],
   "source": [
    "settings_confocal_refocus(sequence=\"xy, z\", scan_resolution=20, scan_frequency=50)"
   ]
  },
  {
   "cell_type": "code",
   "execution_count": 171,
   "metadata": {},
   "outputs": [],
   "source": [
    "import os\n",
    "\n",
    "SCAN_RANGE = 1000\n",
    "LARGE_SCAN_RANGE = 5000\n",
    "c = 299792458\n",
    "\n",
    "def setup_wavemeter_scan():\n",
    "    high_finesse_wavemeter_remote._wavemeter.set_regulation_mode(mode=True)\n",
    "    switchlogic.set_state(\"ScanningMode\", 'Wavemeter')\n",
    "    cobolt.set_laser_modulated_power(1)\n",
    "    cobolt.enable_modulated()\n",
    "    ibeam_smart.disable()\n",
    "    pa.set_resonant_power(300)\n",
    "\n",
    "def disable_wavemeter_scan():\n",
    "    high_finesse_wavemeter_remote._wavemeter.set_regulation_mode(mode=False)\n",
    "    switchlogic.set_state(\"ScanningMode\", 'NI')\n",
    "\n",
    "def create_directory(directory_name):\n",
    "    os.makedirs(directory_name, exist_ok=True)\n",
    "    return directory_name\n",
    "\n",
    "def append_to_file(file_path, content):\n",
    "    with open(file_path, \"a\") as f:\n",
    "        f.write(content)\n",
    "\n",
    "def find_defect_center():\n",
    "    res_center = None\n",
    "    for i in range(3):\n",
    "        res = pa.do_ple_scan(lines=1)\n",
    "        if ple_is_here(rsquared_bound=0.9):\n",
    "\n",
    "            break\n",
    "        if not ple_is_here(rsquared_bound=0.5):\n",
    "            search_with_wavemeter_scan()\n",
    "        if res_center is None:\n",
    "            res_center = res[\"center\"].value\n",
    "        else:\n",
    "            res_center = (res_center + res[\"center\"].value) / 2\n",
    "\n",
    "\n",
    "    return res_center\n",
    "\n",
    "def search_with_wavemeter_scan():\n",
    "    setup_wavemeter_scan()\n",
    "    settings_confocal_refocus(sequence=\"xy, z\", scan_resolution=30, scan_frequency=5)\n",
    "    confocal_refocus(opt_times=2)\n",
    "    disable_wavemeter_scan()\n",
    "\n",
    "\n",
    "def save_ple_data_and_optimize(poi_name, folder_defect, res_center):\n",
    "    pa.save_ple(tag=f\"ple_scan_{i}\", poi_name=poi_name, folder_name=folder_defect)\n",
    "    pa.go_to_ple_target(res_center)\n",
    "    ple_refocus(pa, scan_range=4000, scan_frequency=500)\n",
    "\n",
    "    wavelength = 1e-3 * c / high_finesse_wavemeter_remote.get_current_wavelength()\n",
    "    append_to_file(os.path.join(folder_defect, \"info.txt\"), f\"lambda = {wavelength} nm\\n\")\n",
    "\n",
    "    #optimize in resonance\n",
    "    ple_refocus(pa, scan_range=LARGE_SCAN_RANGE, scan_frequency=500)\n",
    "    settings_confocal_refocus(sequence=\"xy, z\", scan_resolution=20, scan_frequency=50, scan_range_xy=1e-6)\n",
    "    confocal_refocus(opt_times=1)\n",
    "    ple_refocus(pa, scan_range=LARGE_SCAN_RANGE, scan_frequency=500)    \n",
    "    settings_confocal_refocus(sequence=\"xy, z\", scan_resolution=20, scan_frequency=50, scan_range_xy=1e-6)\n",
    "    confocal_refocus(opt_times=1)\n",
    "    res = pa.do_ple_scan(lines = 1, in_range=(res_center - LARGE_SCAN_RANGE, res_center + LARGE_SCAN_RANGE))\n",
    "    res_center = res[\"center\"].value\n",
    "\n",
    "def perform_ple_measurements(poi_name, folder_defect, res_center):\n",
    "    for power in [300, 250, 200, 180, 160]:\n",
    "        power_folder = create_directory(os.path.join(folder_defect, f\"{power}\"))\n",
    "        pa.set_resonant_power(power)\n",
    "        cobolt.set_laser_modulated_power(repump_power_405)\n",
    "        cobolt.enable_modulated()\n",
    "        ibeam_smart.disable()\n",
    "\n",
    "        res = pa.do_ple_scan(lines=1, in_range=(res_center - LARGE_SCAN_RANGE, res_center + LARGE_SCAN_RANGE))\n",
    "        ple_params = f\"\\npower = {power}\\n center = {res['center'].value}\\n sigma = {res['sigma'].value}\\n sigma_err = {res['sigma'].stderr}\\nscan_range = {LARGE_SCAN_RANGE}\\n violet repump\\n\\n\"\n",
    "        append_to_file(os.path.join(power_folder, f\"ple_scan_power_{power}.txt\"), ple_params)\n",
    "\n",
    "        pa.save_ple(tag=f\"power_{power}\", poi_name=poi_name, folder_name=power_folder)\n",
    "\n",
    "        res_ = pa.do_ple_scan(lines=1, in_range=(res_center - SCAN_RANGE, res_center + SCAN_RANGE))\n",
    "        ple_params = f\"\\npower = {power}\\n center = {res_['center'].value}\\n sigma = {res_['sigma'].value}\\n sigma_err = {res_['sigma'].stderr}\\nscan_range = {SCAN_RANGE}\\n violet repump\\n\\n\"\n",
    "        append_to_file(os.path.join(power_folder, f\"ple_scan_power_{power}.txt\"), ple_params)\n",
    "\n",
    "        pa.save_ple(tag=f\"power_{power}\", poi_name=poi_name, folder_name=power_folder)\n",
    "\n",
    "\n",
    "        if power <= 200:\n",
    "            ple_gui._mw.frequencyDoubleSpinBox.setValue(350)\n",
    "            ple_gui._mw.resolutionDoubleSpinBox.setValue(2000)\n",
    "\n",
    "            # Prescan repump\n",
    "            ple_gui._mw.Pulsed_widget.prescan_checkBox.setChecked(True)\n",
    "            res = pa.do_ple_scan(lines=10, in_range=(res_center - SCAN_RANGE, res_center + SCAN_RANGE))\n",
    "            pa.save_ple(tag=f\"power_{power}_prescan_repump\", poi_name=poi_name, folder_name=power_folder)\n",
    "\n",
    "           \n",
    "            ple_params = f\"PRE_SCAN_REPUMP:\\npower = {power}\\n center = {res['center'].value}\\n sigma = {res['sigma'].value}\\n sigma_err = {res['sigma'].stderr}\\nscan_range = {SCAN_RANGE}\\n violet repump\\n\\n\"\n",
    "            with open(os.path.join(power_folder, f\"ple_scan_power_{power}.txt\"), \"a\") as f:\n",
    "                f.write(ple_params)\n",
    "\n",
    "            #no repump\n",
    "            ple_gui._mw.Pulsed_widget.prescan_checkBox.setChecked(False)\n",
    "            cobolt.disable_modulated()\n",
    "            res = pa.do_ple_scan(lines = 10, in_range=(\n",
    "                res_center - SCAN_RANGE, res_center + SCAN_RANGE))\n",
    "            pa.save_ple(tag = f\"power_{power}_NO_repump\", \n",
    "                        poi_name=poi_name, folder_name=power_folder)\n",
    "            ple_params = f\"NO_REPUMP:\\npower = {power}\\n center = {res['center'].value}\\n sigma = {res['sigma'].value}\\n sigma_err = {res['sigma'].stderr}\\nscan_range = {SCAN_RANGE}\\n violet repump\\n\\n\"\n",
    "            with open(os.path.join(power_folder, f\"ple_scan_power_{power}.txt\"), \"a\") as f:\n",
    "                f.write(ple_params)\n",
    "\n",
    "\n",
    "def take_and_save_spectrum(poi_name, folder_defect):\n",
    "    os.makedirs(spectrum_folder := os.path.join(folder_defect, f\"spectrum\"), exist_ok=True)\n",
    "    soc_ghz, center_1_ghz, center_2_ghz = take_spectrum(pa, poi_name, spectrum_folder)\n",
    "\n",
    "    line = f\"\\nsoc_ghz = {soc_ghz} GHz, \\ncenter_1_ghz = {center_1_ghz} GHz, \\ncenter_2_ghz = {center_2_ghz} GHz\\n\"\n",
    "    with open(os.path.join(folder_defect, \"info.txt\"), \"a\") as f:\n",
    "        f.write(line)"
   ]
  },
  {
   "cell_type": "code",
   "execution_count": 172,
   "metadata": {},
   "outputs": [],
   "source": [
    "for poi_name in poi_manager_logic.poi_names:\n",
    "    pa.go_to_poi(poi_name, ref_poi=None)\n",
    "    folder_defect = create_directory(os.path.join(folder, poi_name))\n",
    "\n",
    "    search_with_wavemeter_scan()\n",
    "\n",
    "    res_center = find_defect_center()\n",
    "\n",
    "    save_ple_data_and_optimize(poi_name, folder_defect, res_center)\n",
    "\n",
    "    factor_sigma = check_factor_sigma()\n",
    "    append_to_file(os.path.join(folder_defect, \"info.txt\"), f\"\\nfactor_sigma = {factor_sigma}\\n\")\n",
    "\n",
    "    perform_ple_measurements(poi_name, folder_defect, res_center)\n",
    "\n",
    "    #take spectrum\n",
    "    take_and_save_spectrum(poi_name, folder_defect)"
   ]
  },
  {
   "attachments": {},
   "cell_type": "markdown",
   "metadata": {},
   "source": [
    "# Wavemeter play around"
   ]
  },
  {
   "cell_type": "code",
   "execution_count": 3,
   "metadata": {},
   "outputs": [
    {
     "data": {
      "text/plain": [
       "<qudi.hardware.wavemeter.high_finesse_wavemeter.HighFinesseWavemeter(0x1d363b23e70) at 0x000001D367AA42C0>"
      ]
     },
     "execution_count": 3,
     "metadata": {},
     "output_type": "execute_result"
    }
   ],
   "source": [
    "high_finesse_wavemeter_remote._wavemeter"
   ]
  },
  {
   "cell_type": "code",
   "execution_count": 16,
   "metadata": {},
   "outputs": [],
   "source": [
    "cobolt.set_laser_modulated_power(0.002)"
   ]
  },
  {
   "cell_type": "code",
   "execution_count": 17,
   "metadata": {},
   "outputs": [],
   "source": [
    "cobolt.enable_modulated()"
   ]
  },
  {
   "cell_type": "code",
   "execution_count": 19,
   "metadata": {},
   "outputs": [],
   "source": [
    "cobolt.disable_modulated()"
   ]
  },
  {
   "cell_type": "code",
   "execution_count": 9,
   "metadata": {},
   "outputs": [],
   "source": [
    "pa.one_pulse_repump(\"violet\", power=0.1)"
   ]
  },
  {
   "cell_type": "code",
   "execution_count": 29,
   "metadata": {},
   "outputs": [],
   "source": [
    "ibeam_smart.setPower(100)"
   ]
  },
  {
   "cell_type": "code",
   "execution_count": 22,
   "metadata": {},
   "outputs": [],
   "source": [
    "ibeam_smart.enable()"
   ]
  },
  {
   "cell_type": "code",
   "execution_count": 3,
   "metadata": {},
   "outputs": [],
   "source": []
  },
  {
   "cell_type": "code",
   "execution_count": null,
   "metadata": {},
   "outputs": [],
   "source": [
    "while True:\n",
    "    time.sleep(10)\n",
    "    switchlogic.set_state(\"Laser405nm\", \"On\")\n",
    "    switchlogic.set_state(\"Laser405nm\", \"On\")\n",
    "    "
   ]
  }
 ],
 "metadata": {
  "kernelspec": {
   "display_name": "qudi",
   "language": "python",
   "name": "qudi"
  },
  "language_info": {
   "codemirror_mode": {
    "name": "ipython",
    "version": 3
   },
   "file_extension": ".py",
   "mimetype": "text/x-python",
   "name": "python",
   "nbconvert_exporter": "python",
   "pygments_lexer": "ipython3",
   "version": "3.9.12"
  },
  "orig_nbformat": 4
 },
 "nbformat": 4,
 "nbformat_minor": 2
}
