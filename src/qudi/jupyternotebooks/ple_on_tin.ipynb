{
 "cells": [
  {
   "cell_type": "code",
   "execution_count": 1,
   "metadata": {},
   "outputs": [],
   "source": [
    "#INITIALIZA THE FUNCTIONS \n",
    "#%%\n",
    "#import the necessary packages\n",
    "import automatization\n",
    "from automatization.ple_statistics import PleAuto\n",
    "import pandas as pd\n",
    "import os\n",
    "import time\n",
    "import json\n",
    "from importlib import reload\n",
    "import numpy as np\n",
    "from automatization.ple_statistics import PleAuto\n",
    "from matplotlib import pyplot as plt\n",
    "reload(automatization.ple_statistics)\n",
    "from automatization.ple_statistics import PleAuto\n",
    "from scipy.constants import speed_of_light\n",
    "import pickle\n",
    "from pathlib import Path\n",
    "\n",
    "import sys\n",
    "\n",
    "sys.setrecursionlimit(10000)\n",
    "\n",
    "pa = PleAuto(\n",
    "    ple_gui, \n",
    "    ple_optimize_logic, \n",
    "    laser_scanner_logic,\n",
    "    poi_manager_logic, \n",
    "    scanning_optimize_logic,\n",
    "    spectrometer,  \n",
    "    \n",
    "    spectrometerlogic,\n",
    "    cobolt,\n",
    "    ibeam_smart\n",
    ")\n",
    "\n",
    "# def ple_is_here(res, center_sigma = 3e3, amplitude = 1000, sigma_stderr_ratio = 4, amplitude_stderr_ratio=3):\n",
    "#     \"\"\"Check if the ple is still there.\"\"\"\n",
    "#     it_is = True\n",
    "#     if res[\"center\"].stderr is None or res[\"sigma\"].stderr is None or res[\"sigma\"].value is None:\n",
    "#         return False\n",
    "#     if ( res[\"center\"].stderr > center_sigma or \n",
    "#     res[\"sigma\"].stderr * sigma_stderr_ratio > res[\"sigma\"].value or \n",
    "#     res[\"amplitude\"].stderr * amplitude_stderr_ratio > res[\"amplitude\"].value or\n",
    "#     res[\"amplitude\"].value < amplitude): \n",
    "#         #ple is gone.\n",
    "#         return False\n",
    "\n",
    "#     return it_is\n",
    "def ple_is_here(rsquared_bound = 0.5):\n",
    "    \"\"\"Check if the ple is still there.\"\"\"\n",
    "    \n",
    "    if ple_gui.fit_result[1].rsquared < rsquared_bound:\n",
    "        print(\"NO, PLE\", ple_gui.fit_result[1].rsquared )\n",
    "        return False\n",
    "    \n",
    "    else:\n",
    "        return True\n",
    "\n",
    "\n",
    "def adjust_eta(pa, poi_name, folder_defect, results_poi, center_v):\n",
    "    \"\"\"Adjust the etalon voltage to get the best fit.\"\"\"\n",
    "    # ple_gui._osd.settings_widget.optimize_sequence_combobox.setCurrentIndex(seqs[\"a\"])\n",
    "    ple_gui._mw.frequencyDoubleSpinBox.setValue(1000)\n",
    "    \n",
    "    eta_volts = [center_v, center_v + 0.2, center_v + 0.4, center_v + 0.6, center_v - 0.2, center_v - 0.4,  center_v - 0.6]\n",
    "    r_squared = []\n",
    "    for eta_v in eta_volts:\n",
    "        laser_controller_remote.etalon_voltage = eta_v\n",
    "        time.sleep(0.5)\n",
    "        res = pa.do_ple_scan(lines = 1)\n",
    "        time.sleep(0.5)\n",
    "        r_squared.append(ple_gui.fit_result[1].rsquared)\n",
    "    results_poi[\"eta_voltage\"] = eta_volts[r_squared.index(max(r_squared))]\n",
    "    laser_controller_remote.etalon_voltage = eta_volts[r_squared.index(max(r_squared))]\n",
    "    res = pa.do_ple_scan(lines = 1)\n",
    "    pa.save_ple(tag = \"full_range_eta_adjusted\",\n",
    "                poi_name=poi_name, folder_name=folder_defect)\n",
    "\n",
    "    ple_gui._mw.frequencyDoubleSpinBox.setValue(250)\n",
    "    return res, results_poi\n",
    "def ple_refocus(pa, opt_times = 1, \n",
    "                scan_frequency=200, \n",
    "                scan_resolution=500,\n",
    "                scan_range = 5000):\n",
    "    \n",
    "    seqs = {str(seq): idx for idx, seq in enumerate(ple_gui._osd.settings_widget.available_opt_sequences)}\n",
    "    ple_gui._osd.settings_widget.optimize_sequence_combobox.setCurrentIndex(seqs[\"a\"])\n",
    "    ple_gui._osd.change_settings({'scan_frequency': {\"a\": scan_frequency},\n",
    "                                    \"scan_resolution\": {\"a\":scan_resolution},\n",
    "                                    \"scan_range\": {\"a\": scan_range}}) #GHz\n",
    "\n",
    "    ple_gui._osd.accept()\n",
    "    time.sleep(0.8)\n",
    "    pa.optimize_ple()\n",
    "    return res\n",
    "def settings_confocal_refocus(sequence = \"xy, z\", scan_range_xy= 1e-6, scan_resolution = 25, scan_frequency = 25):\n",
    "    seqs = {str(seq): idx for idx, seq in enumerate(scanner_gui._osd.settings_widget.available_opt_sequences)}\n",
    "    scanner_gui._osd.settings_widget.optimize_sequence_combobox.setCurrentIndex(seqs[sequence])\n",
    "    scanner_gui._osd.change_settings({'scan_frequency': {\"x\": scan_frequency, \"y\": scan_frequency, \"z\": scan_frequency},\n",
    "                                    \"scan_resolution\": {\"x\": scan_resolution, \"y\": scan_resolution, \"z\":80},\n",
    "                                    \"scan_range\": {\"x\": scan_range_xy, \"y\": scan_range_xy, \"z\": 4e-6}})\n",
    "\n",
    "    scanner_gui._osd.accept()\n",
    "    time.sleep(0.5)\n",
    "\n",
    "\n",
    "def settings_confocal_refocus_coarse():\n",
    "    seqs = {str(seq): idx for idx, seq in enumerate(scanner_gui._osd.settings_widget.available_opt_sequences)}\n",
    "    scanner_gui._osd.settings_widget.optimize_sequence_combobox.setCurrentIndex(seqs[\"x, y, z\"])\n",
    "\n",
    "    scanner_gui._osd.change_settings({'scan_frequency': {\"x\": 5, \"y\": 5, \"z\": 5},\n",
    "                                    \"scan_resolution\": {\"x\": 80, \"y\": 80, \"z\":80},\n",
    "                                    \"scan_range\": {\"x\": 2.5e-6, \"y\": 2.5e-6, \"z\": 4.5e-6}})\n",
    "    scanner_gui._osd.accept()\n",
    "    time.sleep(0.5)\n",
    "\n",
    "def confocal_refocus(opt_times=2):\n",
    "    for i in range(opt_times):\n",
    "        scanning_optimize_logic.start_optimize()\n",
    "        while scanning_optimize_logic.module_state()=='locked':\n",
    "            time.sleep(0.5)\n",
    "    time.sleep(0.5)\n",
    "#find the defect:\n",
    "def find_the_defect(pa, poi_name, folder_defect):\n",
    "    ple_gui._mw.frequencyDoubleSpinBox.setValue(1000)\n",
    "    switchlogic.set_state(\"ScanningMode\", 'Wavemeter')\n",
    "    pa.set_resonant_power(power = 300)\n",
    "    cobolt.enable_modulated()\n",
    "    cobolt.set_laser_modulated_power(2)\n",
    "    time.sleep(1)\n",
    "    settings_confocal_refocus_coarse()\n",
    "    confocal_refocus(opt_times=2)\n",
    "\n",
    "    \n",
    "    switchlogic.set_state(\"ScanningMode\", 'NI')\n",
    "    time.sleep(0.5)\n",
    "    #Check how the PLE look like\n",
    "    res = pa.do_ple_scan(lines = 1)\n",
    "\n",
    "    #configure slow scanning for the wavemeter scanning optimizations\n",
    "    for kk in range(3):\n",
    "        if not ple_is_here():\n",
    "            switchlogic.set_state(\"ScanningMode\", 'Wavemeter')\n",
    "            time.sleep(0.5)\n",
    "            settings_confocal_refocus_coarse()\n",
    "            confocal_refocus(opt_times=1)\n",
    "            #Check how the PLE look like\n",
    "            time.sleep(0.5)\n",
    "            switchlogic.set_state(\"ScanningMode\", 'NI')\n",
    "            res = pa.do_ple_scan(lines = 1)\n",
    "            time.sleep(0.5)\n",
    "            pa.save_ple(tag = \"full_range_iter_{kk}\",\n",
    "                    poi_name=poi_name, folder_name=folder_defect)\n",
    "            time.sleep(0.5)\n",
    "        else:\n",
    "            break\n",
    "\n",
    "    pa.save_ple(tag = \"full_range\",\n",
    "            poi_name=poi_name, \n",
    "            folder_name=folder_defect)\n",
    "    time.sleep(0.2)\n",
    "    ple_gui._mw.frequencyDoubleSpinBox.setValue(250)\n",
    "    return res\n",
    "\n",
    "def take_spectrum(pa, poi_name, folder_defect):\n",
    "    # take spectrum to estimate SOC\n",
    "    pa.set_resonant_power(power = 0)\n",
    "    time.sleep(2)\n",
    "    ibeam_smart.setPower(60000)\n",
    "    ibeam_smart.enable()\n",
    "    cobolt.enable_modulated()\n",
    "    cobolt.set_laser_modulated_power(power = 100)\n",
    "    pa.set_resonant_power(power = 0)\n",
    "    time.sleep(1)\n",
    "    pa.take_spectrum()\n",
    "\n",
    "    \n",
    "    \n",
    "    time.sleep(1)\n",
    "    spectrometer._mw.data_widget.fit_widget.sigDoFit.emit(\"DoubleLorentzian\")\n",
    "    time.sleep(1)\n",
    "    pa.save_spectrum(name_tag=f\"{poi_name}_blueNgreen\", folder_path=folder_defect)\n",
    "    # spectrometer.fit_results.params[\"center_1\"].value\n",
    "    if spectrometer.fit_results is not None:\n",
    "        params = spectrometer.fit_results.params\n",
    "        soc_ghz = float(speed_of_light / params[\"center_2\"].value - speed_of_light / params[\"center_1\"].value)\n",
    "        center_1_ghz = float(params[\"center_1\"].value)\n",
    "        center_2_ghz = float(params[\"center_2\"].value)\n",
    "    ibeam_smart.disable()\n",
    "    ibeam_smart.setPower(3000)\n",
    "    #cobolt.disable_modulated()\n",
    "    time.sleep(0.1)\n",
    "    # results_poi[\"spectrum_fit_data\"] = spectrometer.fit_results.best_fit\n",
    "    cobolt.enable_modulated()\n",
    "    cobolt.set_laser_modulated_power(power = 2)\n",
    "    pa.set_resonant_power(power = 300)    \n",
    "    time.sleep(1)\n",
    "    return soc_ghz, center_1_ghz, center_2_ghz\n",
    "# Perform the saturation measurement\n",
    "\n",
    "def fine_optimize(pa, poi_name, folder_defect, results_poi):\n",
    "    res = pa.do_ple_scan(lines = 1)\n",
    "    pa.go_to_ple_target(res[\"center\"].value)\n",
    "    ple_refocus(pa, scan_range=4000, scan_frequency=500)\n",
    "    settings_confocal_refocus_fine()\n",
    "    confocal_refocus(opt_times=1)\n",
    "    ple_refocus(pa, scan_range=4000, scan_frequency=500)\n",
    "    confocal_refocus(opt_times=1)\n",
    "    res = pa.do_ple_scan(lines = 1)\n",
    "    pa.go_to_ple_target(res[\"center\"].value)\n",
    "    results_poi[\"center\"] = res[\"center\"].value\n",
    "    \n",
    "    results_poi[\"center_λ\"] = high_finesse_wavemeter_remote.get_current_wavelength()\n",
    "    pa.save_ple(tag = \"full_range_optimized\",\n",
    "            poi_name=poi_name, \n",
    "            folder_name=folder_defect)\n",
    "    return res, results_poi\n",
    "\n",
    "def run_saturation_measurement(pa, res, poi_name, folder_defect, results_poi, large_sigma = 4000, small_sigma = 300, power_steps = None, low_power_steps = None, repumped_power = 100, no_repump_power = 150):\n",
    "    ple_gui._mw.frequencyDoubleSpinBox.setValue(500)\n",
    "\n",
    "    os.makedirs(saturation_folder := os.path.join(folder_defect, \"saturation\"), exist_ok=True)\n",
    "    results_poi[\"saturation\"] = {}\n",
    "    idx_no_ple = None\n",
    "    res_old = res\n",
    "    if power_steps is None:\n",
    "        power_steps = 3 * np.logspace(1.5, 2, 10, endpoint=True).astype(int)[::-1]\n",
    "    if low_power_steps is None:\n",
    "        low_power_steps = np.array([85, 78, 70, 65, 60])\n",
    "    power_steps = np.append(power_steps,low_power_steps)\n",
    "    zero_range = (\n",
    "                res[\"center\"].value - large_sigma,\n",
    "                res[\"center\"].value + large_sigma\n",
    "            )\n",
    "    res = pa.do_ple_scan(lines = 1, in_range=zero_range)\n",
    "    for idx, power in enumerate(power_steps):\n",
    "        os.makedirs(power_folder := os.path.join(saturation_folder, f\"{power}\"), exist_ok=True)\n",
    "        \n",
    "        if power > repumped_power: \n",
    "            cobolt.enable_modulated()\n",
    "            pa.set_resonant_power(power = power)\n",
    "            time.sleep(1)\n",
    "            #align twice\n",
    "            # for i in range(2)\n",
    "            \n",
    "            fine_range = (\n",
    "                res[\"center\"].value - small_sigma,\n",
    "                res[\"center\"].value + small_sigma\n",
    "            )\n",
    "            if res[\"center\"].value is None or res[\"sigma\"].value is None or not ple_is_here(rsquared_bound=0.2):\n",
    "                res = pa.do_ple_scan(lines = 1, in_range=zero_range)\n",
    "                \n",
    "                if not ple_is_here(rsquared_bound=0.2):\n",
    "                    continue\n",
    "            res = pa.do_ple_scan(lines = 1, in_range=fine_range)\n",
    "            # if abs(res_old[\"center\"].value - res[\"center\"].value) > res_old[\"sigma\"].value*2:\n",
    "            #     res = res_old\n",
    "            # else:s\n",
    "            #     res_old = res\n",
    "            pa.save_ple(tag = f\"{power}\",\n",
    "                poi_name=poi_name, folder_name=power_folder)\n",
    "\n",
    "            results_poi.update({\"saturation\": \n",
    "                            {f\"{power}_repump\":\n",
    "                                {\"scan_data\": ple_data_logic.last_saved_files_paths,\n",
    "                                \"sigma\": res[\"sigma\"].value,\n",
    "                                \"sigma_stderr\": res[\"sigma\"].stderr,\n",
    "                                \"center\": res[\"center\"].value\n",
    "                                }\n",
    "                                }})\n",
    "        if (power < no_repump_power):\n",
    "            os.makedirs(power_folder_norepump := os.path.join(power_folder, f\"no_repump\"), exist_ok=True)\n",
    "            # check with initioalization\n",
    "            cobolt.disable_modulated()\n",
    "            pa.one_pulse_repump(\"violet\")\n",
    "            for i in range(3):\n",
    "                pa.one_pulse_repump(\"violet\")\n",
    "                res_ = pa.do_ple_scan(lines = 1, in_range=fine_range)\n",
    "                if not ple_is_here(rsquared_bound=0.4):\n",
    "                    continue\n",
    "            if not ple_is_here(rsquared_bound=0.4):\n",
    "                    continue\n",
    "            res_ = pa.do_ple_scan(lines = 5, in_range=fine_range)\n",
    "            print(\"Saving no repump\")\n",
    "            pa.save_ple(tag = f\"{power}_norepump\",\n",
    "                poi_name=poi_name, folder_name=power_folder_norepump)\n",
    "            results_poi.update({\"saturation\": \n",
    "                            {f\"{power}_norepump\":\n",
    "                                {\"scan_data\": ple_data_logic.last_saved_files_paths,\n",
    "                                \"sigma\": res_[\"sigma\"].value,\n",
    "                                \"sigma_stderr\": res_[\"sigma\"].stderr,\n",
    "                                \"center\": res_[\"center\"].value\n",
    "                                }\n",
    "                                }})\n",
    "        if power <= 40:\n",
    "            breaks\n",
    "\n",
    "            #save_plots\n",
    "    return results_poi\n",
    "\n",
    "def check_factor_sigma():\n",
    "    # constraints\n",
    "    scan_range_constr = laser_scanner_logic.scan_ranges[\"a\"] \n",
    "    pa.go_to_ple_target(scan_range_constr[0])\n",
    "    time.sleep(5)\n",
    "    w1 = high_finesse_wavemeter_remote.get_current_wavelength()\n",
    "    \n",
    "    pa.go_to_ple_target(scan_range_constr[1])\n",
    "    time.sleep(5)\n",
    "    w2 = high_finesse_wavemeter_remote.get_current_wavelength()\n",
    "\n",
    "    factor_sigma = (w2 - w1) * 1000000 / (scan_range_constr[1] - scan_range_constr[0]) #GHz \n",
    "    return factor_sigma\n",
    "\n",
    "# constraints\n",
    "scan_range_constr = laser_scanner_logic.scanner_constraints.axes[\"a\"].value_range\n",
    "scanning_optimize_logic._backwards_line_resolution = 20\n"
   ]
  },
  {
   "cell_type": "markdown",
   "metadata": {},
   "source": [
    "# 1 Full power full range"
   ]
  },
  {
   "cell_type": "code",
   "execution_count": 144,
   "metadata": {},
   "outputs": [],
   "source": [
    "folder = r\"C:\\Users\\yy3\\Documents\\data\\Vlad\\158\\#1C\\4-05\""
   ]
  },
  {
   "cell_type": "code",
   "execution_count": 148,
   "metadata": {},
   "outputs": [],
   "source": [
    "poi_name = \"def7\"\n",
    "\n",
    "\n",
    "os.makedirs(folder_defect := os.path.join(folder, poi_name),  exist_ok=True)\n",
    "\n",
    "ple_gui._save_folderpath = folder_defect\n",
    "\n",
    "\n",
    "ple_gui.save_path_widget.currPathLabel.setText(ple_gui._save_folderpath)\n",
    "ple_gui.save_path_widget.newPathCheckBox.setChecked(False)\n",
    "\n",
    "spectrometer._save_folderpath = folder_defect\n",
    "\n",
    "spectrometer._mw.control_widget.save_path_widget.currPathLabel.setText(ple_gui._save_folderpath)\n",
    "spectrometer._mw.control_widget.save_path_widget.newPathCheckBox.setChecked(False)"
   ]
  },
  {
   "cell_type": "code",
   "execution_count": 100,
   "metadata": {},
   "outputs": [],
   "source": [
    "cobolt.enable_modulated()\n",
    "cobolt.set_laser_modulated_power(5)"
   ]
  },
  {
   "cell_type": "code",
   "execution_count": 141,
   "metadata": {},
   "outputs": [],
   "source": [
    "settings_confocal_refocus(sequence=\"x, y, z\", scan_resolution=80, scan_frequency=5)\n",
    "confocal_refocus(opt_times=2)"
   ]
  },
  {
   "cell_type": "code",
   "execution_count": 149,
   "metadata": {},
   "outputs": [],
   "source": [
    "high_finesse_wavemeter_remote._wavemeter.set_regulation_mode(mode=True)\n",
    "switchlogic.set_state(\"ScanningMode\", 'Wavemeter')\n",
    "cobolt.set_laser_modulated_power(4)\n",
    "cobolt.enable_modulated()\n",
    "pa.set_resonant_power(300)\n"
   ]
  },
  {
   "cell_type": "code",
   "execution_count": 143,
   "metadata": {},
   "outputs": [],
   "source": [
    "#Find the defect\n",
    "settings_confocal_refocus(scan_range_xy=1.5e-6, sequence=\"xy\", scan_frequency=50)\n",
    "confocal_refocus(opt_times=2)"
   ]
  },
  {
   "cell_type": "code",
   "execution_count": 151,
   "metadata": {},
   "outputs": [],
   "source": [
    "#Optimize the defect\n",
    "high_finesse_wavemeter_remote._wavemeter.set_regulation_mode(mode=False)\n",
    "switchlogic.set_state(\"ScanningMode\", 'NI')\n",
    "res = pa.do_ple_scan(lines = 1, in_range=laser_scanner_logic.scan_ranges[\"a\"])\n",
    "\n"
   ]
  },
  {
   "cell_type": "code",
   "execution_count": 107,
   "metadata": {},
   "outputs": [],
   "source": [
    "cobolt.disable_modulated()"
   ]
  },
  {
   "cell_type": "code",
   "execution_count": 150,
   "metadata": {},
   "outputs": [],
   "source": [
    "cobolt.enable_modulated()"
   ]
  },
  {
   "cell_type": "code",
   "execution_count": 115,
   "metadata": {},
   "outputs": [],
   "source": [
    "cobolt.enable_modulated()\n",
    "cobolt.set_laser_modulated_power(5)"
   ]
  },
  {
   "cell_type": "code",
   "execution_count": 152,
   "metadata": {},
   "outputs": [
    {
     "name": "stdout",
     "output_type": "stream",
     "text": [
      "619.2305678443842 nm\n"
     ]
    }
   ],
   "source": [
    "\n",
    "res = pa.do_ple_scan(lines = 1, in_range=laser_scanner_logic.scan_ranges[\"a\"] )\n",
    "\n",
    "pa.save_ple(tag = f\"initial\", \n",
    "            poi_name=poi_name, folder_name=folder_defect)\n",
    "pa.go_to_ple_target(res[\"center\"].value)\n",
    "time.sleep(1)\n",
    "w1 = high_finesse_wavemeter_remote.get_current_wavelength()\n",
    "buf = high_finesse_wavemeter_remote._wavelength_buffer\n",
    "c = 299792458\n",
    "print(1e-3 * c / w1, \"nm\")\n",
    "\n",
    "line = f\"lambda = {1e-3 * c / w1} nm\\n\"\n",
    "\n",
    "with open(os.path.join(folder_defect, \"info.txt\"), \"a\") as f:\n",
    "    f.write(line)\n",
    "np.savetxt(os.path.join(folder_defect, \"wavelength_buffer.txt\"), high_finesse_wavemeter_remote._wavelength_buffer)\n",
    "\n"
   ]
  },
  {
   "cell_type": "code",
   "execution_count": 153,
   "metadata": {},
   "outputs": [],
   "source": [
    "factor_sigma = check_factor_sigma()\n",
    "line = f\"\\nfactor_sigma = {factor_sigma}\\n\"\n",
    "with open(os.path.join(folder_defect, \"info.txt\"), \"a\") as f:\n",
    "    f.write(line)"
   ]
  },
  {
   "cell_type": "code",
   "execution_count": 154,
   "metadata": {},
   "outputs": [],
   "source": [
    "\n",
    "\n",
    "soc_ghz, center_1_ghz, center_2_ghz = take_spectrum(pa, poi_name, folder_defect)\n",
    "\n",
    "line = f\"\\nsoc_ghz = {soc_ghz} GHz, \\ncenter_1_ghz = {center_1_ghz} GHz, \\ncenter_2_ghz = {center_2_ghz} GHz\\n\"\n",
    "with open(os.path.join(folder_defect, \"info.txt\"), \"a\") as f:\n",
    "    f.write(line)\n"
   ]
  },
  {
   "cell_type": "code",
   "execution_count": 85,
   "metadata": {},
   "outputs": [],
   "source": []
  },
  {
   "cell_type": "code",
   "execution_count": 146,
   "metadata": {},
   "outputs": [
    {
     "name": "stdout",
     "output_type": "stream",
     "text": [
      "Factor sigma 0.744102796603022\n"
     ]
    }
   ],
   "source": [
    "factor_sigma = check_factor_sigma()\n",
    "line = f\"\\nfactor_sigma = {factor_sigma}\\n\"\n",
    "with open(os.path.join(folder_defect, \"info.txt\"), \"a\") as f:\n",
    "    f.write(line)\n",
    "print(\"Factor sigma\", factor_sigma)"
   ]
  },
  {
   "cell_type": "code",
   "execution_count": 147,
   "metadata": {},
   "outputs": [],
   "source": [
    "cobolt.enable_modulated()\n",
    "cobolt.set_laser_modulated_power(5)"
   ]
  },
  {
   "cell_type": "code",
   "execution_count": 130,
   "metadata": {},
   "outputs": [
    {
     "name": "stdout",
     "output_type": "stream",
     "text": [
      "619.2375892396713 nm\n"
     ]
    }
   ],
   "source": [
    "w1 = high_finesse_wavemeter_remote.get_current_wavelength()\n",
    "# buf = high_finesse_wavemeter_remote._wavelength_buffer\n",
    "c = 299792458\n",
    "print(1e-3 * c / w1, \"nm\")\n",
    "\n",
    "line = f\"lambda = {1e-3 * c / w1} nm\\n\"\n",
    "\n",
    "with open(os.path.join(folder_defect, \"info.txt\"), \"a\") as f:\n",
    "    f.write(line)\n",
    "# np.savetxt(os.path.join(folder_defect, \"wavelength_buffer.txt\"), high_finesse_wavemeter_remote._wavelength_buffer)\n"
   ]
  },
  {
   "cell_type": "code",
   "execution_count": 164,
   "metadata": {},
   "outputs": [],
   "source": [
    "\n",
    "line = f\"lambda = {1e-3 * c / w1} nm\\n\"\n",
    "\n",
    "with open(os.path.join(folder_defect, \"info.txt\"), \"a\") as f:\n",
    "    f.write(line)"
   ]
  },
  {
   "cell_type": "code",
   "execution_count": 135,
   "metadata": {},
   "outputs": [
    {
     "ename": "KeyboardInterrupt",
     "evalue": "",
     "output_type": "error",
     "traceback": [
      "\u001b[1;31m---------------------------------------------------------------------------\u001b[0m",
      "\u001b[1;31mKeyboardInterrupt\u001b[0m                         Traceback (most recent call last)",
      "Cell \u001b[1;32mIn[135], line 4\u001b[0m\n\u001b[0;32m      2\u001b[0m \u001b[39mfor\u001b[39;00m power \u001b[39min\u001b[39;00m [\u001b[39m300\u001b[39m, \u001b[39m250\u001b[39m, \u001b[39m200\u001b[39m, \u001b[39m150\u001b[39m, \u001b[39m120\u001b[39m]:\n\u001b[0;32m      3\u001b[0m     pa\u001b[39m.\u001b[39mset_resonant_power(power)\n\u001b[1;32m----> 4\u001b[0m     res \u001b[39m=\u001b[39m pa\u001b[39m.\u001b[39;49mdo_ple_scan(lines \u001b[39m=\u001b[39;49m \u001b[39m1\u001b[39;49m, in_range\u001b[39m=\u001b[39;49m(\n\u001b[0;32m      5\u001b[0m         res[\u001b[39m\"\u001b[39;49m\u001b[39mcenter\u001b[39;49m\u001b[39m\"\u001b[39;49m]\u001b[39m.\u001b[39;49mvalue \u001b[39m-\u001b[39;49m SCAN_RANGE, res[\u001b[39m\"\u001b[39;49m\u001b[39mcenter\u001b[39;49m\u001b[39m\"\u001b[39;49m]\u001b[39m.\u001b[39;49mvalue \u001b[39m+\u001b[39;49m SCAN_RANGE))\n\u001b[0;32m      7\u001b[0m     line \u001b[39m=\u001b[39m \u001b[39mf\u001b[39m\u001b[39m\"\u001b[39m\u001b[39m\\n\u001b[39;00m\u001b[39mpower = \u001b[39m\u001b[39m{\u001b[39;00mpower\u001b[39m}\u001b[39;00m\u001b[39m\\n\u001b[39;00m\u001b[39m center = \u001b[39m\u001b[39m{\u001b[39;00mres[\u001b[39m'\u001b[39m\u001b[39mcenter\u001b[39m\u001b[39m'\u001b[39m]\u001b[39m.\u001b[39mvalue\u001b[39m}\u001b[39;00m\u001b[39m\\n\u001b[39;00m\u001b[39m sigma = \u001b[39m\u001b[39m{\u001b[39;00mres[\u001b[39m'\u001b[39m\u001b[39msigma\u001b[39m\u001b[39m'\u001b[39m]\u001b[39m.\u001b[39mvalue\u001b[39m}\u001b[39;00m\u001b[39m\\n\u001b[39;00m\u001b[39m scan_range = SCAN_RANGE\u001b[39m\u001b[39m\\n\u001b[39;00m\u001b[39m violet repump\u001b[39m\u001b[39m\\n\u001b[39;00m\u001b[39m\\n\u001b[39;00m\u001b[39m\"\u001b[39m\n\u001b[0;32m      8\u001b[0m     \u001b[39mwith\u001b[39;00m \u001b[39mopen\u001b[39m(os\u001b[39m.\u001b[39mpath\u001b[39m.\u001b[39mjoin(folder_defect, \u001b[39m\"\u001b[39m\u001b[39mple_scans.txt\u001b[39m\u001b[39m\"\u001b[39m), \u001b[39m\"\u001b[39m\u001b[39ma\u001b[39m\u001b[39m\"\u001b[39m) \u001b[39mas\u001b[39;00m f:\n",
      "File \u001b[1;32mc:\\new_qudi\\scudi\\src\\qudi\\jupyternotebooks\\automatization\\ple_statistics.py:85\u001b[0m, in \u001b[0;36mPleAuto.do_ple_scan\u001b[1;34m(self, lines, in_range, frequency, resolution)\u001b[0m\n\u001b[0;32m     83\u001b[0m time\u001b[39m.\u001b[39msleep(\u001b[39m1\u001b[39m)\n\u001b[0;32m     84\u001b[0m \u001b[39mself\u001b[39m\u001b[39m.\u001b[39mple_gui\u001b[39m.\u001b[39m_fit_dockwidget\u001b[39m.\u001b[39mfit_widget\u001b[39m.\u001b[39msigDoFit\u001b[39m.\u001b[39memit(\u001b[39m\"\u001b[39m\u001b[39mLorentzian\u001b[39m\u001b[39m\"\u001b[39m)\n\u001b[1;32m---> 85\u001b[0m time\u001b[39m.\u001b[39;49msleep(\u001b[39m1\u001b[39;49m)\n\u001b[0;32m     86\u001b[0m \u001b[39m# self.ple_gui._accumulated_data.mean(axis=0)\u001b[39;00m\n\u001b[0;32m     87\u001b[0m \u001b[39m# self.ple_gui.fit_result[1].params[\"center\"].value\u001b[39;00m\n\u001b[0;32m     88\u001b[0m \u001b[39mreturn\u001b[39;00m \u001b[39mself\u001b[39m\u001b[39m.\u001b[39mple_gui\u001b[39m.\u001b[39mfit_result[\u001b[39m1\u001b[39m]\u001b[39m.\u001b[39mparams\n",
      "\u001b[1;31mKeyboardInterrupt\u001b[0m: "
     ]
    }
   ],
   "source": [
    "SCAN_RANGE = 1000\n",
    "for power in [300, 250, 200, 150, 120]:\n",
    "    pa.set_resonant_power(power)\n",
    "    res = pa.do_ple_scan(lines = 1, in_range=(\n",
    "        res[\"center\"].value - SCAN_RANGE, res[\"center\"].value + SCAN_RANGE))\n",
    "    \n",
    "    line = f\"\\npower = {power}\\n center = {res['center'].value}\\n sigma = {res['sigma'].value}\\n scan_range = SCAN_RANGE\\n violet repump\\n\\n\"\n",
    "    with open(os.path.join(folder_defect, \"ple_scans.txt\"), \"a\") as f:\n",
    "        f.write(line)\n",
    "    pa.save_ple(tag = f\"power_{power}\", \n",
    "                poi_name=poi_name, folder_name=folder_defect)\n",
    "    if not ple_is_here():\n",
    "        print(\"Last power\", power)\n",
    "        last_power = power\n",
    "        break\n",
    "\n",
    "\n",
    "cobolt.disable_modulated()\n",
    "for power in np.linspace(last_power, 100, 3, endpoint=True):\n",
    "    pa.go_to_ple_target(res[\"center\"].value)\n",
    "    pa.set_resonant_power(power)\n",
    "    pa.one_pulse_repump(\"violet\")\n",
    "    res = pa.do_ple_scan(lines = 1, in_range=(\n",
    "        res[\"center\"].value - SCAN_RANGE, res[\"center\"].value + SCAN_RANGE))\n",
    "    pa.save_ple(tag = f\"power_{power}_norepump\", \n",
    "                poi_name=poi_name, folder_name=folder_defect)\n",
    "    \n",
    "    line = f\"\\npower = {power}\\n center = {res['center'].value}\\n sigma = {res['sigma'].value}\\n scan_range = SCAN_RANGE\\n no violet repump\\n\\n\"\n",
    "    with open(os.path.join(folder_defect, \"ple_scans.txt\"), \"a\") as f:\n",
    "        f.write(line)\n",
    "    if not ple_is_here(rsquared_bound=0.2):\n",
    "        print(\"Last power\", power)\n",
    "        break\n"
   ]
  },
  {
   "cell_type": "code",
   "execution_count": 129,
   "metadata": {},
   "outputs": [],
   "source": [
    "cobolt.enable_modulated()\n",
    "cobolt.set_laser_modulated_power(1)"
   ]
  },
  {
   "cell_type": "code",
   "execution_count": 128,
   "metadata": {},
   "outputs": [],
   "source": [
    "laser_controller_remote.etalon_voltage =  -7.4"
   ]
  },
  {
   "cell_type": "code",
   "execution_count": 120,
   "metadata": {},
   "outputs": [
    {
     "data": {
      "text/plain": [
       "-7.4"
      ]
     },
     "execution_count": 120,
     "metadata": {},
     "output_type": "execute_result"
    }
   ],
   "source": [
    "laser_controller_remote.etalon_voltage"
   ]
  },
  {
   "cell_type": "code",
   "execution_count": 207,
   "metadata": {},
   "outputs": [],
   "source": [
    "cobolt.disable_modulated()"
   ]
  },
  {
   "cell_type": "code",
   "execution_count": 220,
   "metadata": {},
   "outputs": [],
   "source": [
    "cobolt.on_deactivate()"
   ]
  },
  {
   "cell_type": "code",
   "execution_count": 225,
   "metadata": {},
   "outputs": [],
   "source": [
    "cobolt.enable_modulated()"
   ]
  },
  {
   "cell_type": "code",
   "execution_count": 224,
   "metadata": {},
   "outputs": [],
   "source": [
    "cobolt.portOpen()"
   ]
  },
  {
   "cell_type": "code",
   "execution_count": 4,
   "metadata": {},
   "outputs": [
    {
     "data": {
      "text/plain": [
       "b'619.2360266 + 0.001 * sin(t)'"
      ]
     },
     "execution_count": 4,
     "metadata": {},
     "output_type": "execute_result"
    }
   ],
   "source": [
    "high_finesse_wavemeter_remote._wavemeter.get_reference_course(channel=2)"
   ]
  },
  {
   "cell_type": "code",
   "execution_count": null,
   "metadata": {},
   "outputs": [],
   "source": [
    "high_finesse_wavemeter_remote._wavemeter.set_regulation_mode(mode=False)\n"
   ]
  },
  {
   "cell_type": "code",
   "execution_count": 61,
   "metadata": {},
   "outputs": [],
   "source": [
    "np.savetxt(os.path.join(folder, \"WM_scan_wavelength_buffer.txt\"), high_finesse_wavemeter_remote._wavelength_buffer)\n"
   ]
  },
  {
   "cell_type": "code",
   "execution_count": null,
   "metadata": {},
   "outputs": [],
   "source": []
  }
 ],
 "metadata": {
  "kernelspec": {
   "display_name": "qudi",
   "language": "python",
   "name": "qudi"
  },
  "language_info": {
   "codemirror_mode": {
    "name": "ipython",
    "version": 3
   },
   "file_extension": ".py",
   "mimetype": "text/x-python",
   "name": "python",
   "nbconvert_exporter": "python",
   "pygments_lexer": "ipython3",
   "version": "3.9.16"
  },
  "orig_nbformat": 4
 },
 "nbformat": 4,
 "nbformat_minor": 2
}
