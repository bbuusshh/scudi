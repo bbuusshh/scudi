{
 "cells": [
  {
   "cell_type": "code",
   "execution_count": 22,
   "metadata": {},
   "outputs": [
    {
     "data": {
      "text/plain": [
       "<qudi.hardware.picoquant.ppg512.ppg512(0x25ca1deb810) at 0x0000025CA260E900>"
      ]
     },
     "execution_count": 22,
     "metadata": {},
     "output_type": "execute_result"
    }
   ],
   "source": [
    "picoquant_ppg512"
   ]
  },
  {
   "cell_type": "code",
   "execution_count": 104,
   "metadata": {},
   "outputs": [
    {
     "name": "stdout",
     "output_type": "stream",
     "text": [
      "None\n",
      "b'0x80;0x81;0x83;0x84;0x86;0x87;0x89;0x8a;0x8c;0x8e;0x8f;0x91;0x92'\n"
     ]
    }
   ],
   "source": [
    "const_on = picoquant_ppg512.wg.create_sine(amp=255)\n",
    "#print(const_on)\n",
    "ans = picoquant_ppg512.wg.create_a_waveform_file(const_on,fname='const_on.txt')\n",
    "print(ans)\n",
    "ans = picoquant_ppg512.write_waveform(fname='const_on.txt')\n",
    "print(ans)"
   ]
  },
  {
   "cell_type": "code",
   "execution_count": null,
   "metadata": {},
   "outputs": [],
   "source": [
    "const_on = picoquant_ppg512.wg.create_square(255, amp=255)\n",
    "#print(const_on)\n",
    "ans = picoquant_ppg512.wg.create_a_waveform_file(const_on,fname='const_on.txt')\n",
    "print(ans)\n",
    "ans = picoquant_ppg512.write_waveform(fname='const_on.txt')\n",
    "print(ans)"
   ]
  },
  {
   "cell_type": "code",
   "execution_count": null,
   "metadata": {},
   "outputs": [],
   "source": []
  },
  {
   "cell_type": "code",
   "execution_count": 100,
   "metadata": {},
   "outputs": [
    {
     "name": "stdout",
     "output_type": "stream",
     "text": [
      "b'SYS:RES!\\r\\r\\x8a\\r\\n\\n\\r+---------------------+\\n\\r|                     |\\n\\r| PicoQuant GmbH 2020 |\\n\\r|                     |\\n\\r| HW-Rev.:            |\\n\\r| PQ.079.5140.0202    |\\n\\r|                     |\\n\\r| Serial-Num.:        |\\n\\r| 933000:01044020    |\\n\\r|                     |\\n\\r| Production Date:    |\\n\\r| 21.07.21          |\\n\\r|                     |\\n\\r| FW-Version:         |\\n\\r| 01.00.03            |\\n\\r|                     |\\n\\r+---------------------+\\r\\n\\n\\r+---------------------+\\n\\r|  WAIT PWR SUPPLY    |\\n\\r|  DONE               |\\n\\r+---------------------+\\n\\r+---------------------+\\n\\r|  POWERUP            |\\n\\r+---------------------+\\n\\r|                     |\\n\\r|  BIST               |\\n\\r|                     |\\n\\r|  PWR  OK            |\\n\\r|  VCC  OK            |\\n\\r|  2V5  OK            |\\n\\r|  3V0  OK            |\\n\\r|  ADEC OK            |\\n\\r|  VS+  OK            |\\n\\r|  VS-  OK            |\\n\\r|  DAC  OK            |\\n\\r|                     |\\n\\r+---------------------+\\nPOWERUP DONE\\n\\r'\n"
     ]
    }
   ],
   "source": [
    "# reset\n",
    "ans = picoquant_ppg512.reset()\n",
    "print(ans)"
   ]
  },
  {
   "cell_type": "code",
   "execution_count": 52,
   "metadata": {},
   "outputs": [
    {
     "data": {
      "text/plain": [
       "b''"
      ]
     },
     "execution_count": 52,
     "metadata": {},
     "output_type": "execute_result"
    }
   ],
   "source": [
    "picoquant_ppg512.ser.read_all()"
   ]
  },
  {
   "cell_type": "code",
   "execution_count": 54,
   "metadata": {},
   "outputs": [
    {
     "name": "stdout",
     "output_type": "stream",
     "text": [
      "b'SOUR:VOLT:VCCRF 24000!\\r\\r\\nACK\\r\\n'\n"
     ]
    }
   ],
   "source": [
    "ans = picoquant_ppg512.set_vccrf(24000)\n",
    "print(ans)"
   ]
  },
  {
   "cell_type": "code",
   "execution_count": 62,
   "metadata": {},
   "outputs": [
    {
     "name": "stdout",
     "output_type": "stream",
     "text": [
      "b''\n"
     ]
    }
   ],
   "source": [
    "ans = picoquant_ppg512.get_vccrf()\n",
    "print(ans)"
   ]
  },
  {
   "cell_type": "code",
   "execution_count": 102,
   "metadata": {},
   "outputs": [
    {
     "name": "stdout",
     "output_type": "stream",
     "text": [
      "b'SOUR:VOLT:VREF 400!\\r\\r\\nACK\\r\\n'\n"
     ]
    }
   ],
   "source": [
    "ans = picoquant_ppg512.set_vref(400)\n",
    "print(ans)"
   ]
  },
  {
   "cell_type": "code",
   "execution_count": 97,
   "metadata": {},
   "outputs": [
    {
     "name": "stdout",
     "output_type": "stream",
     "text": [
      "b''\n"
     ]
    }
   ],
   "source": [
    "print(picoquant_ppg512.constant_output())"
   ]
  },
  {
   "cell_type": "code",
   "execution_count": 55,
   "metadata": {},
   "outputs": [
    {
     "data": {
      "text/plain": [
       "b''"
      ]
     },
     "execution_count": 55,
     "metadata": {},
     "output_type": "execute_result"
    }
   ],
   "source": [
    "picoquant_ppg512.get_vref()"
   ]
  },
  {
   "cell_type": "code",
   "execution_count": 84,
   "metadata": {},
   "outputs": [
    {
     "data": {
      "text/plain": [
       "b''"
      ]
     },
     "execution_count": 84,
     "metadata": {},
     "output_type": "execute_result"
    }
   ],
   "source": [
    "picoquant_ppg512._query('SOUR:VOLT:VREF?', delay=3)"
   ]
  },
  {
   "cell_type": "code",
   "execution_count": null,
   "metadata": {},
   "outputs": [],
   "source": []
  },
  {
   "cell_type": "code",
   "execution_count": null,
   "metadata": {},
   "outputs": [],
   "source": []
  },
  {
   "cell_type": "code",
   "execution_count": 5,
   "metadata": {},
   "outputs": [
    {
     "name": "stdout",
     "output_type": "stream",
     "text": [
      "b'0x00;0x00;0x00;0x00;0x00;0x00;0x00;0x00;0x00;0x00;0x00;0x00;0x00'\n",
      "b''\n",
      "b''\n",
      "b''\n",
      "b''\n"
     ]
    }
   ],
   "source": [
    "\n",
    "for i in range(5):\n",
    "    print(picoquant_ppg512.constant_output())\n",
    "    # sleep(0.2)"
   ]
  },
  {
   "cell_type": "code",
   "execution_count": 43,
   "metadata": {},
   "outputs": [
    {
     "data": {
      "text/plain": [
       "b'SOUR:VOLT:VCCRF 15000!\\r\\r\\nACK\\r\\n'"
      ]
     },
     "execution_count": 43,
     "metadata": {},
     "output_type": "execute_result"
    }
   ],
   "source": [
    "picoquant_ppg512.set_vccrf(15000)"
   ]
  },
  {
   "cell_type": "code",
   "execution_count": 66,
   "metadata": {},
   "outputs": [
    {
     "data": {
      "text/plain": [
       "b'SYS:RES!\\r\\r\\x8a\\r\\n\\n\\r+---------------------+\\n\\r|                     |\\n\\r| PicoQuant GmbH 2020 |\\n\\r|                     |\\n\\r| HW-Rev.:            |\\n\\r| PQ.079.5140.0202    |\\n\\r|                     |\\n\\r| Serial-Num.:        |\\n\\r| 933000:01044020    |\\n\\r|                     |\\n\\r| Production Date:    |\\n\\r| 21.07.21          |\\n\\r|                     |\\n\\r| FW-Version:         |\\n\\r| 01.00.03            |\\n\\r|                     |\\n\\r+---------------------+\\r\\n\\n\\r+---------------------+\\n\\r|  WAIT PWR SUPPLY    |\\n\\r|  DONE               |\\n\\r+---------------------+\\n\\r+---------------------+\\n\\r|  POWERUP            |\\n\\r+---------------------+\\n\\r|                     |\\n\\r|  BIST               |\\n\\r|                     |\\n\\r|  PWR  OK            |\\n\\r|  VCC  OK            |\\n\\r|  2V5  OK            |\\n\\r|  3V0  OK            |\\n\\r|  ADEC OK            |\\n\\r|  VS+  OK            |\\n\\r|  VS-  OK            |\\n\\r|  DAC  OK            |\\n\\r|                     |\\n\\r+---------------------+\\nPOWERUP DONE\\n\\r'"
      ]
     },
     "execution_count": 66,
     "metadata": {},
     "output_type": "execute_result"
    }
   ],
   "source": [
    "for i in range(5):\n",
    "picoquant_ppg512.reset()"
   ]
  },
  {
   "cell_type": "code",
   "execution_count": null,
   "metadata": {},
   "outputs": [],
   "source": []
  },
  {
   "cell_type": "code",
   "execution_count": 67,
   "metadata": {},
   "outputs": [
    {
     "data": {
      "text/plain": [
       "b'SOUR:VOLT:VCCRF?\\r\\r\\n15001\\r\\n'"
      ]
     },
     "execution_count": 67,
     "metadata": {},
     "output_type": "execute_result"
    }
   ],
   "source": [
    "picoquant_ppg512.get_vccrf()"
   ]
  },
  {
   "cell_type": "code",
   "execution_count": 85,
   "metadata": {},
   "outputs": [
    {
     "ename": "",
     "evalue": "",
     "output_type": "error",
     "traceback": [
      "\u001b[1;31mCanceled future for execute_request message before replies were done"
     ]
    },
    {
     "ename": "",
     "evalue": "",
     "output_type": "error",
     "traceback": [
      "\u001b[1;31mThe Kernel crashed while executing code in the the current cell or a previous cell. Please review the code in the cell(s) to identify a possible cause of the failure. Click <a href='https://aka.ms/vscodeJupyterKernelCrash'>here</a> for more info. View Jupyter <a href='command:jupyter.viewOutput'>log</a> for further details."
     ]
    }
   ],
   "source": [
    "for i in range(5):\n",
    "    print(picoquant_ppg512.set_vref(400))"
   ]
  },
  {
   "cell_type": "code",
   "execution_count": null,
   "metadata": {},
   "outputs": [],
   "source": []
  },
  {
   "cell_type": "code",
   "execution_count": null,
   "metadata": {},
   "outputs": [],
   "source": []
  },
  {
   "cell_type": "code",
   "execution_count": 116,
   "metadata": {},
   "outputs": [
    {
     "data": {
      "text/plain": [
       "b''"
      ]
     },
     "execution_count": 116,
     "metadata": {},
     "output_type": "execute_result"
    }
   ],
   "source": [
    "picoquant_ppg512.set_vref(2000)"
   ]
  },
  {
   "cell_type": "code",
   "execution_count": 22,
   "metadata": {},
   "outputs": [
    {
     "data": {
      "text/plain": [
       "b''"
      ]
     },
     "execution_count": 22,
     "metadata": {},
     "output_type": "execute_result"
    }
   ],
   "source": [
    "picoquant_ppg512._query(f'SOUR:VOLT:VREF {400}!')"
   ]
  },
  {
   "cell_type": "code",
   "execution_count": 139,
   "metadata": {},
   "outputs": [],
   "source": [
    "picoquant_ppg512.ser.flushInput()"
   ]
  },
  {
   "cell_type": "code",
   "execution_count": 3,
   "metadata": {},
   "outputs": [
    {
     "data": {
      "text/plain": [
       "b'*IDN?\\r\\r\\nPPG512 \\n\\r'"
      ]
     },
     "execution_count": 3,
     "metadata": {},
     "output_type": "execute_result"
    }
   ],
   "source": [
    "picoquant_ppg512._query('*IDN?')"
   ]
  },
  {
   "cell_type": "code",
   "execution_count": null,
   "metadata": {},
   "outputs": [],
   "source": []
  }
 ],
 "metadata": {
  "kernelspec": {
   "display_name": "qudi",
   "language": "python",
   "name": "qudi"
  },
  "language_info": {
   "codemirror_mode": {
    "name": "ipython",
    "version": 3
   },
   "file_extension": ".py",
   "mimetype": "text/x-python",
   "name": "python",
   "nbconvert_exporter": "python",
   "pygments_lexer": "ipython3",
   "version": "3.9.12"
  },
  "orig_nbformat": 4
 },
 "nbformat": 4,
 "nbformat_minor": 2
}
