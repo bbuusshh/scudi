{
 "cells": [
  {
   "cell_type": "code",
   "execution_count": 364,
   "id": "14415042",
   "metadata": {},
   "outputs": [],
   "source": [
    "#INITIALIZA THE FUNCTIONS \n",
    "#%%\n",
    "#import the necessary packages\n",
    "import automatization\n",
    "from automatization.ple_statistics import PleAuto\n",
    "import pandas as pd\n",
    "import os\n",
    "import time\n",
    "import json\n",
    "from importlib import reload\n",
    "import numpy as np\n",
    "from automatization.ple_statistics import PleAuto\n",
    "from matplotlib import pyplot as plt\n",
    "reload(automatization.ple_statistics)\n",
    "from automatization.ple_statistics import PleAuto\n",
    "from scipy.constants import speed_of_light\n",
    "import pickle\n",
    "from pathlib import Path\n",
    "\n",
    "import sys\n",
    "\n",
    "sys.setrecursionlimit(10000)\n",
    "\n",
    "pa = PleAuto(\n",
    "    ple_gui, \n",
    "    ple_optimize_logic, \n",
    "    laser_scanner_logic,\n",
    "    poi_manager_logic, \n",
    "    scanning_optimize_logic,\n",
    "    spectrometer,  \n",
    "    \n",
    "    spectrometerlogic,\n",
    "    cobolt,\n",
    "    ibeam_smart\n",
    ")\n",
    "\n",
    "# def ple_is_here(res, center_sigma = 3e3, amplitude = 1000, sigma_stderr_ratio = 4, amplitude_stderr_ratio=3):\n",
    "#     \"\"\"Check if the ple is still there.\"\"\"\n",
    "#     it_is = True\n",
    "#     if res[\"center\"].stderr is None or res[\"sigma\"].stderr is None or res[\"sigma\"].value is None:\n",
    "#         return False\n",
    "#     if ( res[\"center\"].stderr > center_sigma or \n",
    "#     res[\"sigma\"].stderr * sigma_stderr_ratio > res[\"sigma\"].value or \n",
    "#     res[\"amplitude\"].stderr * amplitude_stderr_ratio > res[\"amplitude\"].value or\n",
    "#     res[\"amplitude\"].value < amplitude): \n",
    "#         #ple is gone.\n",
    "#         return False\n",
    "\n",
    "#     return it_is\n",
    "def ple_is_here(rsquared_bound = 0.5):\n",
    "    \"\"\"Check if the ple is still there.\"\"\"\n",
    "    \n",
    "    if ple_gui.fit_result[1].rsquared < rsquared_bound:\n",
    "        print(\"NO, PLE\", ple_gui.fit_result[1].rsquared )\n",
    "        return False\n",
    "    \n",
    "    else:\n",
    "        return True\n",
    "\n",
    "\n",
    "def adjust_eta(pa, poi_name, folder_defect, results_poi, center_v):\n",
    "    \"\"\"Adjust the etalon voltage to get the best fit.\"\"\"\n",
    "    # ple_gui._osd.settings_widget.optimize_sequence_combobox.setCurrentIndex(seqs[\"a\"])\n",
    "    ple_gui._mw.frequencyDoubleSpinBox.setValue(1000)\n",
    "    \n",
    "    eta_volts = [center_v, center_v + 0.2, center_v + 0.4, center_v + 0.6, center_v - 0.2, center_v - 0.4,  center_v - 0.6]\n",
    "    r_squared = []\n",
    "    for eta_v in eta_volts:\n",
    "        laser_controller_remote.etalon_voltage = eta_v\n",
    "        time.sleep(0.5)\n",
    "        res = pa.do_ple_scan(lines = 1)\n",
    "        time.sleep(0.5)\n",
    "        r_squared.append(ple_gui.fit_result[1].rsquared)\n",
    "    results_poi[\"eta_voltage\"] = eta_volts[r_squared.index(max(r_squared))]\n",
    "    laser_controller_remote.etalon_voltage = eta_volts[r_squared.index(max(r_squared))]\n",
    "    res = pa.do_ple_scan(lines = 1)\n",
    "    pa.save_ple(tag = \"full_range_eta_adjusted\",\n",
    "                poi_name=poi_name, folder_name=folder_defect)\n",
    "\n",
    "    ple_gui._mw.frequencyDoubleSpinBox.setValue(250)\n",
    "    return res, results_poi\n",
    "def ple_refocus(pa, opt_times = 1, \n",
    "                scan_frequency=200, \n",
    "                scan_resolution=500,\n",
    "                scan_range = 5000):\n",
    "    \n",
    "    seqs = {str(seq): idx for idx, seq in enumerate(ple_gui._osd.settings_widget.available_opt_sequences)}\n",
    "    ple_gui._osd.settings_widget.optimize_sequence_combobox.setCurrentIndex(seqs[\"a\"])\n",
    "    ple_gui._osd.change_settings({'scan_frequency': {\"a\": scan_frequency},\n",
    "                                    \"scan_resolution\": {\"a\":scan_resolution},\n",
    "                                    \"scan_range\": {\"a\": scan_range}}) #GHz\n",
    "\n",
    "    ple_gui._osd.accept()\n",
    "    time.sleep(0.8)\n",
    "    pa.optimize_ple()\n",
    "    return res\n",
    "def settings_confocal_refocus_fine():\n",
    "    seqs = {str(seq): idx for idx, seq in enumerate(scanner_gui._osd.settings_widget.available_opt_sequences)}\n",
    "    scanner_gui._osd.settings_widget.optimize_sequence_combobox.setCurrentIndex(seqs[\"xy, z\"])\n",
    "    scanner_gui._osd.change_settings({'scan_frequency': {\"x\": 25, \"y\": 25, \"z\": 25},\n",
    "                                    \"scan_resolution\": {\"x\": 25, \"y\": 25, \"z\":80},\n",
    "                                    \"scan_range\": {\"x\": 1e-6, \"y\": 1e-6, \"z\": 4e-6}})\n",
    "\n",
    "    scanner_gui._osd.accept()\n",
    "    time.sleep(0.5)\n",
    "\n",
    "\n",
    "def settings_confocal_refocus_coarse():\n",
    "    seqs = {str(seq): idx for idx, seq in enumerate(scanner_gui._osd.settings_widget.available_opt_sequences)}\n",
    "    scanner_gui._osd.settings_widget.optimize_sequence_combobox.setCurrentIndex(seqs[\"x, y, z\"])\n",
    "\n",
    "    scanner_gui._osd.change_settings({'scan_frequency': {\"x\": 5, \"y\": 5, \"z\": 5},\n",
    "                                    \"scan_resolution\": {\"x\": 80, \"y\": 80, \"z\":80},\n",
    "                                    \"scan_range\": {\"x\": 2.5e-6, \"y\": 2.5e-6, \"z\": 4.5e-6}})\n",
    "    scanner_gui._osd.accept()\n",
    "    time.sleep(0.5)\n",
    "\n",
    "def confocal_refocus(opt_times=2):\n",
    "    for i in range(opt_times):\n",
    "        scanning_optimize_logic.start_optimize()\n",
    "        while scanning_optimize_logic.module_state()=='locked':\n",
    "            time.sleep(0.5)\n",
    "    time.sleep(0.5)\n",
    "#find the defect:\n",
    "def find_the_defect(pa, poi_name, folder_defect):\n",
    "    ple_gui._mw.frequencyDoubleSpinBox.setValue(1000)\n",
    "    switchlogic.set_state(\"ScanningMode\", 'Wavemeter')\n",
    "    pa.set_resonant_power(power = 300)\n",
    "    cobolt.enable_modulated()\n",
    "    cobolt.set_laser_modulated_power(2)\n",
    "    time.sleep(1)\n",
    "    settings_confocal_refocus_coarse()\n",
    "    confocal_refocus(opt_times=2)\n",
    "\n",
    "    \n",
    "    switchlogic.set_state(\"ScanningMode\", 'NI')\n",
    "    time.sleep(0.5)\n",
    "    #Check how the PLE look like\n",
    "    res = pa.do_ple_scan(lines = 1)\n",
    "\n",
    "    #configure slow scanning for the wavemeter scanning optimizations\n",
    "    for kk in range(3):\n",
    "        if not ple_is_here():\n",
    "            switchlogic.set_state(\"ScanningMode\", 'Wavemeter')\n",
    "            time.sleep(0.5)\n",
    "            settings_confocal_refocus_coarse()\n",
    "            confocal_refocus(opt_times=1)\n",
    "            #Check how the PLE look like\n",
    "            time.sleep(0.5)\n",
    "            switchlogic.set_state(\"ScanningMode\", 'NI')\n",
    "            res = pa.do_ple_scan(lines = 1)\n",
    "            time.sleep(0.5)\n",
    "            pa.save_ple(tag = \"full_range_iter_{kk}\",\n",
    "                    poi_name=poi_name, folder_name=folder_defect)\n",
    "            time.sleep(0.5)\n",
    "        else:\n",
    "            break\n",
    "\n",
    "    pa.save_ple(tag = \"full_range\",\n",
    "            poi_name=poi_name, \n",
    "            folder_name=folder_defect)\n",
    "    time.sleep(0.2)\n",
    "    ple_gui._mw.frequencyDoubleSpinBox.setValue(250)\n",
    "    return res\n",
    "\n",
    "def take_spectrum(pa, poi_name, folder_defect, results_poi):\n",
    "    # take spectrum to estimate SOC\n",
    "    pa.set_resonant_power(power = 0)\n",
    "    time.sleep(2)\n",
    "    ibeam_smart.enable()\n",
    "    cobolt.enable_modulated()\n",
    "    cobolt.set_laser_modulated_power(power = 100)\n",
    "    pa.set_resonant_power(power = 0)\n",
    "    time.sleep(1)\n",
    "    pa.take_spectrum()\n",
    "\n",
    "    \n",
    "    \n",
    "    time.sleep(1)\n",
    "    spectrometer._mw.data_widget.fit_widget.sigDoFit.emit(\"DoubleLorentzian\")\n",
    "    time.sleep(1)\n",
    "    pa.save_spectrum(name_tag=f\"{poi_name}_blueNgreen\", folder_path=folder_defect)\n",
    "    # spectrometer.fit_results.params[\"center_1\"].value\n",
    "    if spectrometer.fit_results is not None:\n",
    "        params = spectrometer.fit_results.params\n",
    "        results_poi[\"SOC, GHz\"] = float(speed_of_light / params[\"center_2\"].value - speed_of_light / params[\"center_1\"].value)\n",
    "        results_poi[\"center_1, GHz\"] = float(params[\"center_1\"].value)\n",
    "        results_poi[\"center_2, GHz\"] = float(params[\"center_2\"].value)\n",
    "    ibeam_smart.disable()\n",
    "    #cobolt.disable_modulated()\n",
    "    time.sleep(0.5)\n",
    "    results_poi[\"spectrum_data\"] = spectrometerlogic.last_saved_path\n",
    "    # results_poi[\"spectrum_fit_data\"] = spectrometer.fit_results.best_fit\n",
    "    cobolt.enable_modulated()\n",
    "    cobolt.set_laser_modulated_power(power = 2)\n",
    "    pa.set_resonant_power(power = 300)    \n",
    "    time.sleep(1)\n",
    "    return results_poi\n",
    "# Perform the saturation measurement\n",
    "\n",
    "def fine_optimize(pa, poi_name, folder_defect, results_poi):\n",
    "    res = pa.do_ple_scan(lines = 1)\n",
    "    pa.go_to_ple_target(res[\"center\"].value)\n",
    "    ple_refocus(pa, scan_range=4000, scan_frequency=500)\n",
    "    settings_confocal_refocus_fine()\n",
    "    confocal_refocus(opt_times=1)\n",
    "    ple_refocus(pa, scan_range=4000, scan_frequency=500)\n",
    "    confocal_refocus(opt_times=1)\n",
    "    res = pa.do_ple_scan(lines = 1)\n",
    "    pa.go_to_ple_target(res[\"center\"].value)\n",
    "    results_poi[\"center\"] = res[\"center\"].value\n",
    "    \n",
    "    results_poi[\"center_λ\"] = high_finesse_wavemeter_remote.get_current_wavelength()\n",
    "    pa.save_ple(tag = \"full_range_optimized\",\n",
    "            poi_name=poi_name, \n",
    "            folder_name=folder_defect)\n",
    "    return res, results_poi\n",
    "\n",
    "def run_saturation_measurement(pa, res, poi_name, folder_defect, results_poi, large_sigma = 4000, small_sigma = 300, power_steps = None, low_power_steps = None, repumped_power = 100, no_repump_power = 150):\n",
    "    ple_gui._mw.frequencyDoubleSpinBox.setValue(500)\n",
    "\n",
    "    os.makedirs(saturation_folder := os.path.join(folder_defect, \"saturation\"), exist_ok=True)\n",
    "    results_poi[\"saturation\"] = {}\n",
    "    idx_no_ple = None\n",
    "    res_old = res\n",
    "    if power_steps is None:\n",
    "        power_steps = 3 * np.logspace(1.5, 2, 10, endpoint=True).astype(int)[::-1]\n",
    "    if low_power_steps is None:\n",
    "        low_power_steps = np.array([85, 78, 70, 65, 60])\n",
    "    power_steps = np.append(power_steps,low_power_steps)\n",
    "    zero_range = (\n",
    "                res[\"center\"].value - large_sigma,\n",
    "                res[\"center\"].value + large_sigma\n",
    "            )\n",
    "    res = pa.do_ple_scan(lines = 1, in_range=zero_range)\n",
    "    for idx, power in enumerate(power_steps):\n",
    "        os.makedirs(power_folder := os.path.join(saturation_folder, f\"{power}\"), exist_ok=True)\n",
    "        \n",
    "        if power > repumped_power: \n",
    "            cobolt.enable_modulated()\n",
    "            pa.set_resonant_power(power = power)\n",
    "            time.sleep(1)\n",
    "            #align twice\n",
    "            # for i in range(2)\n",
    "            \n",
    "            fine_range = (\n",
    "                res[\"center\"].value - small_sigma,\n",
    "                res[\"center\"].value + small_sigma\n",
    "            )\n",
    "            if res[\"center\"].value is None or res[\"sigma\"].value is None or not ple_is_here(rsquared_bound=0.2):\n",
    "                res = pa.do_ple_scan(lines = 1, in_range=zero_range)\n",
    "                \n",
    "                if not ple_is_here(rsquared_bound=0.2):\n",
    "                    continue\n",
    "            res = pa.do_ple_scan(lines = 1, in_range=fine_range)\n",
    "            # if abs(res_old[\"center\"].value - res[\"center\"].value) > res_old[\"sigma\"].value*2:\n",
    "            #     res = res_old\n",
    "            # else:s\n",
    "            #     res_old = res\n",
    "            pa.save_ple(tag = f\"{power}\",\n",
    "                poi_name=poi_name, folder_name=power_folder)\n",
    "\n",
    "            results_poi.update({\"saturation\": \n",
    "                            {f\"{power}_repump\":\n",
    "                                {\"scan_data\": ple_data_logic.last_saved_files_paths,\n",
    "                                \"sigma\": res[\"sigma\"].value,\n",
    "                                \"sigma_stderr\": res[\"sigma\"].stderr,\n",
    "                                \"center\": res[\"center\"].value\n",
    "                                }\n",
    "                                }})\n",
    "        if (power < no_repump_power):\n",
    "            os.makedirs(power_folder_norepump := os.path.join(power_folder, f\"no_repump\"), exist_ok=True)\n",
    "            # check with initioalization\n",
    "            cobolt.disable_modulated()\n",
    "            pa.one_pulse_repump(\"violet\")\n",
    "            for i in range(3):\n",
    "                pa.one_pulse_repump(\"violet\")\n",
    "                res_ = pa.do_ple_scan(lines = 1, in_range=fine_range)\n",
    "                if not ple_is_here(rsquared_bound=0.4):\n",
    "                    continue\n",
    "            if not ple_is_here(rsquared_bound=0.4):\n",
    "                    continue\n",
    "            res_ = pa.do_ple_scan(lines = 5, in_range=fine_range)\n",
    "            print(\"Saving no repump\")\n",
    "            pa.save_ple(tag = f\"{power}_norepump\",\n",
    "                poi_name=poi_name, folder_name=power_folder_norepump)\n",
    "            results_poi.update({\"saturation\": \n",
    "                            {f\"{power}_norepump\":\n",
    "                                {\"scan_data\": ple_data_logic.last_saved_files_paths,\n",
    "                                \"sigma\": res_[\"sigma\"].value,\n",
    "                                \"sigma_stderr\": res_[\"sigma\"].stderr,\n",
    "                                \"center\": res_[\"center\"].value\n",
    "                                }\n",
    "                                }})\n",
    "        if power <= 40:\n",
    "            breaks\n",
    "\n",
    "            #save_plots\n",
    "    return results_poi\n",
    "# constraints\n",
    "scan_range_constr = laser_scanner_logic.scanner_constraints.axes[\"a\"].value_range\n",
    "scanning_optimize_logic._backwards_line_resolution = 20\n"
   ]
  },
  {
   "cell_type": "code",
   "execution_count": 365,
   "id": "bc11a9d6",
   "metadata": {},
   "outputs": [],
   "source": [
    "from matplotlib import pyplot as plt\n",
    "from matplotlib import ticker\n",
    "SMALL_SIZE = 15\n",
    "MEDIUM_SIZE = 20\n",
    "BIGGER_SIZE = 30\n",
    "\n",
    "plt.rc('font', size=SMALL_SIZE)          # controls default text sizes\n",
    "plt.rc('axes', titlesize=MEDIUM_SIZE)     # fontsize of the axes title\n",
    "plt.rc('axes', labelsize=MEDIUM_SIZE)    # fontsize of the x and y labels\n",
    "plt.rc('xtick', labelsize=SMALL_SIZE)    # fontsize of the tick labels\n",
    "plt.rc('ytick', labelsize=SMALL_SIZE)    # fontsize of the tick labels\n",
    "plt.rc('legend', fontsize=SMALL_SIZE)    # legend fontsize\n",
    "plt.rc('figure', titlesize=MEDIUM_SIZE)  # fontsize of the figure title\n",
    "plt.rc('grid', linestyle='--')\n",
    "plt.rc('grid', color='#E68F6B')\n",
    "from ast import literal_eval as make_tuple\n",
    "def get_scan_range(file_name):\n",
    "    range_ = \"\"\n",
    "    with open(file_name, \"r\") as f:\n",
    "        for line in f.readlines():\n",
    "            if \"scan range\" in line:\n",
    "                range_ = line\n",
    "    return make_tuple(range_.strip().split(\"=\")[-1])\n"
   ]
  },
  {
   "cell_type": "code",
   "execution_count": 4,
   "id": "c63036e0",
   "metadata": {},
   "outputs": [
    {
     "name": "stdout",
     "output_type": "stream",
     "text": [
      "30-04-2023\n"
     ]
    }
   ],
   "source": [
    "from datetime import datetime\n",
    "print(datetime.today().strftime('%d-%m-%Y'))"
   ]
  },
  {
   "cell_type": "code",
   "execution_count": 5,
   "id": "6c6f93b8",
   "metadata": {},
   "outputs": [
    {
     "data": {
      "text/plain": [
       "-7.4"
      ]
     },
     "execution_count": 5,
     "metadata": {},
     "output_type": "execute_result"
    }
   ],
   "source": [
    "laser_controller_remote.etalon_voltage"
   ]
  },
  {
   "cell_type": "code",
   "execution_count": null,
   "id": "1c3a4e0f",
   "metadata": {},
   "outputs": [],
   "source": [
    "\n",
    "\n"
   ]
  },
  {
   "cell_type": "code",
   "execution_count": null,
   "id": "bba407a9",
   "metadata": {},
   "outputs": [
    {
     "name": "stdout",
     "output_type": "stream",
     "text": [
      "Find the defect  def3\n",
      "Run spectrum\n",
      "Run the saturation measurements\n",
      "Fine optimization of the ple and confocal\n",
      "Run the saturation measurements\n",
      "Find the defect  def4\n",
      "Run spectrum\n",
      "Run the saturation measurements\n",
      "Adjusting the eta\n",
      "Fine optimization of the ple and confocal\n",
      "Run the saturation measurements\n",
      "Find the defect  def5\n",
      "Run spectrum\n",
      "Run the saturation measurements\n",
      "Fine optimization of the ple and confocal\n",
      "Run the saturation measurements\n",
      "Find the defect  def6\n",
      "Run spectrum\n",
      "Run the saturation measurements\n",
      "Fine optimization of the ple and confocal\n",
      "Run the saturation measurements\n",
      "Find the defect  def7\n",
      "Run spectrum\n",
      "Run the saturation measurements\n",
      "Fine optimization of the ple and confocal\n",
      "Run the saturation measurements\n",
      "Find the defect  def8\n",
      "Run spectrum\n",
      "Run the saturation measurements\n",
      "Fine optimization of the ple and confocal\n",
      "Run the saturation measurements\n",
      "Find the defect  def9\n",
      "Run spectrum\n",
      "Run the saturation measurements\n",
      "Adjusting the eta\n",
      "Find the defect  def10\n",
      "Run spectrum\n",
      "Run the saturation measurements\n",
      "Adjusting the eta\n"
     ]
    },
    {
     "ename": "KeyboardInterrupt",
     "evalue": "",
     "output_type": "error",
     "traceback": [
      "\u001b[1;31m---------------------------------------------------------------------------\u001b[0m",
      "\u001b[1;31mKeyboardInterrupt\u001b[0m                         Traceback (most recent call last)",
      "Cell \u001b[1;32mIn[22], line 33\u001b[0m\n\u001b[0;32m     31\u001b[0m \u001b[39mif\u001b[39;00m \u001b[39mnot\u001b[39;00m ple_is_here():\n\u001b[0;32m     32\u001b[0m     \u001b[39mprint\u001b[39m(\u001b[39m\"\u001b[39m\u001b[39mAdjusting the eta\u001b[39m\u001b[39m\"\u001b[39m)\n\u001b[1;32m---> 33\u001b[0m     res, results_poi \u001b[39m=\u001b[39m adjust_eta(pa, poi_name, folder_defect, results_poi, center_v)\n\u001b[0;32m     34\u001b[0m \u001b[39mif\u001b[39;00m \u001b[39mnot\u001b[39;00m ple_is_here():\n\u001b[0;32m     35\u001b[0m     \u001b[39m# return the center eta\u001b[39;00m\n\u001b[0;32m     36\u001b[0m     laser_controller_remote\u001b[39m.\u001b[39metalon_voltage \u001b[39m=\u001b[39m center_v\n",
      "Cell \u001b[1;32mIn[21], line 67\u001b[0m, in \u001b[0;36madjust_eta\u001b[1;34m(pa, poi_name, folder_defect, results_poi, center_v)\u001b[0m\n\u001b[0;32m     65\u001b[0m laser_controller_remote\u001b[39m.\u001b[39metalon_voltage \u001b[39m=\u001b[39m eta_v\n\u001b[0;32m     66\u001b[0m time\u001b[39m.\u001b[39msleep(\u001b[39m0.5\u001b[39m)\n\u001b[1;32m---> 67\u001b[0m res \u001b[39m=\u001b[39m pa\u001b[39m.\u001b[39;49mdo_ple_scan(lines \u001b[39m=\u001b[39;49m \u001b[39m1\u001b[39;49m)\n\u001b[0;32m     68\u001b[0m time\u001b[39m.\u001b[39msleep(\u001b[39m0.5\u001b[39m)\n\u001b[0;32m     69\u001b[0m r_squared\u001b[39m.\u001b[39mappend(ple_gui\u001b[39m.\u001b[39mfit_result[\u001b[39m1\u001b[39m]\u001b[39m.\u001b[39mrsquared)\n",
      "File \u001b[1;32mc:\\new_qudi\\scudi\\src\\qudi\\jupyternotebooks\\automatization\\ple_statistics.py:82\u001b[0m, in \u001b[0;36mPleAuto.do_ple_scan\u001b[1;34m(self, lines, in_range, frequency, resolution)\u001b[0m\n\u001b[0;32m     80\u001b[0m \u001b[39mself\u001b[39m\u001b[39m.\u001b[39mple_gui\u001b[39m.\u001b[39mtoggle_scan()\n\u001b[0;32m     81\u001b[0m \u001b[39mwhile\u001b[39;00m \u001b[39mself\u001b[39m\u001b[39m.\u001b[39mlaser_scanner_logic\u001b[39m.\u001b[39mmodule_state()\u001b[39m==\u001b[39m\u001b[39m'\u001b[39m\u001b[39mlocked\u001b[39m\u001b[39m'\u001b[39m:\n\u001b[1;32m---> 82\u001b[0m         time\u001b[39m.\u001b[39;49msleep(\u001b[39m1\u001b[39;49m)\n\u001b[0;32m     83\u001b[0m time\u001b[39m.\u001b[39msleep(\u001b[39m1\u001b[39m)\n\u001b[0;32m     84\u001b[0m \u001b[39mself\u001b[39m\u001b[39m.\u001b[39mple_gui\u001b[39m.\u001b[39m_fit_dockwidget\u001b[39m.\u001b[39mfit_widget\u001b[39m.\u001b[39msigDoFit\u001b[39m.\u001b[39memit(\u001b[39m\"\u001b[39m\u001b[39mLorentzian\u001b[39m\u001b[39m\"\u001b[39m)\n",
      "\u001b[1;31mKeyboardInterrupt\u001b[0m: "
     ]
    }
   ],
   "source": [
    "folder = rf\"C:\\Users\\yy3\\Documents\\data\\Vlad\\158\\30-04\\#1D\\ROI1\\{datetime.today().strftime('%d-%m-%Y')}\"\n",
    "os.makedirs(folder, exist_ok=True)\n",
    "folder = os.path.join(folder, r\"auto\")\n",
    "\n",
    "center_v = laser_controller_remote.etalon_voltage\n",
    "os.makedirs(folder, exist_ok=True)\n",
    "high_finesse_wavemeter_remote.start_acquisition()\n",
    "# run throught the defects:\n",
    "cobolt.enable_modulated()\n",
    "for poi_name in poi_manager_logic.poi_names:\n",
    "    if poi_name == \"ref\":\n",
    "        continue\n",
    "    results_poi = {}\n",
    "    results_poi[poi_name] = {}  \n",
    "    \n",
    "    os.makedirs(folder_defect := os.path.join(folder, poi_name),  exist_ok=True)\n",
    "    #Go to the defect:\n",
    "    cobolt.set_laser_modulated_power(10)\n",
    "    settings_confocal_refocus_fine()\n",
    "    pa.go_to_poi(poi_name, opt_times=0, ref_poi=None) \n",
    "    #\n",
    "    print(\"Find the defect \", poi_name)\n",
    "    res = find_the_defect(pa, poi_name, folder_defect)\n",
    "\n",
    "    print(\"Run spectrum\")\n",
    "    results_poi = take_spectrum(pa, poi_name, folder_defect, results_poi)\n",
    "\n",
    "    print(\"Run the saturation measurements\")\n",
    "    cobolt.set_laser_modulated_power(5)\n",
    "    \n",
    "    if not ple_is_here():\n",
    "        print(\"Adjusting the eta\")\n",
    "        res, results_poi = adjust_eta(pa, poi_name, folder_defect, results_poi, center_v)\n",
    "    if not ple_is_here():\n",
    "        # return the center eta\n",
    "        laser_controller_remote.etalon_voltage = center_v\n",
    "        continue\n",
    "    print(\"Fine optimization of the ple and confocal\")\n",
    "    res, results_poi = fine_optimize(pa, poi_name, folder_defect, results_poi)\n",
    "    print(\"Run the saturation measurements\")\n",
    "    results_poi = run_saturation_measurement(pa, res, poi_name, folder_defect, results_poi)\n",
    "    \n",
    "    with open(os.path.join(folder_defect, f'results_{poi_name}'), 'wb') as handle:\n",
    "        pickle.dump(results_poi, handle, protocol=pickle.HIGHEST_PROTOCOL)"
   ]
  },
  {
   "cell_type": "code",
   "execution_count": null,
   "id": "82ac4d2f",
   "metadata": {},
   "outputs": [],
   "source": [
    "spec_dat = np.genfromtxt(results_poi[poi_name][\"spectrum_data\"])\n",
    "ax = plt.subplot(111)\n",
    "\n",
    "ax.plot(spec_dat[:,0]/1e9, spec_dat[:,1])\n",
    "ax.grid(linestyle='--', color='#E68F6B')\n",
    "ax.xaxis.set_major_locator(ticker.MultipleLocator(5))\n",
    "ax.xaxis.set_minor_locator(ticker.MultipleLocator(1))\n",
    "ax.set_xlabel(r'$\\lambda$, nm')\n",
    "ax.set_ylabel(r'integrated counts')"
   ]
  },
  {
   "cell_type": "code",
   "execution_count": 10,
   "id": "828c9bab",
   "metadata": {},
   "outputs": [],
   "source": [
    "# constraints\n",
    "scan_range_constr = laser_scanner_logic.scan_ranges[\"a\"] #laser_scanner_logic.scanner_constraints.axes[\"a\"].value_range"
   ]
  },
  {
   "cell_type": "code",
   "execution_count": 11,
   "id": "eafa49dc",
   "metadata": {},
   "outputs": [
    {
     "data": {
      "text/plain": [
       "(17853.0, 18202.0)"
      ]
     },
     "execution_count": 11,
     "metadata": {},
     "output_type": "execute_result"
    }
   ],
   "source": [
    "scan_range_constr"
   ]
  },
  {
   "cell_type": "code",
   "execution_count": 1,
   "id": "64c0065f",
   "metadata": {},
   "outputs": [],
   "source": [
    "ibeam_smart.enable()"
   ]
  },
  {
   "cell_type": "code",
   "execution_count": 1,
   "id": "e7f9893b",
   "metadata": {},
   "outputs": [
    {
     "data": {
      "text/plain": [
       "0"
      ]
     },
     "execution_count": 1,
     "metadata": {},
     "output_type": "execute_result"
    }
   ],
   "source": [
    "high_finesse_wavemeter_remote.start_acquisition()"
   ]
  },
  {
   "cell_type": "code",
   "execution_count": 12,
   "id": "69775caf",
   "metadata": {},
   "outputs": [
    {
     "data": {
      "text/plain": [
       "(17853.0, 18202.0)"
      ]
     },
     "execution_count": 12,
     "metadata": {},
     "output_type": "execute_result"
    }
   ],
   "source": [
    "scan_range_constr"
   ]
  },
  {
   "cell_type": "code",
   "execution_count": 13,
   "id": "4f8f8c3d",
   "metadata": {},
   "outputs": [],
   "source": [
    "# factor_sigma = 0.509\n",
    "pa.go_to_ple_target(scan_range_constr[0])\n",
    "# time.sleep(5)\n"
   ]
  },
  {
   "cell_type": "code",
   "execution_count": 14,
   "id": "8d745881",
   "metadata": {},
   "outputs": [],
   "source": [
    "w1 = high_finesse_wavemeter_remote.get_current_wavelength()"
   ]
  },
  {
   "cell_type": "code",
   "execution_count": 15,
   "id": "a229de6e",
   "metadata": {},
   "outputs": [],
   "source": [
    "\n",
    "pa.go_to_ple_target(scan_range_constr[1])\n",
    "\n"
   ]
  },
  {
   "cell_type": "code",
   "execution_count": 16,
   "id": "b68ec844",
   "metadata": {},
   "outputs": [],
   "source": [
    "w2 = high_finesse_wavemeter_remote.get_current_wavelength()\n",
    "\n",
    "factor_sigma = (w2 - w1) * 1000000 / (scan_range_constr[1] - scan_range_constr[0]) #GHz "
   ]
  },
  {
   "cell_type": "code",
   "execution_count": 17,
   "id": "8f961af5",
   "metadata": {},
   "outputs": [
    {
     "data": {
      "text/plain": [
       "0.9743837832557048"
      ]
     },
     "execution_count": 17,
     "metadata": {},
     "output_type": "execute_result"
    }
   ],
   "source": [
    "factor_sigma"
   ]
  },
  {
   "cell_type": "code",
   "execution_count": null,
   "id": "1594156a",
   "metadata": {},
   "outputs": [],
   "source": [
    "factor_sigma = (w2 - w1) * 1000000 / laser_scanner_logic.scanner_constraints.axes[\"a\"].value_range[1] #GHz"
   ]
  },
  {
   "cell_type": "code",
   "execution_count": 1,
   "id": "3569c303",
   "metadata": {},
   "outputs": [
    {
     "ename": "NameError",
     "evalue": "name 'factor_sigma' is not defined",
     "output_type": "error",
     "traceback": [
      "\u001b[1;31m---------------------------------------------------------------------------\u001b[0m",
      "\u001b[1;31mNameError\u001b[0m                                 Traceback (most recent call last)",
      "Cell \u001b[1;32mIn[1], line 1\u001b[0m\n\u001b[1;32m----> 1\u001b[0m factor_sigma\n",
      "\u001b[1;31mNameError\u001b[0m: name 'factor_sigma' is not defined"
     ]
    }
   ],
   "source": [
    "factor_sigma"
   ]
  },
  {
   "cell_type": "code",
   "execution_count": null,
   "id": "cf7fc638",
   "metadata": {},
   "outputs": [
    {
     "data": {
      "text/plain": [
       "11473.132296146105"
      ]
     },
     "execution_count": 44,
     "metadata": {},
     "output_type": "execute_result"
    }
   ],
   "source": [
    "laser_scanner_logic.scanner_constraints.axes[\"a\"].value_range[1]"
   ]
  },
  {
   "cell_type": "code",
   "execution_count": null,
   "id": "a8b41807",
   "metadata": {},
   "outputs": [],
   "source": [
    "ni_laser_scanner._update_position_ranges({\"a\": (0, laser_scanner_logic.scanner_constraints.axes[\"a\"].value_range[1] * factor_sigma)})"
   ]
  },
  {
   "cell_type": "code",
   "execution_count": null,
   "id": "7062834c",
   "metadata": {},
   "outputs": [],
   "source": [
    "ni_laser_scanner._update_position_ranges({\"a\": (0, 26000 * factor_sigma)})"
   ]
  },
  {
   "cell_type": "code",
   "execution_count": null,
   "id": "e498fc79",
   "metadata": {},
   "outputs": [],
   "source": [
    "settings_confocal_refocus_fine()"
   ]
  },
  {
   "cell_type": "code",
   "execution_count": 6,
   "id": "013967a7",
   "metadata": {},
   "outputs": [],
   "source": [
    "ibeam_smart.enable()"
   ]
  },
  {
   "cell_type": "code",
   "execution_count": 7,
   "id": "fdeeffd9",
   "metadata": {},
   "outputs": [],
   "source": [
    "ibeam_smart.disable()"
   ]
  },
  {
   "cell_type": "code",
   "execution_count": 3,
   "id": "fe371b42",
   "metadata": {},
   "outputs": [],
   "source": [
    "cobolt.set_laser_modulated_power(70)"
   ]
  },
  {
   "cell_type": "code",
   "execution_count": 8,
   "id": "538b80aa",
   "metadata": {},
   "outputs": [],
   "source": [
    "cobolt.disable_modulated()"
   ]
  },
  {
   "cell_type": "code",
   "execution_count": 4,
   "id": "26ca72e8",
   "metadata": {},
   "outputs": [],
   "source": [
    "cobolt.enable_modulated()"
   ]
  },
  {
   "cell_type": "code",
   "execution_count": 2,
   "id": "f93d9afb",
   "metadata": {},
   "outputs": [
    {
     "ename": "KeyboardInterrupt",
     "evalue": "",
     "output_type": "error",
     "traceback": [
      "\u001b[1;31m---------------------------------------------------------------------------\u001b[0m",
      "\u001b[1;31mKeyboardInterrupt\u001b[0m                         Traceback (most recent call last)",
      "Cell \u001b[1;32mIn[2], line 1\u001b[0m\n\u001b[1;32m----> 1\u001b[0m settings_confocal_refocus_coarse()\n",
      "Cell \u001b[1;32mIn[1], line 111\u001b[0m, in \u001b[0;36msettings_confocal_refocus_coarse\u001b[1;34m()\u001b[0m\n\u001b[0;32m    106\u001b[0m scanner_gui\u001b[39m.\u001b[39m_osd\u001b[39m.\u001b[39msettings_widget\u001b[39m.\u001b[39moptimize_sequence_combobox\u001b[39m.\u001b[39msetCurrentIndex(seqs[\u001b[39m\"\u001b[39m\u001b[39mx, y, z\u001b[39m\u001b[39m\"\u001b[39m])\n\u001b[0;32m    108\u001b[0m scanner_gui\u001b[39m.\u001b[39m_osd\u001b[39m.\u001b[39mchange_settings({\u001b[39m'\u001b[39m\u001b[39mscan_frequency\u001b[39m\u001b[39m'\u001b[39m: {\u001b[39m\"\u001b[39m\u001b[39mx\u001b[39m\u001b[39m\"\u001b[39m: \u001b[39m5\u001b[39m, \u001b[39m\"\u001b[39m\u001b[39my\u001b[39m\u001b[39m\"\u001b[39m: \u001b[39m5\u001b[39m, \u001b[39m\"\u001b[39m\u001b[39mz\u001b[39m\u001b[39m\"\u001b[39m: \u001b[39m5\u001b[39m},\n\u001b[0;32m    109\u001b[0m                                 \u001b[39m\"\u001b[39m\u001b[39mscan_resolution\u001b[39m\u001b[39m\"\u001b[39m: {\u001b[39m\"\u001b[39m\u001b[39mx\u001b[39m\u001b[39m\"\u001b[39m: \u001b[39m80\u001b[39m, \u001b[39m\"\u001b[39m\u001b[39my\u001b[39m\u001b[39m\"\u001b[39m: \u001b[39m80\u001b[39m, \u001b[39m\"\u001b[39m\u001b[39mz\u001b[39m\u001b[39m\"\u001b[39m:\u001b[39m80\u001b[39m},\n\u001b[0;32m    110\u001b[0m                                 \u001b[39m\"\u001b[39m\u001b[39mscan_range\u001b[39m\u001b[39m\"\u001b[39m: {\u001b[39m\"\u001b[39m\u001b[39mx\u001b[39m\u001b[39m\"\u001b[39m: \u001b[39m2.5e-6\u001b[39m, \u001b[39m\"\u001b[39m\u001b[39my\u001b[39m\u001b[39m\"\u001b[39m: \u001b[39m2.5e-6\u001b[39m, \u001b[39m\"\u001b[39m\u001b[39mz\u001b[39m\u001b[39m\"\u001b[39m: \u001b[39m4.5e-6\u001b[39m}})\n\u001b[1;32m--> 111\u001b[0m scanner_gui\u001b[39m.\u001b[39;49m_osd\u001b[39m.\u001b[39;49maccept()\n\u001b[0;32m    112\u001b[0m time\u001b[39m.\u001b[39msleep(\u001b[39m0.5\u001b[39m)\n",
      "File \u001b[1;32m~\\Anaconda3\\envs\\squdi\\lib\\site-packages\\rpyc\\core\\netref.py:240\u001b[0m, in \u001b[0;36m_make_method.<locals>.__call__\u001b[1;34m(_self, *args, **kwargs)\u001b[0m\n\u001b[0;32m    238\u001b[0m \u001b[39mdef\u001b[39;00m \u001b[39m__call__\u001b[39m(_self, \u001b[39m*\u001b[39margs, \u001b[39m*\u001b[39m\u001b[39m*\u001b[39mkwargs):\n\u001b[0;32m    239\u001b[0m     kwargs \u001b[39m=\u001b[39m \u001b[39mtuple\u001b[39m(kwargs\u001b[39m.\u001b[39mitems())\n\u001b[1;32m--> 240\u001b[0m     \u001b[39mreturn\u001b[39;00m syncreq(_self, consts\u001b[39m.\u001b[39;49mHANDLE_CALL, args, kwargs)\n",
      "File \u001b[1;32m~\\Anaconda3\\envs\\squdi\\lib\\site-packages\\rpyc\\core\\netref.py:63\u001b[0m, in \u001b[0;36msyncreq\u001b[1;34m(proxy, handler, *args)\u001b[0m\n\u001b[0;32m     51\u001b[0m \u001b[39m\u001b[39m\u001b[39m\"\"\"Performs a synchronous request on the given proxy object.\u001b[39;00m\n\u001b[0;32m     52\u001b[0m \u001b[39mNot intended to be invoked directly.\u001b[39;00m\n\u001b[0;32m     53\u001b[0m \n\u001b[1;32m   (...)\u001b[0m\n\u001b[0;32m     60\u001b[0m \u001b[39m:returns: the result of the operation\u001b[39;00m\n\u001b[0;32m     61\u001b[0m \u001b[39m\"\"\"\u001b[39;00m\n\u001b[0;32m     62\u001b[0m conn \u001b[39m=\u001b[39m \u001b[39mobject\u001b[39m\u001b[39m.\u001b[39m\u001b[39m__getattribute__\u001b[39m(proxy, \u001b[39m\"\u001b[39m\u001b[39m____conn__\u001b[39m\u001b[39m\"\u001b[39m)\n\u001b[1;32m---> 63\u001b[0m \u001b[39mreturn\u001b[39;00m conn\u001b[39m.\u001b[39;49msync_request(handler, proxy, \u001b[39m*\u001b[39;49margs)\n",
      "File \u001b[1;32m~\\Anaconda3\\envs\\squdi\\lib\\site-packages\\rpyc\\core\\protocol.py:718\u001b[0m, in \u001b[0;36mConnection.sync_request\u001b[1;34m(self, handler, *args)\u001b[0m\n\u001b[0;32m    715\u001b[0m _async_res \u001b[39m=\u001b[39m \u001b[39mself\u001b[39m\u001b[39m.\u001b[39masync_request(handler, \u001b[39m*\u001b[39margs, timeout\u001b[39m=\u001b[39mtimeout)\n\u001b[0;32m    716\u001b[0m \u001b[39m# _async_res is an instance of AsyncResult, the value property invokes Connection.serve via AsyncResult.wait\u001b[39;00m\n\u001b[0;32m    717\u001b[0m \u001b[39m# So, the _recvlock can be acquired multiple times by the owning thread and warrants the use of RLock\u001b[39;00m\n\u001b[1;32m--> 718\u001b[0m \u001b[39mreturn\u001b[39;00m _async_res\u001b[39m.\u001b[39;49mvalue\n",
      "File \u001b[1;32m~\\Anaconda3\\envs\\squdi\\lib\\site-packages\\rpyc\\core\\async_.py:106\u001b[0m, in \u001b[0;36mAsyncResult.value\u001b[1;34m(self)\u001b[0m\n\u001b[0;32m     98\u001b[0m \u001b[39m@property\u001b[39m\n\u001b[0;32m     99\u001b[0m \u001b[39mdef\u001b[39;00m \u001b[39mvalue\u001b[39m(\u001b[39mself\u001b[39m):\n\u001b[0;32m    100\u001b[0m \u001b[39m    \u001b[39m\u001b[39m\"\"\"Returns the result of the operation. If the result has not yet\u001b[39;00m\n\u001b[0;32m    101\u001b[0m \u001b[39m    arrived, accessing this property will wait for it. If the result does\u001b[39;00m\n\u001b[0;32m    102\u001b[0m \u001b[39m    not arrive before the expiry time elapses, :class:`AsyncResultTimeout`\u001b[39;00m\n\u001b[0;32m    103\u001b[0m \u001b[39m    is raised. If the returned result is an exception, it will be raised\u001b[39;00m\n\u001b[0;32m    104\u001b[0m \u001b[39m    here. Otherwise, the result is returned directly.\u001b[39;00m\n\u001b[0;32m    105\u001b[0m \u001b[39m    \"\"\"\u001b[39;00m\n\u001b[1;32m--> 106\u001b[0m     \u001b[39mself\u001b[39;49m\u001b[39m.\u001b[39;49mwait()\n\u001b[0;32m    107\u001b[0m     \u001b[39mif\u001b[39;00m \u001b[39mself\u001b[39m\u001b[39m.\u001b[39m_is_exc:\n\u001b[0;32m    108\u001b[0m         \u001b[39mraise\u001b[39;00m \u001b[39mself\u001b[39m\u001b[39m.\u001b[39m_obj\n",
      "File \u001b[1;32m~\\Anaconda3\\envs\\squdi\\lib\\site-packages\\rpyc\\core\\async_.py:51\u001b[0m, in \u001b[0;36mAsyncResult.wait\u001b[1;34m(self)\u001b[0m\n\u001b[0;32m     44\u001b[0m \u001b[39m\u001b[39m\u001b[39m\"\"\"Waits for the result to arrive. If the AsyncResult object has an\u001b[39;00m\n\u001b[0;32m     45\u001b[0m \u001b[39mexpiry set, and the result did not arrive within that timeout,\u001b[39;00m\n\u001b[0;32m     46\u001b[0m \u001b[39man :class:`AsyncResultTimeout` exception is raised\"\"\"\u001b[39;00m\n\u001b[0;32m     47\u001b[0m \u001b[39mwhile\u001b[39;00m \u001b[39mnot\u001b[39;00m (\u001b[39mself\u001b[39m\u001b[39m.\u001b[39m_is_ready \u001b[39mor\u001b[39;00m \u001b[39mself\u001b[39m\u001b[39m.\u001b[39mexpired):\n\u001b[0;32m     48\u001b[0m     \u001b[39m# Serve the connection since we are not ready. Suppose\u001b[39;00m\n\u001b[0;32m     49\u001b[0m     \u001b[39m# the reply for our seq is served. The callback is this class\u001b[39;00m\n\u001b[0;32m     50\u001b[0m     \u001b[39m# so __call__ sets our obj and _is_ready to true.\u001b[39;00m\n\u001b[1;32m---> 51\u001b[0m     \u001b[39mself\u001b[39;49m\u001b[39m.\u001b[39;49m_conn\u001b[39m.\u001b[39;49mserve(\u001b[39mself\u001b[39;49m\u001b[39m.\u001b[39;49m_ttl)\n\u001b[0;32m     53\u001b[0m \u001b[39m# Check if we timed out before result was ready\u001b[39;00m\n\u001b[0;32m     54\u001b[0m \u001b[39mif\u001b[39;00m \u001b[39mnot\u001b[39;00m \u001b[39mself\u001b[39m\u001b[39m.\u001b[39m_is_ready:\n",
      "File \u001b[1;32m~\\Anaconda3\\envs\\squdi\\lib\\site-packages\\rpyc\\core\\protocol.py:438\u001b[0m, in \u001b[0;36mConnection.serve\u001b[1;34m(self, timeout, wait_for_lock)\u001b[0m\n\u001b[0;32m    436\u001b[0m \u001b[39mtry\u001b[39;00m:\n\u001b[0;32m    437\u001b[0m     data \u001b[39m=\u001b[39m \u001b[39mNone\u001b[39;00m  \u001b[39m# Ensure data is initialized\u001b[39;00m\n\u001b[1;32m--> 438\u001b[0m     data \u001b[39m=\u001b[39m \u001b[39mself\u001b[39;49m\u001b[39m.\u001b[39;49m_channel\u001b[39m.\u001b[39;49mpoll(timeout) \u001b[39mand\u001b[39;00m \u001b[39mself\u001b[39m\u001b[39m.\u001b[39m_channel\u001b[39m.\u001b[39mrecv()\n\u001b[0;32m    439\u001b[0m \u001b[39mexcept\u001b[39;00m \u001b[39mException\u001b[39;00m \u001b[39mas\u001b[39;00m exc:\n\u001b[0;32m    440\u001b[0m     \u001b[39mself\u001b[39m\u001b[39m.\u001b[39m_recvlock\u001b[39m.\u001b[39mrelease()\n",
      "File \u001b[1;32m~\\Anaconda3\\envs\\squdi\\lib\\site-packages\\rpyc\\core\\channel.py:47\u001b[0m, in \u001b[0;36mChannel.poll\u001b[1;34m(self, timeout)\u001b[0m\n\u001b[0;32m     45\u001b[0m \u001b[39mdef\u001b[39;00m \u001b[39mpoll\u001b[39m(\u001b[39mself\u001b[39m, timeout):\n\u001b[0;32m     46\u001b[0m \u001b[39m    \u001b[39m\u001b[39m\"\"\"polls the underlying steam for data, waiting up to *timeout* seconds\"\"\"\u001b[39;00m\n\u001b[1;32m---> 47\u001b[0m     \u001b[39mreturn\u001b[39;00m \u001b[39mself\u001b[39;49m\u001b[39m.\u001b[39;49mstream\u001b[39m.\u001b[39;49mpoll(timeout)\n",
      "File \u001b[1;32m~\\Anaconda3\\envs\\squdi\\lib\\site-packages\\rpyc\\core\\stream.py:48\u001b[0m, in \u001b[0;36mStream.poll\u001b[1;34m(self, timeout)\u001b[0m\n\u001b[0;32m     46\u001b[0m \u001b[39mwhile\u001b[39;00m \u001b[39mTrue\u001b[39;00m:\n\u001b[0;32m     47\u001b[0m     \u001b[39mtry\u001b[39;00m:\n\u001b[1;32m---> 48\u001b[0m         rl \u001b[39m=\u001b[39m p\u001b[39m.\u001b[39;49mpoll(timeout\u001b[39m.\u001b[39;49mtimeleft())\n\u001b[0;32m     49\u001b[0m     \u001b[39mexcept\u001b[39;00m select_error:\n\u001b[0;32m     50\u001b[0m         ex \u001b[39m=\u001b[39m sys\u001b[39m.\u001b[39mexc_info()[\u001b[39m1\u001b[39m]\n",
      "File \u001b[1;32m~\\Anaconda3\\envs\\squdi\\lib\\site-packages\\rpyc\\lib\\compat.py:164\u001b[0m, in \u001b[0;36mSelectingPoll.poll\u001b[1;34m(self, timeout)\u001b[0m\n\u001b[0;32m    162\u001b[0m     \u001b[39mreturn\u001b[39;00m []  \u001b[39m# need to return an empty array in this case\u001b[39;00m\n\u001b[0;32m    163\u001b[0m \u001b[39melse\u001b[39;00m:\n\u001b[1;32m--> 164\u001b[0m     rl, wl, _ \u001b[39m=\u001b[39m select(\u001b[39mself\u001b[39;49m\u001b[39m.\u001b[39;49mrlist, \u001b[39mself\u001b[39;49m\u001b[39m.\u001b[39;49mwlist, (), timeout)\n\u001b[0;32m    165\u001b[0m     \u001b[39mreturn\u001b[39;00m [(fd, \u001b[39m\"\u001b[39m\u001b[39mr\u001b[39m\u001b[39m\"\u001b[39m) \u001b[39mfor\u001b[39;00m fd \u001b[39min\u001b[39;00m rl] \u001b[39m+\u001b[39m [(fd, \u001b[39m\"\u001b[39m\u001b[39mw\u001b[39m\u001b[39m\"\u001b[39m) \u001b[39mfor\u001b[39;00m fd \u001b[39min\u001b[39;00m wl]\n",
      "\u001b[1;31mKeyboardInterrupt\u001b[0m: "
     ]
    },
    {
     "ename": "",
     "evalue": "",
     "output_type": "error",
     "traceback": [
      "\u001b[1;31mThe Kernel crashed while executing code in the the current cell or a previous cell. Please review the code in the cell(s) to identify a possible cause of the failure. Click <a href='https://aka.ms/vscodeJupyterKernelCrash'>here</a> for more info. View Jupyter <a href='command:jupyter.viewOutput'>log</a> for further details."
     ]
    },
    {
     "ename": "",
     "evalue": "",
     "output_type": "error",
     "traceback": [
      "\u001b[1;31mThe Kernel crashed while executing code in the the current cell or a previous cell. Please review the code in the cell(s) to identify a possible cause of the failure. Click <a href='https://aka.ms/vscodeJupyterKernelCrash'>here</a> for more info. View Jupyter <a href='command:jupyter.viewOutput'>log</a> for further details."
     ]
    },
    {
     "ename": "",
     "evalue": "",
     "output_type": "error",
     "traceback": [
      "\u001b[1;31mFailed to interrupt the Kernel. \n",
      "\u001b[1;31mCanceled future for execute_request message before replies were done. \n",
      "\u001b[1;31mView Jupyter <a href='command:jupyter.viewOutput'>log</a> for further details."
     ]
    }
   ],
   "source": [
    "settings_confocal_refocus_coarse()"
   ]
  },
  {
   "cell_type": "code",
   "execution_count": null,
   "id": "2487b5c5",
   "metadata": {},
   "outputs": [],
   "source": [
    "def calibrate_ple_scanner_wm():\n",
    "    new_position_ranges = ()\n",
    "    ni_laser_scanner._update_position_ranges()"
   ]
  },
  {
   "cell_type": "code",
   "execution_count": 7,
   "id": "ddaa1d5a",
   "metadata": {},
   "outputs": [],
   "source": [
    "from scipy.constants import c"
   ]
  },
  {
   "cell_type": "code",
   "execution_count": 12,
   "id": "b18aaf4b",
   "metadata": {},
   "outputs": [
    {
     "name": "stdout",
     "output_type": "stream",
     "text": [
      "619.236112267036 nm\n"
     ]
    }
   ],
   "source": [
    "w1 = high_finesse_wavemeter_remote.get_current_wavelength()\n",
    "print(1e-3 * c / w1, \"nm\")"
   ]
  },
  {
   "cell_type": "code",
   "execution_count": 15,
   "id": "d7a80dd1",
   "metadata": {},
   "outputs": [],
   "source": [
    "pa.one_pulse_repump(\"violet\")"
   ]
  },
  {
   "cell_type": "code",
   "execution_count": 21,
   "id": "ce484d80",
   "metadata": {},
   "outputs": [],
   "source": [
    "results_poi = {}"
   ]
  },
  {
   "cell_type": "code",
   "execution_count": 23,
   "id": "7ff4f32b",
   "metadata": {},
   "outputs": [],
   "source": [
    "poi_name = \"def5\"\n",
    "\n",
    "results_poi[poi_name] = {}  \n",
    "folder = rf\"C:\\Users\\yy3\\Documents\\data\\Vlad\\158\\30-04\\#1D\"\n",
    "os.makedirs(folder, exist_ok=True)\n",
    "\n",
    "os.makedirs(folder_defect := os.path.join(folder, poi_name),  exist_ok=True)\n",
    "folder_defect = os.path.join(folder_defect, r\"auto\")\n",
    "\n",
    "results_poi = take_spectrum(pa, poi_name, folder_defect, results_poi)"
   ]
  },
  {
   "cell_type": "code",
   "execution_count": 41,
   "id": "e45c876d",
   "metadata": {},
   "outputs": [],
   "source": [
    "res = pa.do_ple_scan(lines = 1)"
   ]
  },
  {
   "cell_type": "code",
   "execution_count": 48,
   "id": "434f301a",
   "metadata": {},
   "outputs": [
    {
     "name": "stdout",
     "output_type": "stream",
     "text": [
      "Saving no repump\n",
      "Saving no repump\n",
      "Saving no repump\n",
      "Saving no repump\n",
      "Saving no repump\n",
      "NO, PLE 0.007139380938749995\n",
      "NO, PLE 0.007139380938749995\n",
      "NO, PLE 0.013274512569453556\n",
      "Saving no repump\n",
      "Saving no repump\n",
      "Saving no repump\n"
     ]
    }
   ],
   "source": [
    "results_poi = run_saturation_measurement(pa, res, poi_name, folder_defect, results_poi, \n",
    "                                         power_steps=[300, 250, 220, 180, 150, 130, 120, 110, 100],\n",
    "                                         repumped_power=120,\n",
    "                                         no_repump_power=140)"
   ]
  },
  {
   "cell_type": "code",
   "execution_count": 50,
   "id": "90197a63",
   "metadata": {},
   "outputs": [],
   "source": [
    "cobolt.enable_modulated()"
   ]
  },
  {
   "cell_type": "code",
   "execution_count": 27,
   "id": "807aa2be",
   "metadata": {},
   "outputs": [
    {
     "data": {
      "text/plain": [
       "0.8446843850145778"
      ]
     },
     "execution_count": 27,
     "metadata": {},
     "output_type": "execute_result"
    }
   ],
   "source": [
    "ple_gui.fit_result[1].rsquared"
   ]
  },
  {
   "cell_type": "code",
   "execution_count": null,
   "id": "91faf990",
   "metadata": {},
   "outputs": [],
   "source": [
    " \n",
    "with open(os.path.join(folder_defect, f'results_{poi_name}'), 'wb') as handle:\n",
    "    pickle.dump(results_poi, handle, protocol=pickle.HIGHEST_PROTOCOL)"
   ]
  },
  {
   "cell_type": "code",
   "execution_count": null,
   "id": "b3cde842",
   "metadata": {},
   "outputs": [],
   "source": []
  },
  {
   "cell_type": "code",
   "execution_count": 49,
   "id": "49546dbc",
   "metadata": {},
   "outputs": [
    {
     "name": "stdout",
     "output_type": "stream",
     "text": [
      "Find the defect  def1\n",
      "Run spectrum\n",
      "Run the saturation measurements\n",
      "Fine optimization of the ple and confocal\n",
      "Run the saturation measurements\n",
      "NO, PLE 0.033474415845032635\n",
      "NO, PLE 0.024530376789570707\n",
      "NO, PLE 0.15451655179443635\n",
      "NO, PLE 0.17266087438252142\n",
      "NO, PLE 0.17266087438252142\n",
      "NO, PLE 0.07732385042796786\n",
      "NO, PLE 0.07732385042796786\n",
      "NO, PLE 0.022436779884381863\n",
      "NO, PLE 0.022436779884381863\n",
      "NO, PLE 0.0361057355008616\n",
      "NO, PLE 0.006786077576927618\n",
      "NO, PLE 0.009910708908924426\n",
      "NO, PLE 0.005514420080879434\n",
      "NO, PLE 0.005514420080879434\n",
      "NO, PLE 0.010876333519360126\n",
      "NO, PLE 0.029553053146815\n",
      "NO, PLE 0.021315836407955646\n",
      "NO, PLE 0.021315836407955646\n",
      "NO, PLE 0.008216189077942082\n",
      "NO, PLE 0.007051713158866435\n",
      "NO, PLE 0.005899489778865674\n",
      "NO, PLE 0.005899489778865674\n",
      "NO, PLE 0.008628390458879087\n",
      "NO, PLE 0.01961682977947321\n",
      "NO, PLE 0.005319239064132342\n",
      "NO, PLE 0.005319239064132342\n",
      "NO, PLE 0.01214459099955667\n",
      "NO, PLE 0.012438860160652654\n",
      "NO, PLE 0.007216024137078447\n",
      "NO, PLE 0.007216024137078447\n",
      "NO, PLE 0.008419305511224273\n",
      "NO, PLE 0.01245854580523742\n",
      "NO, PLE 0.016483980686228583\n",
      "NO, PLE 0.016483980686228583\n",
      "Find the defect  def2\n",
      "Run spectrum\n",
      "Run the saturation measurements\n",
      "Fine optimization of the ple and confocal\n",
      "Run the saturation measurements\n",
      "Saving no repump\n",
      "NO, PLE 0.0021644924899805185\n",
      "NO, PLE 0.06633905087774217\n",
      "NO, PLE 0.06633905087774217\n",
      "NO, PLE 0.1100422244391639\n",
      "NO, PLE 0.004710917270232096\n",
      "NO, PLE 0.004213546961188364\n",
      "NO, PLE 0.014366565545318566\n",
      "NO, PLE 0.014366565545318566\n",
      "NO, PLE 0.0019780323992679705\n",
      "NO, PLE 0.003292764027207573\n",
      "NO, PLE 0.006634773101775293\n",
      "NO, PLE 0.006634773101775293\n",
      "NO, PLE 0.004912342794421876\n",
      "NO, PLE 0.005132417318474025\n",
      "NO, PLE 0.013988173062479348\n",
      "NO, PLE 0.013988173062479348\n",
      "NO, PLE 0.008292309660576924\n",
      "NO, PLE 0.00164372424248993\n",
      "NO, PLE 0.007097584246562927\n",
      "NO, PLE 0.007097584246562927\n",
      "NO, PLE 0.004911469568770421\n",
      "NO, PLE 0.0047611238527029975\n",
      "NO, PLE 0.008855373059337368\n",
      "NO, PLE 0.008855373059337368\n",
      "NO, PLE 0.009270540423951812\n",
      "NO, PLE 0.011852921742608546\n",
      "NO, PLE 0.00432036433260008\n",
      "NO, PLE 0.00432036433260008\n"
     ]
    }
   ],
   "source": [
    "folder = rf\"C:\\Users\\yy3\\Documents\\data\\Vlad\\158\\30-04\\#1D\\Auto\"\n",
    "os.makedirs(folder, exist_ok=True)\n",
    "#folder = os.path.join(folder, r\"auto2\")\n",
    "\n",
    "center_v = laser_controller_remote.etalon_voltage\n",
    "os.makedirs(folder, exist_ok=True)\n",
    "high_finesse_wavemeter_remote.start_acquisition()\n",
    "# run throught the defects:\n",
    "cobolt.enable_modulated()\n",
    "for poi_name in poi_manager_logic.poi_names:\n",
    "    if poi_name == \"ref\":\n",
    "        continue\n",
    "    results_poi = {}\n",
    "    results_poi[poi_name] = {}  \n",
    "    \n",
    "    os.makedirs(folder_defect := os.path.join(folder, poi_name),  exist_ok=True)\n",
    "    #Go to the defect:\n",
    "    cobolt.set_laser_modulated_power(5)\n",
    "    settings_confocal_refocus_fine()\n",
    "    pa.go_to_poi(poi_name, opt_times=0, ref_poi=None) \n",
    "    #\n",
    "    print(\"Find the defect \", poi_name)\n",
    "    res = find_the_defect(pa, poi_name, folder_defect)\n",
    "\n",
    "    print(\"Run spectrum\")\n",
    "    results_poi = take_spectrum(pa, poi_name, folder_defect, results_poi)\n",
    "\n",
    "    print(\"Run the saturation measurements\")\n",
    "    cobolt.set_laser_modulated_power(5)\n",
    "    \n",
    "    if not ple_is_here():\n",
    "        res = pa.do_ple_scan(lines = 1)\n",
    "    print(\"Fine optimization of the ple and confocal\")\n",
    "    res, results_poi = fine_optimize(pa, poi_name, folder_defect, results_poi)\n",
    "    print(\"Run the saturation measurements\")\n",
    "    results_poi = run_saturation_measurement(pa, res, poi_name, folder_defect, results_poi)\n",
    "    \n",
    "    with open(os.path.join(folder_defect, f'results_{poi_name}'), 'wb') as handle:\n",
    "        pickle.dump(results_poi, handle, protocol=pickle.HIGHEST_PROTOCOL)"
   ]
  },
  {
   "cell_type": "code",
   "execution_count": 51,
   "id": "193fdd65",
   "metadata": {},
   "outputs": [
    {
     "data": {
      "text/plain": [
       "-7.4"
      ]
     },
     "execution_count": 51,
     "metadata": {},
     "output_type": "execute_result"
    }
   ],
   "source": [
    "center_v"
   ]
  },
  {
   "cell_type": "code",
   "execution_count": 53,
   "id": "c99f79cb",
   "metadata": {},
   "outputs": [
    {
     "ename": "KeyboardInterrupt",
     "evalue": "",
     "output_type": "error",
     "traceback": [
      "\u001b[1;31m---------------------------------------------------------------------------\u001b[0m",
      "\u001b[1;31mKeyboardInterrupt\u001b[0m                         Traceback (most recent call last)",
      "Cell \u001b[1;32mIn[53], line 25\u001b[0m\n\u001b[0;32m     23\u001b[0m switchlogic\u001b[39m.\u001b[39mset_state(\u001b[39m\"\u001b[39m\u001b[39mScanningMode\u001b[39m\u001b[39m\"\u001b[39m, \u001b[39m'\u001b[39m\u001b[39mWavemeter\u001b[39m\u001b[39m'\u001b[39m)\n\u001b[0;32m     24\u001b[0m pa\u001b[39m.\u001b[39mset_resonant_power(power \u001b[39m=\u001b[39m \u001b[39m300\u001b[39m)\n\u001b[1;32m---> 25\u001b[0m pa\u001b[39m.\u001b[39;49mgo_to_poi(poi_name, opt_times\u001b[39m=\u001b[39;49m\u001b[39m2\u001b[39;49m, ref_poi\u001b[39m=\u001b[39;49m\u001b[39mNone\u001b[39;49;00m) \n\u001b[0;32m     26\u001b[0m \u001b[39m#\u001b[39;00m\n\u001b[0;32m     27\u001b[0m \u001b[39m# print(\"Find the defect \", poi_name)\u001b[39;00m\n\u001b[0;32m     28\u001b[0m \u001b[39m# res = find_the_defect(pa, poi_name, folder_defect)\u001b[39;00m\n",
      "File \u001b[1;32mc:\\new_qudi\\scudi\\src\\qudi\\jupyternotebooks\\automatization\\ple_statistics.py:36\u001b[0m, in \u001b[0;36mPleAuto.go_to_poi\u001b[1;34m(self, poi_cur, ref_poi, opt_times)\u001b[0m\n\u001b[0;32m     34\u001b[0m     \u001b[39mself\u001b[39m\u001b[39m.\u001b[39mscanning_optimize_logic\u001b[39m.\u001b[39mstart_optimize()\n\u001b[0;32m     35\u001b[0m     \u001b[39mwhile\u001b[39;00m \u001b[39mself\u001b[39m\u001b[39m.\u001b[39mscanning_optimize_logic\u001b[39m.\u001b[39mmodule_state()\u001b[39m==\u001b[39m\u001b[39m'\u001b[39m\u001b[39mlocked\u001b[39m\u001b[39m'\u001b[39m:\n\u001b[1;32m---> 36\u001b[0m         time\u001b[39m.\u001b[39;49msleep(\u001b[39m1\u001b[39;49m)\n\u001b[0;32m     37\u001b[0m time\u001b[39m.\u001b[39msleep(\u001b[39m1\u001b[39m)\n",
      "\u001b[1;31mKeyboardInterrupt\u001b[0m: "
     ]
    }
   ],
   "source": [
    "folder = rf\"C:\\Users\\yy3\\Documents\\data\\Vlad\\158\\30-04\\#1D\\ROI2\\{datetime.today().strftime('%d-%m-%Y')}\"\n",
    "os.makedirs(folder, exist_ok=True)\n",
    "# folder = os.path.join(folder, r\"auto\")\n",
    "\n",
    "center_v = laser_controller_remote.etalon_voltage\n",
    "os.makedirs(folder, exist_ok=True)\n",
    "\n",
    "poi_name = \"def1\"\n",
    "results_poi = {}\n",
    "results_poi[poi_name] = {}  \n",
    "\n",
    "\n",
    "high_finesse_wavemeter_remote.start_acquisition()\n",
    "# run throught the defects:\n",
    "cobolt.enable_modulated()\n",
    "cobolt.set_laser_modulated_power(10)\n",
    "\n",
    "\n",
    "os.makedirs(folder_defect := os.path.join(folder, poi_name),  exist_ok=True)\n",
    "#Go to the defect:\n",
    "\n",
    "settings_confocal_refocus_fine()\n",
    "switchlogic.set_state(\"ScanningMode\", 'Wavemeter')\n",
    "pa.set_resonant_power(power = 300)\n",
    "pa.go_to_poi(poi_name, opt_times=2, ref_poi=None) \n",
    "#\n",
    "# print(\"Find the defect \", poi_name)\n",
    "# res = find_the_defect(pa, poi_name, folder_defect)\n",
    "\n",
    "\n"
   ]
  },
  {
   "cell_type": "code",
   "execution_count": 56,
   "id": "59d08f6d",
   "metadata": {},
   "outputs": [
    {
     "name": "stdout",
     "output_type": "stream",
     "text": [
      "Run spectrum\n"
     ]
    }
   ],
   "source": [
    "print(\"Run spectrum\")\n",
    "results_poi = take_spectrum(pa, poi_name, folder_defect, results_poi)"
   ]
  },
  {
   "cell_type": "code",
   "execution_count": null,
   "id": "459d1029",
   "metadata": {},
   "outputs": [],
   "source": [
    "\n",
    "print(\"Run the saturation measurements\")\n",
    "cobolt.set_laser_modulated_power(5)\n",
    "\n",
    "if not ple_is_here():\n",
    "    res = pa.do_ple_scan(lines = 1)\n",
    "    if not ple_is_here():\n",
    "        print(\"Adjusting the eta\")\n",
    "        res, results_poi = adjust_eta(pa, poi_name, folder_defect, results_poi, center_v)\n",
    "if not ple_is_here():\n",
    "    # return the center eta\n",
    "    laser_controller_remote.etalon_voltage = center_v\n",
    "    continue\n",
    "print(\"Fine optimization of the ple and confocal\")\n",
    "res, results_poi = fine_optimize(pa, poi_name, folder_defect, results_poi)\n",
    "print(\"Run the saturation measurements\")\n",
    "results_poi = run_saturation_measurement(pa, res, poi_name, folder_defect, results_poi)\n",
    "\n",
    "with open(os.path.join(folder_defect, f'results_{poi_name}'), 'wb') as handle:\n",
    "    pickle.dump(results_poi, handle, protocol=pickle.HIGHEST_PROTOCOL)"
   ]
  },
  {
   "cell_type": "code",
   "execution_count": 65,
   "id": "d00c94a0",
   "metadata": {},
   "outputs": [],
   "source": [
    "switchlogic.set_state(\"ScanningMode\", 'NI')"
   ]
  },
  {
   "cell_type": "code",
   "execution_count": 67,
   "id": "82b9fba3",
   "metadata": {},
   "outputs": [],
   "source": [
    "res = pa.do_ple_scan(lines = 1)"
   ]
  },
  {
   "cell_type": "code",
   "execution_count": 68,
   "id": "0ef434fd",
   "metadata": {},
   "outputs": [],
   "source": [
    "\n"
   ]
  },
  {
   "cell_type": "code",
   "execution_count": 69,
   "id": "3d56ced2",
   "metadata": {},
   "outputs": [],
   "source": [
    "# laser_controller_remote.etalon_voltage = center_v - 0.2"
   ]
  },
  {
   "cell_type": "code",
   "execution_count": null,
   "id": "aa89145c",
   "metadata": {},
   "outputs": [],
   "source": []
  },
  {
   "cell_type": "code",
   "execution_count": 72,
   "id": "76737297",
   "metadata": {},
   "outputs": [],
   "source": [
    "\n"
   ]
  },
  {
   "cell_type": "code",
   "execution_count": null,
   "id": "31ca7891",
   "metadata": {},
   "outputs": [],
   "source": []
  },
  {
   "cell_type": "code",
   "execution_count": 84,
   "id": "9bafda54",
   "metadata": {},
   "outputs": [
    {
     "name": "stdout",
     "output_type": "stream",
     "text": [
      "Scan sigma 2891.6101605174285\n",
      "Scan sigma no repump 2918.530160776967\n",
      "Scan sigma 1206.7786170433833\n",
      "Scan sigma no repump 1542.2814734240756\n",
      "Scan sigma 661.9666567489069\n",
      "Scan sigma no repump 300\n",
      "Scan sigma 300\n",
      "Scan sigma no repump 300\n"
     ]
    },
    {
     "ename": "KeyboardInterrupt",
     "evalue": "",
     "output_type": "error",
     "traceback": [
      "\u001b[1;31m---------------------------------------------------------------------------\u001b[0m",
      "\u001b[1;31mKeyboardInterrupt\u001b[0m                         Traceback (most recent call last)",
      "Cell \u001b[1;32mIn[84], line 25\u001b[0m\n\u001b[0;32m     22\u001b[0m time\u001b[39m.\u001b[39msleep(\u001b[39m1\u001b[39m)\n\u001b[0;32m     24\u001b[0m \u001b[39m#finding ple in a small range\u001b[39;00m\n\u001b[1;32m---> 25\u001b[0m res \u001b[39m=\u001b[39m pa\u001b[39m.\u001b[39;49mdo_ple_scan(lines \u001b[39m=\u001b[39;49m \u001b[39m1\u001b[39;49m, in_range\u001b[39m=\u001b[39;49m(\n\u001b[0;32m     26\u001b[0m     res[\u001b[39m\"\u001b[39;49m\u001b[39mcenter\u001b[39;49m\u001b[39m\"\u001b[39;49m]\u001b[39m.\u001b[39;49mvalue \u001b[39m-\u001b[39;49m res[\u001b[39m\"\u001b[39;49m\u001b[39msigma\u001b[39;49m\u001b[39m\"\u001b[39;49m] \u001b[39m*\u001b[39;49m \u001b[39m10\u001b[39;49m, \n\u001b[0;32m     27\u001b[0m     res[\u001b[39m\"\u001b[39;49m\u001b[39mcenter\u001b[39;49m\u001b[39m\"\u001b[39;49m]\u001b[39m.\u001b[39;49mvalue \u001b[39m+\u001b[39;49m res[\u001b[39m\"\u001b[39;49m\u001b[39msigma\u001b[39;49m\u001b[39m\"\u001b[39;49m] \u001b[39m*\u001b[39;49m \u001b[39m10\u001b[39;49m    \n\u001b[0;32m     28\u001b[0m ))\n\u001b[0;32m     30\u001b[0m scan_sigma \u001b[39m=\u001b[39m fine_sigma \u001b[39mif\u001b[39;00m res[\u001b[39m\"\u001b[39m\u001b[39msigma\u001b[39m\u001b[39m\"\u001b[39m] \u001b[39m<\u001b[39m fine_sigma \u001b[39m/\u001b[39m \u001b[39m3\u001b[39m \u001b[39melse\u001b[39;00m res[\u001b[39m\"\u001b[39m\u001b[39msigma\u001b[39m\u001b[39m\"\u001b[39m] \u001b[39m*\u001b[39m \u001b[39m3\u001b[39m\n\u001b[0;32m     31\u001b[0m \u001b[39mprint\u001b[39m(\u001b[39m\"\u001b[39m\u001b[39mScan sigma\u001b[39m\u001b[39m\"\u001b[39m, scan_sigma)\n",
      "File \u001b[1;32mc:\\new_qudi\\scudi\\src\\qudi\\jupyternotebooks\\automatization\\ple_statistics.py:83\u001b[0m, in \u001b[0;36mPleAuto.do_ple_scan\u001b[1;34m(self, lines, in_range, frequency, resolution)\u001b[0m\n\u001b[0;32m     81\u001b[0m \u001b[39mwhile\u001b[39;00m \u001b[39mself\u001b[39m\u001b[39m.\u001b[39mlaser_scanner_logic\u001b[39m.\u001b[39mmodule_state()\u001b[39m==\u001b[39m\u001b[39m'\u001b[39m\u001b[39mlocked\u001b[39m\u001b[39m'\u001b[39m:\n\u001b[0;32m     82\u001b[0m         time\u001b[39m.\u001b[39msleep(\u001b[39m1\u001b[39m)\n\u001b[1;32m---> 83\u001b[0m time\u001b[39m.\u001b[39;49msleep(\u001b[39m1\u001b[39;49m)\n\u001b[0;32m     84\u001b[0m \u001b[39mself\u001b[39m\u001b[39m.\u001b[39mple_gui\u001b[39m.\u001b[39m_fit_dockwidget\u001b[39m.\u001b[39mfit_widget\u001b[39m.\u001b[39msigDoFit\u001b[39m.\u001b[39memit(\u001b[39m\"\u001b[39m\u001b[39mLorentzian\u001b[39m\u001b[39m\"\u001b[39m)\n\u001b[0;32m     85\u001b[0m time\u001b[39m.\u001b[39msleep(\u001b[39m1\u001b[39m)\n",
      "\u001b[1;31mKeyboardInterrupt\u001b[0m: "
     ]
    }
   ],
   "source": [
    "fine_sigma = 300\n",
    "power_steps = [300 , 250, 200, 150, 130, 120,100, 90]\n",
    "repumped_power = 200\n",
    "no_repump_power = 200\n",
    "\n",
    "os.makedirs(saturation_folder := os.path.join(folder_defect, \"saturation\"), exist_ok=True)\n",
    "\n",
    "pa.set_resonant_power(power = power_steps[0])\n",
    "res = pa.do_ple_scan(lines = 1)\n",
    "pa.save_ple(tag = f\"full_range_power_{power_steps[0]}\", \n",
    "            poi_name=poi_name, folder_name=saturation_folder)\n",
    "\n",
    "\n",
    "\n",
    "for idx, power in enumerate(power_steps):\n",
    "    os.makedirs(power_folder := os.path.join(saturation_folder, f\"{power}\"), exist_ok=True)\n",
    "\n",
    "    if power > repumped_power:\n",
    "        cobolt.enable_modulated()\n",
    "        cobolt.set_laser_modulated_power(5)\n",
    "        pa.set_resonant_power(power = power)\n",
    "        time.sleep(1)\n",
    "\n",
    "        #finding ple in a small range\n",
    "        res = pa.do_ple_scan(lines = 1, in_range=(\n",
    "            res[\"center\"].value - res[\"sigma\"] * 10, \n",
    "            res[\"center\"].value + res[\"sigma\"] * 10    \n",
    "        ))\n",
    "\n",
    "        scan_sigma = FINE_SIGMA if res[\"sigma\"] < fine_sigma / 3 else res[\"sigma\"] * 3\n",
    "        print(\"Scan sigma\", scan_sigma)\n",
    "        res = pa.do_ple_scan(lines = 1, in_range=(\n",
    "            res[\"center\"].value - scan_sigma, \n",
    "            res[\"center\"].value + scan_sigma    \n",
    "        ))\n",
    "\n",
    "        pa.save_ple(tag = f\"{power}\",\n",
    "                poi_name=poi_name, folder_name=power_folder)\n",
    "\n",
    "        results_poi.update({\"saturation\": \n",
    "                            {f\"{power}_repump\":\n",
    "                                {\"scan_data\": ple_data_logic.last_saved_files_paths,\n",
    "                                \"sigma\": res[\"sigma\"].value,\n",
    "                                \"sigma_stderr\": res[\"sigma\"].stderr,\n",
    "                                \"center\": res[\"center\"].value\n",
    "                                }\n",
    "                                }})\n",
    "        \n",
    "    scan_sigma = fine_sigma if res[\"sigma\"] < fine_sigma / 3 else res[\"sigma\"] * 3\n",
    "    print(\"Scan sigma no repump\", scan_sigma)\n",
    "\n",
    "    if (power < no_repump_power):\n",
    "        os.makedirs(power_folder_norepump := os.path.join(power_folder, f\"no_repump\"), exist_ok=True)\n",
    "        # check with initioalization\n",
    "        cobolt.disable_modulated()\n",
    "        pa.one_pulse_repump(\"violet\")\n",
    "        for i in range(3):\n",
    "            pa.one_pulse_repump(\"violet\")\n",
    "            res_ = pa.do_ple_scan(lines = 1, in_range=scan_sigma)\n",
    "            if not ple_is_here(rsquared_bound=0.4):\n",
    "                continue\n",
    "        if not ple_is_here(rsquared_bound=0.4):\n",
    "                continue\n",
    "        res_ = pa.do_ple_scan(lines = 5, in_range=scan_sigma)\n",
    "        print(\"Saving no repump\")\n",
    "        pa.save_ple(tag = f\"{power}_norepump\",\n",
    "            poi_name=poi_name, folder_name=power_folder_norepump)\n",
    "        results_poi.update({\"saturation\": \n",
    "                        {f\"{power}_norepump\":\n",
    "                            {\"scan_data\": ple_data_logic.last_saved_files_paths,\n",
    "                            \"sigma\": res_[\"sigma\"].value,\n",
    "                            \"sigma_stderr\": res_[\"sigma\"].stderr,\n",
    "                            \"center\": res_[\"center\"].value\n",
    "                            }\n",
    "                            }})"
   ]
  },
  {
   "cell_type": "code",
   "execution_count": 89,
   "id": "2d267362",
   "metadata": {},
   "outputs": [],
   "source": []
  },
  {
   "cell_type": "code",
   "execution_count": 85,
   "id": "09945be8",
   "metadata": {},
   "outputs": [],
   "source": [
    "res = pa.do_ple_scan(lines = 1, in_range=(\n",
    "    res[\"center\"].value - scan_sigma, \n",
    "    res[\"center\"].value + scan_sigma    \n",
    "))"
   ]
  },
  {
   "cell_type": "code",
   "execution_count": 87,
   "id": "80e61056",
   "metadata": {},
   "outputs": [],
   "source": [
    "cobolt.disable_modulated()"
   ]
  },
  {
   "cell_type": "code",
   "execution_count": null,
   "id": "f722c04f",
   "metadata": {},
   "outputs": [],
   "source": [
    "cobolt.enable_modulated()"
   ]
  },
  {
   "cell_type": "code",
   "execution_count": 91,
   "id": "81e33b7e",
   "metadata": {},
   "outputs": [],
   "source": [
    "cobolt.set_laser_modulated_power(1)"
   ]
  },
  {
   "cell_type": "code",
   "execution_count": 88,
   "id": "744cbdc9",
   "metadata": {},
   "outputs": [],
   "source": [
    "pa.one_pulse_repump(\"green\")"
   ]
  },
  {
   "cell_type": "code",
   "execution_count": 92,
   "id": "15950a55",
   "metadata": {},
   "outputs": [],
   "source": [
    "settings_confocal_refocus_fine()"
   ]
  },
  {
   "cell_type": "code",
   "execution_count": 110,
   "id": "14e06414",
   "metadata": {},
   "outputs": [],
   "source": [
    "repumped_power = 120\n",
    "no_repump_power = 150"
   ]
  },
  {
   "cell_type": "code",
   "execution_count": 189,
   "id": "6e607b23",
   "metadata": {},
   "outputs": [
    {
     "name": "stdout",
     "output_type": "stream",
     "text": [
      "NO, PLE 0.019929061671988046\n",
      "NO, PLE 0.019929061671988046\n",
      "NO, PLE 0.019929061671988046\n",
      "NO, PLE 0.036181157079733905\n",
      "NO, PLE 0.014198868714205282\n",
      "NO, PLE 0.46455866556285663\n",
      "NO, PLE 0.011972064112413472\n",
      "NO, PLE 0.4539149472239279\n",
      "NO, PLE 0.4539149472239279\n",
      "NO PLE\n",
      "NO, PLE 0.4539149472239279\n",
      "Saving no repump\n",
      "NO, PLE 0.01009056713434775\n",
      "Saving no repump\n",
      "NO, PLE 0.4578206937003334\n",
      "Saving no repump\n",
      "NO, PLE 0.2128815170656081\n",
      "NO, PLE 0.20181951489665195\n",
      "Saving no repump\n",
      "NO, PLE 0.006886393658628087\n",
      "NO, PLE 0.008017646514885235\n",
      "NO, PLE 0.478478412333909\n",
      "NO, PLE 0.4492204392542547\n",
      "NO, PLE 0.07883847958967294\n",
      "NO, PLE 0.23840387286531928\n",
      "Saving no repump\n"
     ]
    }
   ],
   "source": [
    "#Proper\n",
    "fine_sigma = 150\n",
    "coarse_sigma = 4000\n",
    "power_steps = [300 , 250, 200, 150, 130, 120,100, 90]\n",
    "repumped_power = 200\n",
    "no_repump_power = 180\n",
    "\n",
    "os.makedirs(saturation_folder := os.path.join(folder_defect, \"saturation\"), exist_ok=True)\n",
    "\n",
    "ple_gui._mw.frequencyDoubleSpinBox.setValue(500)\n",
    "ple_gui._mw.resolutionDoubleSpinBox.setValue(2000)\n",
    "\n",
    "cobolt.set_laser_modulated_power(2)\n",
    "cobolt.enable_modulated()\n",
    "for idx, power in enumerate(power_steps):\n",
    "    pa.set_resonant_power(power = power)\n",
    "    res = pa.do_ple_scan(lines = 1)\n",
    "    pa.save_ple(tag = f\"full_range_power_{power}\", \n",
    "                poi_name=poi_name, folder_name=saturation_folder)\n",
    "    for i in range(3):\n",
    "        if not ple_is_here(rsquared_bound=0.5):\n",
    "            continue\n",
    "        res = pa.do_ple_scan(lines = 1)\n",
    "    if not ple_is_here(rsquared_bound=0.5):\n",
    "        break\n",
    "\n",
    "# now we know the resonable power range for the resonant laser\n",
    "#now we can do the saturation measurements without the cw repump\n",
    "\n",
    "cobolt.disable_modulated()\n",
    "for idx, power in enumerate(power_steps[idx:]):\n",
    "    os.makedirs(power_folder := os.path.join(saturation_folder, f\"{power}\"), exist_ok=True)\n",
    "\n",
    "    ple_gui._mw.frequencyDoubleSpinBox.setValue(250)\n",
    "\n",
    "    # check if we see ple with the pre scan charge initialization\n",
    "    pa.go_to_ple_target(laser_scanner_logic.scan_ranges[\"a\"][0])\n",
    "    pa.one_pulse_repump(\"violet\")\n",
    "    #finding ple in a large range\n",
    "    for i in range(5):\n",
    "        pa.one_pulse_repump(\"violet\")\n",
    "        res_ = pa.do_ple_scan(lines = 1, \n",
    "                                in_range=(\n",
    "        res[\"center\"].value - coarse_sigma, \n",
    "        res[\"center\"].value + coarse_sigma    \n",
    "                        ))\n",
    "        if ple_is_here(rsquared_bound=0.5):\n",
    "            break\n",
    "    if not ple_is_here(rsquared_bound=0.5):\n",
    "        print(\"NO PLE\")\n",
    "        # continue\n",
    "    # Since ple is visible we can reassign the fit params\n",
    "    res = res_ if ple_is_here() else res\n",
    "\n",
    "    # Now we can try to zoom in\n",
    "    for i in range(5):\n",
    "        \n",
    "        pa.one_pulse_repump(\"violet\")\n",
    "        res_ = pa.do_ple_scan(lines = 1, \n",
    "                                in_range=(\n",
    "        res[\"center\"].value - coarse_sigma/2, \n",
    "        res[\"center\"].value + coarse_sigma/2    \n",
    "                        ))\n",
    "        if ple_is_here(rsquared_bound=0.5):\n",
    "            break\n",
    "    if not ple_is_here(rsquared_bound=0.5):\n",
    "        print(\"NO PLE\")\n",
    "        # continue\n",
    "\n",
    "    # Since ple is visible we can reassign the fit params\n",
    "    res = res_ if ple_is_here() else res\n",
    "\n",
    "    # now we can try no \n",
    "    for i in range(5):\n",
    "            \n",
    "        pa.one_pulse_repump(\"violet\")\n",
    "        res_ = pa.do_ple_scan(lines = 1, \n",
    "                                in_range=(\n",
    "        res[\"center\"].value - coarse_sigma/5, \n",
    "        res[\"center\"].value + coarse_sigma/5    \n",
    "                        ))\n",
    "        if ple_is_here(rsquared_bound=0.5):\n",
    "            break\n",
    "    if not ple_is_here(rsquared_bound=0.5):\n",
    "        print(\"NO PLE\")\n",
    "    else:\n",
    "        res = res_ if ple_is_here() else res\n",
    "    pa.one_pulse_repump(\"violet\")\n",
    "\n",
    "    # no repump stability\n",
    "    res_ = pa.do_ple_scan(lines = 5, \n",
    "                                in_range=(\n",
    "        res[\"center\"].value - coarse_sigma/6, \n",
    "        res[\"center\"].value + coarse_sigma/6    \n",
    "                        ))\n",
    "\n",
    "    print(\"Saving no repump\")\n",
    "    pa.save_ple(tag = f\"{power}_norepump\",\n",
    "        poi_name=poi_name, folder_name=power_folder_norepump)\n",
    "    results_poi.update({\"saturation\": \n",
    "                    {f\"{power}_norepump\":\n",
    "                        {\"scan_data\": ple_data_logic.last_saved_files_paths,\n",
    "                        \"sigma\": res_[\"sigma\"].value,\n",
    "                        \"sigma_stderr\": res_[\"sigma\"].stderr,\n",
    "                        \"center\": res_[\"center\"].value\n",
    "                        }\n",
    "                        }})\n"
   ]
  },
  {
   "cell_type": "code",
   "execution_count": 194,
   "id": "d3b38793",
   "metadata": {},
   "outputs": [],
   "source": [
    "folder = r\"C:\\Users\\yy3\\Documents\\data\\Vlad\\158\\30-04\\#1D\""
   ]
  },
  {
   "attachments": {},
   "cell_type": "markdown",
   "id": "c6cec489",
   "metadata": {},
   "source": [
    "# 0 Search for a defect"
   ]
  },
  {
   "cell_type": "code",
   "execution_count": 351,
   "id": "fd9adb32",
   "metadata": {},
   "outputs": [],
   "source": [
    "switchlogic.set_state(\"ScanningMode\", 'Wavemeter')"
   ]
  },
  {
   "cell_type": "code",
   "execution_count": 289,
   "id": "33ed2fbc",
   "metadata": {},
   "outputs": [],
   "source": [
    "laser_controller_remote.etalon_voltage = center_v"
   ]
  },
  {
   "cell_type": "code",
   "execution_count": 336,
   "id": "143767e4",
   "metadata": {},
   "outputs": [],
   "source": [
    "pa.one_pulse_repump(\"violet\")"
   ]
  },
  {
   "cell_type": "code",
   "execution_count": 339,
   "id": "5c737f8d",
   "metadata": {},
   "outputs": [],
   "source": [
    "pa.set_resonant_power(\n",
    "    power = 300\n",
    ")"
   ]
  },
  {
   "cell_type": "code",
   "execution_count": 355,
   "id": "f609b5fb",
   "metadata": {},
   "outputs": [
    {
     "data": {
      "text/plain": [
       "5.0"
      ]
     },
     "execution_count": 355,
     "metadata": {},
     "output_type": "execute_result"
    }
   ],
   "source": [
    "300*300/5 /60 /60"
   ]
  },
  {
   "cell_type": "code",
   "execution_count": null,
   "id": "66961d13",
   "metadata": {},
   "outputs": [],
   "source": []
  },
  {
   "cell_type": "code",
   "execution_count": 363,
   "id": "f43e0423",
   "metadata": {},
   "outputs": [],
   "source": [
    "cobolt.disable_modulated()"
   ]
  },
  {
   "cell_type": "code",
   "execution_count": 361,
   "id": "2251a5ec",
   "metadata": {},
   "outputs": [],
   "source": [
    "cobolt.enable_modulated()\n",
    "cobolt.set_laser_modulated_power(1)"
   ]
  },
  {
   "cell_type": "code",
   "execution_count": 340,
   "id": "57b2d63b",
   "metadata": {},
   "outputs": [],
   "source": [
    "switchlogic.set_state(\"ScanningMode\", 'NI')"
   ]
  },
  {
   "attachments": {},
   "cell_type": "markdown",
   "id": "9c366e8b",
   "metadata": {},
   "source": [
    "# 1 Full power full range"
   ]
  },
  {
   "cell_type": "code",
   "execution_count": 341,
   "id": "c4b68a3c",
   "metadata": {},
   "outputs": [],
   "source": [
    "poi_name = \"def14\"\n",
    "\n",
    "\n",
    "os.makedirs(folder_defect := os.path.join(folder, poi_name),  exist_ok=True)\n",
    "\n",
    "ple_gui._save_folderpath = folder_defect\n",
    "ple_gui.save_path_widget.currPathLabel.setText(ple_gui._save_folderpath)\n",
    "ple_gui.save_path_widget.newPathCheckBox.setChecked(False)"
   ]
  },
  {
   "cell_type": "code",
   "execution_count": 342,
   "id": "d73fb24c",
   "metadata": {},
   "outputs": [],
   "source": [
    "\n",
    "cobolt.set_laser_modulated_power(2)\n",
    "cobolt.enable_modulated()\n",
    "pa.set_resonant_power(300)\n",
    "\n",
    "res = pa.do_ple_scan(lines = 1)\n",
    "\n",
    "\n",
    "\n",
    "pa.save_ple(tag = f\"full_range_power_{power}\", \n",
    "            poi_name=poi_name, folder_name=folder_defect)"
   ]
  },
  {
   "cell_type": "code",
   "execution_count": 343,
   "id": "6f20399e",
   "metadata": {},
   "outputs": [
    {
     "name": "stdout",
     "output_type": "stream",
     "text": [
      "619.2330194756765 nm\n"
     ]
    }
   ],
   "source": [
    "pa.go_to_ple_target(res[\"center\"].value)\n",
    "time.sleep(1)\n",
    "w1 = high_finesse_wavemeter_remote.get_current_wavelength()\n",
    "print(1e-3 * c / w1, \"nm\")"
   ]
  },
  {
   "cell_type": "code",
   "execution_count": 344,
   "id": "a8a8f973",
   "metadata": {},
   "outputs": [
    {
     "name": "stdout",
     "output_type": "stream",
     "text": [
      "619.2363643542185 nm\n"
     ]
    }
   ],
   "source": [
    "w1 = high_finesse_wavemeter_remote.get_current_wavelength()\n",
    "print(1e-3 * c / w1, \"nm\")"
   ]
  },
  {
   "attachments": {},
   "cell_type": "markdown",
   "id": "9b779f4e",
   "metadata": {},
   "source": [
    "# 2 Small power small range. Pre scan repump"
   ]
  },
  {
   "attachments": {},
   "cell_type": "markdown",
   "id": "6e3f1eff",
   "metadata": {},
   "source": [
    "# 3 Take spectrum"
   ]
  },
  {
   "cell_type": "code",
   "execution_count": 350,
   "id": "58bf0312",
   "metadata": {},
   "outputs": [
    {
     "name": "stdout",
     "output_type": "stream",
     "text": [
      "Run spectrum\n"
     ]
    }
   ],
   "source": [
    "print(\"Run spectrum\")\n",
    "ibeam_smart.setPower(60000)\n",
    "\n",
    "results_poi = take_spectrum(pa, poi_name, folder_defect, results_poi)"
   ]
  },
  {
   "cell_type": "code",
   "execution_count": null,
   "id": "56f09cac",
   "metadata": {},
   "outputs": [],
   "source": []
  },
  {
   "cell_type": "code",
   "execution_count": 346,
   "id": "dd607ba3",
   "metadata": {},
   "outputs": [],
   "source": [
    "cobolt.disable_modulated()"
   ]
  },
  {
   "cell_type": "code",
   "execution_count": 347,
   "id": "cf3ba4cc",
   "metadata": {},
   "outputs": [],
   "source": [
    "pa.one_pulse_repump(\"violet\")"
   ]
  },
  {
   "cell_type": "code",
   "execution_count": 348,
   "id": "0ff644b4",
   "metadata": {},
   "outputs": [],
   "source": [
    "cobolt.set_laser_modulated_power(3)"
   ]
  },
  {
   "cell_type": "code",
   "execution_count": null,
   "id": "8ad7cb50",
   "metadata": {},
   "outputs": [],
   "source": [
    "res = pa.do_ple_scan(lines = 1, in_range=(\n",
    "        res[\"center\"].value - 2 * scan_sigma,\n",
    "        res[\"center\"].value + 2 * scan_sigma\n",
    "    ))"
   ]
  },
  {
   "cell_type": "code",
   "execution_count": 243,
   "id": "7f29ace2",
   "metadata": {},
   "outputs": [
    {
     "data": {
      "text/plain": [
       "True"
      ]
     },
     "execution_count": 243,
     "metadata": {},
     "output_type": "execute_result"
    }
   ],
   "source": [
    "spectrometer._mw.action_save_background.triggered.emit()"
   ]
  },
  {
   "cell_type": "code",
   "execution_count": null,
   "id": "32405756",
   "metadata": {},
   "outputs": [],
   "source": []
  },
  {
   "cell_type": "code",
   "execution_count": 257,
   "id": "c8692f5c",
   "metadata": {},
   "outputs": [
    {
     "name": "stdout",
     "output_type": "stream",
     "text": [
      "Run spectrum\n"
     ]
    }
   ],
   "source": []
  },
  {
   "cell_type": "code",
   "execution_count": null,
   "id": "06dd1e06",
   "metadata": {},
   "outputs": [],
   "source": [
    "scan_sigma = 500\n",
    "\n",
    "pa.set_resonant_power(110)\n",
    "cobolt.disable_modulated()\n",
    "\n",
    "\n",
    "for i in range(5):\n",
    "    pa.go_to_ple_target(laser_scanner_logic.scan_ranges[\"a\"][0])\n",
    "\n",
    "    pa.one_pulse_repump(\"violet\")\n",
    "    res = pa.do_ple_scan(lines = 1, in_range=(\n",
    "        res[\"center\"].value - 5 * scan_sigma,\n",
    "        res[\"center\"].value + 5 * scan_sigma\n",
    "    ))\n",
    "    if ple_is_here(rsquared_bound=0.5):\n",
    "        break\n",
    "\n",
    "ple_gui._mw.frequencyDoubleSpinBox.setValue(1000)\n",
    "for i in range(5):\n",
    "    pa.one_pulse_repump(\"violet\")\n",
    "    res = pa.do_ple_scan(lines = 1, in_range=(\n",
    "        res[\"center\"].value - 2 * scan_sigma,\n",
    "        res[\"center\"].value + 2 * scan_sigma\n",
    "    ))\n",
    "    if ple_is_here(rsquared_bound=0.5):\n",
    "        break\n",
    "\n"
   ]
  },
  {
   "cell_type": "code",
   "execution_count": 246,
   "id": "1d85621b",
   "metadata": {},
   "outputs": [],
   "source": [
    "cobolt.enable_modulated()\n",
    "pa.set_resonant_power(300)"
   ]
  },
  {
   "cell_type": "code",
   "execution_count": 253,
   "id": "c1e82b20",
   "metadata": {},
   "outputs": [],
   "source": [
    "cobolt.enable_modulated()"
   ]
  },
  {
   "cell_type": "code",
   "execution_count": 255,
   "id": "5c8f8835",
   "metadata": {},
   "outputs": [],
   "source": [
    "cobolt.set_laser_modulated_power(1)"
   ]
  },
  {
   "cell_type": "code",
   "execution_count": null,
   "id": "f5856600",
   "metadata": {},
   "outputs": [],
   "source": [
    "\n",
    "pa.save_ple(tag = f\"low_power_{power}\", \n",
    "            poi_name=poi_name, folder_name=folder_defect)"
   ]
  },
  {
   "cell_type": "code",
   "execution_count": 256,
   "id": "3a598419",
   "metadata": {},
   "outputs": [],
   "source": [
    "pa.one_pulse_repump(\"violet\")"
   ]
  },
  {
   "cell_type": "code",
   "execution_count": 236,
   "id": "15a9649c",
   "metadata": {},
   "outputs": [],
   "source": [
    "pa.one_pulse_repump(\"green\")"
   ]
  },
  {
   "cell_type": "code",
   "execution_count": 254,
   "id": "1454bc6a",
   "metadata": {},
   "outputs": [
    {
     "name": "stdout",
     "output_type": "stream",
     "text": [
      "619.2278328810866 nm\n"
     ]
    }
   ],
   "source": []
  },
  {
   "cell_type": "code",
   "execution_count": null,
   "id": "b78b2d59",
   "metadata": {},
   "outputs": [],
   "source": []
  },
  {
   "cell_type": "code",
   "execution_count": null,
   "id": "96a4d415",
   "metadata": {},
   "outputs": [],
   "source": [
    "FINE_SIGMA = 150\n",
    "COARSE_SIGMA = 4000\n",
    "POWER_STEPS = [300, 250, 200, 150, 130, 120, 100, 90]\n",
    "REPUMPED_POWER = 200\n",
    "NO_REPUMP_POWER = 180\n",
    "\n",
    "def do_initial_calibration():\n",
    "    os.makedirs(saturation_folder := os.path.join(folder_defect, \"saturation\"), exist_ok=True)\n",
    "\n",
    "    ple_gui._mw.frequencyDoubleSpinBox.setValue(500)\n",
    "\n",
    "    cobolt.set_laser_modulated_power(2)\n",
    "    cobolt.enable_modulated()\n",
    "\n",
    "    for idx, power in enumerate(POWER_STEPS):\n",
    "        pa.set_resonant_power(power=power)\n",
    "        res = pa.do_ple_scan(lines=1)\n",
    "        pa.save_ple(tag=f\"full_range_power_{power}\", poi_name=poi_name, folder_name=saturation_folder)\n",
    "\n",
    "        for i in range(3):\n",
    "            if not ple_is_here(rsquared_bound=0.5):\n",
    "                continue\n",
    "            res = pa.do_ple_scan(lines=1)\n",
    "\n",
    "        if not ple_is_here(rsquared_bound=0.5):\n",
    "            break\n",
    "\n",
    "    cobolt.disable_modulated()\n",
    "\n",
    "def do_saturation_measurements():\n",
    "    for idx, power in enumerate(POWER_STEPS[idx:]):\n",
    "        os.makedirs(power_folder := os.path.join(saturation_folder, f\"{power}\"), exist_ok=True)\n",
    "\n",
    "        ple_gui._mw.frequencyDoubleSpinBox.setValue(500)\n",
    "        ple_gui._mw.resolutionDoubleSpinBox.setValue(2000)\n",
    "        pa.go_to_ple_target(laser_scanner_logic.scan_ranges[\"a\"][0])\n",
    "\n",
    "        pa.set_resonant_power(power=power)\n",
    "        pa.one_pulse_repump(\"violet\")\n",
    "        wait_for_event(lambda: ple_is_here(rsquared_bound=0.5))\n",
    "        res = pa.do_ple_scan(lines=1, in_range=(res[\"center\"].value - coarse_sigma, res[\"center\"].value + coarse_sigma))\n",
    "\n",
    "        for i in range(3):\n",
    "            if not ple_is_here(rsquared_bound=0.5):\n",
    "                continue\n",
    "            pa.one_pulse_repump(\"violet\")\n",
    "            wait_for_event(lambda: ple_is_here(rsquared_bound=0.5))\n",
    "            res = pa.do_ple_scan(lines=1, in_range=(res[\"center\"].value - coarse_sigma, res[\"center\"].value + coarse_sigma))\n",
    "\n",
    "        if not ple_is_here(rsquared_bound=0.5):\n",
    "            continue\n",
    "\n",
    "        res_ = pa.do_ple_scan(lines=1, in_range=(res[\"center\"].value - coarse_sigma * 2, res[\"center\"].value + coarse_sigma * 2))\n",
    "\n",
    "        scan_sigma = FINE_SIGMA if res[\"sigma\"] < FINE_SIGMA / 3 else res[\"sigma\"] * 3\n",
    "        pa.one_pulse_repump(\"violet\")\n",
    "        wait_for_event(lambda: ple_is_here(rsquared_bound=0.5))\n",
    "        res_ = pa.do_ple_scan(lines=1, in_range=(res[\"center\"].value - scan_sigma * 2, res[\"center\"].value + scan_sigma * 2))\n",
    "        res = res_ if ple_is_here() else res\n",
    "\n",
    "        pa.one_pulse_repump(\"violet\")\n",
    "        wait_for_event(lambda: ple_is_here(rsquared_bound=0.5))\n",
    "        res_ = pa.do_ple_scan(lines=1, in_range=(res[\"center\"].value - scan_sigma, res[\"center\"].value + scan_sigma))\n",
    "        res = res_ if ple_is_here() else res\n",
    "\n",
    "        pa.one_pulse_repump(\"violet\")\n",
    "        wait_for_event(lambda: ple_is_here(rsquared_bound=0.5))\n",
    "        res_ = pa.do_ple_scan(lines=5, in_range=(res[\"center\"].value - scan_sigma, res[\"center\"].value + scan_sigma))\n",
    "\n",
    "        print(\"Saving no repump\")\n",
    "        pa.save_ple(tag=f\"{power}_norepump\", poi_name=poi_name, folder_name=power_folder_norepump)\n",
    "\n",
    "        results_poi.update({\n",
    "            \"saturation\": {\n",
    "                f\"{power}_norepump\": {\n",
    "                    \"scan_data\": ple_data_logic.last_saved_files_paths,\n",
    "                    \"sigma\": res_[\"sigma\"].value,\n",
    "                    \"sigma_stderr\": res_[\"sigma\"].stderr,\n",
    "                    \"center\": res_[\"center\"].value\n",
    "                }\n",
    "            }\n",
    "        })\n",
    "\n",
    "def wait_for_event(event_func, timeout=10):\n",
    "    start_time = time.time()\n",
    "    while not event_func():\n",
    "        if time.time() - start_time > timeout:\n",
    "            raise TimeoutError(\"Timed out waiting for event\")\n",
    "        time.sleep(0.1)\n"
   ]
  },
  {
   "cell_type": "code",
   "execution_count": null,
   "id": "7ba95550",
   "metadata": {},
   "outputs": [],
   "source": []
  },
  {
   "cell_type": "code",
   "execution_count": null,
   "id": "6b560d35",
   "metadata": {},
   "outputs": [],
   "source": []
  },
  {
   "cell_type": "code",
   "execution_count": 157,
   "id": "23f12fd9",
   "metadata": {},
   "outputs": [
    {
     "ename": "KeyboardInterrupt",
     "evalue": "",
     "output_type": "error",
     "traceback": [
      "\u001b[1;31m---------------------------------------------------------------------------\u001b[0m",
      "\u001b[1;31mKeyboardInterrupt\u001b[0m                         Traceback (most recent call last)",
      "Cell \u001b[1;32mIn[157], line 20\u001b[0m\n\u001b[0;32m     18\u001b[0m pa\u001b[39m.\u001b[39mone_pulse_repump(\u001b[39m\"\u001b[39m\u001b[39mgreen\u001b[39m\u001b[39m\"\u001b[39m)\n\u001b[0;32m     19\u001b[0m \u001b[39m#finding ple in a large range\u001b[39;00m\n\u001b[1;32m---> 20\u001b[0m res_ \u001b[39m=\u001b[39m pa\u001b[39m.\u001b[39;49mdo_ple_scan(lines \u001b[39m=\u001b[39;49m \u001b[39m1\u001b[39;49m, in_range\u001b[39m=\u001b[39;49m(\n\u001b[0;32m     21\u001b[0m     res[\u001b[39m\"\u001b[39;49m\u001b[39mcenter\u001b[39;49m\u001b[39m\"\u001b[39;49m]\u001b[39m.\u001b[39;49mvalue \u001b[39m-\u001b[39;49m coarse_sigma, \n\u001b[0;32m     22\u001b[0m     res[\u001b[39m\"\u001b[39;49m\u001b[39mcenter\u001b[39;49m\u001b[39m\"\u001b[39;49m]\u001b[39m.\u001b[39;49mvalue \u001b[39m+\u001b[39;49m coarse_sigma    \n\u001b[0;32m     23\u001b[0m ))\n\u001b[0;32m     24\u001b[0m pa\u001b[39m.\u001b[39mone_pulse_repump(\u001b[39m\"\u001b[39m\u001b[39mgreen\u001b[39m\u001b[39m\"\u001b[39m)\n\u001b[0;32m     25\u001b[0m time\u001b[39m.\u001b[39msleep(\u001b[39m0.5\u001b[39m)\n",
      "File \u001b[1;32mc:\\new_qudi\\scudi\\src\\qudi\\jupyternotebooks\\automatization\\ple_statistics.py:82\u001b[0m, in \u001b[0;36mPleAuto.do_ple_scan\u001b[1;34m(self, lines, in_range, frequency, resolution)\u001b[0m\n\u001b[0;32m     80\u001b[0m \u001b[39mself\u001b[39m\u001b[39m.\u001b[39mple_gui\u001b[39m.\u001b[39mtoggle_scan()\n\u001b[0;32m     81\u001b[0m \u001b[39mwhile\u001b[39;00m \u001b[39mself\u001b[39m\u001b[39m.\u001b[39mlaser_scanner_logic\u001b[39m.\u001b[39mmodule_state()\u001b[39m==\u001b[39m\u001b[39m'\u001b[39m\u001b[39mlocked\u001b[39m\u001b[39m'\u001b[39m:\n\u001b[1;32m---> 82\u001b[0m         time\u001b[39m.\u001b[39;49msleep(\u001b[39m1\u001b[39;49m)\n\u001b[0;32m     83\u001b[0m time\u001b[39m.\u001b[39msleep(\u001b[39m1\u001b[39m)\n\u001b[0;32m     84\u001b[0m \u001b[39mself\u001b[39m\u001b[39m.\u001b[39mple_gui\u001b[39m.\u001b[39m_fit_dockwidget\u001b[39m.\u001b[39mfit_widget\u001b[39m.\u001b[39msigDoFit\u001b[39m.\u001b[39memit(\u001b[39m\"\u001b[39m\u001b[39mLorentzian\u001b[39m\u001b[39m\"\u001b[39m)\n",
      "\u001b[1;31mKeyboardInterrupt\u001b[0m: "
     ]
    }
   ],
   "source": [
    "\n",
    "os.makedirs(power_folder := os.path.join(saturation_folder, f\"{power}\"), exist_ok=True)\n",
    "\n",
    "ple_gui._mw.frequencyDoubleSpinBox.setValue(500)\n",
    "# cobolt.enable_modulated()\n",
    "cobolt.disable_modulated()\n",
    "\n",
    "pa.go_to_ple_target(laser_scanner_logic.scan_ranges[\"a\"][0])\n",
    "\n",
    "pa.set_resonant_power(power = power)\n",
    "pa.one_pulse_repump(\"green\")\n",
    "time.sleep(0.5)\n",
    "pa.one_pulse_repump(\"green\")\n",
    "#finding ple in a large range\n",
    "res_ = pa.do_ple_scan(lines = 1, in_range=(\n",
    "    res[\"center\"].value - coarse_sigma, \n",
    "    res[\"center\"].value + coarse_sigma    \n",
    "))\n",
    "pa.one_pulse_repump(\"green\")\n",
    "time.sleep(0.5)\n",
    "if ple_is_here(rsquared_bound=0.3):\n",
    "    res_ = pa.do_ple_scan(lines = 1, in_range=(\n",
    "        res[\"center\"].value - coarse_sigma * 2, \n",
    "        res[\"center\"].value + coarse_sigma * 2    \n",
    "))\n",
    "else:\n",
    "    cobolt.enable_modulated()\n",
    "    res_ = pa.do_ple_scan(lines = 1, in_range=(\n",
    "    res[\"center\"].value - coarse_sigma * 2, \n",
    "    res[\"center\"].value + coarse_sigma * 2    \n",
    "    ))\n",
    "if ple_is_here(rsquared_bound=0.5):\n",
    "    res = res_"
   ]
  },
  {
   "cell_type": "code",
   "execution_count": 156,
   "id": "4e6cb727",
   "metadata": {},
   "outputs": [],
   "source": [
    "ple_gui._mw.Pulsed_widget.prescan_checkBox.setChecked(True)"
   ]
  },
  {
   "cell_type": "code",
   "execution_count": null,
   "id": "4cb8b83c",
   "metadata": {},
   "outputs": [],
   "source": []
  },
  {
   "cell_type": "code",
   "execution_count": null,
   "id": "860cd1f5",
   "metadata": {},
   "outputs": [],
   "source": []
  },
  {
   "cell_type": "code",
   "execution_count": 153,
   "id": "11734892",
   "metadata": {},
   "outputs": [],
   "source": [
    "pa.one_pulse_repump(\"violet\")"
   ]
  },
  {
   "cell_type": "code",
   "execution_count": null,
   "id": "c75a1751",
   "metadata": {},
   "outputs": [],
   "source": [
    "\n",
    "if (power < no_repump_power):\n",
    "    os.makedirs(power_folder_norepump := os.path.join(power_folder, f\"no_repump\"), exist_ok=True)\n",
    "    # check with initioalization\n",
    "    cobolt.disable_modulated()\n",
    "    pa.one_pulse_repump(\"violet\")\n",
    "    # search for the center\n",
    "    for i in range(3):\n",
    "        pa.one_pulse_repump(\"violet\")\n",
    "        time.sleep(0.5)\n",
    "        res_ = pa.do_ple_scan(lines = 1, \n",
    "                                in_range=(\n",
    "                        res[\"center\"].value - scan_sigma* 2, \n",
    "                        res[\"center\"].value + scan_sigma * 2    \n",
    "                                            )\n",
    "                                            )\n",
    "        if not ple_is_here(rsquared_bound=0.25):\n",
    "            pass\n",
    "    # no ple whatsoever , skip\n",
    "    if not ple_is_here(rsquared_bound=0.25):\n",
    "            pass\n",
    "    res_ = pa.do_ple_scan(lines = 5, in_range=(\n",
    "        res[\"center\"].value - scan_sigma, \n",
    "        res[\"center\"].value + scan_sigma    \n",
    "    ))\n",
    "    print(\"Saving no repump\")\n",
    "    pa.save_ple(tag = f\"{power}_norepump\",\n",
    "        poi_name=poi_name, folder_name=power_folder_norepump)\n",
    "    results_poi.update({\"saturation\": \n",
    "                    {f\"{power}_norepump\":\n",
    "                        {\"scan_data\": ple_data_logic.last_saved_files_paths,\n",
    "                        \"sigma\": res_[\"sigma\"].value,\n",
    "                        \"sigma_stderr\": res_[\"sigma\"].stderr,\n",
    "                        \"center\": res_[\"center\"].value\n",
    "                        }\n",
    "                        }})"
   ]
  },
  {
   "cell_type": "code",
   "execution_count": 146,
   "id": "12c5fdf5",
   "metadata": {},
   "outputs": [
    {
     "data": {
      "text/plain": [
       "0.6729438900240361"
      ]
     },
     "execution_count": 146,
     "metadata": {},
     "output_type": "execute_result"
    }
   ],
   "source": [
    " ple_gui.fit_result[1].rsquared"
   ]
  },
  {
   "cell_type": "code",
   "execution_count": 147,
   "id": "5f10aaa9",
   "metadata": {},
   "outputs": [],
   "source": [
    "pa.one_pulse_repump(\"violet\")"
   ]
  },
  {
   "cell_type": "code",
   "execution_count": 111,
   "id": "2cb3da95",
   "metadata": {},
   "outputs": [
    {
     "name": "stdout",
     "output_type": "stream",
     "text": [
      "Scan sigma 750\n",
      "NO, PLE 0.28287273360114784\n",
      "Ple is here not\n"
     ]
    }
   ],
   "source": [
    "\n",
    "if power > repumped_power:\n",
    "    cobolt.enable_modulated()\n",
    "    #finding ple in a small range\n",
    "    scan_sigma = 5 * fine_sigma if res[\"sigma\"] < fine_sigma else res[\"sigma\"] * 5\n",
    "    print(\"Scan sigma\", scan_sigma)\n",
    "    res_f1 = pa.do_ple_scan(lines = 1, in_range=(\n",
    "        res[\"center\"].value - scan_sigma, \n",
    "        res[\"center\"].value + scan_sigma    \n",
    "    ))\n",
    "\n",
    "    if ple_is_here(rsquared_bound=0.5):\n",
    "        print(\"Ple is here\")\n",
    "        res = res_f1\n",
    "    else:\n",
    "        print(\"Ple is here not\")\n",
    "        res = pa.do_ple_scan(lines = 1, in_range=(\n",
    "            res[\"center\"].value - scan_sigma * 3, \n",
    "            res[\"center\"].value + scan_sigma * 3    \n",
    "    ))\n",
    "    pa.save_ple(tag = f\"{power}\",\n",
    "            poi_name=poi_name, folder_name=power_folder)\n",
    "\n",
    "    results_poi.update({\"saturation\": \n",
    "                        {f\"{power}_repump\":\n",
    "                            {\"scan_data\": ple_data_logic.last_saved_files_paths,\n",
    "                            \"sigma\": res[\"sigma\"].value,\n",
    "                            \"sigma_stderr\": res[\"sigma\"].stderr,\n",
    "                            \"center\": res[\"center\"].value\n",
    "                            }\n",
    "                            }})"
   ]
  },
  {
   "cell_type": "code",
   "execution_count": 112,
   "metadata": {},
   "outputs": [
    {
     "name": "stdout",
     "output_type": "stream",
     "text": [
      "Scan sigma no repump 150\n"
     ]
    }
   ],
   "source": [
    "scan_sigma = fine_sigma if res[\"sigma\"] < fine_sigma else res[\"sigma\"] * 2\n",
    "print(\"Scan sigma no repump\", scan_sigma)\n"
   ]
  },
  {
   "cell_type": "code",
   "execution_count": 116,
   "id": "baaaa6dc",
   "metadata": {},
   "outputs": [],
   "source": [
    "no_repump_power = 201"
   ]
  },
  {
   "cell_type": "code",
   "execution_count": 148,
   "id": "d458a491",
   "metadata": {},
   "outputs": [
    {
     "name": "stdout",
     "output_type": "stream",
     "text": [
      "NO, PLE 0.014742829106390576\n"
     ]
    },
    {
     "ename": "KeyboardInterrupt",
     "evalue": "",
     "output_type": "error",
     "traceback": [
      "\u001b[1;31m---------------------------------------------------------------------------\u001b[0m",
      "\u001b[1;31mKeyboardInterrupt\u001b[0m                         Traceback (most recent call last)",
      "Cell \u001b[1;32mIn[148], line 10\u001b[0m\n\u001b[0;32m      8\u001b[0m pa\u001b[39m.\u001b[39mone_pulse_repump(\u001b[39m\"\u001b[39m\u001b[39mviolet\u001b[39m\u001b[39m\"\u001b[39m)\n\u001b[0;32m      9\u001b[0m time\u001b[39m.\u001b[39msleep(\u001b[39m0.5\u001b[39m)\n\u001b[1;32m---> 10\u001b[0m res_ \u001b[39m=\u001b[39m pa\u001b[39m.\u001b[39;49mdo_ple_scan(lines \u001b[39m=\u001b[39;49m \u001b[39m1\u001b[39;49m, \n\u001b[0;32m     11\u001b[0m                         in_range\u001b[39m=\u001b[39;49m(\n\u001b[0;32m     12\u001b[0m                 res[\u001b[39m\"\u001b[39;49m\u001b[39mcenter\u001b[39;49m\u001b[39m\"\u001b[39;49m]\u001b[39m.\u001b[39;49mvalue \u001b[39m-\u001b[39;49m scan_sigma\u001b[39m*\u001b[39;49m \u001b[39m2\u001b[39;49m, \n\u001b[0;32m     13\u001b[0m                 res[\u001b[39m\"\u001b[39;49m\u001b[39mcenter\u001b[39;49m\u001b[39m\"\u001b[39;49m]\u001b[39m.\u001b[39;49mvalue \u001b[39m+\u001b[39;49m scan_sigma \u001b[39m*\u001b[39;49m \u001b[39m2\u001b[39;49m    \n\u001b[0;32m     14\u001b[0m                                     )\n\u001b[0;32m     15\u001b[0m                                     )\n\u001b[0;32m     16\u001b[0m \u001b[39mif\u001b[39;00m \u001b[39mnot\u001b[39;00m ple_is_here(rsquared_bound\u001b[39m=\u001b[39m\u001b[39m0.25\u001b[39m):\n\u001b[0;32m     17\u001b[0m     \u001b[39mpass\u001b[39;00m\n",
      "File \u001b[1;32mc:\\new_qudi\\scudi\\src\\qudi\\jupyternotebooks\\automatization\\ple_statistics.py:82\u001b[0m, in \u001b[0;36mPleAuto.do_ple_scan\u001b[1;34m(self, lines, in_range, frequency, resolution)\u001b[0m\n\u001b[0;32m     80\u001b[0m \u001b[39mself\u001b[39m\u001b[39m.\u001b[39mple_gui\u001b[39m.\u001b[39mtoggle_scan()\n\u001b[0;32m     81\u001b[0m \u001b[39mwhile\u001b[39;00m \u001b[39mself\u001b[39m\u001b[39m.\u001b[39mlaser_scanner_logic\u001b[39m.\u001b[39mmodule_state()\u001b[39m==\u001b[39m\u001b[39m'\u001b[39m\u001b[39mlocked\u001b[39m\u001b[39m'\u001b[39m:\n\u001b[1;32m---> 82\u001b[0m         time\u001b[39m.\u001b[39;49msleep(\u001b[39m1\u001b[39;49m)\n\u001b[0;32m     83\u001b[0m time\u001b[39m.\u001b[39msleep(\u001b[39m1\u001b[39m)\n\u001b[0;32m     84\u001b[0m \u001b[39mself\u001b[39m\u001b[39m.\u001b[39mple_gui\u001b[39m.\u001b[39m_fit_dockwidget\u001b[39m.\u001b[39mfit_widget\u001b[39m.\u001b[39msigDoFit\u001b[39m.\u001b[39memit(\u001b[39m\"\u001b[39m\u001b[39mLorentzian\u001b[39m\u001b[39m\"\u001b[39m)\n",
      "\u001b[1;31mKeyboardInterrupt\u001b[0m: "
     ]
    }
   ],
   "source": []
  },
  {
   "cell_type": "code",
   "execution_count": 96,
   "id": "fe4c4d5c",
   "metadata": {},
   "outputs": [],
   "source": [
    "cobolt.enable_modulated()"
   ]
  },
  {
   "cell_type": "code",
   "execution_count": 98,
   "id": "f6119e06",
   "metadata": {},
   "outputs": [],
   "source": []
  },
  {
   "cell_type": "code",
   "execution_count": null,
   "id": "92676f25",
   "metadata": {},
   "outputs": [],
   "source": []
  }
 ],
 "metadata": {
  "kernelspec": {
   "display_name": "qudi",
   "language": "python",
   "name": "qudi"
  },
  "language_info": {
   "codemirror_mode": {
    "name": "ipython",
    "version": 3
   },
   "file_extension": ".py",
   "mimetype": "text/x-python",
   "name": "python",
   "nbconvert_exporter": "python",
   "pygments_lexer": "ipython3",
   "version": "3.9.16"
  }
 },
 "nbformat": 4,
 "nbformat_minor": 5
}
