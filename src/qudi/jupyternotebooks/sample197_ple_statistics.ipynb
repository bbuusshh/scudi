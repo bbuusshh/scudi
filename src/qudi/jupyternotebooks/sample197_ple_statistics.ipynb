{
 "cells": [
  {
   "cell_type": "code",
   "execution_count": null,
   "metadata": {},
   "outputs": [],
   "source": []
  },
  {
   "cell_type": "code",
   "execution_count": 1,
   "metadata": {},
   "outputs": [],
   "source": [
    "import automatization\n",
    "from automatization.ple_statistics import PleAuto\n",
    "import pandas as pd\n",
    "import os\n",
    "import time\n",
    "import json\n",
    "from importlib import reload\n",
    "import numpy as np\n",
    "from automatization.ple_statistics import PleAuto\n",
    "from matplotlib import pyplot as plt\n",
    "reload(automatization.ple_statistics)\n",
    "from automatization.ple_statistics import PleAuto\n",
    "from scipy.constants import speed_of_light\n",
    "import pickle\n",
    "from pathlib import Path"
   ]
  },
  {
   "cell_type": "code",
   "execution_count": 3,
   "metadata": {},
   "outputs": [],
   "source": [
    "pa = PleAuto(\n",
    "    ple_gui, \n",
    "    ple_optimize_logic, \n",
    "    laser_scanner_logic,\n",
    "    poi_manager_logic, \n",
    "    scanning_optimize_logic, \n",
    "    spectrometer, \n",
    "    spectrometerlogic,\n",
    "    cobolt,\n",
    "    ibeam_smart\n",
    ")"
   ]
  },
  {
   "cell_type": "code",
   "execution_count": 4,
   "metadata": {},
   "outputs": [],
   "source": [
    "# constraints\n",
    "scan_range_constr = laser_scanner_logic.scanner_constraints.axes[\"a\"].value_range"
   ]
  },
  {
   "cell_type": "code",
   "execution_count": 5,
   "metadata": {},
   "outputs": [
    {
     "data": {
      "text/plain": [
       "0"
      ]
     },
     "execution_count": 5,
     "metadata": {},
     "output_type": "execute_result"
    }
   ],
   "source": [
    "high_finesse_wavemeter_remote.start_acquisition()"
   ]
  },
  {
   "cell_type": "code",
   "execution_count": 25,
   "metadata": {},
   "outputs": [],
   "source": [
    "# factor_sigma = 0.509\n",
    "pa.go_to_ple_target(scan_range_constr[0])\n",
    "time.sleep(5)\n",
    "w1 = high_finesse_wavemeter_remote.get_current_wavelength()\n"
   ]
  },
  {
   "cell_type": "code",
   "execution_count": 26,
   "metadata": {},
   "outputs": [],
   "source": [
    "\n",
    "pa.go_to_ple_target(scan_range_constr[1])\n",
    "time.sleep(5)\n",
    "w2 = high_finesse_wavemeter_remote.get_current_wavelength()\n",
    "\n",
    "factor_sigma = (w2 - w1) * 1000 / 26 #GHz "
   ]
  },
  {
   "cell_type": "code",
   "execution_count": 23,
   "metadata": {},
   "outputs": [
    {
     "data": {
      "text/plain": [
       "12.58373030225357"
      ]
     },
     "execution_count": 23,
     "metadata": {},
     "output_type": "execute_result"
    }
   ],
   "source": [
    "(w2 - w1) * 1000"
   ]
  },
  {
   "cell_type": "code",
   "execution_count": 27,
   "metadata": {},
   "outputs": [
    {
     "data": {
      "text/plain": [
       "0.4854299524153633"
      ]
     },
     "execution_count": 27,
     "metadata": {},
     "output_type": "execute_result"
    }
   ],
   "source": [
    "factor_sigma "
   ]
  },
  {
   "cell_type": "code",
   "execution_count": 5,
   "metadata": {},
   "outputs": [],
   "source": [
    "factor_sigma = 0.5014115582119197"
   ]
  },
  {
   "cell_type": "code",
   "execution_count": 28,
   "metadata": {},
   "outputs": [],
   "source": [
    "scanning_optimize_logic._backwards_line_resolution = 20"
   ]
  },
  {
   "cell_type": "code",
   "execution_count": 33,
   "metadata": {},
   "outputs": [
    {
     "data": {
      "text/plain": [
       "-7"
      ]
     },
     "execution_count": 33,
     "metadata": {},
     "output_type": "execute_result"
    }
   ],
   "source": []
  },
  {
   "cell_type": "code",
   "execution_count": 41,
   "metadata": {},
   "outputs": [
    {
     "data": {
      "text/plain": [
       "<qudi.hardware.swabian_instruments.pulse_streamer.PulseStreamer(0x1caa98c3a30) at 0x000001CAADAAB640>"
      ]
     },
     "execution_count": 41,
     "metadata": {},
     "output_type": "execute_result"
    }
   ],
   "source": [
    "pulsestreamer"
   ]
  },
  {
   "cell_type": "code",
   "execution_count": 43,
   "metadata": {},
   "outputs": [],
   "source": [
    "#prepare\n",
    "#switch off green and turn on the 405 nm repump\n",
    "ibeam_smart.disable()\n",
    "\n",
    "cobolt.enable_modulated()\n",
    "cobolt.set_laser_modulated_power(power = 5)\n",
    "\n",
    "center_v = laser_controller_remote.etalon_voltage\n",
    "red_v = center_v + 0.3\n",
    "blue_v = center_v - 0.3\n",
    "eta_volts = [center_v, red_v, blue_v]\n",
    "\n",
    "results = []\n",
    "\n",
    "power_steps = 3 * np.logspace(1.5, 2, 10, endpoint=True).astype(int)[::-1]\n",
    "folder = r\"C:\\Users\\yy3\\Documents\\data\\Vlad\\197\\2R\\auto\"\n",
    "folder = os.path.join(folder, r\"auto_1_0\")\n",
    "if not os.path.exists(folder):\n",
    "    os.mkdir(folder) \n",
    "\n",
    "for poi_name in poi_manager_logic.poi_names[:5]:\n",
    "    if poi_name == \"ref\":\n",
    "        continue\n",
    "    laser_controller_remote.etalon_voltage = center_v\n",
    "    results_poi = {}\n",
    "    os.mkdir(folder_defect := os.path.join(folder, poi_name))\n",
    "    results_poi[\"poi_name\"] = poi_name\n",
    "    results_poi[\"factor_sigma\"] = factor_sigma\n",
    "    \n",
    "    # go to a defect\n",
    "    pa.set_resonant_power(power = 300)\n",
    "    time.sleep(1)\n",
    "\n",
    "     #configure slow scanning for the wavemeter scanning optimizations\n",
    "    switchlogic.set_state(\"ScanningMode\", 'Wavemeter')\n",
    "    # x - y - z- fine scan to find the resonance\n",
    "    seqs = {str(seq): idx for idx, seq in enumerate(scanner_gui._osd.settings_widget.available_opt_sequences)}\n",
    "    scanner_gui._osd.settings_widget.optimize_sequence_combobox.setCurrentIndex(seqs[\"x, y, z\"])\n",
    "\n",
    "    scanner_gui._osd.change_settings({'scan_frequency': {\"x\": 5, \"y\": 5, \"z\": 5},\n",
    "                                    \"scan_resolution\": {\"x\": 80, \"y\": 80, \"z\":80},\n",
    "                                    \"scan_range\": {\"x\": 2.5e-6, \"y\": 2.5e-6, \"z\": 4.5e-6}})\n",
    "    scanner_gui._osd.accept()\n",
    "\n",
    "    time.sleep(1)\n",
    "    pa.go_to_poi(poi_name, opt_times=1)\n",
    "    \n",
    "\n",
    "    switchlogic.set_state(\"ScanningMode\", 'NI')\n",
    "    time.sleep(0.2)\n",
    "\n",
    "    #Check how the PLE look like\n",
    "    res = pa.do_ple_scan(lines = 1)\n",
    "    pa.save_ple(tag = \"full_range\",\n",
    "            poi_name=poi_name, folder_name=folder_defect)\n",
    "    time.sleep(0.5)\n",
    "    results_poi.update({\n",
    "        \"ple_scans\" : {\n",
    "        \"full_range\" : ple_data_logic.last_saved_files_paths \n",
    "            }\n",
    "        })\n",
    "    for eta_v in eta_volts:\n",
    "        laser_controller_remote.etalon_voltage = eta_v\n",
    "        time.sleep(0.5)\n",
    "        if (\n",
    "            res[\"center\"].stderr > 1e3 or \n",
    "            res[\"sigma\"].stderr > res[\"sigma\"].value or \n",
    "            res[\"sigma\"].value > 1e3 or\n",
    "            res[\"center\"].value - 5 * res[\"sigma\"].value < scan_range_constr[0] or \n",
    "            res[\"center\"].value + 5 * res[\"sigma\"].value > scan_range_constr[1]\n",
    "            ): \n",
    "            print(\"NO PLE or it is at the rim\")\n",
    "            pa.save_ple(tag = f\"failed_PLE_scan_eta_v_{eta_v}\",\n",
    "                poi_name=poi_name, folder_name=folder_defect)\n",
    "            \n",
    "            continue\n",
    "        else:\n",
    "            break\n",
    "    #since there is a PLE -- optimize_all\n",
    "    pa.go_to_ple_target(res[\"center\"].value)\n",
    "    #get the center wavelength:\n",
    "    pa.optimize_ple()\n",
    "    time.sleep(0.5)\n",
    "    wavelength = high_finesse_wavemeter_remote.get_current_wavelength()\n",
    "    results_poi[\"wavelength, THz\"] = float(wavelength)\n",
    "\n",
    "    time.sleep(0.5)\n",
    "\n",
    "    scanner_gui._osd.settings_widget.optimize_sequence_combobox.setCurrentIndex(seqs[\"xy, z\"])\n",
    "    scanner_gui._osd.change_settings({'scan_frequency': {\"x\": 25, \"y\": 25, \"z\": 25},\n",
    "                                        \"scan_resolution\": {\"x\": 15, \"y\": 15, \"z\":80},\n",
    "                                        \"scan_range\": {\"x\": 1e-6, \"y\": 1e-6, \"z\": 4e-6}})\n",
    "    \n",
    "    scanner_gui._osd.accept()\n",
    "    time.sleep(0.5)\n",
    "    pa.optimize_all()\n",
    "    \n",
    "    #Now we now where the defect is\n",
    "    results_poi[\"xyz\"] = tuple(float(coord) for coord in poi_manager_logic.poi_anchors[poi_name])\n",
    "    \n",
    "\n",
    "    pa.set_resonant_power(power = power_steps[1])\n",
    "\n",
    "    time.sleep(1)\n",
    "    res = pa.do_ple_scan(lines = 1)\n",
    "\n",
    "    fine_scan_range = ( \n",
    "        res[\"center\"].value - 8 * res[\"sigma\"].value ,\n",
    "        res[\"center\"].value + 8 * res[\"sigma\"].value\n",
    "                    )\n",
    "    time.sleep(1)\n",
    "    res = pa.do_ple_scan(lines = 1, in_range=fine_scan_range)\n",
    "    \n",
    "    scan_range_sat = ( \n",
    "        res[\"center\"].value - 4 * res[\"sigma\"].value ,\n",
    "        res[\"center\"].value + 4 * res[\"sigma\"].value\n",
    "                    )\n",
    "    time.sleep(1)\n",
    "    res = pa.do_ple_scan(lines = 1, in_range=scan_range_sat)\n",
    "    scan_range_sat = ( \n",
    "        res[\"center\"].value - 4 * res[\"sigma\"].value ,\n",
    "        res[\"center\"].value + 4 * res[\"sigma\"].value\n",
    "                    )\n",
    "    scan_range_sat_sigma = res[\"sigma\"].value\n",
    "    time.sleep(1)\n",
    "    \n",
    "    pa.save_ple(tag = \"4sigma_range\",\n",
    "                poi_name=poi_name, folder_name=folder_defect)\n",
    "    time.sleep(0.5)\n",
    "\n",
    "    results_poi.update({\n",
    "        \"ple_scans\" : {\n",
    "        \"5sigma_range\" : ple_data_logic.last_saved_files_paths \n",
    "        }\n",
    "    })\n",
    "\n",
    "\n",
    "    # now we run saturation with a cw repump\n",
    "    os.mkdir(saturation_folder := os.path.join(folder_defect, \"saturation\"))\n",
    "    results_poi[\"saturation\"] = {}\n",
    "    idx_no_ple = None\n",
    "    \n",
    "    # #405 repump\n",
    "    cobolt.enable_modulated()\n",
    "    cobolt.set_laser_modulated_power(power = 5)\n",
    "    #cobolt.disable_modulated() #leave only 450nm ON\n",
    "    for idx, power in enumerate(power_steps):\n",
    "        os.mkdir(power_folder := os.path.join(saturation_folder, f\"{power}\"))\n",
    "        pa.set_resonant_power(power = power)\n",
    "        time.sleep(1)\n",
    "        #fine_scan_range = scan_range_sat\n",
    "        #res = pa.do_ple_scan(lines = 1, in_range=scan_range_sat)\n",
    "        fine_scan_range = ( \n",
    "            res[\"center\"].value - 2 * scan_range_sat_sigma ,\n",
    "            res[\"center\"].value + 2 * scan_range_sat_sigma\n",
    "                        )\n",
    "        \n",
    "        res = pa.do_ple_scan(lines = 3, in_range=fine_scan_range)\n",
    "        time.sleep(1)\n",
    "        #save_results\n",
    "        pa.save_ple(tag = f\"{power}\",\n",
    "            poi_name=poi_name, folder_name=power_folder)\n",
    "        #save_plots\n",
    "        if res[\"center\"].stderr is None or res[\"sigma\"].stderr is None or res[\"sigma\"].value is None:\n",
    "            idx_no_ple = idx\n",
    "            break\n",
    "        if res[\"center\"].stderr > 1e3 or res[\"sigma\"].stderr * 4 > res[\"sigma\"].value or res[\"amplitude\"].stderr * 3 > res[\"amplitude\"].value or res[\"amplitude\"].value < 3000: \n",
    "            #ple is gone.\n",
    "            idx_no_ple = idx\n",
    "            break\n",
    "\n",
    "        \n",
    "        #get the center wavelength:\n",
    "        \n",
    "        pa.go_to_ple_target(res[\"center\"].value)\n",
    "        pa.optimize_ple()\n",
    "        wavelength = high_finesse_wavemeter_remote.get_current_wavelength()\n",
    "\n",
    "        # #charge_lifetime:\n",
    "        # for i in range(10):\n",
    "        #     pa.optimize_ple()\n",
    "        #     time.sleep(5)\n",
    "\n",
    "        results_poi.update({\"saturation\": \n",
    "                            {f\"{power}\":\n",
    "                                {\"scan_data\": ple_data_logic.last_saved_files_paths,\n",
    "                                \"sigma\": res[\"sigma\"].value,\n",
    "                                \"sigma_stderr\": res[\"sigma\"].stderr,\n",
    "                                \"wavelength\": wavelength\n",
    "                                }\n",
    "                                }})\n",
    "    if idx_no_ple is None:\n",
    "        continue\n",
    "    \n",
    "    # # photostability study\n",
    "    os.mkdir(photostability_folder := os.path.join(folder_defect, \"photostability\"))\n",
    "    results_poi[\"photostability\"] = {}\n",
    "    #for color in [\"violet\", \"blue\", \"green\"]:\n",
    "    color = \"violet\"\n",
    "    \n",
    "    res = pa.do_ple_scan(lines = 1, in_range=scan_range_sat)\n",
    "    fine_scan_range = ( \n",
    "            res[\"center\"].value - 2 * scan_range_sat_sigma ,\n",
    "            res[\"center\"].value + 2 * scan_range_sat_sigma\n",
    "                        )\n",
    "    \n",
    "    cobolt.disable_modulated()\n",
    "    \n",
    "    for i in range(idx_no_ple):\n",
    "        idx_no_ple_checked = idx_no_ple - i\n",
    "        pa.set_resonant_power(power = int(power_steps[idx_no_ple_checked])) #take the last but one visible ple power\n",
    "        #reionize with blue\n",
    "        \n",
    "        pa.one_pulse_repump(color)\n",
    "        time.sleep(0.5)\n",
    "        res = pa.do_ple_scan(lines = 20, in_range=fine_scan_range)\n",
    "        #fine_scan_range = ( \n",
    "        #res[\"center\"].value - scan_range_sat,\n",
    "        #res[\"center\"].value + scan_range_sat\n",
    "        #        )\n",
    "        if res[\"center\"].stderr is None or res[\"sigma\"].stderr is None or res[\"sigma\"].value is None or res[\"amplitude\"].value is None or res[\"amplitude\"].stderr is None:\n",
    "    \n",
    "                continue\n",
    "        if res[\"center\"].stderr > 1e3 or res[\"sigma\"].stderr * 4 > res[\"sigma\"].value or res[\"amplitude\"].stderr * 3 > res[\"amplitude\"].value: \n",
    "                #ple is gone.\n",
    "    \n",
    "                continue\n",
    "    \n",
    "        pa.save_ple(tag = f\"{power}_inited_{color}\",\n",
    "        poi_name=poi_name, folder_name=photostability_folder)\n",
    "        time.sleep(1)\n",
    "        results_poi.update({\"photostability\": {\n",
    "                        \"charge_initializer\": color,\n",
    "                        \"power\": power,\n",
    "                        \"scan_data\": ple_data_logic.last_saved_files_paths,\n",
    "                        \"sigma\": res[\"sigma\"].value,\n",
    "                        \"sigma_stderr\": res[\"sigma\"].stderr\n",
    "                        }}\n",
    "                        )\n",
    "        break\n",
    "    # #no we now the power where we still see the ple\n",
    "    #os.mkdir(photostability := os.path.join(folder_defect, \"photostability_405\"))\n",
    "    \n",
    "\n",
    "    # cobolt.enable_modulated()\n",
    "    # cobolt.set_laser_modulated_power(power = 5)\n",
    "    # pa.set_resonant_power(power = power_steps[idx_no_ple_checked])\n",
    "    # time.sleep(1)\n",
    "    # res = pa.do_ple_scan(lines = 1, in_range=fine_scan_range)\n",
    "\n",
    "    # #ple_gui._osd.change_settings({\"scan_range\": {\"a\": 5000}}) # 3GHz\n",
    "    # #ple_gui._osd.accept()\n",
    "\n",
    "    #  #take the last but one visible ple power\n",
    "    # #reionize with blue\n",
    "    # pa.one_pulse_repump(\"blue\")\n",
    "    # fine_scan_range = ( \n",
    "    # res[\"center\"].value - 5 * res[\"sigma\"].value ,\n",
    "    # res[\"center\"].value + 5 * res[\"sigma\"].value\n",
    "    #             )\n",
    "    # time.sleep(1)\n",
    "    # res = pa.do_ple_scan(lines = 1, in_range=fine_scan_range)\n",
    "    # time.sleep(1)\n",
    "    # pa.save_ple(tag = f\"no_repump_{power_steps[idx_no_ple_checked]}\", folder_name=folder_defect) \n",
    "\n",
    "\n",
    "    # #no repump saturation\n",
    "\n",
    "    # os.mkdir(no_repump_saturation := os.path.join(folder_defect, \"no_repump_saturation\"))\n",
    "    # idx_no_ple_ohne_repump = None\n",
    "    # for idx, power in enumerate(power_steps[idx_no_ple_checked : ]):\n",
    "    \n",
    "    #     pa.set_resonant_power(power = power)\n",
    "    #     time.sleep(1)\n",
    "    #     fine_scan_range = ( \n",
    "    #     res[\"center\"].value - scan_range_sat ,\n",
    "    #     res[\"center\"].value + scan_range_sat\n",
    "    #                 )\n",
    "    #     pa.one_pulse_repump(\"blue\")\n",
    "    #     time.sleep(0.5)\n",
    "    #     res = pa.do_ple_scan(lines = 5, in_range=fine_scan_range)\n",
    "    #     time.sleep(1)\n",
    "    #     #save_results\n",
    "    #     pa.save_ple(tag = f\"{power}\",\n",
    "    #         poi_name=poi_name, folder_name=no_repump_saturation)\n",
    "    #     #save_plots\n",
    "    #     if res[\"center\"].stderr is None or res[\"sigma\"].stderr is None or res[\"sigma\"].value is None:\n",
    "    #         idx_no_ple_ohne_repump = idx\n",
    "    #         break\n",
    "    #     if res[\"center\"].stderr > 1e3 or res[\"sigma\"].stderr * 4 > res[\"sigma\"].value or res[\"amplitude\"].stderr * 3 > res[\"amplitude\"].value: \n",
    "    #         #ple is gone.\n",
    "    #         idx_no_ple_ohne_repump = idx\n",
    "    #         break\n",
    "\n",
    "    #     #get the center wavelength:\n",
    "        \n",
    "    #     pa.go_to_ple_target(res[\"center\"].value)\n",
    "    #     pa.optimize_ple()\n",
    "    #     wavelength = high_finesse_wavemeter_remote.get_current_wavelength()\n",
    "\n",
    "    #     # #charge_lifetime:\n",
    "    #     # for i in range(10):\n",
    "    #     #     pa.optimize_ple()\n",
    "    #     #     time.sleep(5)\n",
    "\n",
    "    #     results_poi.update({\"no_repump_saturation\": \n",
    "    #                         {f\"{power}\":\n",
    "    #                             {\"scan_data\": ple_data_logic.last_saved_files_paths,\n",
    "    #                             \"sigma\": res[\"sigma\"].value,\n",
    "    #                             \"sigma_stderr\": res[\"sigma\"].stderr,\n",
    "    #                             \"wavelength\": wavelength\n",
    "    #                             }\n",
    "    #                             }})\n",
    "    # if idx_no_ple_ohne_repump is None:\n",
    "    #     continue\n",
    "    # power_ = power_steps[idx_no_ple_checked : ][idx_no_ple_ohne_repump - 1]\n",
    "    # pa.set_resonant_power(power = power_)\n",
    "    # time.sleep(1)\n",
    "    # pa.one_pulse_repump(\"blue\")\n",
    "    # time.sleep(0.5)\n",
    "    # res = pa.do_ple_scan(lines = 20, in_range=fine_scan_range)\n",
    "    # time.sleep(1)\n",
    "    # #save_results\n",
    "    # pa.save_ple(tag = f\"lowest_power_{power_}\",\n",
    "    #     poi_name=poi_name, folder_name=folder_defect)\n",
    "\n",
    "    # results_poi[\"lowest_power_scan\"] = ple_data_logic.last_saved_files_paths\n",
    "\n",
    "\n",
    "    # take spectrum to estimate SOC\n",
    "    pa.set_resonant_power(power = 0)\n",
    "    time.sleep(2)\n",
    "    ibeam_smart.enable()\n",
    "    cobolt.enable_modulated()\n",
    "    cobolt.set_laser_modulated_power(power = 100)\n",
    "    pa.set_resonant_power(power = 0)\n",
    "    time.sleep(1)\n",
    "    pa.take_spectrum()\n",
    "\n",
    "    pa.save_spectrum(name_tag=f\"{poi_name}_blueNgreen\", folder_path=folder_defect)\n",
    "    results_poi[\"spectrum_data\"] = spectrometerlogic.last_saved_path\n",
    "\n",
    "    spectrometer._mw.data_widget.fit_widget.sigDoFit.emit(\"DoubleLorentzian\")\n",
    "    time.sleep(0.2)\n",
    "    # spectrometer.fit_results.params[\"center_1\"].value\n",
    "    if spectrometer.fit_results is not None:\n",
    "        params = spectrometer.fit_results.params\n",
    "        results_poi[\"SOC, GHz\"] = float(speed_of_light / params[\"center_2\"].value - speed_of_light / params[\"center_1\"].value)\n",
    "\n",
    "    ibeam_smart.disable()\n",
    "    #cobolt.disable_modulated()\n",
    "    cobolt.enable_modulated()\n",
    "    cobolt.set_laser_modulated_power(power = 5)\n",
    "\n",
    "    with open(os.path.join(folder_defect, f'results_{poi_name}'), 'wb') as handle:\n",
    "        pickle.dump(results_poi, handle, protocol=pickle.HIGHEST_PROTOCOL)"
   ]
  },
  {
   "cell_type": "code",
   "execution_count": null,
   "metadata": {},
   "outputs": [],
   "source": []
  },
  {
   "cell_type": "code",
   "execution_count": null,
   "metadata": {},
   "outputs": [
    {
     "name": "stdout",
     "output_type": "stream",
     "text": [
      "Hi\n"
     ]
    }
   ],
   "source": [
    "print(\"Hi\")"
   ]
  },
  {
   "attachments": {},
   "cell_type": "markdown",
   "metadata": {},
   "source": [
    "PROCESSING"
   ]
  },
  {
   "cell_type": "code",
   "execution_count": null,
   "metadata": {},
   "outputs": [],
   "source": [
    "\n",
    "SMALL_SIZE = 15\n",
    "MEDIUM_SIZE = 20\n",
    "BIGGER_SIZE = 30\n",
    "\n",
    "plt.rc('font', size=SMALL_SIZE)          # controls default text sizes\n",
    "plt.rc('axes', titlesize=MEDIUM_SIZE)     # fontsize of the axes title\n",
    "plt.rc('axes', labelsize=MEDIUM_SIZE)    # fontsize of the x and y labels\n",
    "plt.rc('xtick', labelsize=SMALL_SIZE)    # fontsize of the tick labels\n",
    "plt.rc('ytick', labelsize=SMALL_SIZE)    # fontsize of the tick labels\n",
    "plt.rc('legend', fontsize=SMALL_SIZE)    # legend fontsize\n",
    "plt.rc('figure', titlesize=MEDIUM_SIZE)  # fontsize of the figure title\n",
    "plt.rc('grid', linestyle='--')\n",
    "plt.rc('grid', color='#E68F6B')\n"
   ]
  },
  {
   "cell_type": "code",
   "execution_count": null,
   "metadata": {},
   "outputs": [],
   "source": [
    "defs = os.listdir(folder)\n",
    "dics = []\n",
    "for df in defs:\n",
    "    dct = [d for d in os.listdir(os.path.join(folder, df)) if \"results\" in d]\n",
    "    if len(dct) > 0:\n",
    "        dics.append(dct[0])"
   ]
  },
  {
   "cell_type": "code",
   "execution_count": null,
   "metadata": {},
   "outputs": [
    {
     "data": {
      "text/plain": [
       "['results_def10', 'results_def12', 'results_def13', 'results_def14', 'results_def16', 'results_def18', 'results_def19', 'results_def2', 'results_def22', 'results_def23', 'results_def24', 'results_def25', 'results_def28', 'results_def29', 'results_def31', 'results_def4', 'results_def5', 'results_def6', 'results_def7', 'results_def8', 'results_def9']"
      ]
     },
     "execution_count": 34,
     "metadata": {},
     "output_type": "execute_result"
    }
   ],
   "source": [
    "dics"
   ]
  },
  {
   "cell_type": "code",
   "execution_count": null,
   "metadata": {},
   "outputs": [],
   "source": [
    "wlngths = []\n",
    "SOCs = []\n",
    "ples = []\n",
    "for def_ in defs:\n",
    "        if os.path.exists(os.path.join(folder, def_, f'results_{def_}')):\n",
    "                with open(os.path.join(folder, def_, f'results_{def_}'), 'rb') as handle:\n",
    "                        ddd = pickle.load(handle)\n",
    "                wlngths.append(ddd[\"wavelength, THz\"])\n",
    "                SOCs.append(ddd[\"SOC, GHz\"])\n",
    "                ples.append(ddd[\"\"])"
   ]
  },
  {
   "cell_type": "code",
   "execution_count": null,
   "metadata": {},
   "outputs": [
    {
     "data": {
      "text/plain": [
       "'C:\\\\Users\\\\yy3\\\\Documents\\\\data\\\\SnV\\\\cooldown_06_03_2023_95NA\\\\197\\\\2R\\\\auto_D\\\\def9\\\\saturation\\\\20230316-2338-12__cummulative_1D-scan_with_a_axes_from_channel_APD111_def9_300.dat'"
      ]
     },
     "execution_count": 105,
     "metadata": {},
     "output_type": "execute_result"
    }
   ],
   "source": [
    "ddd[\"ple_scans\"][\"5sigma_range\"][\"cummulative_ch_APD111\"]"
   ]
  },
  {
   "cell_type": "code",
   "execution_count": null,
   "metadata": {},
   "outputs": [],
   "source": [
    "from ast import literal_eval as make_tuple\n",
    "def get_scan_range(file_name):\n",
    "    range_ = \"\"\n",
    "    with open(file_name, \"r\") as f:\n",
    "        for line in f.readlines():\n",
    "            if \"scan range\" in line:\n",
    "                range_ = line\n",
    "    return make_tuple(range_.strip().split(\"=\")[-1])"
   ]
  },
  {
   "cell_type": "code",
   "execution_count": null,
   "metadata": {},
   "outputs": [],
   "source": []
  },
  {
   "cell_type": "code",
   "execution_count": null,
   "metadata": {},
   "outputs": [],
   "source": []
  },
  {
   "cell_type": "code",
   "execution_count": null,
   "metadata": {},
   "outputs": [
    {
     "data": {
      "image/png": "[encoded data removed]",
      "text/plain": [
       "<Figure size 640x480 with 1 Axes>"
      ]
     },
     "metadata": {},
     "output_type": "display_data"
    }
   ],
   "source": [
    "SOCs = np.array(SOCs)\n",
    "SOCs = SOCs[SOCs > 0]\n",
    "plt.hist(SOCs, bins=10, ec=\"black\", fc=\"#79B3F0\")\n",
    "plt.xlabel(r'$\\lambda$, nm')\n",
    "plt.ylabel(r'# defects')\n",
    "plt.tight_layout()\n",
    "plt.savefig(r\"C:\\Users\\yy3\\Documents\\data\\plots\\SnV_1500_197_2R.png\", dpi=300)"
   ]
  },
  {
   "cell_type": "code",
   "execution_count": null,
   "metadata": {},
   "outputs": [
    {
     "data": {
      "image/png": "[encoded data removed]",
      "text/plain": [
       "<Figure size 640x480 with 1 Axes>"
      ]
     },
     "metadata": {},
     "output_type": "display_data"
    }
   ],
   "source": [
    "wlngths = np.array(wlngths)\n",
    "wlngths = wlngths - min(wlngths)\n",
    "plt.hist(wlngths * 1000, bins=10, ec=\"black\", fc=\"#E6BF60\")\n",
    "plt.xlabel(r'$\\lambda_{relative}$, GHz')\n",
    "plt.ylabel(r'# defects')\n",
    "plt.tight_layout()\n",
    "plt.savefig(r\"C:\\Users\\yy3\\Documents\\data\\plots\\SnV_1500_197_2R_lam.png\", dpi=300)"
   ]
  },
  {
   "cell_type": "code",
   "execution_count": null,
   "metadata": {},
   "outputs": [],
   "source": []
  }
 ],
 "metadata": {
  "kernelspec": {
   "display_name": "qudi",
   "language": "python",
   "name": "qudi"
  },
  "language_info": {
   "codemirror_mode": {
    "name": "ipython",
    "version": 3
   },
   "file_extension": ".py",
   "mimetype": "text/x-python",
   "name": "python",
   "nbconvert_exporter": "python",
   "pygments_lexer": "ipython3",
   "version": "3.9.15"
  },
  "orig_nbformat": 4
 },
 "nbformat": 4,
 "nbformat_minor": 2
}
