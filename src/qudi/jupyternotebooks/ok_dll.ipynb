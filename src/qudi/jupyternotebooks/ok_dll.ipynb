{
 "cells": [
  {
   "cell_type": "code",
   "execution_count": 5,
   "metadata": {},
   "outputs": [],
   "source": [
    "import ctypes\n",
    "import os"
   ]
  },
  {
   "cell_type": "code",
   "execution_count": 1,
   "metadata": {},
   "outputs": [],
   "source": [
    "ok_dll_path = r'C:\\Program Files\\Opal Kelly\\FrontPanelUSB\\API-64'"
   ]
  },
  {
   "cell_type": "code",
   "execution_count": 2,
   "metadata": {},
   "outputs": [],
   "source": [
    "ok_dll = os.path.join(ok_dll_path, \"okFrontPanel.dll\")"
   ]
  },
  {
   "cell_type": "code",
   "execution_count": 6,
   "metadata": {},
   "outputs": [],
   "source": [
    "ok_dll = ctypes.CDLL(ok_dll)"
   ]
  },
  {
   "cell_type": "code",
   "execution_count": null,
   "metadata": {},
   "outputs": [],
   "source": [
    "ok_dll."
   ]
  }
 ],
 "metadata": {
  "kernelspec": {
   "display_name": "scudi",
   "language": "python",
   "name": "python3"
  },
  "language_info": {
   "codemirror_mode": {
    "name": "ipython",
    "version": 3
   },
   "file_extension": ".py",
   "mimetype": "text/x-python",
   "name": "python",
   "nbconvert_exporter": "python",
   "pygments_lexer": "ipython3",
   "version": "3.9.16"
  },
  "orig_nbformat": 4,
  "vscode": {
   "interpreter": {
    "hash": "dd14e2ed26a4f13cff222513eaab912da125b6d2b1f376c837bbd5a7f4f5c625"
   }
  }
 },
 "nbformat": 4,
 "nbformat_minor": 2
}
