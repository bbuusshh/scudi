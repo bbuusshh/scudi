{
 "cells": [
  {
   "cell_type": "code",
   "execution_count": 1,
   "metadata": {},
   "outputs": [],
   "source": [
    "import time\n",
    "import numpy as np"
   ]
  },
  {
   "cell_type": "code",
   "execution_count": 2,
   "metadata": {},
   "outputs": [],
   "source": [
    "def blue_repump(on: bool):\n",
    "    if on:\n",
    "        flip_mirror_switch_ni.set_state(state=\"On\", switch=\"Mirror\")\n",
    "    else:\n",
    "        flip_mirror_switch_ni.set_state(state=\"Off\", switch=\"Mirror\")"
   ]
  },
  {
   "cell_type": "code",
   "execution_count": 16,
   "metadata": {},
   "outputs": [],
   "source": [
    "blue_repump(True)"
   ]
  },
  {
   "cell_type": "code",
   "execution_count": 15,
   "metadata": {},
   "outputs": [],
   "source": [
    "blue_repump(True)\n",
    "time.sleep(0.01)\n",
    "\n",
    "blue_repump(False)"
   ]
  },
  {
   "cell_type": "code",
   "execution_count": 12,
   "metadata": {},
   "outputs": [
    {
     "data": {
      "text/plain": [
       "345.8"
      ]
     },
     "execution_count": 12,
     "metadata": {},
     "output_type": "execute_result"
    }
   ],
   "source": [
    "timetaggerlogic.counter.getDataNormalized()[0].mean()"
   ]
  },
  {
   "cell_type": "code",
   "execution_count": 18,
   "metadata": {},
   "outputs": [],
   "source": [
    "def load_swabian_sequence(self, seq):\n",
    "    \"\"\" Upload a pattern to a sequence and the sequence to the pulsetreamer in a simple native way.\n",
    "    \"\"\"\n",
    "    _seq = pulse_streamer.createSequence()\n",
    "    for key in seq.keys():\n",
    "        if seq[key]:\n",
    "            if 'd' in key:\n",
    "                _seq.setDigital(int(key[-1]), seq[key])    \n",
    "            else:\n",
    "                _seq.setAnalog(int(key[-1]),seq[key])"
   ]
  },
  {
   "cell_type": "code",
   "execution_count": null,
   "metadata": {},
   "outputs": [],
   "source": [
    "seq = {\n",
    "    \"d\"\n",
    "}"
   ]
  },
  {
   "cell_type": "code",
   "execution_count": null,
   "metadata": {},
   "outputs": [],
   "source": [
    "self._pulser.load_swabian_sequence(self._make_pulse_sequence(HWRecorderMode.PIXELCLOCK, integration_time))"
   ]
  },
  {
   "cell_type": "code",
   "execution_count": 2,
   "metadata": {},
   "outputs": [],
   "source": [
    "from qudi.interface.pulser_interface import PulserInterface, PulserConstraints\n",
    "import pulsestreamer as ps\n",
    "from qudi.logic.pulsed.pulse_objects import PulseBlockElement, PulseBlock, PulseBlockEnsemble, PulseSequence\n",
    "from qudi.logic.pulsed.sampling_functions import SamplingFunctions"
   ]
  },
  {
   "cell_type": "code",
   "execution_count": 3,
   "metadata": {},
   "outputs": [],
   "source": [
    "def start_pulsed(enabled, ensemble_name):\n",
    "    pulsed_master_logic.sigSampleBlockEnsemble.emit(ensemble_name)\n",
    "    pulsed_master_logic.sigLoadBlockEnsemble.emit(ensemble_name) \n",
    "    pulsed_master_logic.sigPulserRunningUpdated.emit(enabled)    "
   ]
  },
  {
   "cell_type": "code",
   "execution_count": 12,
   "metadata": {},
   "outputs": [
    {
     "data": {
      "text/plain": [
       "True"
      ]
     },
     "execution_count": 12,
     "metadata": {},
     "output_type": "execute_result"
    }
   ],
   "source": [
    "_laser_channel = 3\n",
    "_mw_channel = 8\n",
    "_trig_channel = 6\n",
    "element_list = []\n",
    "\n",
    "channels = {'d_ch1': 0.0 , 'd_ch2': 0.0 , 'd_ch3': 0.0 , 'd_ch4': 0.0 , 'd_ch5': 0.0 , 'd_ch6': 0.0 , 'd_ch7': 0.0 , 'd_ch8': 0.0 , 'a_ch1': SamplingFunctions.Idle(), 'a_ch2': SamplingFunctions.Idle()}\n",
    "clear = lambda x: {i:0 for i in x.keys()}\n",
    "d_ch = lambda x: f'd_ch{x}'\n",
    "a_ch = lambda x: f'a_ch{x}'\n",
    "\n",
    "seq = PulseSequence(\"rabiDyi\")\n",
    "\n",
    "for rep in range(50):\n",
    "    channels = clear(channels)\n",
    "    element_list.append(\n",
    "        PulseBlockElement(init_length_s = 1e-6, digital_high = channels)\n",
    "        )\n",
    "\n",
    "    channels = clear(channels)\n",
    "    channels[d_ch(_mw_channel)] = 1.0\n",
    "    element_list.append(\n",
    "        PulseBlockElement(init_length_s = 10e-9 + 10 * rep * 1e-9, digital_high = channels)\n",
    "    )\n",
    "    channels = clear(channels)\n",
    "    channels[d_ch(_laser_channel)] = 1.0\n",
    "    element_list.append(\n",
    "        PulseBlockElement(init_length_s = 1e-6, digital_high = channels)\n",
    "        )\n",
    "\n",
    "    channels = clear(channels)\n",
    "    channels[d_ch(_trig_channel)] = 1.0\n",
    "    element_list.append(PulseBlockElement(init_length_s = 100e-9, digital_high = channels))\n",
    "\n",
    "pulse_block = PulseBlock(name='rabiDyi', element_list=element_list)\n",
    "pulsed_master_logic.sigSavePulseBlock.emit(pulse_block)\n",
    "block_list = [(pulse_block.name, 0)]\n",
    "block_ensemble = PulseBlockEnsemble(name='rabiDyi', block_list=block_list, rotating_frame=False)\n",
    "pulsed_master_logic.sigSaveBlockEnsemble.emit(block_ensemble)\n",
    "pulsed_master_logic.sigSampleBlockEnsemble.emit('rabiDyi')\n",
    "pulsed_master_logic.sigLoadBlockEnsemble.emit('rabiDyi') \n"
   ]
  },
  {
   "cell_type": "code",
   "execution_count": 13,
   "metadata": {},
   "outputs": [],
   "source": [
    "start_pulsed(True, \"rabiDyi\")"
   ]
  },
  {
   "cell_type": "code",
   "execution_count": 14,
   "metadata": {},
   "outputs": [
    {
     "data": {
      "text/plain": [
       "<PySide2.QtCore.SignalInstance object at 0x0000028F6FA64E90>"
      ]
     },
     "execution_count": 14,
     "metadata": {},
     "output_type": "execute_result"
    }
   ],
   "source": [
    "pulsed_master_logic.sigSavePulseBlock"
   ]
  },
  {
   "cell_type": "code",
   "execution_count": 8,
   "metadata": {},
   "outputs": [
    {
     "ename": "TypeError",
     "evalue": "PulseSequence ensemble list entries must be either:\n\t- a tuple or list of length 2 with one entry being the PulseBlockEnsemble name and the other being a sequence parameter dictionary\n\t- a str containing the PulseBlockEnsemble name\n\t- a dict containing the sequence parameters including the PulseBlockEnsemble name",
     "output_type": "error",
     "traceback": [
      "\u001b[1;31m---------------------------------------------------------------------------\u001b[0m",
      "\u001b[1;31mTypeError\u001b[0m                                 Traceback (most recent call last)",
      "\u001b[1;32md:\\scudi\\scudi\\src\\qudi\\jupyternotebooks\\SnV\\158_yadro.ipynb Cell 11\u001b[0m in \u001b[0;36m<cell line: 1>\u001b[1;34m()\u001b[0m\n\u001b[1;32m----> <a href='vscode-notebook-cell://ssh-remote%2B129.69.46.82/d%3A/scudi/scudi/src/qudi/jupyternotebooks/SnV/158_yadro.ipynb#Y152sdnNjb2RlLXJlbW90ZQ%3D%3D?line=0'>1</a>\u001b[0m pulse_dict \u001b[39m=\u001b[39m _make_pulse_sequence()\n",
      "\u001b[1;32md:\\scudi\\scudi\\src\\qudi\\jupyternotebooks\\SnV\\158_yadro.ipynb Cell 11\u001b[0m in \u001b[0;36m_make_pulse_sequence\u001b[1;34m(int_time, freq_points, num_esr_runs, pi_half_pulse)\u001b[0m\n\u001b[0;32m     <a href='vscode-notebook-cell://ssh-remote%2B129.69.46.82/d%3A/scudi/scudi/src/qudi/jupyternotebooks/SnV/158_yadro.ipynb#Y152sdnNjb2RlLXJlbW90ZQ%3D%3D?line=34'>35</a>\u001b[0m     channels[d_ch(_trig_channel)] \u001b[39m=\u001b[39m \u001b[39m1.0\u001b[39m\n\u001b[0;32m     <a href='vscode-notebook-cell://ssh-remote%2B129.69.46.82/d%3A/scudi/scudi/src/qudi/jupyternotebooks/SnV/158_yadro.ipynb#Y152sdnNjb2RlLXJlbW90ZQ%3D%3D?line=35'>36</a>\u001b[0m     block_1\u001b[39m.\u001b[39mappend(PulseBlockElement(init_length_s \u001b[39m=\u001b[39m \u001b[39m100e-9\u001b[39m, digital_high \u001b[39m=\u001b[39m channels))\n\u001b[1;32m---> <a href='vscode-notebook-cell://ssh-remote%2B129.69.46.82/d%3A/scudi/scudi/src/qudi/jupyternotebooks/SnV/158_yadro.ipynb#Y152sdnNjb2RlLXJlbW90ZQ%3D%3D?line=37'>38</a>\u001b[0m seq\u001b[39m.\u001b[39;49mappend([(block_1, \u001b[39m1\u001b[39;49m)])\n\u001b[0;32m     <a href='vscode-notebook-cell://ssh-remote%2B129.69.46.82/d%3A/scudi/scudi/src/qudi/jupyternotebooks/SnV/158_yadro.ipynb#Y152sdnNjb2RlLXJlbW90ZQ%3D%3D?line=39'>40</a>\u001b[0m pulse_dict \u001b[39m=\u001b[39m seq\u001b[39m.\u001b[39mpulse_dict\n\u001b[0;32m     <a href='vscode-notebook-cell://ssh-remote%2B129.69.46.82/d%3A/scudi/scudi/src/qudi/jupyternotebooks/SnV/158_yadro.ipynb#Y152sdnNjb2RlLXJlbW90ZQ%3D%3D?line=41'>42</a>\u001b[0m \u001b[39mreturn\u001b[39;00m pulse_dict\n",
      "File \u001b[1;32md:\\scudi\\scudi\\src\\qudi\\logic\\pulsed\\pulse_objects.py:951\u001b[0m, in \u001b[0;36mPulseSequence.append\u001b[1;34m(self, element)\u001b[0m\n\u001b[0;32m    948\u001b[0m \u001b[39mdef\u001b[39;00m \u001b[39mappend\u001b[39m(\u001b[39mself\u001b[39m, element):\n\u001b[0;32m    949\u001b[0m     \u001b[39m\"\"\"\u001b[39;00m\n\u001b[0;32m    950\u001b[0m \u001b[39m    \"\"\"\u001b[39;00m\n\u001b[1;32m--> 951\u001b[0m     \u001b[39mself\u001b[39;49m\u001b[39m.\u001b[39;49minsert(position\u001b[39m=\u001b[39;49m\u001b[39mlen\u001b[39;49m(\u001b[39mself\u001b[39;49m\u001b[39m.\u001b[39;49mensemble_list), element\u001b[39m=\u001b[39;49melement)\n\u001b[0;32m    952\u001b[0m     \u001b[39mreturn\u001b[39;00m\n",
      "File \u001b[1;32md:\\scudi\\scudi\\src\\qudi\\logic\\pulsed\\pulse_objects.py:928\u001b[0m, in \u001b[0;36mPulseSequence.insert\u001b[1;34m(self, position, element)\u001b[0m\n\u001b[0;32m    925\u001b[0m     element \u001b[39m=\u001b[39m SequenceStep(\u001b[39m*\u001b[39melement)\n\u001b[0;32m    927\u001b[0m \u001b[39mif\u001b[39;00m \u001b[39mnot\u001b[39;00m \u001b[39misinstance\u001b[39m(element, SequenceStep):\n\u001b[1;32m--> 928\u001b[0m     \u001b[39mraise\u001b[39;00m \u001b[39mTypeError\u001b[39;00m(\u001b[39m'\u001b[39m\u001b[39mPulseSequence ensemble list entries must be either:\u001b[39m\u001b[39m\\n\u001b[39;00m\u001b[39m'\u001b[39m\n\u001b[0;32m    929\u001b[0m                     \u001b[39m'\u001b[39m\u001b[39m\\t\u001b[39;00m\u001b[39m- a tuple or list of length 2 with one entry being the \u001b[39m\u001b[39m'\u001b[39m\n\u001b[0;32m    930\u001b[0m                     \u001b[39m'\u001b[39m\u001b[39mPulseBlockEnsemble name and the other being a sequence parameter \u001b[39m\u001b[39m'\u001b[39m\n\u001b[0;32m    931\u001b[0m                     \u001b[39m'\u001b[39m\u001b[39mdictionary\u001b[39m\u001b[39m\\n\u001b[39;00m\u001b[39m'\u001b[39m\n\u001b[0;32m    932\u001b[0m                     \u001b[39m'\u001b[39m\u001b[39m\\t\u001b[39;00m\u001b[39m- a str containing the PulseBlockEnsemble name\u001b[39m\u001b[39m\\n\u001b[39;00m\u001b[39m'\u001b[39m\n\u001b[0;32m    933\u001b[0m                     \u001b[39m'\u001b[39m\u001b[39m\\t\u001b[39;00m\u001b[39m- a dict containing the sequence parameters including the \u001b[39m\u001b[39m'\u001b[39m\n\u001b[0;32m    934\u001b[0m                     \u001b[39m'\u001b[39m\u001b[39mPulseBlockEnsemble name\u001b[39m\u001b[39m'\u001b[39m)\n\u001b[0;32m    936\u001b[0m \u001b[39mif\u001b[39;00m position \u001b[39m<\u001b[39m \u001b[39m0\u001b[39m:\n\u001b[0;32m    937\u001b[0m     position \u001b[39m=\u001b[39m \u001b[39mlen\u001b[39m(\u001b[39mself\u001b[39m\u001b[39m.\u001b[39mensemble_list) \u001b[39m+\u001b[39m position\n",
      "\u001b[1;31mTypeError\u001b[0m: PulseSequence ensemble list entries must be either:\n\t- a tuple or list of length 2 with one entry being the PulseBlockEnsemble name and the other being a sequence parameter dictionary\n\t- a str containing the PulseBlockEnsemble name\n\t- a dict containing the sequence parameters including the PulseBlockEnsemble name"
     ]
    }
   ],
   "source": [
    "pulse_dict = _make_pulse_sequence()"
   ]
  },
  {
   "cell_type": "code",
   "execution_count": null,
   "metadata": {},
   "outputs": [],
   "source": []
  },
  {
   "cell_type": "code",
   "execution_count": 7,
   "metadata": {},
   "outputs": [],
   "source": [
    "blue_repump(True)"
   ]
  },
  {
   "cell_type": "code",
   "execution_count": null,
   "metadata": {},
   "outputs": [],
   "source": [
    "ple_gui._mw.ple_widget.target_point.setValue(8581)"
   ]
  },
  {
   "cell_type": "code",
   "execution_count": null,
   "metadata": {},
   "outputs": [
    {
     "data": {
      "text/plain": [
       "0"
      ]
     },
     "execution_count": 75,
     "metadata": {},
     "output_type": "execute_result"
    }
   ],
   "source": [
    "high_finesse_wavemeter.start_acquisition()"
   ]
  },
  {
   "cell_type": "code",
   "execution_count": null,
   "metadata": {},
   "outputs": [],
   "source": [
    "w1 = high_finesse_wavemeter.get_current_wavelength()"
   ]
  },
  {
   "cell_type": "code",
   "execution_count": null,
   "metadata": {},
   "outputs": [],
   "source": [
    "w2 = high_finesse_wavemeter.get_current_wavelength()"
   ]
  },
  {
   "cell_type": "code",
   "execution_count": null,
   "metadata": {},
   "outputs": [
    {
     "data": {
      "text/plain": [
       "-472.03431711295707"
      ]
     },
     "execution_count": 79,
     "metadata": {},
     "output_type": "execute_result"
    }
   ],
   "source": [
    "(w2 - w1)*1e6"
   ]
  },
  {
   "cell_type": "code",
   "execution_count": null,
   "metadata": {},
   "outputs": [],
   "source": [
    "n1 = timetaggerlogic.counter.getDataNormalized()[0]"
   ]
  },
  {
   "cell_type": "code",
   "execution_count": null,
   "metadata": {},
   "outputs": [
    {
     "data": {
      "text/plain": [
       "50.0"
      ]
     },
     "execution_count": 107,
     "metadata": {},
     "output_type": "execute_result"
    }
   ],
   "source": [
    "500e5 * 1e6 / 1e12"
   ]
  },
  {
   "cell_type": "code",
   "execution_count": null,
   "metadata": {},
   "outputs": [],
   "source": [
    "nuclear_ = tagger.counter(channels=[1], bin_width=1e9, n_values=1e6)"
   ]
  },
  {
   "cell_type": "code",
   "execution_count": null,
   "metadata": {},
   "outputs": [],
   "source": [
    "clicks = nuclear_.getData()"
   ]
  },
  {
   "cell_type": "code",
   "execution_count": null,
   "metadata": {},
   "outputs": [
    {
     "data": {
      "text/plain": [
       "array([[0, 0, 0, ..., 0, 0, 0]])"
      ]
     },
     "execution_count": 125,
     "metadata": {},
     "output_type": "execute_result"
    }
   ],
   "source": [
    "clicks"
   ]
  },
  {
   "cell_type": "code",
   "execution_count": null,
   "metadata": {},
   "outputs": [],
   "source": [
    "click_idx = np.where([np.array(clicks) > 0])"
   ]
  },
  {
   "cell_type": "code",
   "execution_count": null,
   "metadata": {},
   "outputs": [],
   "source": [
    "cl1 = click_idx[-1]"
   ]
  },
  {
   "cell_type": "code",
   "execution_count": null,
   "metadata": {},
   "outputs": [],
   "source": [
    "cl2 = np.roll(click_idx[-1], -1)"
   ]
  },
  {
   "cell_type": "code",
   "execution_count": null,
   "metadata": {},
   "outputs": [],
   "source": [
    "y,x = np.histogram((cl2-cl1)[:-1], bins=100, )"
   ]
  },
  {
   "cell_type": "code",
   "execution_count": null,
   "metadata": {},
   "outputs": [],
   "source": [
    "from matplotlib import pyplot as plt"
   ]
  },
  {
   "cell_type": "code",
   "execution_count": null,
   "metadata": {},
   "outputs": [
    {
     "data": {
      "text/plain": [
       "array([10749,  5334,  4077,  3319,  2707,  2390,  2049,  1703,  1424,\n",
       "        1270,  1126,   960,   891,   747,   643,   532,   493,   447,\n",
       "         376,   297,   316,   272,   224,   190,   189,   134,   136,\n",
       "         131,    99,    99,    91,    82,    75,    42,    40,    55,\n",
       "          39,    42,    29,    22,    16,    19,    19,    14,    14,\n",
       "          23,     6,     8,    11,     6,     6,     5,     4,     8,\n",
       "           1,     3,     6,     5,     2,     0,     2,     1,     2,\n",
       "           0,     2,     0,     3,     2,     1,     0,     0,     0,\n",
       "           0,     0,     0,     1,     0,     0,     0,     0,     0,\n",
       "           0,     0,     0,     0,     0,     0,     0,     0,     0,\n",
       "           0,     0,     0,     0,     0,     0,     0,     0,     0,\n",
       "           1], dtype=int64)"
      ]
     },
     "execution_count": 171,
     "metadata": {},
     "output_type": "execute_result"
    }
   ],
   "source": [
    "y"
   ]
  },
  {
   "cell_type": "code",
   "execution_count": null,
   "metadata": {},
   "outputs": [
    {
     "data": {
      "text/plain": [
       "[<matplotlib.lines.Line2D object at 0x000001D1BBD40070>]"
      ]
     },
     "execution_count": 170,
     "metadata": {},
     "output_type": "execute_result"
    },
    {
     "data": {
      "image/png": "[encoded data removed]",
      "text/plain": [
       "<Figure size 432x288 with 1 Axes>"
      ]
     },
     "metadata": {
      "needs_background": "light"
     },
     "output_type": "display_data"
    }
   ],
   "source": [
    "plt.plot(x[:-1], y)"
   ]
  },
  {
   "cell_type": "code",
   "execution_count": null,
   "metadata": {},
   "outputs": [
    {
     "data": {
      "text/plain": [
       "(array([49.,  5.,  3.,  3.,  1.,  1.,  1.,  1.,  1.,  0.,  1.,  0.,  0.,\n",
       "        0.,  1.,  0.,  0.,  0.,  0.,  0.,  0.,  0.,  0.,  0.,  0.,  0.,\n",
       "        0.,  0.,  1.,  0.,  0.,  0.,  0.,  0.,  0.,  0.,  0.,  0.,  0.,\n",
       "        0.,  0.,  0.,  0.,  0.,  0.,  0.,  0.,  0.,  0.,  0.,  0.,  0.,\n",
       "        0.,  0.,  0.,  0.,  0.,  0.,  0.,  0.,  0.,  0.,  0.,  0.,  0.,\n",
       "        0.,  0.,  0.,  0.,  0.,  0.,  0.,  0.,  0.,  0.,  0.,  0.,  0.,\n",
       "        0.,  0.,  0.,  0.,  0.,  0.,  0.,  0.,  0.,  0.,  0.,  0.,  0.,\n",
       "        0.,  0.,  0.,  0.,  0.,  0.,  0.,  0.,  0.]), array([1.000000e+00, 3.728300e+02, 7.446600e+02, 1.116490e+03,\n",
       "       1.488320e+03, 1.860150e+03, 2.231980e+03, 2.603810e+03,\n",
       "       2.975640e+03, 3.347470e+03, 3.719300e+03, 4.091130e+03,\n",
       "       4.462960e+03, 4.834790e+03, 5.206620e+03, 5.578450e+03,\n",
       "       5.950280e+03, 6.322110e+03, 6.693940e+03, 7.065770e+03,\n",
       "       7.437600e+03, 7.809430e+03, 8.181260e+03, 8.553090e+03,\n",
       "       8.924920e+03, 9.296750e+03, 9.668580e+03, 1.004041e+04,\n",
       "       1.041224e+04, 1.078407e+04, 1.115590e+04, 1.152773e+04,\n",
       "       1.189956e+04, 1.227139e+04, 1.264322e+04, 1.301505e+04,\n",
       "       1.338688e+04, 1.375871e+04, 1.413054e+04, 1.450237e+04,\n",
       "       1.487420e+04, 1.524603e+04, 1.561786e+04, 1.598969e+04,\n",
       "       1.636152e+04, 1.673335e+04, 1.710518e+04, 1.747701e+04,\n",
       "       1.784884e+04, 1.822067e+04, 1.859250e+04, 1.896433e+04,\n",
       "       1.933616e+04, 1.970799e+04, 2.007982e+04, 2.045165e+04,\n",
       "       2.082348e+04, 2.119531e+04, 2.156714e+04, 2.193897e+04,\n",
       "       2.231080e+04, 2.268263e+04, 2.305446e+04, 2.342629e+04,\n",
       "       2.379812e+04, 2.416995e+04, 2.454178e+04, 2.491361e+04,\n",
       "       2.528544e+04, 2.565727e+04, 2.602910e+04, 2.640093e+04,\n",
       "       2.677276e+04, 2.714459e+04, 2.751642e+04, 2.788825e+04,\n",
       "       2.826008e+04, 2.863191e+04, 2.900374e+04, 2.937557e+04,\n",
       "       2.974740e+04, 3.011923e+04, 3.049106e+04, 3.086289e+04,\n",
       "       3.123472e+04, 3.160655e+04, 3.197838e+04, 3.235021e+04,\n",
       "       3.272204e+04, 3.309387e+04, 3.346570e+04, 3.383753e+04,\n",
       "       3.420936e+04, 3.458119e+04, 3.495302e+04, 3.532485e+04,\n",
       "       3.569668e+04, 3.606851e+04, 3.644034e+04, 3.681217e+04,\n",
       "       3.718400e+04]), <BarContainer object of 100 artists>)"
      ]
     },
     "execution_count": 169,
     "metadata": {},
     "output_type": "execute_result"
    },
    {
     "data": {
      "image/png": "[encoded data removed]",
      "text/plain": [
       "<Figure size 432x288 with 1 Axes>"
      ]
     },
     "metadata": {
      "needs_background": "light"
     },
     "output_type": "display_data"
    }
   ],
   "source": [
    "plt.hist(y, bins=x, edgecolor='black')"
   ]
  },
  {
   "cell_type": "code",
   "execution_count": null,
   "metadata": {},
   "outputs": [],
   "source": []
  },
  {
   "cell_type": "code",
   "execution_count": null,
   "metadata": {},
   "outputs": [
    {
     "data": {
      "text/plain": [
       "array([2, 1, 1, ..., 1, 1, 1])"
      ]
     },
     "execution_count": 106,
     "metadata": {},
     "output_type": "execute_result"
    }
   ],
   "source": [
    "clicks[0][click_idx[-1]]"
   ]
  },
  {
   "cell_type": "code",
   "execution_count": null,
   "metadata": {},
   "outputs": [],
   "source": []
  },
  {
   "cell_type": "code",
   "execution_count": null,
   "metadata": {},
   "outputs": [],
   "source": []
  },
  {
   "cell_type": "code",
   "execution_count": null,
   "metadata": {},
   "outputs": [],
   "source": []
  },
  {
   "cell_type": "code",
   "execution_count": null,
   "metadata": {},
   "outputs": [],
   "source": [
    "click_idx = np.where([np.array(clicks) > 0])"
   ]
  },
  {
   "cell_type": "code",
   "execution_count": null,
   "metadata": {},
   "outputs": [
    {
     "data": {
      "text/plain": [
       "(array([0, 0, 0, ..., 0, 0, 0], dtype=int64), array([0, 0, 0, ..., 0, 0, 0], dtype=int64), array([438270203, 438271560, 438278509, ..., 499990579, 499997485,\n",
       "       499999822], dtype=int64))"
      ]
     },
     "execution_count": 101,
     "metadata": {},
     "output_type": "execute_result"
    }
   ],
   "source": [
    "click_idx"
   ]
  },
  {
   "cell_type": "code",
   "execution_count": null,
   "metadata": {},
   "outputs": [],
   "source": []
  },
  {
   "cell_type": "code",
   "execution_count": null,
   "metadata": {},
   "outputs": [
    {
     "data": {
      "text/plain": [
       "True"
      ]
     },
     "execution_count": 11,
     "metadata": {},
     "output_type": "execute_result"
    }
   ],
   "source": [
    "high_finesse_wavemeter._wavemeter.get_regulation_mode()"
   ]
  },
  {
   "cell_type": "code",
   "execution_count": null,
   "metadata": {},
   "outputs": [
    {
     "data": {
      "text/plain": [
       "0"
      ]
     },
     "execution_count": 2,
     "metadata": {},
     "output_type": "execute_result"
    }
   ],
   "source": [
    "high_finesse_wavemeter._wavemeter.set_regulation_mode(mode = True)"
   ]
  },
  {
   "cell_type": "code",
   "execution_count": null,
   "metadata": {},
   "outputs": [
    {
     "data": {
      "text/plain": [
       "0"
      ]
     },
     "execution_count": 2,
     "metadata": {},
     "output_type": "execute_result"
    }
   ],
   "source": [
    "high_finesse_wavemeter._wavemeter.set_deviation_signal(2000, channel=2)"
   ]
  },
  {
   "cell_type": "code",
   "execution_count": null,
   "metadata": {},
   "outputs": [],
   "source": [
    "high_finesse_wavemeter._wavemeter.start_measurements()"
   ]
  },
  {
   "cell_type": "code",
   "execution_count": null,
   "metadata": {},
   "outputs": [],
   "source": [
    "center = high_finesse_wavemeter._wavemeter.get_wavelength(channel=4)\n",
    "high_finesse_wavemeter._wavemeter.set_reference_course(str(center), channel=2)"
   ]
  },
  {
   "cell_type": "code",
   "execution_count": null,
   "metadata": {},
   "outputs": [
    {
     "data": {
      "text/plain": [
       "0"
      ]
     },
     "execution_count": 14,
     "metadata": {},
     "output_type": "execute_result"
    }
   ],
   "source": [
    "high_finesse_wavemeter._wavemeter.set_regulation_mode(True)"
   ]
  },
  {
   "cell_type": "code",
   "execution_count": 23,
   "metadata": {},
   "outputs": [],
   "source": [
    "def refocus_ple(range_ = 200, steps = 60, integrate=0.1):\n",
    "    #Range in MHz\n",
    "    range_ = range_ * 1e-6\n",
    "    center = float(high_finesse_wavemeter._wavemeter.get_reference_course(channel=2).decode(\"utf-8\"))\n",
    "    counts = []\n",
    "\n",
    "    for step in range(0, steps):\n",
    "        high_finesse_wavemeter._wavemeter.set_reference_course(f\"{center - range_/2 + step * range_/steps}\", channel=2)\n",
    "        time.sleep(integrate)\n",
    "        \n",
    "        counts.append(timetaggerlogic.counter.getDataNormalized()[0][-10:].mean())\n",
    "    time.sleep(integrate)\n",
    "    high_finesse_wavemeter._wavemeter.set_reference_course(f\"{center - range_/2 + counts.index(max(counts)) * range_/steps}\", channel=2)\n",
    "    print(counts.index(max(counts)))\n",
    "    return counts\n",
    "\n",
    "def detune_ple(detune):\n",
    "    detune = detune * 1e-6\n",
    "    center = float(high_finesse_wavemeter._wavemeter.get_reference_course(channel=2).decode(\"utf-8\"))\n",
    "    high_finesse_wavemeter._wavemeter.set_reference_course(f\"{center - detune}\", channel=2)"
   ]
  },
  {
   "cell_type": "code",
   "execution_count": null,
   "metadata": {},
   "outputs": [
    {
     "data": {
      "text/plain": [
       "array([ 800.,  550.,  550.,  600.,  700.,  550.,  300.,  600.,  950.,\n",
       "       1150.])"
      ]
     },
     "execution_count": 51,
     "metadata": {},
     "output_type": "execute_result"
    }
   ],
   "source": []
  },
  {
   "cell_type": "code",
   "execution_count": null,
   "metadata": {},
   "outputs": [
    {
     "name": "stdout",
     "output_type": "stream",
     "text": [
      "2\n"
     ]
    }
   ],
   "source": []
  },
  {
   "cell_type": "code",
   "execution_count": null,
   "metadata": {},
   "outputs": [],
   "source": [
    "blue_repump(True)\n"
   ]
  },
  {
   "cell_type": "code",
   "execution_count": null,
   "metadata": {},
   "outputs": [],
   "source": [
    "detune_ple(-30)"
   ]
  },
  {
   "cell_type": "code",
   "execution_count": null,
   "metadata": {},
   "outputs": [
    {
     "data": {
      "text/plain": [
       "685.3"
      ]
     },
     "execution_count": 51,
     "metadata": {},
     "output_type": "execute_result"
    }
   ],
   "source": [
    "timetaggerlogic.counter.getDataNormalized()[0].mean()"
   ]
  },
  {
   "cell_type": "code",
   "execution_count": null,
   "metadata": {},
   "outputs": [
    {
     "data": {
      "text/plain": [
       "[387.9, 379.7, 376.3, 376.6, 375.9, 375.6, 374.3, 373.5, 371.6, 366.8, 360.9, 357.8, 352.8, 345.9, 337.4, 330.4, 328.1, 328.6, 333.1, 333.5, 331.4, 333.0, 334.4, 329.8, 329.4, 327.7, 324.7, 326.2, 326.3, 326.5]"
      ]
     },
     "execution_count": 26,
     "metadata": {},
     "output_type": "execute_result"
    }
   ],
   "source": [
    "cts"
   ]
  },
  {
   "cell_type": "code",
   "execution_count": null,
   "metadata": {},
   "outputs": [],
   "source": [
    "cts = timetaggerlogic.counter.getDataNormalized()[0]"
   ]
  },
  {
   "cell_type": "code",
   "execution_count": null,
   "metadata": {},
   "outputs": [
    {
     "data": {
      "text/plain": [
       "1183.9285714285713"
      ]
     },
     "execution_count": 57,
     "metadata": {},
     "output_type": "execute_result"
    }
   ],
   "source": [
    "cts[cts > 700].mean()"
   ]
  },
  {
   "cell_type": "code",
   "execution_count": 24,
   "metadata": {},
   "outputs": [],
   "source": [
    "%gui qt"
   ]
  },
  {
   "cell_type": "code",
   "execution_count": 25,
   "metadata": {},
   "outputs": [],
   "source": [
    "from qtpy.QtCore import QTimer, QDateTime\n",
    "from qtpy.QtWidgets import QApplication, QMainWindow, QLabel\n",
    "import sys"
   ]
  },
  {
   "cell_type": "code",
   "execution_count": 18,
   "metadata": {},
   "outputs": [
    {
     "ename": "NameError",
     "evalue": "name 'blue_repump' is not defined",
     "output_type": "error",
     "traceback": [
      "\u001b[1;31m---------------------------------------------------------------------------\u001b[0m",
      "\u001b[1;31mNameError\u001b[0m                                 Traceback (most recent call last)",
      "\u001b[1;32md:\\scudi\\scudi\\src\\qudi\\jupyternotebooks\\SnV\\158_yadro.ipynb Cell 50\u001b[0m in \u001b[0;36m<cell line: 1>\u001b[1;34m()\u001b[0m\n\u001b[1;32m----> <a href='vscode-notebook-cell://ssh-remote%2B129.69.46.82/d%3A/scudi/scudi/src/qudi/jupyternotebooks/SnV/158_yadro.ipynb#Y131sdnNjb2RlLXJlbW90ZQ%3D%3D?line=0'>1</a>\u001b[0m blue_repump(\u001b[39mTrue\u001b[39;00m)\n\u001b[0;32m      <a href='vscode-notebook-cell://ssh-remote%2B129.69.46.82/d%3A/scudi/scudi/src/qudi/jupyternotebooks/SnV/158_yadro.ipynb#Y131sdnNjb2RlLXJlbW90ZQ%3D%3D?line=1'>2</a>\u001b[0m time\u001b[39m.\u001b[39msleep(\u001b[39m0.01\u001b[39m)\n\u001b[0;32m      <a href='vscode-notebook-cell://ssh-remote%2B129.69.46.82/d%3A/scudi/scudi/src/qudi/jupyternotebooks/SnV/158_yadro.ipynb#Y131sdnNjb2RlLXJlbW90ZQ%3D%3D?line=2'>3</a>\u001b[0m blue_repump(\u001b[39mFalse\u001b[39;00m)\n",
      "\u001b[1;31mNameError\u001b[0m: name 'blue_repump' is not defined"
     ]
    }
   ],
   "source": [
    "blue_repump(True)\n",
    "time.sleep(0.01)\n",
    "blue_repump(False)"
   ]
  },
  {
   "cell_type": "code",
   "execution_count": null,
   "metadata": {},
   "outputs": [
    {
     "data": {
      "text/plain": [
       "500.0"
      ]
     },
     "execution_count": 16,
     "metadata": {},
     "output_type": "execute_result"
    }
   ],
   "source": [
    "timetaggerlogic.counter.getDataNormalized()[0][-10:].mean()"
   ]
  },
  {
   "cell_type": "code",
   "execution_count": null,
   "metadata": {},
   "outputs": [
    {
     "name": "stdout",
     "output_type": "stream",
     "text": [
      "1\n"
     ]
    }
   ],
   "source": [
    "cts = refocus_ple(range_ = 120, steps = 5, integrate=0.5)"
   ]
  },
  {
   "cell_type": "code",
   "execution_count": 26,
   "metadata": {},
   "outputs": [],
   "source": [
    "def check_charge_state():\n",
    "    cur_cts = timetaggerlogic.counter.getDataNormalized()[0][-10:].mean()\n",
    "    if cur_cts < 450:\n",
    "        blue_repump(True)\n",
    "        time.sleep(0.01)\n",
    "        blue_repump(False)\n",
    "    # elif (cur_cts < 650):\n",
    "\n",
    "    #     cts = refocus_ple(range_ = 120, steps = 5, integrate=0.5)\n",
    "    # else:\n",
    "    #     pass\n",
    "    "
   ]
  },
  {
   "cell_type": "code",
   "execution_count": null,
   "metadata": {},
   "outputs": [],
   "source": [
    "cts = refocus_ple(range_ = 120, steps = 5, integrate=0.5)"
   ]
  },
  {
   "cell_type": "code",
   "execution_count": 27,
   "metadata": {},
   "outputs": [],
   "source": [
    "\n",
    "timer = QTimer()\n",
    "timer.timeout.connect(check_charge_state)\n",
    "timer.start(500)"
   ]
  },
  {
   "cell_type": "code",
   "execution_count": 68,
   "metadata": {},
   "outputs": [],
   "source": [
    "timer.stop()\n"
   ]
  },
  {
   "cell_type": "code",
   "execution_count": 47,
   "metadata": {},
   "outputs": [
    {
     "name": "stdout",
     "output_type": "stream",
     "text": [
      "4\n"
     ]
    }
   ],
   "source": [
    "cts = refocus_ple(range_ = 200, steps = 8, integrate=0.5)"
   ]
  },
  {
   "cell_type": "code",
   "execution_count": 8,
   "metadata": {},
   "outputs": [
    {
     "ename": "NameError",
     "evalue": "name 'time' is not defined",
     "output_type": "error",
     "traceback": [
      "\u001b[1;31m---------------------------------------------------------------------------\u001b[0m",
      "\u001b[1;31mNameError\u001b[0m                                 Traceback (most recent call last)",
      "\u001b[1;32md:\\scudi\\scudi\\src\\qudi\\jupyternotebooks\\SnV\\158_yadro.ipynb Cell 58\u001b[0m in \u001b[0;36m<cell line: 1>\u001b[1;34m()\u001b[0m\n\u001b[1;32m----> <a href='vscode-notebook-cell://ssh-remote%2B129.69.46.82/d%3A/scudi/scudi/src/qudi/jupyternotebooks/SnV/158_yadro.ipynb#Y123sdnNjb2RlLXJlbW90ZQ%3D%3D?line=0'>1</a>\u001b[0m check_charge_state()\n",
      "\u001b[1;32md:\\scudi\\scudi\\src\\qudi\\jupyternotebooks\\SnV\\158_yadro.ipynb Cell 58\u001b[0m in \u001b[0;36mcheck_charge_state\u001b[1;34m()\u001b[0m\n\u001b[0;32m      <a href='vscode-notebook-cell://ssh-remote%2B129.69.46.82/d%3A/scudi/scudi/src/qudi/jupyternotebooks/SnV/158_yadro.ipynb#Y123sdnNjb2RlLXJlbW90ZQ%3D%3D?line=2'>3</a>\u001b[0m \u001b[39mif\u001b[39;00m cur_cts \u001b[39m<\u001b[39m \u001b[39m450\u001b[39m:\n\u001b[0;32m      <a href='vscode-notebook-cell://ssh-remote%2B129.69.46.82/d%3A/scudi/scudi/src/qudi/jupyternotebooks/SnV/158_yadro.ipynb#Y123sdnNjb2RlLXJlbW90ZQ%3D%3D?line=3'>4</a>\u001b[0m     blue_repump(\u001b[39mTrue\u001b[39;00m)\n\u001b[1;32m----> <a href='vscode-notebook-cell://ssh-remote%2B129.69.46.82/d%3A/scudi/scudi/src/qudi/jupyternotebooks/SnV/158_yadro.ipynb#Y123sdnNjb2RlLXJlbW90ZQ%3D%3D?line=4'>5</a>\u001b[0m     time\u001b[39m.\u001b[39msleep(\u001b[39m0.01\u001b[39m)\n\u001b[0;32m      <a href='vscode-notebook-cell://ssh-remote%2B129.69.46.82/d%3A/scudi/scudi/src/qudi/jupyternotebooks/SnV/158_yadro.ipynb#Y123sdnNjb2RlLXJlbW90ZQ%3D%3D?line=5'>6</a>\u001b[0m     blue_repump(\u001b[39mFalse\u001b[39;00m)\n",
      "\u001b[1;31mNameError\u001b[0m: name 'time' is not defined"
     ]
    }
   ],
   "source": [
    "check_charge_state()"
   ]
  },
  {
   "cell_type": "code",
   "execution_count": 14,
   "metadata": {},
   "outputs": [
    {
     "data": {
      "text/plain": [
       "array([1000.,  650., 1150.,  600.,  850.,  800.,  900.,  700.,  700.,\n",
       "        900.,  950., 1100., 1100.,  950.,  700., 1150., 1050.,  700.,\n",
       "        550.,  950., 1100., 1050.,  900., 1150.,  600., 1000., 1000.,\n",
       "        750.,  750.,  900.,  700.,  650.,  850., 1000., 1100., 1150.,\n",
       "        450.,  700., 1000., 1000.,  800.,  650.,  450.,  450.,  850.,\n",
       "        550.,  750.,  700.,  700., 1500.,  800.,  700.,  750.,  800.,\n",
       "       1200.,  400.,  950.,  650.,  750., 1200.,  700.,  650.,  600.,\n",
       "       1000., 1100., 1050., 1050.,  700., 1150.,  800.,  750.,  700.,\n",
       "        500.,  750.,  950.,  600., 1350.,  750., 1150.,  450., 1150.,\n",
       "        700.,  850.,  700.,  450.,  750.,  600.,  850.,  800.,  650.,\n",
       "       1150.,  700., 1100.,  600., 1400., 1150., 1300., 1000., 1400.,\n",
       "       1100.,  800.,  900.,  700., 1050., 1050.,  500.,  600.,  650.,\n",
       "        650., 1050., 1150.,  650., 1000.,  450.,  700.,  700.,  750.,\n",
       "        600.,  650.,  900.,  850., 1000., 1100.,  950.,  750.,  650.,\n",
       "        650.,  450.,  900.,  700., 1250., 1350., 1100.,  850.,  750.,\n",
       "        700.,  800.,  550.,  400.,  700.,  950.,  650.,  750.,  500.,\n",
       "        750.,  850.,  600.,  750.,  700.,  750.,  700.,  350.,  400.,\n",
       "        750.,  600.,  650.,  550.,  700.,  950.,  750.,  750.,  900.,\n",
       "        750.,  750., 1000.,  800.,  600.,  600.,  800.,  300.,  650.,\n",
       "       1200.,  650.,  900.,  850.,  400., 1000.,  700.,  600.,  950.,\n",
       "       1000.,  700.,  500.,  650.,  650.,  400.,  700.,  800.,  750.,\n",
       "        450.,  550.,  750., 1000.,  700.,  650.,  500.,  650.,  500.,\n",
       "        750.,  850.,  750.,  400.,  950.,  750.,  900.,  650.,  400.,\n",
       "        700.,  750.,  300.,  500.,  500.,  600.,  500.,  700.,  500.,\n",
       "        850.,  800.,  950.,  750.,  900., 1100.,  400.,  750., 1000.,\n",
       "       1050.,  950.,  800.,  500.,  800.,  650.,  800.,  350., 1100.,\n",
       "       1000., 1150., 1000.,  950.,  950.,  500.,  800.,  950., 1050.,\n",
       "        700.,  750.,  650.,  550., 1050.,  900.,  950., 1200.,  900.,\n",
       "        800.,  850.,  650.,  700., 1050.,  400.,  950.,  650.,  550.,\n",
       "        900.,  550., 1250.,  800.,  650.,  900., 1100.,  700.,  550.,\n",
       "        750.,  950.,  750.,  900.,  850.,  800., 1050.,  900., 1050.,\n",
       "        600., 1700., 1200., 1150.,  900.,  850.,  950.,  950.,  850.,\n",
       "        950.,  950.,  900.,  950., 1150.,  650.,  950., 1050.,  850.,\n",
       "        900., 1000.,  700., 1200.,  700.,  900.,  700.,  800.,  600.,\n",
       "       1000.,  900.,  450.,  500.,  950.,  600.,  850.,  450.,  500.,\n",
       "        450.,  700., 1050.,  750.,  700.,  800.,  600.,  400.,  700.,\n",
       "        850.,  600., 1050.,  950.,  650.,  350.,  350.,  600.,  450.,\n",
       "        550.,  600.,  900.,  600.,  850.,  750.,  750.,  950.,  600.,\n",
       "        900., 1050.,  750.,  800.,  800.,  850.,  750.,  800., 1000.,\n",
       "        750.,  950.,  450.,  450.,  550.,  750.,  800.,  700.,  450.,\n",
       "        600.,  800.,  900.,  550.,  500.,  650.,  650.,  400.,  700.,\n",
       "        900.,  350.,  600.,  600.,  600., 1050.,  750.,  550.,  700.,\n",
       "        850.,  450.,  550.,  650.,  450.,  950.,  750.,  800.,  750.,\n",
       "        450.,  950.,  650.,  700.,  500.,  700.,  950.,  850., 1000.,\n",
       "        900.,  650.,  850.,  650.,  800.,  750.,  550.,  400.,  950.,\n",
       "        900., 1000.,  550., 1100.,  400., 1050.,  850.,  800.,  400.,\n",
       "        850.,  450.,  950.,  800.,  500.,  650.,  600.,  500.,  150.,\n",
       "        750.,  400.,  800.,  800.,  700.,  750.,  850., 1100., 1100.,\n",
       "        900.,  700.,  800.,  850., 1050.,  900.,  950.,  550.,  750.,\n",
       "        850.,  650.,  800., 1000.,  450.,  800.,  450.,  900.,  800.,\n",
       "       1000., 1050.,  850.,  650.,  950.,  850.,  950.,  950.,  850.,\n",
       "        950.,  850.,  800., 1100.,  650.,  700.,  250.,  850.,  950.,\n",
       "        850.,  650.,  700.,  750.,  900.,  650., 1000.,  600.,  500.,\n",
       "        750.,  900.,  900., 1200.,  500.,  900.,  650., 1200.,  950.,\n",
       "        800.,  700.,  700.,  500.])"
      ]
     },
     "execution_count": 14,
     "metadata": {},
     "output_type": "execute_result"
    }
   ],
   "source": [
    "timetaggerlogic.counter.getDataNormalized()[0][:-10]"
   ]
  },
  {
   "cell_type": "code",
   "execution_count": 17,
   "metadata": {},
   "outputs": [
    {
     "name": "stderr",
     "output_type": "stream",
     "text": [
      "UsageError: Line magic function `%inline` not found.\n"
     ]
    }
   ],
   "source": [
    "%inline"
   ]
  },
  {
   "cell_type": "code",
   "execution_count": 21,
   "metadata": {},
   "outputs": [],
   "source": [
    "from matplotlib import pyplot as plt"
   ]
  },
  {
   "cell_type": "code",
   "execution_count": 22,
   "metadata": {},
   "outputs": [],
   "source": [
    "pulsestreamer._seq.plot()\n",
    "plt.show()"
   ]
  },
  {
   "cell_type": "code",
   "execution_count": 16,
   "metadata": {},
   "outputs": [
    {
     "data": {
      "text/plain": [
       "<pulsestreamer.sequence.Sequence object at 0x000001C8057F6130>"
      ]
     },
     "execution_count": 16,
     "metadata": {},
     "output_type": "execute_result"
    }
   ],
   "source": [
    "pulsestreamer._seq"
   ]
  },
  {
   "cell_type": "code",
   "execution_count": 1,
   "metadata": {},
   "outputs": [
    {
     "data": {
      "text/plain": [
       "<qudi.hardware.swabian_instruments.timetagger_api.TT(0x1c8552deb40) at 0x000001C8584C3080>"
      ]
     },
     "execution_count": 1,
     "metadata": {},
     "output_type": "execute_result"
    }
   ],
   "source": [
    "tagger.set"
   ]
  },
  {
   "cell_type": "code",
   "execution_count": null,
   "metadata": {},
   "outputs": [],
   "source": []
  }
 ],
 "metadata": {
  "kernelspec": {
   "display_name": "qudi",
   "language": "python",
   "name": "qudi"
  },
  "language_info": {
   "codemirror_mode": {
    "name": "ipython",
    "version": 3
   },
   "file_extension": ".py",
   "mimetype": "text/x-python",
   "name": "python",
   "nbconvert_exporter": "python",
   "pygments_lexer": "ipython3",
   "version": "3.9.12"
  },
  "orig_nbformat": 4
 },
 "nbformat": 4,
 "nbformat_minor": 2
}
