{
 "cells": [
  {
   "cell_type": "code",
   "execution_count": 19,
   "metadata": {},
   "outputs": [],
   "source": [
    "import time\n",
    "import numpy as np"
   ]
  },
  {
   "cell_type": "code",
   "execution_count": 34,
   "metadata": {},
   "outputs": [],
   "source": [
    "def blue_repump(on: bool):\n",
    "    if on:\n",
    "        flip_mirror_switch_ni.set_state(state=\"On\", switch=\"Mirror\")\n",
    "    else:\n",
    "        flip_mirror_switch_ni.set_state(state=\"Off\", switch=\"Mirror\")"
   ]
  },
  {
   "cell_type": "code",
   "execution_count": 35,
   "metadata": {},
   "outputs": [],
   "source": [
    "blue_repump(True)\n",
    "time.sleep(1)\n",
    "blue_repump(False)"
   ]
  },
  {
   "cell_type": "code",
   "execution_count": 31,
   "metadata": {},
   "outputs": [
    {
     "data": {
      "text/plain": [
       "583.7"
      ]
     },
     "execution_count": 31,
     "metadata": {},
     "output_type": "execute_result"
    }
   ],
   "source": [
    "timetaggerlogic.counter.getDataNormalized()[0].mean()"
   ]
  },
  {
   "cell_type": "code",
   "execution_count": 104,
   "metadata": {},
   "outputs": [],
   "source": [
    "blue_repump(True)"
   ]
  },
  {
   "cell_type": "code",
   "execution_count": 30,
   "metadata": {},
   "outputs": [],
   "source": [
    "ple_gui._mw.ple_widget.target_point.setValue(8581)"
   ]
  },
  {
   "cell_type": "code",
   "execution_count": 83,
   "metadata": {},
   "outputs": [],
   "source": [
    "w1 = high_finesse_wavemeter.get_current_wavelength()"
   ]
  },
  {
   "cell_type": "code",
   "execution_count": 84,
   "metadata": {},
   "outputs": [],
   "source": [
    "w2 = high_finesse_wavemeter.get_current_wavelength()"
   ]
  },
  {
   "cell_type": "code",
   "execution_count": 85,
   "metadata": {},
   "outputs": [
    {
     "data": {
      "text/plain": [
       "-903.8413916755417"
      ]
     },
     "execution_count": 85,
     "metadata": {},
     "output_type": "execute_result"
    }
   ],
   "source": [
    "(w2 - w1)*1e6"
   ]
  },
  {
   "cell_type": "code",
   "execution_count": 89,
   "metadata": {},
   "outputs": [],
   "source": [
    "n1 = timetaggerlogic.counter.getDataNormalized()[0]"
   ]
  },
  {
   "cell_type": "code",
   "execution_count": 107,
   "metadata": {},
   "outputs": [
    {
     "data": {
      "text/plain": [
       "50.0"
      ]
     },
     "execution_count": 107,
     "metadata": {},
     "output_type": "execute_result"
    }
   ],
   "source": [
    "500e5 * 1e6 / 1e12"
   ]
  },
  {
   "cell_type": "code",
   "execution_count": 172,
   "metadata": {},
   "outputs": [],
   "source": [
    "nuclear_ = tagger.counter(channels=[1], bin_width=1e9, n_values=1e6)"
   ]
  },
  {
   "cell_type": "code",
   "execution_count": 154,
   "metadata": {},
   "outputs": [],
   "source": [
    "clicks = nuclear_.getData()"
   ]
  },
  {
   "cell_type": "code",
   "execution_count": 125,
   "metadata": {},
   "outputs": [
    {
     "data": {
      "text/plain": [
       "array([[0, 0, 0, ..., 0, 0, 0]])"
      ]
     },
     "execution_count": 125,
     "metadata": {},
     "output_type": "execute_result"
    }
   ],
   "source": [
    "clicks"
   ]
  },
  {
   "cell_type": "code",
   "execution_count": 155,
   "metadata": {},
   "outputs": [],
   "source": [
    "click_idx = np.where([np.array(clicks) > 0])"
   ]
  },
  {
   "cell_type": "code",
   "execution_count": 158,
   "metadata": {},
   "outputs": [],
   "source": [
    "cl1 = click_idx[-1]"
   ]
  },
  {
   "cell_type": "code",
   "execution_count": 161,
   "metadata": {},
   "outputs": [],
   "source": [
    "cl2 = np.roll(click_idx[-1], -1)"
   ]
  },
  {
   "cell_type": "code",
   "execution_count": 165,
   "metadata": {},
   "outputs": [],
   "source": [
    "y,x = np.histogram((cl2-cl1)[:-1], bins=100, )"
   ]
  },
  {
   "cell_type": "code",
   "execution_count": 168,
   "metadata": {},
   "outputs": [],
   "source": [
    "from matplotlib import pyplot as plt"
   ]
  },
  {
   "cell_type": "code",
   "execution_count": 171,
   "metadata": {},
   "outputs": [
    {
     "data": {
      "text/plain": [
       "array([10749,  5334,  4077,  3319,  2707,  2390,  2049,  1703,  1424,\n",
       "        1270,  1126,   960,   891,   747,   643,   532,   493,   447,\n",
       "         376,   297,   316,   272,   224,   190,   189,   134,   136,\n",
       "         131,    99,    99,    91,    82,    75,    42,    40,    55,\n",
       "          39,    42,    29,    22,    16,    19,    19,    14,    14,\n",
       "          23,     6,     8,    11,     6,     6,     5,     4,     8,\n",
       "           1,     3,     6,     5,     2,     0,     2,     1,     2,\n",
       "           0,     2,     0,     3,     2,     1,     0,     0,     0,\n",
       "           0,     0,     0,     1,     0,     0,     0,     0,     0,\n",
       "           0,     0,     0,     0,     0,     0,     0,     0,     0,\n",
       "           0,     0,     0,     0,     0,     0,     0,     0,     0,\n",
       "           1], dtype=int64)"
      ]
     },
     "execution_count": 171,
     "metadata": {},
     "output_type": "execute_result"
    }
   ],
   "source": [
    "y"
   ]
  },
  {
   "cell_type": "code",
   "execution_count": 170,
   "metadata": {},
   "outputs": [
    {
     "data": {
      "text/plain": [
       "[<matplotlib.lines.Line2D object at 0x000001D1BBD40070>]"
      ]
     },
     "execution_count": 170,
     "metadata": {},
     "output_type": "execute_result"
    },
    {
     "data": {
      "image/png": "[encoded data removed]",
      "text/plain": [
       "<Figure size 432x288 with 1 Axes>"
      ]
     },
     "metadata": {
      "needs_background": "light"
     },
     "output_type": "display_data"
    }
   ],
   "source": [
    "plt.plot(x[:-1], y)"
   ]
  },
  {
   "cell_type": "code",
   "execution_count": 169,
   "metadata": {},
   "outputs": [
    {
     "data": {
      "text/plain": [
       "(array([49.,  5.,  3.,  3.,  1.,  1.,  1.,  1.,  1.,  0.,  1.,  0.,  0.,\n",
       "        0.,  1.,  0.,  0.,  0.,  0.,  0.,  0.,  0.,  0.,  0.,  0.,  0.,\n",
       "        0.,  0.,  1.,  0.,  0.,  0.,  0.,  0.,  0.,  0.,  0.,  0.,  0.,\n",
       "        0.,  0.,  0.,  0.,  0.,  0.,  0.,  0.,  0.,  0.,  0.,  0.,  0.,\n",
       "        0.,  0.,  0.,  0.,  0.,  0.,  0.,  0.,  0.,  0.,  0.,  0.,  0.,\n",
       "        0.,  0.,  0.,  0.,  0.,  0.,  0.,  0.,  0.,  0.,  0.,  0.,  0.,\n",
       "        0.,  0.,  0.,  0.,  0.,  0.,  0.,  0.,  0.,  0.,  0.,  0.,  0.,\n",
       "        0.,  0.,  0.,  0.,  0.,  0.,  0.,  0.,  0.]), array([1.000000e+00, 3.728300e+02, 7.446600e+02, 1.116490e+03,\n",
       "       1.488320e+03, 1.860150e+03, 2.231980e+03, 2.603810e+03,\n",
       "       2.975640e+03, 3.347470e+03, 3.719300e+03, 4.091130e+03,\n",
       "       4.462960e+03, 4.834790e+03, 5.206620e+03, 5.578450e+03,\n",
       "       5.950280e+03, 6.322110e+03, 6.693940e+03, 7.065770e+03,\n",
       "       7.437600e+03, 7.809430e+03, 8.181260e+03, 8.553090e+03,\n",
       "       8.924920e+03, 9.296750e+03, 9.668580e+03, 1.004041e+04,\n",
       "       1.041224e+04, 1.078407e+04, 1.115590e+04, 1.152773e+04,\n",
       "       1.189956e+04, 1.227139e+04, 1.264322e+04, 1.301505e+04,\n",
       "       1.338688e+04, 1.375871e+04, 1.413054e+04, 1.450237e+04,\n",
       "       1.487420e+04, 1.524603e+04, 1.561786e+04, 1.598969e+04,\n",
       "       1.636152e+04, 1.673335e+04, 1.710518e+04, 1.747701e+04,\n",
       "       1.784884e+04, 1.822067e+04, 1.859250e+04, 1.896433e+04,\n",
       "       1.933616e+04, 1.970799e+04, 2.007982e+04, 2.045165e+04,\n",
       "       2.082348e+04, 2.119531e+04, 2.156714e+04, 2.193897e+04,\n",
       "       2.231080e+04, 2.268263e+04, 2.305446e+04, 2.342629e+04,\n",
       "       2.379812e+04, 2.416995e+04, 2.454178e+04, 2.491361e+04,\n",
       "       2.528544e+04, 2.565727e+04, 2.602910e+04, 2.640093e+04,\n",
       "       2.677276e+04, 2.714459e+04, 2.751642e+04, 2.788825e+04,\n",
       "       2.826008e+04, 2.863191e+04, 2.900374e+04, 2.937557e+04,\n",
       "       2.974740e+04, 3.011923e+04, 3.049106e+04, 3.086289e+04,\n",
       "       3.123472e+04, 3.160655e+04, 3.197838e+04, 3.235021e+04,\n",
       "       3.272204e+04, 3.309387e+04, 3.346570e+04, 3.383753e+04,\n",
       "       3.420936e+04, 3.458119e+04, 3.495302e+04, 3.532485e+04,\n",
       "       3.569668e+04, 3.606851e+04, 3.644034e+04, 3.681217e+04,\n",
       "       3.718400e+04]), <BarContainer object of 100 artists>)"
      ]
     },
     "execution_count": 169,
     "metadata": {},
     "output_type": "execute_result"
    },
    {
     "data": {
      "image/png": "[encoded data removed]",
      "text/plain": [
       "<Figure size 432x288 with 1 Axes>"
      ]
     },
     "metadata": {
      "needs_background": "light"
     },
     "output_type": "display_data"
    }
   ],
   "source": [
    "plt.hist(y, bins=x, edgecolor='black')"
   ]
  },
  {
   "cell_type": "code",
   "execution_count": null,
   "metadata": {},
   "outputs": [],
   "source": []
  },
  {
   "cell_type": "code",
   "execution_count": 106,
   "metadata": {},
   "outputs": [
    {
     "data": {
      "text/plain": [
       "array([2, 1, 1, ..., 1, 1, 1])"
      ]
     },
     "execution_count": 106,
     "metadata": {},
     "output_type": "execute_result"
    }
   ],
   "source": [
    "clicks[0][click_idx[-1]]"
   ]
  },
  {
   "cell_type": "code",
   "execution_count": null,
   "metadata": {},
   "outputs": [],
   "source": []
  },
  {
   "cell_type": "code",
   "execution_count": null,
   "metadata": {},
   "outputs": [],
   "source": []
  },
  {
   "cell_type": "code",
   "execution_count": null,
   "metadata": {},
   "outputs": [],
   "source": []
  },
  {
   "cell_type": "code",
   "execution_count": 100,
   "metadata": {},
   "outputs": [],
   "source": [
    "click_idx = np.where([np.array(clicks) > 0])"
   ]
  },
  {
   "cell_type": "code",
   "execution_count": 101,
   "metadata": {},
   "outputs": [
    {
     "data": {
      "text/plain": [
       "(array([0, 0, 0, ..., 0, 0, 0], dtype=int64), array([0, 0, 0, ..., 0, 0, 0], dtype=int64), array([438270203, 438271560, 438278509, ..., 499990579, 499997485,\n",
       "       499999822], dtype=int64))"
      ]
     },
     "execution_count": 101,
     "metadata": {},
     "output_type": "execute_result"
    }
   ],
   "source": [
    "click_idx"
   ]
  },
  {
   "cell_type": "code",
   "execution_count": 12,
   "metadata": {},
   "outputs": [],
   "source": []
  },
  {
   "cell_type": "code",
   "execution_count": 11,
   "metadata": {},
   "outputs": [
    {
     "data": {
      "text/plain": [
       "True"
      ]
     },
     "execution_count": 11,
     "metadata": {},
     "output_type": "execute_result"
    }
   ],
   "source": [
    "high_finesse_wavemeter._wavemeter.get_regulation_mode()"
   ]
  },
  {
   "cell_type": "code",
   "execution_count": 2,
   "metadata": {},
   "outputs": [
    {
     "data": {
      "text/plain": [
       "0"
      ]
     },
     "execution_count": 2,
     "metadata": {},
     "output_type": "execute_result"
    }
   ],
   "source": [
    "high_finesse_wavemeter._wavemeter.set_regulation_mode(mode = True)"
   ]
  },
  {
   "cell_type": "code",
   "execution_count": 2,
   "metadata": {},
   "outputs": [
    {
     "data": {
      "text/plain": [
       "0"
      ]
     },
     "execution_count": 2,
     "metadata": {},
     "output_type": "execute_result"
    }
   ],
   "source": [
    "high_finesse_wavemeter._wavemeter.set_deviation_signal(2000, channel=2)"
   ]
  },
  {
   "cell_type": "code",
   "execution_count": 6,
   "metadata": {},
   "outputs": [],
   "source": [
    "high_finesse_wavemeter._wavemeter.start_measurements()"
   ]
  },
  {
   "cell_type": "code",
   "execution_count": 15,
   "metadata": {},
   "outputs": [],
   "source": [
    "center = high_finesse_wavemeter._wavemeter.get_wavelength(channel=4)\n",
    "high_finesse_wavemeter._wavemeter.set_reference_course(str(center), channel=2)"
   ]
  },
  {
   "cell_type": "code",
   "execution_count": 14,
   "metadata": {},
   "outputs": [
    {
     "data": {
      "text/plain": [
       "0"
      ]
     },
     "execution_count": 14,
     "metadata": {},
     "output_type": "execute_result"
    }
   ],
   "source": [
    "high_finesse_wavemeter._wavemeter.set_regulation_mode(True)"
   ]
  },
  {
   "cell_type": "code",
   "execution_count": 20,
   "metadata": {},
   "outputs": [],
   "source": [
    "def refocus_ple(range_ = 200, steps = 60, integrate=0.1):\n",
    "    #Range in MHz\n",
    "    range_ = range_ * 1e-6\n",
    "    center = float(high_finesse_wavemeter._wavemeter.get_reference_course(channel=2).decode(\"utf-8\"))\n",
    "    counts = []\n",
    "\n",
    "    for step in range(0, steps):\n",
    "        high_finesse_wavemeter._wavemeter.set_reference_course(f\"{center - range_/2 + step * range_/steps}\", channel=2)\n",
    "        time.sleep(integrate)\n",
    "        \n",
    "        counts.append(timetaggerlogic.counter.getDataNormalized()[0].mean())\n",
    "    time.sleep(integrate)\n",
    "    high_finesse_wavemeter._wavemeter.set_reference_course(f\"{center - range_/2 + counts.index(max(counts)) * range_/steps}\", channel=2)\n",
    "    print(counts.index(max(counts)))\n",
    "    return counts\n",
    "\n",
    "def detune_ple(detune):\n",
    "    detune = detune * 1e-6\n",
    "    center = float(high_finesse_wavemeter._wavemeter.get_reference_course(channel=2).decode(\"utf-8\"))\n",
    "    high_finesse_wavemeter._wavemeter.set_reference_course(f\"{center - detune}\", channel=2)"
   ]
  },
  {
   "cell_type": "code",
   "execution_count": 40,
   "metadata": {},
   "outputs": [
    {
     "name": "stdout",
     "output_type": "stream",
     "text": [
      "7\n"
     ]
    }
   ],
   "source": [
    "cts = refocus_ple(range_ = 350, steps = 15, integrate=1)"
   ]
  },
  {
   "cell_type": "code",
   "execution_count": 41,
   "metadata": {},
   "outputs": [],
   "source": [
    "blue_repump(True)\n"
   ]
  },
  {
   "cell_type": "code",
   "execution_count": 24,
   "metadata": {},
   "outputs": [],
   "source": [
    "detune_ple(-5)"
   ]
  },
  {
   "cell_type": "code",
   "execution_count": 29,
   "metadata": {},
   "outputs": [
    {
     "data": {
      "text/plain": [
       "448.2"
      ]
     },
     "execution_count": 29,
     "metadata": {},
     "output_type": "execute_result"
    }
   ],
   "source": [
    "timetaggerlogic.counter.getDataNormalized()[0].mean()"
   ]
  },
  {
   "cell_type": "code",
   "execution_count": 26,
   "metadata": {},
   "outputs": [
    {
     "data": {
      "text/plain": [
       "[387.9, 379.7, 376.3, 376.6, 375.9, 375.6, 374.3, 373.5, 371.6, 366.8, 360.9, 357.8, 352.8, 345.9, 337.4, 330.4, 328.1, 328.6, 333.1, 333.5, 331.4, 333.0, 334.4, 329.8, 329.4, 327.7, 324.7, 326.2, 326.3, 326.5]"
      ]
     },
     "execution_count": 26,
     "metadata": {},
     "output_type": "execute_result"
    }
   ],
   "source": [
    "cts"
   ]
  },
  {
   "cell_type": "code",
   "execution_count": null,
   "metadata": {},
   "outputs": [],
   "source": []
  }
 ],
 "metadata": {
  "kernelspec": {
   "display_name": "qudi",
   "language": "python",
   "name": "qudi"
  },
  "language_info": {
   "codemirror_mode": {
    "name": "ipython",
    "version": 3
   },
   "file_extension": ".py",
   "mimetype": "text/x-python",
   "name": "python",
   "nbconvert_exporter": "python",
   "pygments_lexer": "ipython3",
   "version": "3.9.12"
  },
  "orig_nbformat": 4
 },
 "nbformat": 4,
 "nbformat_minor": 2
}
