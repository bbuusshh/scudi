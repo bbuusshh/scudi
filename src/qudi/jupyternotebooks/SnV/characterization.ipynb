{
 "cells": [
  {
   "cell_type": "code",
   "execution_count": 2,
   "metadata": {},
   "outputs": [],
   "source": [
    "from matplotlib import pyplot as plt\n",
    "from matplotlib import ticker\n",
    "import datetime\n",
    "import os\n",
    "import numpy as np\n",
    "import sys\n",
    "sys.path.insert(0, '../')\n",
    "\n",
    "\n",
    "SMALL_SIZE = 20\n",
    "MEDIUM_SIZE = 25\n",
    "BIGGER_SIZE = 30\n",
    "\n",
    "plt.rc('font', family='Arial', size=SMALL_SIZE)          # controls default text sizes\n",
    "plt.rc('axes', titlesize=MEDIUM_SIZE)     # fontsize of the axes title\n",
    "plt.rc('axes', labelsize=MEDIUM_SIZE)    # fontsize of the x and y labels\n",
    "plt.rc('xtick', labelsize=SMALL_SIZE)    # fontsize of the tick labels\n",
    "plt.rc('ytick', labelsize=SMALL_SIZE)    # fontsize of the tick labels\n",
    "plt.rc('legend', fontsize=SMALL_SIZE)    # legend fontsize\n",
    "plt.rc('figure', titlesize=MEDIUM_SIZE)  # fontsize of the figure title\n",
    "plt.rc('grid', linestyle='--')\n",
    "plt.rc('grid', color='#E68F6B')\n",
    "from ast import literal_eval as make_tuple\n",
    "def get_param_from_file(file_name, name):\n",
    "    range_ = \"\"\n",
    "    with open(file_name, \"r\") as f:\n",
    "        for line in f.readlines():\n",
    "            if name in line:\n",
    "                range_ = line\n",
    "    return make_tuple(range_.strip().split(\"=\")[-1])\n",
    "\n",
    "def get_scan_range(file_name):\n",
    "    return get_param_from_file(file_name, \"scan range\")\n",
    "\n",
    "def get_confocal_scan_range(file_name):\n",
    "    return  get_param_from_file(file_name, \"x scan range\"),  get_param_from_file(file_name, \"y scan range\")\n",
    "\n",
    "\n",
    "import numpy as np\n",
    "import matplotlib.pyplot as plt\n",
    "from lmfit import Model\n",
    "\n",
    "# define the Lorentzian function\n",
    "def multiple_lorentzian(x, centers, sigmas, amplitudes):\n",
    "    \"\"\" Mathematical definition of the sum of multiple (physical) Lorentzian functions without any\n",
    "    bias.\n",
    "\n",
    "    WARNING: iterable parameters \"centers\", \"sigmas\" and \"amplitudes\" must have same length.\n",
    "\n",
    "    @param float x: The independent variable to calculate lorentz(x)\n",
    "    @param iterable centers: Iterable containing center positions for all lorentzians\n",
    "    @param iterable sigmas: Iterable containing sigmas for all lorentzians\n",
    "    @param iterable amplitudes: Iterable containing amplitudes for all lorentzians\n",
    "    \"\"\"\n",
    "    assert len(centers) == len(sigmas) == len(amplitudes)\n",
    "    return sum(amp * sig ** 2 / ((x - c) ** 2 + sig ** 2) for c, sig, amp in\n",
    "               zip(centers, sigmas, amplitudes))\n",
    "\n",
    "def lorentzian(x, offset, center, sigma, amplitude):\n",
    "    return offset + multiple_lorentzian(x, (center,), (sigma,), (amplitude,))\n",
    "\n",
    "def double_lorentzian(x, offset, center_1, center_2, sigma_1, sigma_2, amplitude_1, amplitude_2):\n",
    "    return offset + multiple_lorentzian(x,\n",
    "                                        (center_1, center_2),\n",
    "                                        (sigma_1, sigma_2),\n",
    "                                        (amplitude_1, amplitude_2))\n",
    "\n",
    "def multi_lorentzians(x, *params):\n",
    "    num_lorentzians = len(params) // 3\n",
    "    result = np.zeros_like(x)\n",
    "    for i in range(num_lorentzians):\n",
    "        center = params[i * 3]\n",
    "        sigma = params[i * 3 + 1]\n",
    "        amplitude = params[i * 3 + 2]\n",
    "        result += lorentzian(x, center, sigma, amplitude)\n",
    "    return result\n",
    "\n",
    "# generate some sample data\n",
    "xdata = np.linspace(-10, 10, 201)\n",
    "ydata = lorentzian(xdata, 0, 0, 1, 1) + np.random.normal(0, 0.1, xdata.shape)\n",
    "\n",
    "# define the model and set initial parameter values\n",
    "#INITIALIZA THE FUNCTIONS \n",
    "#%%\n",
    "#import the necessary packages\n",
    "import automatization\n",
    "from automatization.ple_statistics import PleAuto\n",
    "import pandas as pd\n",
    "import os\n",
    "import time\n",
    "import json\n",
    "from importlib import reload\n",
    "import numpy as np\n",
    "from automatization.ple_statistics import PleAuto\n",
    "from matplotlib import pyplot as plt\n",
    "reload(automatization.ple_statistics)\n",
    "from automatization.ple_statistics import PleAuto\n",
    "from scipy.constants import speed_of_light\n",
    "import pickle\n",
    "from pathlib import Path\n",
    "\n",
    "import sys\n",
    "\n",
    "sys.setrecursionlimit(10000)\n",
    "\n",
    "pa = PleAuto(\n",
    "    ple_gui, \n",
    "    ple_optimize_logic, \n",
    "    laser_scanner_logic,\n",
    "    poi_manager_logic, \n",
    "    scanning_optimize_logic,\n",
    "    spectrometer,  \n",
    "    \n",
    "    spectrometerlogic,\n",
    "    cobolt,\n",
    "    ibeam_smart\n",
    ")\n",
    "\n",
    "# def ple_is_here(res, center_sigma = 3e3, amplitude = 1000, sigma_stderr_ratio = 4, amplitude_stderr_ratio=3):\n",
    "#     \"\"\"Check if the ple is still there.\"\"\"\n",
    "#     it_is = True\n",
    "#     if res[\"center\"].stderr is None or res[\"sigma\"].stderr is None or res[\"sigma\"].value is None:\n",
    "#         return False\n",
    "#     if ( res[\"center\"].stderr > center_sigma or \n",
    "#     res[\"sigma\"].stderr * sigma_stderr_ratio > res[\"sigma\"].value or \n",
    "#     res[\"amplitude\"].stderr * amplitude_stderr_ratio > res[\"amplitude\"].value or\n",
    "#     res[\"amplitude\"].value < amplitude): \n",
    "#         #ple is gone.\n",
    "#         return False\n",
    "\n",
    "#     return it_is\n",
    "def ple_is_here(rsquared_bound = 0.5):\n",
    "    \"\"\"Check if the ple is still there.\"\"\"\n",
    "    \n",
    "    if ple_gui.fit_result[1].rsquared < rsquared_bound:\n",
    "        print(\"NO, PLE\", ple_gui.fit_result[1].rsquared )\n",
    "        return False\n",
    "    \n",
    "    else:\n",
    "        return True\n",
    "\n",
    "\n",
    "def adjust_eta(pa, poi_name, folder_defect, results_poi, center_v):\n",
    "    \"\"\"Adjust the etalon voltage to get the best fit.\"\"\"\n",
    "    # ple_gui._osd.settings_widget.optimize_sequence_combobox.setCurrentIndex(seqs[\"a\"])\n",
    "    ple_gui._mw.frequencyDoubleSpinBox.setValue(1000)\n",
    "    \n",
    "    eta_volts = [center_v, center_v + 0.2, center_v + 0.4, center_v + 0.6, center_v - 0.2, center_v - 0.4,  center_v - 0.6]\n",
    "    r_squared = []\n",
    "    for eta_v in eta_volts:\n",
    "        laser_controller_remote.etalon_voltage = eta_v\n",
    "        time.sleep(0.5)\n",
    "        res = pa.do_ple_scan(lines = 1)\n",
    "        time.sleep(0.5)\n",
    "        r_squared.append(ple_gui.fit_result[1].rsquared)\n",
    "    results_poi[\"eta_voltage\"] = eta_volts[r_squared.index(max(r_squared))]\n",
    "    laser_controller_remote.etalon_voltage = eta_volts[r_squared.index(max(r_squared))]\n",
    "    res = pa.do_ple_scan(lines = 1)\n",
    "    pa.save_ple(tag = \"full_range_eta_adjusted\",\n",
    "                poi_name=poi_name, folder_name=folder_defect)\n",
    "\n",
    "    ple_gui._mw.frequencyDoubleSpinBox.setValue(250)\n",
    "    return res, results_poi\n",
    "def ple_refocus(pa, opt_times = 1, \n",
    "                scan_frequency=200, \n",
    "                scan_resolution=500,\n",
    "                scan_range = 5000):\n",
    "    \n",
    "    seqs = {str(seq): idx for idx, seq in enumerate(ple_gui._osd.settings_widget.available_opt_sequences)}\n",
    "    ple_gui._osd.settings_widget.optimize_sequence_combobox.setCurrentIndex(seqs[\"a\"])\n",
    "    ple_gui._osd.change_settings({'scan_frequency': {\"a\": scan_frequency},\n",
    "                                    \"scan_resolution\": {\"a\":scan_resolution},\n",
    "                                    \"scan_range\": {\"a\": scan_range}}) #GHz\n",
    "\n",
    "    ple_gui._osd.accept()\n",
    "    time.sleep(0.8)\n",
    "    pa.optimize_ple()\n",
    "    return res\n",
    "\n",
    "#find the defect:\n",
    "def find_the_defect(pa, poi_name, folder_defect):\n",
    "    ple_gui._mw.frequencyDoubleSpinBox.setValue(1000)\n",
    "    switchlogic.set_state(\"ScanningMode\", 'Wavemeter')\n",
    "    pa.set_resonant_power(power = 300)\n",
    "    cobolt.enable_modulated()\n",
    "    cobolt.set_laser_modulated_power(2)\n",
    "    time.sleep(1)\n",
    "    settings_confocal_refocus_coarse()\n",
    "    confocal_refocus(opt_times=2)\n",
    "\n",
    "    \n",
    "    switchlogic.set_state(\"ScanningMode\", 'NI')\n",
    "    time.sleep(0.5)\n",
    "    #Check how the PLE look like\n",
    "    res = pa.do_ple_scan(lines = 1)\n",
    "\n",
    "    #configure slow scanning for the wavemeter scanning optimizations\n",
    "    for kk in range(3):\n",
    "        if not ple_is_here():\n",
    "            switchlogic.set_state(\"ScanningMode\", 'Wavemeter')\n",
    "            time.sleep(0.5)\n",
    "            settings_confocal_refocus_coarse()\n",
    "            confocal_refocus(opt_times=1)\n",
    "            #Check how the PLE look like\n",
    "            time.sleep(0.5)\n",
    "            switchlogic.set_state(\"ScanningMode\", 'NI')\n",
    "            res = pa.do_ple_scan(lines = 1)\n",
    "            time.sleep(0.5)\n",
    "            pa.save_ple(tag = \"full_range_iter_{kk}\",\n",
    "                    poi_name=poi_name, folder_name=folder_defect)\n",
    "            time.sleep(0.5)\n",
    "        else:\n",
    "            break\n",
    "\n",
    "    pa.save_ple(tag = \"full_range\",\n",
    "            poi_name=poi_name, \n",
    "            folder_name=folder_defect)\n",
    "    time.sleep(0.2)\n",
    "    ple_gui._mw.frequencyDoubleSpinBox.setValue(250)\n",
    "    return res\n",
    "\n",
    "def take_spectrum(pa, poi_name, folder_defect):\n",
    "    # take spectrum to estimate SOC\n",
    "    \n",
    "    \n",
    "    ibeam_smart.setPower(60000)\n",
    "    ibeam_smart.enable()\n",
    "\n",
    "    pa.take_spectrum()\n",
    "\n",
    "    time.sleep(0.2)\n",
    "    spectrometer._mw.data_widget.fit_widget.sigDoFit.emit(\"DoubleLorentzian\")\n",
    "    time.sleep(0.2)\n",
    "    pa.save_spectrum(name_tag=f\"{poi_name}_blueNgreen\", folder_path=folder_defect)\n",
    "    # spectrometer.fit_results.params[\"center_1\"].value\n",
    "    \n",
    "    if spectrometer.fit_results is not None:\n",
    "        params = spectrometer.fit_results.params\n",
    "        soc_ghz = float(speed_of_light / params[\"center_2\"].value - speed_of_light / params[\"center_1\"].value)\n",
    "        center_1_ghz = float(params[\"center_1\"].value)\n",
    "        center_2_ghz = float(params[\"center_2\"].value)\n",
    "\n",
    "    return soc_ghz, center_1_ghz, center_2_ghz\n",
    "# Perform the saturation measurement\n",
    "\n",
    "def fine_optimize(pa, poi_name, folder_defect, results_poi):\n",
    "    res = pa.do_ple_scan(lines = 1)\n",
    "    pa.go_to_ple_target(res[\"center\"].value)\n",
    "    ple_refocus(pa, scan_range=4000, scan_frequency=500)\n",
    "    settings_confocal_refocus_fine()\n",
    "    confocal_refocus(opt_times=1)\n",
    "    ple_refocus(pa, scan_range=4000, scan_frequency=500)\n",
    "    confocal_refocus(opt_times=1)\n",
    "    res = pa.do_ple_scan(lines = 1)\n",
    "    pa.go_to_ple_target(res[\"center\"].value)\n",
    "    results_poi[\"center\"] = res[\"center\"].value\n",
    "    \n",
    "    results_poi[\"center_λ\"] = high_finesse_wavemeter_remote.get_current_wavelength()\n",
    "    pa.save_ple(tag = \"full_range_optimized\",\n",
    "            poi_name=poi_name, \n",
    "            folder_name=folder_defect)\n",
    "    return res, results_poi\n",
    "\n",
    "def run_saturation_measurement(pa, res, poi_name, folder_defect, results_poi, large_sigma = 4000, small_sigma = 300, power_steps = None, low_power_steps = None, repumped_power = 100, no_repump_power = 150):\n",
    "    ple_gui._mw.frequencyDoubleSpinBox.setValue(500)\n",
    "\n",
    "    os.makedirs(saturation_folder := os.path.join(folder_defect, \"saturation\"), exist_ok=True)\n",
    "    results_poi[\"saturation\"] = {}\n",
    "    idx_no_ple = None\n",
    "    res_old = res\n",
    "    if power_steps is None:\n",
    "        power_steps = 3 * np.logspace(1.5, 2, 10, endpoint=True).astype(int)[::-1]\n",
    "    if low_power_steps is None:\n",
    "        low_power_steps = np.array([85, 78, 70, 65, 60])\n",
    "    power_steps = np.append(power_steps,low_power_steps)\n",
    "    zero_range = (\n",
    "                res[\"center\"].value - large_sigma,\n",
    "                res[\"center\"].value + large_sigma\n",
    "            )\n",
    "    res = pa.do_ple_scan(lines = 1, in_range=zero_range)\n",
    "    for idx, power in enumerate(power_steps):\n",
    "        os.makedirs(power_folder := os.path.join(saturation_folder, f\"{power}\"), exist_ok=True)\n",
    "        \n",
    "        if power > repumped_power: \n",
    "            cobolt.enable_modulated()\n",
    "            pa.set_resonant_power(power = power)\n",
    "            time.sleep(1)\n",
    "            #align twice\n",
    "            # for i in range(2)\n",
    "            \n",
    "            fine_range = (\n",
    "                res[\"center\"].value - small_sigma,\n",
    "                res[\"center\"].value + small_sigma\n",
    "            )\n",
    "            if res[\"center\"].value is None or res[\"sigma\"].value is None or not ple_is_here(rsquared_bound=0.2):\n",
    "                res = pa.do_ple_scan(lines = 1, in_range=zero_range)\n",
    "                \n",
    "                if not ple_is_here(rsquared_bound=0.2):\n",
    "                    continue\n",
    "            res = pa.do_ple_scan(lines = 1, in_range=fine_range)\n",
    "            # if abs(res_old[\"center\"].value - res[\"center\"].value) > res_old[\"sigma\"].value*2:\n",
    "            #     res = res_old\n",
    "            # else:s\n",
    "            #     res_old = res\n",
    "            pa.save_ple(tag = f\"{power}\",\n",
    "                poi_name=poi_name, folder_name=power_folder)\n",
    "\n",
    "            results_poi.update({\"saturation\": \n",
    "                            {f\"{power}_repump\":\n",
    "                                {\"scan_data\": ple_data_logic.last_saved_files_paths,\n",
    "                                \"sigma\": res[\"sigma\"].value,\n",
    "                                \"sigma_stderr\": res[\"sigma\"].stderr,\n",
    "                                \"center\": res[\"center\"].value\n",
    "                                }\n",
    "                                }})\n",
    "        if (power < no_repump_power):\n",
    "            os.makedirs(power_folder_norepump := os.path.join(power_folder, f\"no_repump\"), exist_ok=True)\n",
    "            # check with initioalization\n",
    "            cobolt.disable_modulated()\n",
    "            pa.one_pulse_repump(\"violet\")\n",
    "            for i in range(3):\n",
    "                pa.one_pulse_repump(\"violet\")\n",
    "                res_ = pa.do_ple_scan(lines = 1, in_range=fine_range)\n",
    "                if not ple_is_here(rsquared_bound=0.4):\n",
    "                    continue\n",
    "            if not ple_is_here(rsquared_bound=0.4):\n",
    "                    continue\n",
    "            res_ = pa.do_ple_scan(lines = 5, in_range=fine_range)\n",
    "            print(\"Saving no repump\")\n",
    "            pa.save_ple(tag = f\"{power}_norepump\",\n",
    "                poi_name=poi_name, folder_name=power_folder_norepump)\n",
    "            results_poi.update({\"saturation\": \n",
    "                            {f\"{power}_norepump\":\n",
    "                                {\"scan_data\": ple_data_logic.last_saved_files_paths,\n",
    "                                \"sigma\": res_[\"sigma\"].value,\n",
    "                                \"sigma_stderr\": res_[\"sigma\"].stderr,\n",
    "                                \"center\": res_[\"center\"].value\n",
    "                                }\n",
    "                                }})\n",
    "        if power <= 40:\n",
    "            break\n",
    "\n",
    "            #save_plots\n",
    "    return results_poi\n",
    "\n",
    "def check_factor_sigma():\n",
    "    # constraints\n",
    "    scan_range_constr = laser_scanner_logic.scan_ranges[\"a\"] \n",
    "    pa.go_to_ple_target(scan_range_constr[0])\n",
    "    time.sleep(5)\n",
    "    w1 = high_finesse_wavemeter_remote.get_current_wavelength()\n",
    "    \n",
    "    pa.go_to_ple_target(scan_range_constr[1])\n",
    "    time.sleep(5)\n",
    "    w2 = high_finesse_wavemeter_remote.get_current_wavelength()\n",
    "\n",
    "    factor_sigma = (w2 - w1) * 1000000 / (scan_range_constr[1] - scan_range_constr[0]) #GHz \n",
    "    return factor_sigma\n",
    "\n",
    "def get_optical_power(wavelength = 619):\n",
    "    powermeter._set_wavelength(value=619)\n",
    "    powermeter.set_activity_state(channel=\"Power\", active=True)\n",
    "    power = powermeter.get_process_value(channel=\"Power\")\n",
    "    return power * 1e9 # in nW\n",
    "\n",
    "# constraints\n",
    "scan_range_constr = laser_scanner_logic.scanner_constraints.axes[\"a\"].value_range\n",
    "scanning_optimize_logic._backwards_line_resolution = 20\n",
    "\n",
    "\n",
    "\n",
    "import os\n",
    "\n",
    "SCAN_RANGE = 1000\n",
    "LARGE_SCAN_RANGE = 5000\n",
    "c = 299792458\n",
    "\n",
    "def setup_wavemeter_scan(repump_power):\n",
    "    high_finesse_wavemeter_remote._wavemeter.set_regulation_mode(mode=True)\n",
    "    switchlogic.set_state(\"ScanningMode\", 'Wavemeter')\n",
    "    cobolt.set_laser_modulated_power(repump_power)\n",
    "    cobolt.enable_modulated()\n",
    "    ibeam_smart.disable()\n",
    "    pa.set_resonant_power(300)\n",
    "\n",
    "def disable_wavemeter_scan():\n",
    "    high_finesse_wavemeter_remote._wavemeter.set_regulation_mode(mode=False)\n",
    "    switchlogic.set_state(\"ScanningMode\", 'NI')\n",
    "\n",
    "\n",
    "def append_to_file(file_path, content):\n",
    "    with open(file_path, \"a\") as f:\n",
    "        f.write(content)\n",
    "\n",
    "def find_ple_center():\n",
    "    \n",
    "    for i in range(3):\n",
    "        res = pa.do_ple_scan(lines=1)\n",
    "        if ple_is_here(rsquared_bound=0.15):\n",
    "            pa.go_to_ple_target(res[\"center\"].value)\n",
    "            ple_refocus(pa, scan_range=4000, scan_frequency=500)\n",
    "            res_center = laser_scanner_logic.scanner_target[\"a\"]\n",
    "            res = pa.do_ple_scan(lines=1, in_range=(res_center - LARGE_SCAN_RANGE, res_center + LARGE_SCAN_RANGE))\n",
    "            if ple_is_here(rsquared_bound=0.6):\n",
    "                break\n",
    "        else:\n",
    "            search_with_wavemeter_scan(opt_times=1)\n",
    "    pa.go_to_ple_target(res[\"center\"].value)\n",
    "    ple_refocus(pa, scan_range=4000, scan_frequency=500)\n",
    "    res_center = laser_scanner_logic.scanner_target[\"a\"]\n",
    "    return res_center\n",
    "\n",
    "def search_with_wavemeter_scan(repump_power=0.2, opt_times=2):\n",
    "    setup_wavemeter_scan(repump_power = repump_power)\n",
    "    settings_confocal_refocus(sequence=\"x, y, z\", scan_resolution=80, scan_frequency=5, scan_range_xy=3e-6)\n",
    "    confocal_refocus(opt_times=opt_times)\n",
    "    disable_wavemeter_scan()\n",
    "\n",
    "\n",
    "def save_ple_data_and_optimize(poi_name, folder_defect, res_center):\n",
    "    pa.save_ple(tag=f\"ple_scan_{i}\", poi_name=poi_name, folder_name=folder_defect)\n",
    "    pa.go_to_ple_target(res_center)\n",
    "    ple_refocus(pa, scan_range=4000, scan_frequency=500)\n",
    "\n",
    "    wavelength = 1e-3 * c / high_finesse_wavemeter_remote.get_current_wavelength()\n",
    "    append_to_file(os.path.join(folder_defect, \"info.txt\"), f\"lambda = {wavelength} nm\\n\")\n",
    "\n",
    "    #optimize in resonance\n",
    "    cobolt.set_laser_modulated_power(5) #for optimization\n",
    "    ple_refocus(pa, scan_range=LARGE_SCAN_RANGE, scan_frequency=500)\n",
    "    settings_confocal_refocus(sequence=\"xy, z\", scan_resolution=20, scan_frequency=100, scan_range_xy=1e-6)\n",
    "    confocal_refocus(opt_times=1)\n",
    "    ple_refocus(pa, scan_range=LARGE_SCAN_RANGE, scan_frequency=500)    \n",
    "    settings_confocal_refocus(sequence=\"xy, z\", scan_resolution=20, scan_frequency=100, scan_range_xy=1e-6)\n",
    "    confocal_refocus(opt_times=1)\n",
    "    cobolt.set_laser_modulated_power(repump_power_405)\n",
    "    res = pa.do_ple_scan(lines = 1, in_range=(res_center - LARGE_SCAN_RANGE, res_center + LARGE_SCAN_RANGE))\n",
    "    pa.go_to_ple_target(res[\"center\"].value)\n",
    "    ple_refocus(pa, scan_range=4000, scan_frequency=500)\n",
    "    res_center = laser_scanner_logic.scanner_target[\"a\"]\n",
    "\n",
    "def perform_ple_measurements(poi_name, folder_defect, res_center):\n",
    "    for power in [300, 250, 200, 180, 160]:\n",
    "        power_folder = create_directory(os.path.join(folder_defect, f\"{power}\"))\n",
    "        pa.set_resonant_power(power)\n",
    "        cobolt.set_laser_modulated_power(repump_power_405)\n",
    "        cobolt.enable_modulated()\n",
    "        ibeam_smart.disable()\n",
    "\n",
    "        pa.go_to_ple_target(res_center)\n",
    "        ple_refocus(pa, scan_range=1000, scan_frequency=500)\n",
    "        res_center_ = laser_scanner_logic.scanner_target[\"a\"]\n",
    "\n",
    "        res = pa.do_ple_scan(lines=1, in_range=(res_center_ - LARGE_SCAN_RANGE, res_center_ + LARGE_SCAN_RANGE))\n",
    "        if not ple_is_here(rsquared_bound=0.2):\n",
    "            res = pa.do_ple_scan(lines=1)\n",
    "            if ple_is_here(rsquared_bound=0.4):\n",
    "                pa.go_to_ple_target(res[\"center\"].value)\n",
    "                ple_refocus(pa, scan_range=3000, scan_frequency=500)\n",
    "                res_center = laser_scanner_logic.scanner_target[\"a\"]\n",
    "            elif power > 200:\n",
    "                break\n",
    "        else:\n",
    "            res_center = res_center_\n",
    "        ple_params = f\"\\npower = {power}\\n center = {res['center'].value}\\n sigma = {res['sigma'].value}\\n sigma_err = {res['sigma'].stderr}\\nscan_range = {LARGE_SCAN_RANGE}\\n violet repump\\n\\n\"\n",
    "        append_to_file(os.path.join(power_folder, f\"ple_scan_power_{power}.txt\"), ple_params)\n",
    "\n",
    "        pa.save_ple(tag=f\"power_{power}\", poi_name=poi_name, folder_name=power_folder)\n",
    "\n",
    "        res_ = pa.do_ple_scan(lines=1, in_range=(res_center - SCAN_RANGE, res_center + SCAN_RANGE))\n",
    "        ple_params = f\"\\npower = {power}\\n center = {res_['center'].value}\\n sigma = {res_['sigma'].value}\\n sigma_err = {res_['sigma'].stderr}\\nscan_range = {SCAN_RANGE}\\n violet repump\\n\\n\"\n",
    "        append_to_file(os.path.join(power_folder, f\"ple_scan_power_{power}.txt\"), ple_params)\n",
    "\n",
    "        pa.save_ple(tag=f\"power_{power}\", poi_name=poi_name, folder_name=power_folder)\n",
    "\n",
    "\n",
    "        if power <= 200:\n",
    "            ple_gui._mw.frequencyDoubleSpinBox.setValue(350)\n",
    "            ple_gui._mw.resolutionDoubleSpinBox.setValue(2000)\n",
    "\n",
    "            # Prescan repump\n",
    "            ple_gui._mw.Pulsed_widget.prescan_checkBox.setChecked(True)\n",
    "            res = pa.do_ple_scan(lines=10, in_range=(res_center - SCAN_RANGE, res_center + SCAN_RANGE))\n",
    "            pa.save_ple(tag=f\"power_{power}_prescan_repump\", poi_name=poi_name, folder_name=power_folder)\n",
    "\n",
    "           \n",
    "            ple_params = f\"PRE_SCAN_REPUMP:\\npower = {power}\\n center = {res['center'].value}\\n sigma = {res['sigma'].value}\\n sigma_err = {res['sigma'].stderr}\\nscan_range = {SCAN_RANGE}\\n violet repump\\n\\n\"\n",
    "            with open(os.path.join(power_folder, f\"ple_scan_power_{power}.txt\"), \"a\") as f:\n",
    "                f.write(ple_params)\n",
    "            ple_rescan_here = ple_is_here(rsquared_bound=0.2)\n",
    "            #no repump\n",
    "            ple_gui._mw.Pulsed_widget.prescan_checkBox.setChecked(False)\n",
    "            cobolt.disable_modulated()\n",
    "            res = pa.do_ple_scan(lines = 10, in_range=(\n",
    "                res_center - SCAN_RANGE, res_center + SCAN_RANGE))\n",
    "            pa.save_ple(tag = f\"power_{power}_NO_repump\", \n",
    "                        poi_name=poi_name, folder_name=power_folder)\n",
    "            ple_params = f\"NO_REPUMP:\\npower = {power}\\n center = {res['center'].value}\\n sigma = {res['sigma'].value}\\n sigma_err = {res['sigma'].stderr}\\nscan_range = {SCAN_RANGE}\\n violet repump\\n\\n\"\n",
    "            with open(os.path.join(power_folder, f\"ple_scan_power_{power}.txt\"), \"a\") as f:\n",
    "                f.write(ple_params)\n",
    "            ple_norepump_here = ple_is_here(rsquared_bound=0.2)\n",
    "            if not ple_norepump_here and not ple_rescan_here:\n",
    "                break\n",
    "            \n",
    "    ple_gui._mw.Pulsed_widget.prescan_checkBox.setChecked(False)\n",
    "    cobolt.enable_modulated()\n",
    "    cobolt.set_laser_modulated_power(repump_power_405)\n",
    "def run_450nm(on_off):\n",
    "    seq = pulsestreamer.pulse_streamer.createSequence()\n",
    "    # pulse_patt = [(100, 0), (200, 1), (80, 0), (300, 1), (60, 0)]\n",
    "\n",
    "    seq.setDigital(2, [(100, int(on_off))])\n",
    "    seq.setDigital(6, [(100, 1)])\n",
    "    seq.setDigital(7, [(100, 0)])\n",
    "    # Stream the continuous signal\n",
    "    period = 1000  # Period in ns (1 us)\n",
    "    n_runs = 0  # Number of runs (0 for continuous streaming)\n",
    "    pulsestreamer.pulse_streamer.stream(seq)\n",
    "\n",
    "def take_and_save_spectrum(poi_name, folder_defect):\n",
    "    os.makedirs(spectrum_folder := os.path.join(folder_defect, f\"spectrum\"), exist_ok=True)\n",
    "    \n",
    "    soc_ghz, center_1_ghz, center_2_ghz = take_spectrum(pa, poi_name, spectrum_folder)\n",
    "\n",
    "    line = f\"\\nsoc_ghz = {soc_ghz} GHz, \\ncenter_1_ghz = {center_1_ghz} GHz, \\ncenter_2_ghz = {center_2_ghz} GHz\\n\"\n",
    "    with open(os.path.join(folder_defect, \"info.txt\"), \"a\") as f:\n",
    "        f.write(line)\n"
   ]
  },
  {
   "cell_type": "code",
   "execution_count": 3,
   "metadata": {},
   "outputs": [],
   "source": [
    "ibeam_smart.setPower(100000)"
   ]
  },
  {
   "cell_type": "code",
   "execution_count": 4,
   "metadata": {},
   "outputs": [],
   "source": [
    "#Function to run repump lasers\n",
    "def run_450nm(on_off, on_time = 1e3, off_time=0):\n",
    "    seq = pulsestreamer.pulse_streamer.createSequence()\n",
    "    # pulse_patt = [(100, 0), (200, 1), (80, 0), (300, 1), (60, 0)]\n",
    "    if on_off:\n",
    "        seq.setDigital(2, [(on_time, 1), (off_time, 0)])\n",
    "    else:\n",
    "        seq.setDigital(2, [(on_time, 0), (off_time, 0)])\n",
    "    pulsestreamer.pulse_streamer.stream(seq)\n",
    "\n",
    "def run_405nm(on_off, on_time = 1e3, off_time=1e6, power=0.1):\n",
    "    cobolt.enable_modulated()\n",
    "    cobolt.set_laser_modulated_power(power)\n",
    "    seq = pulsestreamer.pulse_streamer.createSequence()\n",
    "    # pulse_patt = [(100, 0), (200, 1), (80, 0), (300, 1), (60, 0)]\n",
    "    if on_off:\n",
    "        seq.setDigital(7, [(on_time, 1), (off_time, 0)])\n",
    "    else:\n",
    "        seq.setDigital(7, [(on_time, 0), (off_time, 0)])\n",
    "    pulsestreamer.pulse_streamer.stream(seq)\n",
    "def run_all_repumps(off_time_450=0):\n",
    "    seq = pulsestreamer.pulse_streamer.createSequence()\n",
    "    seq.setDigital(2, [(1e3, 1), (off_time_450, 0)])\n",
    "    seq.setDigital(7, [(100, 1), (0, 0)])\n",
    "    pulsestreamer.pulse_streamer.stream(seq)\n",
    "\n",
    "#enable the modulation of 405 nm repump (controlled by pulse streamer)\n",
    "cobolt.enable_modulated()\n",
    "cobolt.set_laser_modulated_power(1)"
   ]
  },
  {
   "cell_type": "code",
   "execution_count": 5,
   "metadata": {},
   "outputs": [],
   "source": [
    "# factor_sigma = check_factor_sigma()\n",
    "# factor_sigma"
   ]
  },
  {
   "cell_type": "code",
   "execution_count": 50,
   "metadata": {},
   "outputs": [],
   "source": [
    "folders = {\"1200_40keV_5e9\": \n",
    "                {\"ref\": r\"Z:\\Vlad\\SnV\\TinGeneration\\158-#1D\\Area40x40\",\n",
    "                \"ref-etched\": r\"Z:\\Vlad\\SnV\\TinGeneration\\158-#1C\\Area40x40\",\n",
    "                \"pplus-etched\": r\"Z:\\Vlad\\SnV\\TinGeneration\\158-#1A\\Area40x40\"},\n",
    "            \"1200_40keV_2e10\":           \n",
    "                {\"ref\": r\"Z:\\Vlad\\SnV\\TinGeneration\\158-#2D\\Area40x40\",\n",
    "                \"ref-etched\": r\"Z:\\Vlad\\SnV\\TinGeneration\\158-#2C\\Area40x40\",\n",
    "                \"pplus-etched\": r\"Z:\\Vlad\\SnV\\TinGeneration\\158-#2A\\Area40x40\",},\n",
    "           \"1200_170keV_5e9\":           \n",
    "                {\"ref\": r\"Z:\\Vlad\\SnV\\TinGeneration\\158-#3D\\Area40x40\",\n",
    "                \"ref-etched\": r\"Z:\\Vlad\\SnV\\TinGeneration\\158-#3C\\Area40x40\",\n",
    "                \"pplus-etched\": r\"Z:\\Vlad\\SnV\\TinGeneration\\158-#3A\\Area40x40\",\n",
    "                \"pplus\": r\"Z:\\Vlad\\SnV\\TinGeneration\\158-#3B\\Area40x40\",},\n",
    "          \"1500_40keV_5e9\": \n",
    "                {\"ref\": r\"Z:\\Vlad\\SnV\\TinGeneration\\1500deg\\158-#1D\\Area40x40\",\n",
    "                \"ref-etched\": r\"Z:\\Vlad\\SnV\\TinGeneration\\1500deg\\158-#1C\\Area40x40\",\n",
    "                \"pplus-etched\": r\"Z:\\Vlad\\SnV\\TinGeneration\\1500deg\\158-#1A\\Area40x40\"},\n",
    "          \"1500_40keV_2e10\":           \n",
    "                {\"ref\": r\"Z:\\Vlad\\SnV\\TinGeneration\\1500deg\\158-#2D\\Area40x40\",\n",
    "                \"ref-etched\": r\"Z:\\Vlad\\SnV\\TinGeneration\\1500deg\\158-#2C\\Area40x40\",\n",
    "                \"pplus-etched\": r\"Z:\\Vlad\\SnV\\TinGeneration\\1500deg\\158-#2A\\Area40x40\",},\n",
    "          \"1500_170keV_5e9\":           \n",
    "                {\"ref\": r\"Z:\\Vlad\\SnV\\TinGeneration\\1500deg\\158-#3D\\Area40x40\",\n",
    "                \"ref-etched\": r\"Z:\\Vlad\\SnV\\TinGeneration\\1500deg\\158-#3C\\Area40x40\",\n",
    "                \"pplus-etched\": r\"Z:\\Vlad\\SnV\\TinGeneration\\1500deg\\158-#3A\\Area40x40\",\n",
    "                \"pplus\": r\"Z:\\Vlad\\SnV\\TinGeneration\\1500deg\\158-#3B\\Area40x40\",},\n",
    "           }"
   ]
  },
  {
   "cell_type": "code",
   "execution_count": 89,
   "metadata": {},
   "outputs": [
    {
     "data": {
      "text/plain": [
       "0"
      ]
     },
     "execution_count": 89,
     "metadata": {},
     "output_type": "execute_result"
    }
   ],
   "source": [
    "folder = folders[\"1500_40keV_5e9\"][\"ref-etched\"]\n",
    "\n",
    "high_finesse_wavemeter_remote.start_acquisition()"
   ]
  },
  {
   "cell_type": "code",
   "execution_count": 8,
   "metadata": {},
   "outputs": [],
   "source": [
    "ibeam_smart.enable()"
   ]
  },
  {
   "cell_type": "code",
   "execution_count": 9,
   "metadata": {},
   "outputs": [],
   "source": [
    "ibeam_smart.setPower(100000)"
   ]
  },
  {
   "cell_type": "code",
   "execution_count": null,
   "metadata": {},
   "outputs": [],
   "source": [
    "ibeam_smart.disable()"
   ]
  },
  {
   "attachments": {},
   "cell_type": "markdown",
   "metadata": {},
   "source": [
    "### PLE search"
   ]
  },
  {
   "cell_type": "code",
   "execution_count": 90,
   "metadata": {},
   "outputs": [],
   "source": [
    "#405 nm cw repump The violet is more \n",
    "run_all_repumps(off_time_450=1e3)\n",
    "# run_405nm(100)\n",
    "# run_450nm(True)\n",
    "cobolt.enable_modulated()\n",
    "cobolt.set_laser_modulated_power(1)\n",
    "ibeam_smart.disable()\n",
    "#set max power to serach for PLE\n",
    "power = 300\n",
    "\n",
    "powercontroller_logic.sig_set_power.emit(power, 3, False)\n",
    "ple_gui.save_path_widget.saveTagLineEdit.setText(f\"power_{power}\")\n",
    "#set max power to serach for PLE\n"
   ]
  },
  {
   "cell_type": "code",
   "execution_count": null,
   "metadata": {},
   "outputs": [],
   "source": [
    "ibeam_smart.enable()"
   ]
  },
  {
   "cell_type": "code",
   "execution_count": null,
   "metadata": {},
   "outputs": [],
   "source": [
    "ibeam_smart.disable()"
   ]
  },
  {
   "cell_type": "code",
   "execution_count": 79,
   "metadata": {},
   "outputs": [],
   "source": [
    "run_450nm(1, on_time=1e3, off_time=1e6)"
   ]
  },
  {
   "cell_type": "code",
   "execution_count": null,
   "metadata": {},
   "outputs": [],
   "source": [
    "run_405nm(100, power=5)"
   ]
  },
  {
   "cell_type": "code",
   "execution_count": null,
   "metadata": {},
   "outputs": [
    {
     "data": {
      "text/plain": [
       "-5.8"
      ]
     },
     "execution_count": 984,
     "metadata": {},
     "output_type": "execute_result"
    }
   ],
   "source": [
    "laser_controller_remote.etalon_voltage "
   ]
  },
  {
   "cell_type": "code",
   "execution_count": null,
   "metadata": {},
   "outputs": [],
   "source": [
    "laser_controller_remote.etalon_voltage = -5.7"
   ]
  },
  {
   "attachments": {},
   "cell_type": "markdown",
   "metadata": {},
   "source": [
    "### PLE is found"
   ]
  },
  {
   "cell_type": "code",
   "execution_count": 91,
   "metadata": {},
   "outputs": [],
   "source": [
    "# initialize folders\n",
    "poi_manager_gui._mw.new_poi_Action.triggered.emit()\n",
    "time.sleep(0.2)\n",
    "poi_name = \"def1\"#poi_manager_logic.active_poi#\"def1\"\n",
    "\n",
    "os.makedirs(folder_defect := os.path.join(folder, poi_name),  exist_ok=True)\n",
    "os.makedirs(folder_450_repumped := os.path.join(folder_defect, \"450_repumped\"),  exist_ok=True)\n",
    "os.makedirs(folder_no_rep := os.path.join(folder_defect, \"no_repump\"),  exist_ok=True)\n",
    "os.makedirs(folder_prerepumped \n",
    "            := os.path.join(folder_defect, \"prescan_repumped\"),  exist_ok=True)\n",
    "os.makedirs(folder_405_repumped := os.path.join(folder_defect, \"405_repumped\"),  exist_ok=True)\n",
    "os.makedirs(folder_spectrum := os.path.join(folder_defect, \"spectrum\"),  exist_ok=True)\n",
    "os.makedirs(folder_saturation := os.path.join(folder_defect, \"saturation\"),  exist_ok=True)\n",
    "spectrometer._save_folderpath = folder_spectrum\n",
    "spectrometer._mw.control_widget.save_path_widget.currPathLabel.setText(folder_spectrum)\n",
    "spectrometer._mw.control_widget.save_path_widget.newPathCheckBox.setChecked(False)\n",
    "\n",
    "\n",
    "ple_gui._save_folderpath = folder_saturation\n",
    "ple_gui.save_path_widget.currPathLabel.setText(ple_gui._save_folderpath)\n",
    "ple_gui.save_path_widget.newPathCheckBox.setChecked(False)\n",
    "ple_gui.save_path_widget.saveTagLineEdit.setText(f\"repump_405n450nm_power_{power}\")"
   ]
  },
  {
   "cell_type": "code",
   "execution_count": 92,
   "metadata": {},
   "outputs": [
    {
     "name": "stdout",
     "output_type": "stream",
     "text": [
      "lambda = 619.2417396562053 nm\n",
      "\n"
     ]
    }
   ],
   "source": [
    "wavelength = 1e-3 * c / high_finesse_wavemeter_remote.get_current_wavelength()\n",
    "append_to_file(os.path.join(folder_defect, \"info.txt\"), f\"lambda = {wavelength} nm\\n\")\n",
    "print(f\"lambda = {wavelength} nm\\n\")"
   ]
  },
  {
   "cell_type": "code",
   "execution_count": 93,
   "metadata": {},
   "outputs": [],
   "source": [
    "#set max power to serach for PLE\n",
    "power = 250\n",
    "\n",
    "powercontroller_logic.sig_set_power.emit(power, 3, False)\n",
    "ple_gui.save_path_widget.saveTagLineEdit.setText(f\"power_{power}\")"
   ]
  },
  {
   "cell_type": "code",
   "execution_count": null,
   "metadata": {},
   "outputs": [
    {
     "name": "stdout",
     "output_type": "stream",
     "text": [
      "lambda = 619.2480491024932 nm\n",
      "\n"
     ]
    }
   ],
   "source": [
    "print(f\"lambda = {wavelength} nm\\n\")"
   ]
  },
  {
   "cell_type": "code",
   "execution_count": null,
   "metadata": {},
   "outputs": [],
   "source": [
    "polarization_angle =0+0\n",
    "motordriver_pi3.moveToAbsolutePosition(motor=0, pos=polarization_angle)"
   ]
  },
  {
   "cell_type": "code",
   "execution_count": null,
   "metadata": {},
   "outputs": [],
   "source": [
    "#Optimize polarization\n",
    "append_to_file(os.path.join(folder_defect, \"info.txt\"), f\"optimal polarization = {polarization_angle} deg\\n\")"
   ]
  },
  {
   "cell_type": "code",
   "execution_count": 105,
   "metadata": {},
   "outputs": [],
   "source": [
    "#Go down with power:\n",
    "\n",
    "power = 250\n",
    "\n",
    "\n",
    "\n",
    "powercontroller_logic.sig_set_power.emit(power, 3, False)\n",
    "ple_gui.save_path_widget.saveTagLineEdit.setText(f\"power_{power}\")\n",
    "\n",
    "#450 nm cw repump\n",
    "run_450nm(1, on_time=1e3, off_time=1e6)\n",
    "\n",
    "ple_gui._save_folderpath = folder_450_repumped\n",
    "ple_gui.save_path_widget.currPathLabel.setText(ple_gui._save_folderpath)\n",
    "ple_gui.save_path_widget.newPathCheckBox.setChecked(False)\n",
    "ple_gui.save_path_widget.saveTagLineEdit.setText(f\"repump_450nm_power_{power}\")"
   ]
  },
  {
   "cell_type": "code",
   "execution_count": null,
   "metadata": {},
   "outputs": [],
   "source": [
    "cobolt.set_laser_modulated_power(3)"
   ]
  },
  {
   "cell_type": "code",
   "execution_count": 74,
   "metadata": {},
   "outputs": [],
   "source": [
    "run_405nm(1, on_time=1e3, off_time=1e1)\n",
    "\n",
    "ple_gui._save_folderpath = folder_405_repumped\n",
    "ple_gui.save_path_widget.currPathLabel.setText(ple_gui._save_folderpath)\n",
    "ple_gui.save_path_widget.newPathCheckBox.setChecked(False)\n",
    "\n",
    "ple_gui.save_path_widget.saveTagLineEdit.setText(f\"repump_405nm-1e3on-1e6off_power_{power}\")"
   ]
  },
  {
   "cell_type": "code",
   "execution_count": null,
   "metadata": {},
   "outputs": [],
   "source": [
    "ibeam_smart.enable()"
   ]
  },
  {
   "cell_type": "code",
   "execution_count": null,
   "metadata": {},
   "outputs": [],
   "source": [
    "ibeam_smart.setPower(10000)"
   ]
  },
  {
   "cell_type": "code",
   "execution_count": null,
   "metadata": {},
   "outputs": [],
   "source": [
    "ibeam_smart.setPower(120000)"
   ]
  },
  {
   "cell_type": "code",
   "execution_count": null,
   "metadata": {},
   "outputs": [],
   "source": [
    "ibeam_smart.disable()"
   ]
  },
  {
   "cell_type": "code",
   "execution_count": null,
   "metadata": {},
   "outputs": [],
   "source": [
    "# Minimal power PLE"
   ]
  },
  {
   "cell_type": "code",
   "execution_count": 77,
   "metadata": {},
   "outputs": [],
   "source": [
    "#Go down with power:\n",
    "power = 200\n",
    "powercontroller_logic.sig_set_power.emit(power, 3, False)\n",
    "ple_gui.save_path_widget.saveTagLineEdit.setText(f\"power_{power}\")"
   ]
  },
  {
   "cell_type": "code",
   "execution_count": 103,
   "metadata": {},
   "outputs": [],
   "source": [
    "#NO repump\n",
    "run_450nm(1)\n",
    "time.sleep(1)\n",
    "run_450nm(0)"
   ]
  },
  {
   "cell_type": "code",
   "execution_count": 87,
   "metadata": {},
   "outputs": [],
   "source": [
    "#NO repump\n",
    "run_405nm(1)\n",
    "time.sleep(0.1)\n",
    "run_405nm(0)"
   ]
  },
  {
   "cell_type": "code",
   "execution_count": 102,
   "metadata": {},
   "outputs": [],
   "source": [
    "#NO repump\n",
    "run_450nm(1)\n",
    "time.sleep(1)\n",
    "run_450nm(0)\n",
    "\n",
    "ple_gui._save_folderpath = folder_no_rep\n",
    "ple_gui.save_path_widget.currPathLabel.setText(ple_gui._save_folderpath)\n",
    "ple_gui.save_path_widget.newPathCheckBox.setChecked(False)\n",
    "ple_gui.save_path_widget.saveTagLineEdit.setText(f\"power_{power}\")"
   ]
  },
  {
   "cell_type": "code",
   "execution_count": null,
   "metadata": {},
   "outputs": [],
   "source": [
    "#Now repumped PLE\n",
    "run_450nm(1, on_time=1e3, off_time=1e6)\n",
    "\n",
    "ple_gui._save_folderpath = folder_no_rep\n",
    "ple_gui.save_path_widget.currPathLabel.setText(ple_gui._save_folderpath)\n",
    "ple_gui.save_path_widget.newPathCheckBox.setChecked(False)\n",
    "ple_gui.save_path_widget.saveTagLineEdit.setText(f\"rare_450nmrepump_1e3_1e6_power_{power}\")"
   ]
  },
  {
   "cell_type": "code",
   "execution_count": null,
   "metadata": {},
   "outputs": [],
   "source": [
    "power = 50\n",
    "powercontroller_logic.sig_set_power.emit(power, 3, False)\n",
    "ple_gui.save_path_widget.saveTagLineEdit.setText(f\"power_{power}\")"
   ]
  },
  {
   "cell_type": "code",
   "execution_count": null,
   "metadata": {},
   "outputs": [
    {
     "name": "stdout",
     "output_type": "stream",
     "text": [
      "Factor sigma 1.2467146646350444\n"
     ]
    }
   ],
   "source": [
    "factor_sigma = check_factor_sigma()\n",
    "line = f\"\\nfactor_sigma = {factor_sigma}\\n\"\n",
    "with open(os.path.join(folder_defect, \"info.txt\"), \"a\") as f:\n",
    "    f.write(line)\n",
    "print(\"Factor sigma\", factor_sigma)"
   ]
  },
  {
   "cell_type": "code",
   "execution_count": null,
   "metadata": {},
   "outputs": [],
   "source": [
    "ibeam_smart.enable()\n",
    "ibeam_smart.setPower(120000)"
   ]
  },
  {
   "attachments": {},
   "cell_type": "markdown",
   "metadata": {},
   "source": [
    "### Take spectrum"
   ]
  },
  {
   "cell_type": "code",
   "execution_count": 35,
   "metadata": {},
   "outputs": [],
   "source": [
    "def settings_confocal_refocus(sequence = \"xy, z\", scan_range_xy= 1e-6,scan_range_z= 3e-6, scan_resolution = 25, scan_frequency = 25):\n",
    "    seqs = {str(seq): idx for idx, seq in enumerate(scanner_gui._osd.settings_widget.available_opt_sequences)}\n",
    "    scanner_gui._osd.settings_widget.optimize_sequence_combobox.setCurrentIndex(seqs[sequence])\n",
    "    scanner_gui._osd.change_settings({'scan_frequency': {\"x\": scan_frequency, \"y\": scan_frequency},\n",
    "                                    \"scan_resolution\": {\"x\": scan_resolution, \"y\": scan_resolution},\n",
    "                                    \"scan_range\": {\"x\": scan_range_xy, \"y\": scan_range_xy}})\n",
    "\n",
    "    scanner_gui._osd.accept()\n",
    "    time.sleep(0.5)\n",
    "\n",
    "\n",
    "def settings_confocal_refocus_coarse():\n",
    "    seqs = {str(seq): idx for idx, seq in enumerate(scanner_gui._osd.settings_widget.available_opt_sequences)}\n",
    "    scanner_gui._osd.settings_widget.optimize_sequence_combobox.setCurrentIndex(seqs[\"x, y, z\"])\n",
    "\n",
    "    scanner_gui._osd.change_settings({'scan_frequency': {\"x\": 5, \"y\": 5, \"z\": 5},\n",
    "                                    \"scan_resolution\": {\"x\": 80, \"y\": 80, \"z\":80},\n",
    "                                    \"scan_range\": {\"x\": 2.5e-6, \"y\": 2.5e-6, \"z\": 4.5e-6}})\n",
    "    scanner_gui._osd.accept()\n",
    "    time.sleep(0.5)\n",
    "\n",
    "def confocal_refocus(opt_times=2):\n",
    "    for i in range(opt_times):\n",
    "        scanning_optimize_logic.start_optimize()\n",
    "        while scanning_optimize_logic.module_state()=='locked':\n",
    "            time.sleep(0.5)\n",
    "    time.sleep(0.5)"
   ]
  },
  {
   "cell_type": "code",
   "execution_count": null,
   "metadata": {},
   "outputs": [
    {
     "data": {
      "text/plain": [
       "<qudi.hardware.laser.ibeam_smart.iBeamSmart(0x20d8e3aa790) at 0x0000020D8F994680>"
      ]
     },
     "execution_count": 1,
     "metadata": {},
     "output_type": "execute_result"
    }
   ],
   "source": [
    "ibeam_smart"
   ]
  },
  {
   "cell_type": "code",
   "execution_count": null,
   "metadata": {},
   "outputs": [],
   "source": [
    "ibeam_smart.disable()"
   ]
  },
  {
   "cell_type": "code",
   "execution_count": null,
   "metadata": {},
   "outputs": [],
   "source": [
    "# switch_combiner_interfuse.set_state(\"ResonantShutter\", \"On\")\n",
    "ibeam_smart.setPower(120000)\n",
    "ibeam_smart.enable()\n",
    "#run_450nm(0)"
   ]
  },
  {
   "cell_type": "code",
   "execution_count": null,
   "metadata": {},
   "outputs": [],
   "source": [
    "counts = timetaggerlogic.counter.getData().mean(axis=0)[:-30].mean() * 100\n",
    "background_counts = counts"
   ]
  },
  {
   "cell_type": "code",
   "execution_count": 22,
   "metadata": {},
   "outputs": [],
   "source": [
    "settings_confocal_refocus(sequence=\"xy, z\", scan_resolution=30, scan_frequency=25, scan_range_xy=4e-6, scan_range_z = 3e-6)\n",
    "# pa.go_to_poi(poi_name, ref_poi=None, opt_times=1)\n",
    "confocal_refocus(opt_times=1)\n",
    "settings_confocal_refocus(sequence=\"xy, z\", scan_resolution=30, scan_frequency=25, scan_range_xy=2.5e-6, scan_range_z = 3e-6)\n",
    "confocal_refocus(opt_times=1)\n",
    "settings_confocal_refocus(sequence=\"xy, z\", scan_resolution=20, scan_frequency=50, scan_range_xy=1e-6, scan_range_z = 3e-6)\n",
    "confocal_refocus(opt_times=1)"
   ]
  },
  {
   "cell_type": "code",
   "execution_count": null,
   "metadata": {},
   "outputs": [],
   "source": [
    "spectrometer._mw.control_widget.background_button.clicked.emit()    \n",
    "while spectrometerlogic._acquisition_running:\n",
    "    time.sleep(1)\n",
    "            \n",
    "time.sleep(0.5)"
   ]
  },
  {
   "cell_type": "code",
   "execution_count": null,
   "metadata": {},
   "outputs": [],
   "source": [
    "spectrometer._mw.control_widget.background_button.clicked.emit()    \n",
    "time.sleep(1)\n",
    "while spectrometerlogic._acquisition_running:\n",
    "    time.sleep(1)\n",
    "            \n",
    "time.sleep(2)\n",
    "\n",
    "take_and_save_spectrum(poi_name, folder_defect)"
   ]
  },
  {
   "cell_type": "code",
   "execution_count": null,
   "metadata": {},
   "outputs": [
    {
     "data": {
      "text/plain": [
       "False"
      ]
     },
     "execution_count": 374,
     "metadata": {},
     "output_type": "execute_result"
    }
   ],
   "source": [
    "spectrometerlogic._acquisition_running"
   ]
  },
  {
   "cell_type": "code",
   "execution_count": null,
   "metadata": {},
   "outputs": [],
   "source": [
    "take_and_save_spectrum(poi_name, folder_defect)"
   ]
  },
  {
   "cell_type": "code",
   "execution_count": null,
   "metadata": {},
   "outputs": [],
   "source": [
    "ibeam_smart.setPower(120_000)"
   ]
  },
  {
   "cell_type": "code",
   "execution_count": null,
   "metadata": {},
   "outputs": [],
   "source": [
    "background_counts = timetaggerlogic.counter.getData().mean(axis=0)[:-30].mean() * 100"
   ]
  },
  {
   "cell_type": "code",
   "execution_count": null,
   "metadata": {},
   "outputs": [],
   "source": [
    "#Fine spectra:"
   ]
  },
  {
   "cell_type": "code",
   "execution_count": 14,
   "metadata": {},
   "outputs": [],
   "source": [
    "folders = {\"1200_40keV_5e9\": \n",
    "                {\"ref\": r\"Z:\\Vlad\\SnV\\TinGeneration\\158-#1D\\Area40x40\",\n",
    "                \"ref-etched\": r\"Z:\\Vlad\\SnV\\TinGeneration\\158-#1C\\Area40x40\",\n",
    "                \"pplus-etched\": r\"Z:\\Vlad\\SnV\\TinGeneration\\158-#1A\\Area40x40\"},\n",
    "            \"1200_40keV_2e10\":           \n",
    "                {\"ref\": r\"Z:\\Vlad\\SnV\\TinGeneration\\158-#2D\\Area40x40\",\n",
    "                \"ref-etched\": r\"Z:\\Vlad\\SnV\\TinGeneration\\158-#2C\\Area40x40\",\n",
    "                \"pplus-etched\": r\"Z:\\Vlad\\SnV\\TinGeneration\\158-#2A\\Area40x40\",},\n",
    "           \"1200_170keV_5e9\":           \n",
    "                {\"ref\": r\"Z:\\Vlad\\SnV\\TinGeneration\\158-#3D\\Area40x40\",\n",
    "                \"ref-etched\": r\"Z:\\Vlad\\SnV\\TinGeneration\\158-#3C\\Area40x40\",\n",
    "                \"pplus-etched\": r\"Z:\\Vlad\\SnV\\TinGeneration\\158-#3A\\Area40x40\",\n",
    "                \"pplus\": r\"Z:\\Vlad\\SnV\\TinGeneration\\158-#3B\\Area40x40\",},\n",
    "          \"1500_40keV_5e9\": \n",
    "                {\"ref\": r\"Z:\\Vlad\\SnV\\TinGeneration\\1500deg\\158-#1D\\Area40x40\",\n",
    "                \"ref-etched\": r\"Z:\\Vlad\\SnV\\TinGeneration\\1500deg\\158-#1C\\Area40x40\",\n",
    "                \"pplus-etched\": r\"Z:\\Vlad\\SnV\\TinGeneration\\1500deg\\158-#1A\\Area40x40\"},\n",
    "          \"1500_40keV_2e10\":           \n",
    "                {\"ref\": r\"Z:\\Vlad\\SnV\\TinGeneration\\1500deg\\158-#2D\\Area40x40\",\n",
    "                \"ref-etched\": r\"Z:\\Vlad\\SnV\\TinGeneration\\1500deg\\158-#2C\\Area40x40\",\n",
    "                \"pplus-etched\": r\"Z:\\Vlad\\SnV\\TinGeneration\\1500deg\\158-#2A\\Area40x40\",},\n",
    "          \"1500_170keV_5e9\":           \n",
    "                {\"ref\": r\"Z:\\Vlad\\SnV\\TinGeneration\\1500deg\\158-#3D\\Area40x40\",\n",
    "                \"ref-etched\": r\"Z:\\Vlad\\SnV\\TinGeneration\\1500deg\\158-#3C\\Area40x40\",\n",
    "                \"pplus-etched\": r\"Z:\\Vlad\\SnV\\TinGeneration\\1500deg\\158-#3A\\Area40x40\",\n",
    "                \"pplus\": r\"Z:\\Vlad\\SnV\\TinGeneration\\1500deg\\158-#3B\\Area40x40\",},\n",
    "           }"
   ]
  },
  {
   "cell_type": "code",
   "execution_count": 43,
   "metadata": {},
   "outputs": [],
   "source": [
    "folder = folders[\"1500_40keV_5e9\"][\"ref\"]\n"
   ]
  },
  {
   "cell_type": "code",
   "execution_count": 44,
   "metadata": {},
   "outputs": [
    {
     "data": {
      "text/plain": [
       "'Z:\\\\Vlad\\\\SnV\\\\TinGeneration\\\\1500deg\\\\158-#1D\\\\Area40x40'"
      ]
     },
     "execution_count": 44,
     "metadata": {},
     "output_type": "execute_result"
    }
   ],
   "source": [
    "folder"
   ]
  },
  {
   "cell_type": "code",
   "execution_count": 45,
   "metadata": {},
   "outputs": [],
   "source": [
    "import os\n",
    "import time"
   ]
  },
  {
   "cell_type": "code",
   "execution_count": 46,
   "metadata": {},
   "outputs": [],
   "source": [
    "ibeam_smart.enable()\n",
    "ibeam_smart.setPower(120000)\n",
    "#switch_combiner_interfuse.set_state(\"ResonantShutter\", \"On\")\n",
    "#run_450nm(0"
   ]
  },
  {
   "cell_type": "code",
   "execution_count": 47,
   "metadata": {},
   "outputs": [],
   "source": [
    "while scanning_probe_logic.module_state()=='locked':\n",
    "        time.sleep(1)\n",
    "os.makedirs(folder_spectra := os.path.join(folder, \"spectra\"),  exist_ok=True)\n",
    "for poi_name in poi_manager_logic.poi_names:\n",
    "\n",
    "    settings_confocal_refocus(sequence=\"xy, z\", scan_resolution=30, scan_frequency=50, scan_range_xy=4e-6,)\n",
    "    pa.go_to_poi(poi_name, ref_poi=None, opt_times=1)\n",
    "   \n",
    "    settings_confocal_refocus(sequence=\"xy, z\", scan_resolution=20, scan_frequency=50, scan_range_xy=1.8e-6)\n",
    "    confocal_refocus(opt_times=1)\n",
    "    settings_confocal_refocus(sequence=\"xy, z\", scan_resolution=20, scan_frequency=50, scan_range_xy=1e-6)\n",
    "    confocal_refocus(opt_times=1)\n",
    "    \n",
    "    spectrometer._save_folderpath = folder_spectra\n",
    "\n",
    "    spectrometer._mw.control_widget.save_path_widget.currPathLabel.setText(ple_gui._save_folderpath)\n",
    "    spectrometer._mw.control_widget.save_path_widget.newPathCheckBox.setChecked(False)\n",
    "\n",
    "\n",
    "\n",
    "    spectrometer.acquire_spectrum()\n",
    "    while spectrometerlogic._acquisition_running:\n",
    "            time.sleep(1)\n",
    "    time.sleep(1)\n",
    "\n",
    "    spectrometer._mw.control_widget.background_button.clicked.emit()    \n",
    "    time.sleep(1)\n",
    "    while spectrometerlogic._acquisition_running:\n",
    "        time.sleep(1)\n",
    "                \n",
    "    time.sleep(1)\n",
    "\n",
    "\n",
    "    if folder_spectra:\n",
    "        spectrometer._save_folderpath = folder_spectra\n",
    "    spectrometer.save_widget.saveTagLineEdit.setText(f\"{poi_name}_120000green\")\n",
    "    # hit save\n",
    "\n",
    "    spectrometer._mw.action_save_spectrum.triggered.emit()\n",
    "    time.sleep(1)\n",
    "    \n",
    "  \n",
    "\n",
    "\n",
    "\n"
   ]
  },
  {
   "cell_type": "code",
   "execution_count": null,
   "metadata": {},
   "outputs": [],
   "source": [
    "ibeam_smart.disable()\n",
    "run_450nm(1)\n",
    "switch_combiner_interfuse.set_state(\"ResonantShutter\", \"Off\")"
   ]
  },
  {
   "cell_type": "code",
   "execution_count": null,
   "metadata": {},
   "outputs": [],
   "source": []
  }
 ],
 "metadata": {
  "kernelspec": {
   "display_name": "base",
   "language": "python",
   "name": "python3"
  },
  "language_info": {
   "codemirror_mode": {
    "name": "ipython",
    "version": 3
   },
   "file_extension": ".py",
   "mimetype": "text/x-python",
   "name": "python",
   "nbconvert_exporter": "python",
   "pygments_lexer": "ipython3",
   "version": "3.7.4"
  },
  "orig_nbformat": 4
 },
 "nbformat": 4,
 "nbformat_minor": 2
}
