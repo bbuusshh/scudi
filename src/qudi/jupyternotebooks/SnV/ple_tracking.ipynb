{
 "cells": [
  {
   "cell_type": "code",
   "execution_count": null,
   "metadata": {},
   "outputs": [],
   "source": [
    "ni_ao_laser.set_activity_state(\"ao3\", True)\n",
    "current_V = ni_ao_laser.get_setpoint(\"ao3\")"
   ]
  },
  {
   "cell_type": "code",
   "execution_count": null,
   "metadata": {},
   "outputs": [],
   "source": [
    "high_finnese_awvemeter_server._wavemeter.get_deviation_signal()"
   ]
  },
  {
   "cell_type": "code",
   "execution_count": null,
   "metadata": {},
   "outputs": [],
   "source": [
    "#go to the target\n",
    "high_finnese_wavemeter_server._wavemeter.set_deviation_signal(current_V, channel=4)\n",
    "#now scan:\n",
    "    "
   ]
  },
  {
   "cell_type": "code",
   "execution_count": null,
   "metadata": {},
   "outputs": [],
   "source": []
  }
 ],
 "metadata": {
  "language_info": {
   "name": "python"
  },
  "orig_nbformat": 4
 },
 "nbformat": 4,
 "nbformat_minor": 2
}
