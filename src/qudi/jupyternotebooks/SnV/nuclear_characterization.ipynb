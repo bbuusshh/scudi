{
 "cells": [
  {
   "cell_type": "markdown",
   "metadata": {},
   "source": [
    "ple_gui"
   ]
  },
  {
   "cell_type": "code",
   "execution_count": null,
   "metadata": {},
   "outputs": [
    {
     "ename": "",
     "evalue": "",
     "output_type": "error",
     "traceback": [
      "\u001b[1;31mFailed to connect to the remote Jupyter Server 'http://localhost:8888/'. Verify the server is running and reachable. (The Jupyter notebook server failed to launch in time)."
     ]
    }
   ],
   "source": [
    "odmr_gui"
   ]
  },
  {
   "cell_type": "code",
   "execution_count": 9,
   "metadata": {},
   "outputs": [],
   "source": [
    "ple_gui._mw.ple_widget.target_point.setValue(8250)"
   ]
  },
  {
   "cell_type": "code",
   "execution_count": 10,
   "metadata": {},
   "outputs": [
    {
     "data": {
      "text/plain": [
       "<qudi.gui.timetagger.timetagger.TTGui(0x24ade9bd140) at 0x0000024ADFF61780>"
      ]
     },
     "execution_count": 10,
     "metadata": {},
     "output_type": "execute_result"
    }
   ],
   "source": [
    "timetagger.co   "
   ]
  },
  {
   "cell_type": "code",
   "execution_count": null,
   "metadata": {},
   "outputs": [],
   "source": [
    " import time\n",
    "\n",
    "        # Parameters for the PID controller\n",
    "        kp = 0.1  # Proportional gain\n",
    "        ki = 0.01 # Integral gain\n",
    "        kd = 0.01 # Derivative gain\n",
    "\n",
    "        setpoint = desired_peak_position # The target position of the maxima\n",
    "        current_position = initial_position # Current position of the maxima\n",
    "\n",
    "        integral_sum = 0\n",
    "        prev_error = 0\n",
    "484.135665 THz - 484.136292 THz 10.040725604323294 kMHz 8.857068558755749 kMHz\n",
    "\n",
    "484.135249 THz 484.136274 THz\n",
    "\n",
    "\n",
    "        while True:\n",
    "            # Measure the current counts using the time tagger Counter object\n",
    "            current_counts = measure_counts()\n",
    "\n",
    "            # Calculate the error\n",
    "            error = setpoint - current_position\n",
    "\n",
    "            # Update the integral term\n",
    "            integral_sum += error\n",
    "\n",
    "            # Calculate the derivative term\n",
    "            derivative = error - prev_error\n",
    "\n",
    "            # Calculate the control signal\n",
    "            control_signal = kp * error + ki * integral_sum + kd * derivative\n",
    "\n",
    "            # Adjust the resonant laser frequency using the control signal\n",
    "            set_laser_voltage(control_signal)\n",
    "\n",
    "            # Wait for a short time to allow the system to respond\n",
    "            time.sleep(0.1)\n",
    "\n",
    "            # Measure the new position of the maxima\n",
    "            new_position = measure_position()\n",
    "\n",
    "            # Handle sudden jumps or dark defects\n",
    "            if abs(new_position - current_position) > jump_threshold:\n",
    "                # Handle the jump or defect by activating the repump laser\n",
    "                activate_repump_laser()\n",
    "            else:\n",
    "                # Update the current position\n",
    "                current_position = new_position\n",
    "\n",
    "            # Update the previous error\n",
    "            prev_error = error\n"
   ]
  }
 ],
 "metadata": {
  "kernelspec": {
   "display_name": "base",
   "language": "python",
   "name": "python3"
  },
  "language_info": {
   "name": "python",
   "version": "3.7.6"
  },
  "orig_nbformat": 4
 },
 "nbformat": 4,
 "nbformat_minor": 2
}
