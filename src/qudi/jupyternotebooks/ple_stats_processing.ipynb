{
 "cells": [
  {
   "cell_type": "code",
   "execution_count": 7,
   "metadata": {},
   "outputs": [],
   "source": [
    "from matplotlib import pyplot as plt\n",
    "import numpy as np\n",
    "import os\n",
    "import pickle"
   ]
  },
  {
   "cell_type": "code",
   "execution_count": 14,
   "metadata": {},
   "outputs": [],
   "source": [
    "\n",
    "SMALL_SIZE = 15\n",
    "MEDIUM_SIZE = 20\n",
    "BIGGER_SIZE = 30\n",
    "\n",
    "plt.rc('font', size=SMALL_SIZE)          # controls default text sizes\n",
    "plt.rc('axes', titlesize=MEDIUM_SIZE)     # fontsize of the axes title\n",
    "plt.rc('axes', labelsize=MEDIUM_SIZE)    # fontsize of the x and y labels\n",
    "plt.rc('xtick', labelsize=SMALL_SIZE)    # fontsize of the tick labels\n",
    "plt.rc('ytick', labelsize=SMALL_SIZE)    # fontsize of the tick labels\n",
    "plt.rc('legend', fontsize=SMALL_SIZE)    # legend fontsize\n",
    "plt.rc('figure', titlesize=MEDIUM_SIZE)  # fontsize of the figure title\n",
    "plt.rc('grid', linestyle='--')\n",
    "plt.rc('grid', color='#E68F6B')\n",
    "from ast import literal_eval as make_tuple\n",
    "def get_scan_range(file_name):\n",
    "    range_ = \"\"\n",
    "    with open(file_name, \"r\") as f:\n",
    "        for line in f.readlines():\n",
    "            if \"scan range\" in line:\n",
    "                range_ = line\n",
    "    return make_tuple(range_.strip().split(\"=\")[-1])\n"
   ]
  },
  {
   "cell_type": "code",
   "execution_count": 4,
   "metadata": {},
   "outputs": [],
   "source": [
    "folder = r\"C:\\Users\\yy3\\Documents\\data\\Vlad\\26-03-2023\\158\\#1_D\\defects\"\n",
    "folder = os.path.join(folder, r\"auto_3_0\")"
   ]
  },
  {
   "cell_type": "code",
   "execution_count": 5,
   "metadata": {},
   "outputs": [],
   "source": [
    "defs = os.listdir(folder)\n",
    "dics = []\n",
    "for df in defs:\n",
    "    dct = [d for d in os.listdir(os.path.join(folder, df)) if \"results\" in d]\n",
    "    if len(dct) > 0:\n",
    "        dics.append(dct[0])"
   ]
  },
  {
   "cell_type": "code",
   "execution_count": 13,
   "metadata": {},
   "outputs": [],
   "source": [
    "wlngths = []\n",
    "SOCs = []\n",
    "ples = []\n",
    "for def_ in defs[-1:]:\n",
    "        if os.path.exists(os.path.join(folder, def_, f'results_{def_}')):\n",
    "                with open(os.path.join(folder, def_, f'results_{def_}'), 'rb') as handle:\n",
    "                        ddd = pickle.load(handle)\n",
    "                wlngths.append(ddd[\"wavelength, THz\"])\n",
    "                SOCs.append(ddd[\"SOC, GHz\"])\n",
    "                # ples.append(ddd[\"\"])"
   ]
  },
  {
   "cell_type": "code",
   "execution_count": 17,
   "metadata": {},
   "outputs": [
    {
     "data": {
      "text/plain": [
       "array([], dtype=float64)"
      ]
     },
     "execution_count": 17,
     "metadata": {},
     "output_type": "execute_result"
    }
   ],
   "source": [
    "SOCs"
   ]
  },
  {
   "cell_type": "code",
   "execution_count": 16,
   "metadata": {},
   "outputs": [
    {
     "data": {
      "image/png": "[encoded data removed]",
      "text/plain": [
       "<Figure size 640x480 with 1 Axes>"
      ]
     },
     "metadata": {},
     "output_type": "display_data"
    }
   ],
   "source": [
    "SOCs = np.array(SOCs)\n",
    "SOCs = SOCs[SOCs > 0]\n",
    "plt.hist(SOCs, bins=10, ec=\"black\", fc=\"#79B3F0\")\n",
    "plt.xlabel(r'$\\lambda$, nm')\n",
    "plt.ylabel(r'# defects')\n",
    "plt.tight_layout()\n",
    "plt.savefig(os.path.join(folder, \"processing.png\"), dpi=300)"
   ]
  },
  {
   "cell_type": "code",
   "execution_count": null,
   "metadata": {},
   "outputs": [],
   "source": []
  }
 ],
 "metadata": {
  "kernelspec": {
   "display_name": "qudi",
   "language": "python",
   "name": "qudi"
  },
  "language_info": {
   "codemirror_mode": {
    "name": "ipython",
    "version": 3
   },
   "file_extension": ".py",
   "mimetype": "text/x-python",
   "name": "python",
   "nbconvert_exporter": "python",
   "pygments_lexer": "ipython3",
   "version": "3.9.15"
  },
  "orig_nbformat": 4
 },
 "nbformat": 4,
 "nbformat_minor": 2
}
